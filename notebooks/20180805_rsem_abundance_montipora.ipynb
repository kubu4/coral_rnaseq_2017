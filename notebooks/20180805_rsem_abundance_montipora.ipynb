{
 "cells": [
  {
   "cell_type": "code",
   "execution_count": 1,
   "metadata": {
    "scrolled": true
   },
   "outputs": [
    {
     "name": "stdout",
     "output_type": "stream",
     "text": [
      "TODAY'S DATE\n",
      "Sun Aug  5 15:58:27 PDT 2018\n",
      "------------\n",
      "\n",
      "Distributor ID:\tUbuntu\n",
      "Description:\tUbuntu 16.04.4 LTS\n",
      "Release:\t16.04\n",
      "Codename:\txenial\n",
      "\n",
      "------------\n",
      "HOSTNAME: \n",
      "jpg-d20\n",
      "\n",
      "------------\n",
      "Computer Specs:\n",
      "\n",
      "Architecture:          x86_64\n",
      "CPU op-mode(s):        32-bit, 64-bit\n",
      "Byte Order:            Little Endian\n",
      "CPU(s):                24\n",
      "On-line CPU(s) list:   0-23\n",
      "Thread(s) per core:    2\n",
      "Core(s) per socket:    6\n",
      "Socket(s):             2\n",
      "NUMA node(s):          2\n",
      "Vendor ID:             GenuineIntel\n",
      "CPU family:            6\n",
      "Model:                 44\n",
      "Model name:            Intel(R) Xeon(R) CPU           X5680  @ 3.33GHz\n",
      "Stepping:              2\n",
      "CPU MHz:               1596.000\n",
      "CPU max MHz:           3326.0000\n",
      "CPU min MHz:           1596.0000\n",
      "BogoMIPS:              6666.89\n",
      "Virtualization:        VT-x\n",
      "L1d cache:             32K\n",
      "L1i cache:             32K\n",
      "L2 cache:              256K\n",
      "L3 cache:              12288K\n",
      "NUMA node0 CPU(s):     0,2,4,6,8,10,12,14,16,18,20,22\n",
      "NUMA node1 CPU(s):     1,3,5,7,9,11,13,15,17,19,21,23\n",
      "Flags:                 fpu vme de pse tsc msr pae mce cx8 apic sep mtrr pge mca cmov pat pse36 clflush dts acpi mmx fxsr sse sse2 ss ht tm pbe syscall nx pdpe1gb rdtscp lm constant_tsc arch_perfmon pebs bts rep_good nopl xtopology nonstop_tsc aperfmperf pni pclmulqdq dtes64 monitor ds_cpl vmx smx est tm2 ssse3 cx16 xtpr pdcm pcid dca sse4_1 sse4_2 popcnt aes lahf_lm epb kaiser tpr_shadow vnmi flexpriority ept vpid dtherm ida arat\n",
      "\n",
      "------------\n",
      "\n",
      "Memory Specs\n",
      "\n",
      "              total        used        free      shared  buff/cache   available\n",
      "Mem:            94G        2.1G         87G        952M        4.4G         90G\n",
      "Swap:          128G          0B        128G\n"
     ]
    },
    {
     "name": "stderr",
     "output_type": "stream",
     "text": [
      "No LSB modules are available.\n"
     ]
    }
   ],
   "source": [
    "%%bash\n",
    "echo \"TODAY'S DATE\"\n",
    "date\n",
    "echo \"------------\"\n",
    "echo \"\"\n",
    "lsb_release -a\n",
    "echo \"\"\n",
    "echo \"------------\"\n",
    "echo \"HOSTNAME: \"\n",
    "hostname\n",
    "echo \"\"\n",
    "echo \"------------\"\n",
    "echo \"Computer Specs:\"\n",
    "echo \"\"\n",
    "lscpu\n",
    "echo \"\"\n",
    "echo \"------------\"\n",
    "echo \"\"\n",
    "echo \"Memory Specs\"\n",
    "echo \"\"\n",
    "free -mh"
   ]
  },
  {
   "cell_type": "code",
   "execution_count": 2,
   "metadata": {},
   "outputs": [
    {
     "name": "stderr",
     "output_type": "stream",
     "text": [
      "\n",
      "real\t0m0.038s\n",
      "user\t0m0.036s\n",
      "sys\t0m0.000s\n"
     ]
    }
   ],
   "source": [
    "%%bash\n",
    "mkdir /media/sam/4TB_toshiba/montipora/20180805_rsem\n",
    "cd /mnt/data/coral_RNAseq_2017/montipora/20180415_trimmed/\n",
    "time  /home/shared/Trinityrnaseq-v2.6.6/util/align_and_estimate_abundance.pl \\\n",
    "----output_dir /media/sam/4TB_toshiba/montipora/20180805_rsem \\\n",
    "--transcripts /media/sam/4TB_toshiba/montipora/20180416_trinity/Trinity.fasta \\\n",
    "--seqType fq \\\n",
    "--SS_lib_type RF \\\n",
    "--est_method RSEM \\\n",
    "--aln_method bowtie2 \\\n",
    "--trinity_mode \\\n",
    "--prep_reference \\\n",
    "----thread_count 23 \\\n",
    "--left \\\n",
    "4R041-L6-P01-AGTCAA-READ1-Sequences.txt.gz_val_1.fq.gz,\\\n",
    "4R041-L6-P02-CTTGTA-READ1-Sequences.txt.gz_val_1.fq.gz,\\\n",
    "4R041-L6-P03-GTTTCG-READ1-Sequences.txt.gz_val_1.fq.gz,\\\n",
    "4R041-L6-P04-ATCACG-READ1-Sequences.txt.gz_val_1.fq.gz,\\\n",
    "4R041-L6-P05-TAGCTT-READ1-Sequences.txt.gz_val_1.fq.gz,\\\n",
    "4R041-L6-P06-AGTTCC-READ1-Sequences.txt.gz_val_1.fq.gz,\\\n",
    "4R041-L6-P07-ATGTCA-READ1-Sequences.txt.gz_val_1.fq.gz,\\\n",
    "4R041-L6-P08-ACTGAT-READ1-Sequences.txt.gz_val_1.fq.gz,\\\n",
    "4R041-L6-P09-GGCTAC-READ1-Sequences.txt.gz_val_1.fq.gz,\\\n",
    "4R041-L6-P10-GTCCGC-READ1-Sequences.txt.gz_val_1.fq.gz,\\\n",
    "4R041-L6-P11-GAGTGG-READ1-Sequences.txt.gz_val_1.fq.gz,\\\n",
    "4R041-L6-P12-GCCAAT-READ1-Sequences.txt.gz_val_1.fq.gz \\\n",
    "--right \\\n",
    "4R041-L6-P01-AGTCAA-READ2-Sequences.txt.gz_val_2.fq.gz,\\\n",
    "4R041-L6-P02-CTTGTA-READ2-Sequences.txt.gz_val_2.fq.gz,\\\n",
    "4R041-L6-P03-GTTTCG-READ2-Sequences.txt.gz_val_2.fq.gz,\\\n",
    "4R041-L6-P04-ATCACG-READ2-Sequences.txt.gz_val_2.fq.gz,\\\n",
    "4R041-L6-P05-TAGCTT-READ2-Sequences.txt.gz_val_2.fq.gz,\\\n",
    "4R041-L6-P06-AGTTCC-READ2-Sequences.txt.gz_val_2.fq.gz,\\\n",
    "4R041-L6-P07-ATGTCA-READ2-Sequences.txt.gz_val_2.fq.gz,\\\n",
    "4R041-L6-P08-ACTGAT-READ2-Sequences.txt.gz_val_2.fq.gz,\\\n",
    "4R041-L6-P09-GGCTAC-READ2-Sequences.txt.gz_val_2.fq.gz,\\\n",
    "4R041-L6-P10-GTCCGC-READ2-Sequences.txt.gz_val_2.fq.gz,\\\n",
    "4R041-L6-P11-GAGTGG-READ2-Sequences.txt.gz_val_2.fq.gz,\\\n",
    "4R041-L6-P12-GCCAAT-READ2-Sequences.txt.gz_val_2.fq.gz \\\n",
    "1> /media/sam/4TB_toshiba/montipora/20180805_rsem/20180805_rsem.out \\\n",
    "2> /media/sam/4TB_toshiba/montipora/20180805_rsem/20180805_rsem.err\n",
    "sed '/^Subject:/ s/ / monitpora_rsem JOB COMPLETE/' ~/.default-subject.mail | msmtp \"$EMAIL\""
   ]
  },
  {
   "cell_type": "code",
   "execution_count": 3,
   "metadata": {},
   "outputs": [
    {
     "ename": "SyntaxError",
     "evalue": "invalid token (<ipython-input-3-6f4ded8d0649>, line 1)",
     "output_type": "error",
     "traceback": [
      "\u001b[0;36m  File \u001b[0;32m\"<ipython-input-3-6f4ded8d0649>\"\u001b[0;36m, line \u001b[0;32m1\u001b[0m\n\u001b[0;31m    cd /mnt/data/coral_RNAseq_2017/montipora/20180415_trimmed/\u001b[0m\n\u001b[0m                                                     ^\u001b[0m\n\u001b[0;31mSyntaxError\u001b[0m\u001b[0;31m:\u001b[0m invalid token\n"
     ]
    }
   ],
   "source": [
    "cd /mnt/data/coral_RNAseq_2017/montipora/20180415_trimmed/\n",
    "time  /home/shared/Trinityrnaseq-v2.6.6/util/align_and_estimate_abundance.pl \\\n",
    "--output_dir /media/sam/4TB_toshiba/montipora/20180805_rsem \\\n",
    "--transcripts /media/sam/4TB_toshiba/montipora/20180416_trinity/Trinity.fasta \\\n",
    "--seqType fq \\\n",
    "--SS_lib_type RF \\\n",
    "--est_method RSEM \\\n",
    "--aln_method bowtie2 \\\n",
    "--trinity_mode \\\n",
    "--prep_reference \\\n",
    "--thread_count 23 \\\n",
    "--left \\\n",
    "4R041-L6-P01-AGTCAA-READ1-Sequences.txt.gz_val_1.fq.gz,\\\n",
    "4R041-L6-P02-CTTGTA-READ1-Sequences.txt.gz_val_1.fq.gz,\\\n",
    "4R041-L6-P03-GTTTCG-READ1-Sequences.txt.gz_val_1.fq.gz,\\\n",
    "4R041-L6-P04-ATCACG-READ1-Sequences.txt.gz_val_1.fq.gz,\\\n",
    "4R041-L6-P05-TAGCTT-READ1-Sequences.txt.gz_val_1.fq.gz,\\\n",
    "4R041-L6-P06-AGTTCC-READ1-Sequences.txt.gz_val_1.fq.gz,\\\n",
    "4R041-L6-P07-ATGTCA-READ1-Sequences.txt.gz_val_1.fq.gz,\\\n",
    "4R041-L6-P08-ACTGAT-READ1-Sequences.txt.gz_val_1.fq.gz,\\\n",
    "4R041-L6-P09-GGCTAC-READ1-Sequences.txt.gz_val_1.fq.gz,\\\n",
    "4R041-L6-P10-GTCCGC-READ1-Sequences.txt.gz_val_1.fq.gz,\\\n",
    "4R041-L6-P11-GAGTGG-READ1-Sequences.txt.gz_val_1.fq.gz,\\\n",
    "4R041-L6-P12-GCCAAT-READ1-Sequences.txt.gz_val_1.fq.gz \\\n",
    "--right \\\n",
    "4R041-L6-P01-AGTCAA-READ2-Sequences.txt.gz_val_2.fq.gz,\\\n",
    "4R041-L6-P02-CTTGTA-READ2-Sequences.txt.gz_val_2.fq.gz,\\\n",
    "4R041-L6-P03-GTTTCG-READ2-Sequences.txt.gz_val_2.fq.gz,\\\n",
    "4R041-L6-P04-ATCACG-READ2-Sequences.txt.gz_val_2.fq.gz,\\\n",
    "4R041-L6-P05-TAGCTT-READ2-Sequences.txt.gz_val_2.fq.gz,\\\n",
    "4R041-L6-P06-AGTTCC-READ2-Sequences.txt.gz_val_2.fq.gz,\\\n",
    "4R041-L6-P07-ATGTCA-READ2-Sequences.txt.gz_val_2.fq.gz,\\\n",
    "4R041-L6-P08-ACTGAT-READ2-Sequences.txt.gz_val_2.fq.gz,\\\n",
    "4R041-L6-P09-GGCTAC-READ2-Sequences.txt.gz_val_2.fq.gz,\\\n",
    "4R041-L6-P10-GTCCGC-READ2-Sequences.txt.gz_val_2.fq.gz,\\\n",
    "4R041-L6-P11-GAGTGG-READ2-Sequences.txt.gz_val_2.fq.gz,\\\n",
    "4R041-L6-P12-GCCAAT-READ2-Sequences.txt.gz_val_2.fq.gz \\\n",
    "1> /media/sam/4TB_toshiba/montipora/20180805_rsem/20180805_rsem.out \\\n",
    "2> /media/sam/4TB_toshiba/montipora/20180805_rsem/20180805_rsem.err\n",
    "sed '/^Subject:/ s/ / monitpora_rsem JOB COMPLETE/' ~/.default-subject.mail | msmtp \"$EMAIL\""
   ]
  },
  {
   "cell_type": "code",
   "execution_count": 4,
   "metadata": {},
   "outputs": [
    {
     "name": "stderr",
     "output_type": "stream",
     "text": [
      "\n",
      "real\t0m0.051s\n",
      "user\t0m0.032s\n",
      "sys\t0m0.008s\n"
     ]
    }
   ],
   "source": [
    "%%bash\n",
    "cd /mnt/data/coral_RNAseq_2017/montipora/20180415_trimmed/\n",
    "time  /home/shared/Trinityrnaseq-v2.6.6/util/align_and_estimate_abundance.pl \\\n",
    "--output_dir /media/sam/4TB_toshiba/montipora/20180805_rsem \\\n",
    "--transcripts /media/sam/4TB_toshiba/montipora/20180416_trinity/Trinity.fasta \\\n",
    "--seqType fq \\\n",
    "--SS_lib_type RF \\\n",
    "--est_method RSEM \\\n",
    "--aln_method bowtie2 \\\n",
    "--trinity_mode \\\n",
    "--prep_reference \\\n",
    "--thread_count 23 \\\n",
    "--left \\\n",
    "4R041-L6-P01-AGTCAA-READ1-Sequences.txt.gz_val_1.fq.gz,\\\n",
    "4R041-L6-P02-CTTGTA-READ1-Sequences.txt.gz_val_1.fq.gz,\\\n",
    "4R041-L6-P03-GTTTCG-READ1-Sequences.txt.gz_val_1.fq.gz,\\\n",
    "4R041-L6-P04-ATCACG-READ1-Sequences.txt.gz_val_1.fq.gz,\\\n",
    "4R041-L6-P05-TAGCTT-READ1-Sequences.txt.gz_val_1.fq.gz,\\\n",
    "4R041-L6-P06-AGTTCC-READ1-Sequences.txt.gz_val_1.fq.gz,\\\n",
    "4R041-L6-P07-ATGTCA-READ1-Sequences.txt.gz_val_1.fq.gz,\\\n",
    "4R041-L6-P08-ACTGAT-READ1-Sequences.txt.gz_val_1.fq.gz,\\\n",
    "4R041-L6-P09-GGCTAC-READ1-Sequences.txt.gz_val_1.fq.gz,\\\n",
    "4R041-L6-P10-GTCCGC-READ1-Sequences.txt.gz_val_1.fq.gz,\\\n",
    "4R041-L6-P11-GAGTGG-READ1-Sequences.txt.gz_val_1.fq.gz,\\\n",
    "4R041-L6-P12-GCCAAT-READ1-Sequences.txt.gz_val_1.fq.gz \\\n",
    "--right \\\n",
    "4R041-L6-P01-AGTCAA-READ2-Sequences.txt.gz_val_2.fq.gz,\\\n",
    "4R041-L6-P02-CTTGTA-READ2-Sequences.txt.gz_val_2.fq.gz,\\\n",
    "4R041-L6-P03-GTTTCG-READ2-Sequences.txt.gz_val_2.fq.gz,\\\n",
    "4R041-L6-P04-ATCACG-READ2-Sequences.txt.gz_val_2.fq.gz,\\\n",
    "4R041-L6-P05-TAGCTT-READ2-Sequences.txt.gz_val_2.fq.gz,\\\n",
    "4R041-L6-P06-AGTTCC-READ2-Sequences.txt.gz_val_2.fq.gz,\\\n",
    "4R041-L6-P07-ATGTCA-READ2-Sequences.txt.gz_val_2.fq.gz,\\\n",
    "4R041-L6-P08-ACTGAT-READ2-Sequences.txt.gz_val_2.fq.gz,\\\n",
    "4R041-L6-P09-GGCTAC-READ2-Sequences.txt.gz_val_2.fq.gz,\\\n",
    "4R041-L6-P10-GTCCGC-READ2-Sequences.txt.gz_val_2.fq.gz,\\\n",
    "4R041-L6-P11-GAGTGG-READ2-Sequences.txt.gz_val_2.fq.gz,\\\n",
    "4R041-L6-P12-GCCAAT-READ2-Sequences.txt.gz_val_2.fq.gz \\\n",
    "1> /media/sam/4TB_toshiba/montipora/20180805_rsem/20180805_rsem.out \\\n",
    "2> /media/sam/4TB_toshiba/montipora/20180805_rsem/20180805_rsem.err\n",
    "sed '/^Subject:/ s/ / monitpora_rsem JOB COMPLETE/' ~/.default-subject.mail | msmtp \"$EMAIL\""
   ]
  },
  {
   "cell_type": "code",
   "execution_count": 5,
   "metadata": {},
   "outputs": [
    {
     "name": "stdout",
     "output_type": "stream",
     "text": [
      "ERROR, cannot find rsem-calculate-expression in PATH setting: /home/sam/anaconda3/bin:/home/sam/anaconda3/bin:/usr/local/sbin:/usr/local/bin:/usr/sbin:/usr/bin:/sbin:/bin:/usr/games:/usr/local/games:/home/shared/samtools-1.7:/home/shared/bowtie2-2.3.4.1-linux-x86_64:/home/shared/FastQC:/home/shared/jellyfish-2.2.9/bin:/home/shared/salmon_0.9.1/bin::/home/shared/samtools-1.7:/home/shared/TrimGalore-0.4.5:/home/shared/Trinityrnaseq-v2.6.6:/home/shared/ncbi-blast-2.7.1+/bin:/snap/bin\n",
      "\n",
      "Please be sure bowtie and express are installed and the utilities samtools bowtie2 bowtie2-build rsem-calculate-expression are available via your PATH setting.\n"
     ]
    }
   ],
   "source": [
    " %%bash\n",
    "tail /media/sam/4TB_toshiba/montipora/20180805_rsem/20180805_rsem.err"
   ]
  },
  {
   "cell_type": "code",
   "execution_count": 6,
   "metadata": {},
   "outputs": [
    {
     "name": "stdout",
     "output_type": "stream",
     "text": [
      "/usr/local/sbin:/usr/local/bin:/usr/sbin:/usr/bin:/sbin:/bin:/usr/games:/usr/local/games:/home/shared/samtools-1.7:/home/shared/bowtie2-2.3.4.1-linux-x86_64:/home/shared/FastQC:/home/shared/jellyfish-2.2.9/bin:/home/shared/salmon_0.9.1/bin:/home/shared/samtools-1.7:/home/shared/TrimGalore-0.4.5:/home/shared/Trinityrnaseq-v2.6.6:/home/shared/ncbi-blast-2.7.1+/bin:/home/shared/RSEM-1.3.1\n"
     ]
    }
   ],
   "source": [
    "%%bash\n",
    "source /etc/environment\n",
    "echo $PATH"
   ]
  },
  {
   "cell_type": "code",
   "execution_count": 7,
   "metadata": {},
   "outputs": [
    {
     "name": "stdout",
     "output_type": "stream",
     "text": [
      "/usr/local/sbin:/usr/local/bin:/usr/sbin:/usr/bin:/sbin:/bin:/usr/games:/usr/local/games:/home/shared/samtools-1.7:/home/shared/bowtie2-2.3.4.1-linux-x86_64:/home/shared/FastQC:/home/shared/jellyfish-2.2.9/bin:/home/shared/salmon_0.9.1/bin:/home/shared/samtools-1.7:/home/shared/TrimGalore-0.4.5:/home/shared/Trinityrnaseq-v2.6.6:/home/shared/ncbi-blast-2.7.1+/bin:/home/shared/RSEM-1.3.1\n"
     ]
    },
    {
     "name": "stderr",
     "output_type": "stream",
     "text": [
      "\n",
      "real\t3545m39.025s\n",
      "user\t22590m47.516s\n",
      "sys\t10365m42.560s\n"
     ]
    }
   ],
   "source": [
    "%%bash\n",
    "source /etc/environment\n",
    "echo $PATH\n",
    "cd /mnt/data/coral_RNAseq_2017/montipora/20180415_trimmed/\n",
    "time  /home/shared/Trinityrnaseq-v2.6.6/util/align_and_estimate_abundance.pl \\\n",
    "--output_dir /media/sam/4TB_toshiba/montipora/20180805_rsem \\\n",
    "--transcripts /media/sam/4TB_toshiba/montipora/20180416_trinity/Trinity.fasta \\\n",
    "--seqType fq \\\n",
    "--SS_lib_type RF \\\n",
    "--est_method RSEM \\\n",
    "--aln_method bowtie2 \\\n",
    "--trinity_mode \\\n",
    "--prep_reference \\\n",
    "--thread_count 23 \\\n",
    "--left \\\n",
    "4R041-L6-P01-AGTCAA-READ1-Sequences.txt.gz_val_1.fq.gz,\\\n",
    "4R041-L6-P02-CTTGTA-READ1-Sequences.txt.gz_val_1.fq.gz,\\\n",
    "4R041-L6-P03-GTTTCG-READ1-Sequences.txt.gz_val_1.fq.gz,\\\n",
    "4R041-L6-P04-ATCACG-READ1-Sequences.txt.gz_val_1.fq.gz,\\\n",
    "4R041-L6-P05-TAGCTT-READ1-Sequences.txt.gz_val_1.fq.gz,\\\n",
    "4R041-L6-P06-AGTTCC-READ1-Sequences.txt.gz_val_1.fq.gz,\\\n",
    "4R041-L6-P07-ATGTCA-READ1-Sequences.txt.gz_val_1.fq.gz,\\\n",
    "4R041-L6-P08-ACTGAT-READ1-Sequences.txt.gz_val_1.fq.gz,\\\n",
    "4R041-L6-P09-GGCTAC-READ1-Sequences.txt.gz_val_1.fq.gz,\\\n",
    "4R041-L6-P10-GTCCGC-READ1-Sequences.txt.gz_val_1.fq.gz,\\\n",
    "4R041-L6-P11-GAGTGG-READ1-Sequences.txt.gz_val_1.fq.gz,\\\n",
    "4R041-L6-P12-GCCAAT-READ1-Sequences.txt.gz_val_1.fq.gz \\\n",
    "--right \\\n",
    "4R041-L6-P01-AGTCAA-READ2-Sequences.txt.gz_val_2.fq.gz,\\\n",
    "4R041-L6-P02-CTTGTA-READ2-Sequences.txt.gz_val_2.fq.gz,\\\n",
    "4R041-L6-P03-GTTTCG-READ2-Sequences.txt.gz_val_2.fq.gz,\\\n",
    "4R041-L6-P04-ATCACG-READ2-Sequences.txt.gz_val_2.fq.gz,\\\n",
    "4R041-L6-P05-TAGCTT-READ2-Sequences.txt.gz_val_2.fq.gz,\\\n",
    "4R041-L6-P06-AGTTCC-READ2-Sequences.txt.gz_val_2.fq.gz,\\\n",
    "4R041-L6-P07-ATGTCA-READ2-Sequences.txt.gz_val_2.fq.gz,\\\n",
    "4R041-L6-P08-ACTGAT-READ2-Sequences.txt.gz_val_2.fq.gz,\\\n",
    "4R041-L6-P09-GGCTAC-READ2-Sequences.txt.gz_val_2.fq.gz,\\\n",
    "4R041-L6-P10-GTCCGC-READ2-Sequences.txt.gz_val_2.fq.gz,\\\n",
    "4R041-L6-P11-GAGTGG-READ2-Sequences.txt.gz_val_2.fq.gz,\\\n",
    "4R041-L6-P12-GCCAAT-READ2-Sequences.txt.gz_val_2.fq.gz \\\n",
    "1> /media/sam/4TB_toshiba/montipora/20180805_rsem/20180805_rsem.out \\\n",
    "2> /media/sam/4TB_toshiba/montipora/20180805_rsem/20180805_rsem.err\n",
    "sed '/^Subject:/ s/ / monitpora_rsem JOB COMPLETE/' ~/.default-subject.mail | msmtp \"$EMAIL\""
   ]
  },
  {
   "cell_type": "code",
   "execution_count": 8,
   "metadata": {},
   "outputs": [
    {
     "name": "stdout",
     "output_type": "stream",
     "text": [
      "ROUND = 5688, SUM = 325592065.000001, bChange = 0.00118267, totNum = 1\n",
      "ROUND = 5689, SUM = 325592065, bChange = 0.00118285, totNum = 1\n",
      "ROUND = 5690, SUM = 325592065, bChange = 0.00118302, totNum = 1\n",
      "ROUND = 5691, SUM = 325592065, bChange = 0.0011832, totNum = 1\n",
      "ROUND = 5692, SUM = 325592065, bChange = 0.000851801, totNum = 0\n",
      "Expression Results are written!\n",
      "Time Used for EM.cpp : 17 h 23 m 07 s\n",
      "\n",
      "rm -rf RSEM.temp\n",
      "\n"
     ]
    }
   ],
   "source": [
    "%%bash\n",
    "tail /media/sam/4TB_toshiba/montipora/20180805_rsem/20180805_rsem.out"
   ]
  },
  {
   "cell_type": "code",
   "execution_count": 9,
   "metadata": {},
   "outputs": [
    {
     "name": "stdout",
     "output_type": "stream",
     "text": [
      "Warning: Read K00339:74:HLGK3BBXX:6:2228:32187:18722 is ignored due to at least one of the mates' length < seed length (= 25)!\n",
      "Warning: Read K00339:74:HLGK3BBXX:6:2228:32248:26775 is ignored due to at least one of the mates' length < seed length (= 25)!\n",
      "Warning: Read K00339:74:HLGK3BBXX:6:2228:32258:30521 is ignored due to at least one of the mates' length < seed length (= 25)!\n",
      "Warning: Read K00339:74:HLGK3BBXX:6:2228:32278:18493 is ignored due to at least one of the mates' length < seed length (= 25)!\n",
      "Warning: Read K00339:74:HLGK3BBXX:6:2228:32278:21799 is ignored due to at least one of the mates' length < seed length (= 25)!\n",
      "Warning: Read K00339:74:HLGK3BBXX:6:2228:32309:8981 is ignored due to at least one of the mates' length < seed length (= 25)!\n",
      "Warning: Read K00339:74:HLGK3BBXX:6:2228:32380:5939 is ignored due to at least one of the mates' length < seed length (= 25)!\n",
      "Warning: Read K00339:74:HLGK3BBXX:6:2228:32390:36868 is ignored due to at least one of the mates' length < seed length (= 25)!\n",
      "Warning: Read K00339:74:HLGK3BBXX:6:2228:32420:25949 is ignored due to at least one of the mates' length < seed length (= 25)!\n",
      "CMD: touch RSEM.isoforms.results.ok\n"
     ]
    }
   ],
   "source": [
    "%%bash\n",
    "tail /media/sam/4TB_toshiba/montipora/20180805_rsem/20180805_rsem.err"
   ]
  },
  {
   "cell_type": "code",
   "execution_count": 10,
   "metadata": {},
   "outputs": [
    {
     "name": "stdout",
     "output_type": "stream",
     "text": [
      "total 3.9M\n",
      "-rw-rw-r-- 1 sam sam   48 Feb 19 14:56 README.md\n",
      "-rw-rw-r-- 1 sam sam 1.1K Feb 19 14:58 template_linux.ipynb\n",
      "-rw-rw-r-- 1 sam sam  82K Mar 10 13:53 20180219_download_and_backup.ipynb\n",
      "-rw-rw-r-- 1 sam sam 2.1M Apr  2 15:55 20180322_trinity_porites.ipynb\n",
      "-rw-rw-r-- 1 sam sam 424K Apr  5 08:23 20180311_trinity_montipora.ipynb\n",
      "-rw-rw-r-- 1 sam sam 8.4K Apr  6 20:01 20180405_trinity_montipora.ipynb\n",
      "-rw-rw-r-- 1 sam sam  13K Apr 13 13:18 20180410_trinity_porites.ipynb\n",
      "-rw-rw-r-- 1 sam sam  11K Apr 13 13:19 20180406_trinity_montipora.ipynb\n",
      "-rw-rw-r-- 1 sam sam 247K Apr 16 06:49 20180311_FastQC_trimming.ipynb\n",
      "-rw-rw-r-- 1 sam sam 9.9K Apr 19 07:05 20180416_trinity_montipora.ipynb\n",
      "-rw-rw-r-- 1 sam sam 6.2K Apr 19 07:14 20180419_trinity_porites.ipynb\n",
      "-rw-rw-r-- 1 sam sam 7.1K May  6 14:43 20180429_blastdb_uniprot_swissprot.ipynb\n",
      "-rw-rw-r-- 1 sam sam 400K May  7 09:13 20180429_ORF_ID_porites.ipynb\n",
      "-rw-rw-r-- 1 sam sam 594K May  7 09:30 20180429_ORF_ID_montipora.ipynb\n",
      "-rw-rw-r-- 1 sam sam 4.4K Aug  5 08:13 20180803_cd-hit_porites.ipynb\n",
      "-rw-rw-r-- 1 sam sam 5.5K Aug  5 08:14 20180803_cd-hit_montipora.ipynb\n",
      "-rw-rw-r-- 1 sam sam 1.1K Aug  5 15:39 template_linux-Copy2.ipynb\n",
      "-rw-rw-r-- 1 sam sam 6.6K Aug  8 08:25 20180808_rsem_abundance_porites.ipynb\n",
      "-rw-rw-r-- 1 sam sam  20K Aug  8 08:26 20180805_rsem_abundance_montipora.ipynb\n"
     ]
    }
   ],
   "source": [
    "%%bash\n",
    "ls -ltrh"
   ]
  },
  {
   "cell_type": "code",
   "execution_count": 11,
   "metadata": {},
   "outputs": [
    {
     "name": "stdout",
     "output_type": "stream",
     "text": [
      "total 167G\n",
      "-rw-rw-r-- 1 sam sam  84G Aug  6 13:35 bowtie2.bam\n",
      "-rw-rw-r-- 1 sam sam    0 Aug  6 13:36 bowtie2.bam.ok\n",
      "-rw-rw-r-- 1 sam sam  84G Aug  7 05:26 bowtie2.bam.for_rsem.bam\n",
      "drwxrwxr-x 2 sam sam 4.0K Aug  8 03:36 RSEM.stat\n",
      "-rw-rw-r-- 1 sam sam  68M Aug  8 03:36 RSEM.isoforms.results\n",
      "-rw-rw-r-- 1 sam sam  49M Aug  8 03:36 RSEM.genes.results\n",
      "-rw-rw-r-- 1 sam sam 453K Aug  8 03:36 20180805_rsem.out\n",
      "-rw-rw-r-- 1 sam sam 6.2M Aug  8 03:36 20180805_rsem.err\n",
      "-rw-rw-r-- 1 sam sam    0 Aug  8 03:36 RSEM.isoforms.results.ok\n"
     ]
    }
   ],
   "source": [
    "%%bash\n",
    "ls -ltrh /media/sam/4TB_toshiba/montipora/20180805_rsem/"
   ]
  },
  {
   "cell_type": "code",
   "execution_count": null,
   "metadata": {},
   "outputs": [],
   "source": []
  }
 ],
 "metadata": {
  "kernelspec": {
   "display_name": "Python 3",
   "language": "python",
   "name": "python3"
  },
  "language_info": {
   "codemirror_mode": {
    "name": "ipython",
    "version": 3
   },
   "file_extension": ".py",
   "mimetype": "text/x-python",
   "name": "python",
   "nbconvert_exporter": "python",
   "pygments_lexer": "ipython3",
   "version": "3.6.4"
  }
 },
 "nbformat": 4,
 "nbformat_minor": 2
}
