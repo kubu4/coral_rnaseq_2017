{
 "cells": [
  {
   "cell_type": "code",
   "execution_count": 1,
   "metadata": {},
   "outputs": [
    {
     "name": "stdout",
     "output_type": "stream",
     "text": [
      "TODAY'S DATE\n",
      "Sun Apr 29 19:59:06 PDT 2018\n",
      "------------\n",
      "\n",
      "Distributor ID:\tUbuntu\n",
      "Description:\tUbuntu 16.04.4 LTS\n",
      "Release:\t16.04\n",
      "Codename:\txenial\n",
      "\n",
      "------------\n",
      "HOSTNAME: \n",
      "jpg-d20\n",
      "\n",
      "------------\n",
      "Computer Specs:\n",
      "\n",
      "Architecture:          x86_64\n",
      "CPU op-mode(s):        32-bit, 64-bit\n",
      "Byte Order:            Little Endian\n",
      "CPU(s):                24\n",
      "On-line CPU(s) list:   0-23\n",
      "Thread(s) per core:    2\n",
      "Core(s) per socket:    6\n",
      "Socket(s):             2\n",
      "NUMA node(s):          2\n",
      "Vendor ID:             GenuineIntel\n",
      "CPU family:            6\n",
      "Model:                 44\n",
      "Model name:            Intel(R) Xeon(R) CPU           X5680  @ 3.33GHz\n",
      "Stepping:              2\n",
      "CPU MHz:               1596.000\n",
      "CPU max MHz:           3326.0000\n",
      "CPU min MHz:           1596.0000\n",
      "BogoMIPS:              6666.92\n",
      "Virtualization:        VT-x\n",
      "L1d cache:             32K\n",
      "L1i cache:             32K\n",
      "L2 cache:              256K\n",
      "L3 cache:              12288K\n",
      "NUMA node0 CPU(s):     0,2,4,6,8,10,12,14,16,18,20,22\n",
      "NUMA node1 CPU(s):     1,3,5,7,9,11,13,15,17,19,21,23\n",
      "Flags:                 fpu vme de pse tsc msr pae mce cx8 apic sep mtrr pge mca cmov pat pse36 clflush dts acpi mmx fxsr sse sse2 ss ht tm pbe syscall nx pdpe1gb rdtscp lm constant_tsc arch_perfmon pebs bts rep_good nopl xtopology nonstop_tsc aperfmperf pni pclmulqdq dtes64 monitor ds_cpl vmx smx est tm2 ssse3 cx16 xtpr pdcm pcid dca sse4_1 sse4_2 popcnt aes lahf_lm epb retpoline kaiser tpr_shadow vnmi flexpriority ept vpid dtherm ida arat\n",
      "\n",
      "------------\n",
      "\n",
      "Memory Specs\n",
      "\n",
      "              total        used        free      shared  buff/cache   available\n",
      "Mem:            94G        1.9G         87G        185M        4.9G         91G\n",
      "Swap:          128G          0B        128G\n"
     ]
    },
    {
     "name": "stderr",
     "output_type": "stream",
     "text": [
      "No LSB modules are available.\n"
     ]
    }
   ],
   "source": [
    "%%bash\n",
    "echo \"TODAY'S DATE\"\n",
    "date\n",
    "echo \"------------\"\n",
    "echo \"\"\n",
    "lsb_release -a\n",
    "echo \"\"\n",
    "echo \"------------\"\n",
    "echo \"HOSTNAME: \"\n",
    "hostname\n",
    "echo \"\"\n",
    "echo \"------------\"\n",
    "echo \"Computer Specs:\"\n",
    "echo \"\"\n",
    "lscpu\n",
    "echo \"\"\n",
    "echo \"------------\"\n",
    "echo \"\"\n",
    "echo \"Memory Specs\"\n",
    "echo \"\"\n",
    "free -mh"
   ]
  },
  {
   "cell_type": "code",
   "execution_count": 2,
   "metadata": {},
   "outputs": [
    {
     "name": "stderr",
     "output_type": "stream",
     "text": [
      "USAGE\n",
      "  makeblastdb [-h] [-help] [-in input_file] [-input_type type]\n",
      "    -dbtype molecule_type [-title database_title] [-parse_seqids]\n",
      "    [-hash_index] [-mask_data mask_data_files] [-mask_id mask_algo_ids]\n",
      "    [-mask_desc mask_algo_descriptions] [-gi_mask]\n",
      "    [-gi_mask_name gi_based_mask_names] [-out database_name]\n",
      "    [-max_file_sz number_of_bytes] [-logfile File_Name] [-taxid TaxID]\n",
      "    [-taxid_map TaxIDMapFile] [-version]\n",
      "\n",
      "DESCRIPTION\n",
      "   Application to create BLAST databases, version 2.7.1+\n",
      "\n",
      "Use '-help' to print detailed descriptions of command line arguments\n",
      "========================================================================\n",
      "\n",
      "Error: Unknown argument: \"logifle\"\n",
      "Error:  (CArgException::eInvalidArg) Unknown argument: \"logifle\"\n",
      "\n",
      "real\t0m0.173s\n",
      "user\t0m0.008s\n",
      "sys\t0m0.004s\n"
     ]
    }
   ],
   "source": [
    "%%bash\n",
    "time /home/shared/ncbi-blast-2.7.1+/bin/makeblastdb \\\n",
    "-in /home/shared/databases/uniprot_sprot.fasta \\\n",
    "-input_type fasta \\\n",
    "-dbtype prot \\\n",
    "-logifle /home/shared/databases/20180429_blastdb_uniprot.log\n",
    "cat ~/.default_subject.mail| msmtp \"$EMAIL\""
   ]
  },
  {
   "cell_type": "code",
   "execution_count": 3,
   "metadata": {},
   "outputs": [
    {
     "name": "stderr",
     "output_type": "stream",
     "text": [
      "\n",
      "real\t0m21.461s\n",
      "user\t0m20.568s\n",
      "sys\t0m0.512s\n"
     ]
    }
   ],
   "source": [
    "%%bash\n",
    "time /home/shared/ncbi-blast-2.7.1+/bin/makeblastdb \\\n",
    "-in /home/shared/databases/uniprot_sprot.fasta \\\n",
    "-input_type fasta \\\n",
    "-dbtype prot \\\n",
    "-logfile /home/shared/databases/20180429_blastdb_uniprot.log\n",
    "cat ~/.default_subject.mail| msmtp \"$EMAIL\""
   ]
  },
  {
   "cell_type": "code",
   "execution_count": 4,
   "metadata": {},
   "outputs": [
    {
     "name": "stdout",
     "output_type": "stream",
     "text": [
      "20180429_blastdb_uniprot.log\n",
      "20180429_blastdb_uniprot.perf\n",
      "Pfam-A.hmm\n",
      "readme.txt\n",
      "uniprot_sprot.fasta\n",
      "uniprot_sprot.fasta.phr\n",
      "uniprot_sprot.fasta.pin\n",
      "uniprot_sprot.fasta.psq\n"
     ]
    }
   ],
   "source": [
    "%%bash\n",
    "ls /home/shared/databases/"
   ]
  },
  {
   "cell_type": "code",
   "execution_count": 5,
   "metadata": {},
   "outputs": [
    {
     "name": "stdout",
     "output_type": "stream",
     "text": [
      "Working...    done.\n",
      "Pressed and indexed 16712 HMMs (16712 names and 16712 accessions).\n",
      "Models pressed into binary file:   Pfam-A.hmm.h3m\n",
      "SSI index for binary model file:   Pfam-A.hmm.h3i\n",
      "Profiles (MSV part) pressed into:  Pfam-A.hmm.h3f\n",
      "Profiles (remainder) pressed into: Pfam-A.hmm.h3p\n"
     ]
    },
    {
     "name": "stderr",
     "output_type": "stream",
     "text": [
      "\n",
      "real\t0m36.358s\n",
      "user\t0m31.964s\n",
      "sys\t0m1.652s\n"
     ]
    }
   ],
   "source": [
    "%%bash\n",
    "cd /home/shared/databases/\n",
    "time \\\n",
    "/home/shared/hmmer-3.1b2-linux-intel-x86_64/binaries/hmmpress \\\n",
    "Pfam-A.hmm\n",
    "cat ~/.default_subject.mail| msmtp \"$EMAIL\""
   ]
  },
  {
   "cell_type": "code",
   "execution_count": null,
   "metadata": {},
   "outputs": [],
   "source": []
  }
 ],
 "metadata": {
  "kernelspec": {
   "display_name": "Python 3",
   "language": "python",
   "name": "python3"
  },
  "language_info": {
   "codemirror_mode": {
    "name": "ipython",
    "version": 3
   },
   "file_extension": ".py",
   "mimetype": "text/x-python",
   "name": "python",
   "nbconvert_exporter": "python",
   "pygments_lexer": "ipython3",
   "version": "3.6.4"
  }
 },
 "nbformat": 4,
 "nbformat_minor": 2
}
