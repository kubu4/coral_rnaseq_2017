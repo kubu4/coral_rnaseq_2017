{
 "cells": [
  {
   "cell_type": "code",
   "execution_count": 1,
   "metadata": {},
   "outputs": [
    {
     "name": "stdout",
     "output_type": "stream",
     "text": [
      "TODAY'S DATE\n",
      "Sun Mar 11 21:34:27 PDT 2018\n",
      "------------\n",
      "\n",
      "Distributor ID:\tUbuntu\n",
      "Description:\tUbuntu 16.04.4 LTS\n",
      "Release:\t16.04\n",
      "Codename:\txenial\n",
      "\n",
      "------------\n",
      "HOSTNAME: \n",
      "jpg-d20\n",
      "\n",
      "------------\n",
      "Computer Specs:\n",
      "\n",
      "Architecture:          x86_64\n",
      "CPU op-mode(s):        32-bit, 64-bit\n",
      "Byte Order:            Little Endian\n",
      "CPU(s):                24\n",
      "On-line CPU(s) list:   0-23\n",
      "Thread(s) per core:    2\n",
      "Core(s) per socket:    6\n",
      "Socket(s):             2\n",
      "NUMA node(s):          2\n",
      "Vendor ID:             GenuineIntel\n",
      "CPU family:            6\n",
      "Model:                 44\n",
      "Model name:            Intel(R) Xeon(R) CPU           X5680  @ 3.33GHz\n",
      "Stepping:              2\n",
      "CPU MHz:               1596.000\n",
      "CPU max MHz:           3326.0000\n",
      "CPU min MHz:           1596.0000\n",
      "BogoMIPS:              6666.90\n",
      "Virtualization:        VT-x\n",
      "L1d cache:             32K\n",
      "L1i cache:             32K\n",
      "L2 cache:              256K\n",
      "L3 cache:              12288K\n",
      "NUMA node0 CPU(s):     0,2,4,6,8,10,12,14,16,18,20,22\n",
      "NUMA node1 CPU(s):     1,3,5,7,9,11,13,15,17,19,21,23\n",
      "Flags:                 fpu vme de pse tsc msr pae mce cx8 apic sep mtrr pge mca cmov pat pse36 clflush dts acpi mmx fxsr sse sse2 ss ht tm pbe syscall nx pdpe1gb rdtscp lm constant_tsc arch_perfmon pebs bts rep_good nopl xtopology nonstop_tsc aperfmperf pni pclmulqdq dtes64 monitor ds_cpl vmx smx est tm2 ssse3 cx16 xtpr pdcm pcid dca sse4_1 sse4_2 popcnt aes lahf_lm epb retpoline kaiser tpr_shadow vnmi flexpriority ept vpid dtherm ida arat\n",
      "\n",
      "------------\n",
      "\n",
      "Memory Specs\n",
      "\n",
      "              total        used        free      shared  buff/cache   available\n",
      "Mem:            94G        2.6G        1.8G        351M         89G         90G\n",
      "Swap:          9.3G         64M        9.2G\n"
     ]
    },
    {
     "name": "stderr",
     "output_type": "stream",
     "text": [
      "No LSB modules are available.\n"
     ]
    }
   ],
   "source": [
    "%%bash\n",
    "echo \"TODAY'S DATE\"\n",
    "date\n",
    "echo \"------------\"\n",
    "echo \"\"\n",
    "lsb_release -a\n",
    "echo \"\"\n",
    "echo \"------------\"\n",
    "echo \"HOSTNAME: \"\n",
    "hostname\n",
    "echo \"\"\n",
    "echo \"------------\"\n",
    "echo \"Computer Specs:\"\n",
    "echo \"\"\n",
    "lscpu\n",
    "echo \"\"\n",
    "echo \"------------\"\n",
    "echo \"\"\n",
    "echo \"Memory Specs\"\n",
    "echo \"\"\n",
    "free -mh"
   ]
  },
  {
   "cell_type": "code",
   "execution_count": 3,
   "metadata": {
    "scrolled": true
   },
   "outputs": [
    {
     "name": "stdout",
     "output_type": "stream",
     "text": [
      "4R041-L6-P01-AGTCAA-READ1-Sequences.txt.gz 4R041-L6-P02-CTTGTA-READ1-Sequences.txt.gz 4R041-L6-P03-GTTTCG-READ1-Sequences.txt.gz 4R041-L6-P04-ATCACG-READ1-Sequences.txt.gz 4R041-L6-P05-TAGCTT-READ1-Sequences.txt.gz 4R041-L6-P06-AGTTCC-READ1-Sequences.txt.gz 4R041-L6-P07-ATGTCA-READ1-Sequences.txt.gz 4R041-L6-P08-ACTGAT-READ1-Sequences.txt.gz 4R041-L6-P09-GGCTAC-READ1-Sequences.txt.gz 4R041-L6-P10-GTCCGC-READ1-Sequences.txt.gz 4R041-L6-P11-GAGTGG-READ1-Sequences.txt.gz 4R041-L6-P12-GCCAAT-READ1-Sequences.txt.gz 4R041-L6-PrNotRecog-READ1-Sequences.txt.gz "
     ]
    }
   ],
   "source": [
    "%%bash\n",
    "cd /mnt/data/coral_RNAseq_fastq/montipora/\n",
    "for fastq in *READ1*.gz\n",
    "do\n",
    "printf \"%s \" \"$fastq\"\n",
    "done"
   ]
  },
  {
   "cell_type": "code",
   "execution_count": 4,
   "metadata": {},
   "outputs": [
    {
     "name": "stdout",
     "output_type": "stream",
     "text": [
      "4R041-L6-P01-AGTCAA-READ2-Sequences.txt.gz 4R041-L6-P02-CTTGTA-READ2-Sequences.txt.gz 4R041-L6-P03-GTTTCG-READ2-Sequences.txt.gz 4R041-L6-P04-ATCACG-READ2-Sequences.txt.gz 4R041-L6-P05-TAGCTT-READ2-Sequences.txt.gz 4R041-L6-P06-AGTTCC-READ2-Sequences.txt.gz 4R041-L6-P07-ATGTCA-READ2-Sequences.txt.gz 4R041-L6-P08-ACTGAT-READ2-Sequences.txt.gz 4R041-L6-P09-GGCTAC-READ2-Sequences.txt.gz 4R041-L6-P10-GTCCGC-READ2-Sequences.txt.gz 4R041-L6-P11-GAGTGG-READ2-Sequences.txt.gz 4R041-L6-P12-GCCAAT-READ2-Sequences.txt.gz 4R041-L6-PrNotRecog-READ2-Sequences.txt.gz "
     ]
    }
   ],
   "source": [
    "%%bash\n",
    "cd /mnt/data/coral_RNAseq_fastq/montipora/\n",
    "for fastq in *READ2*.gz\n",
    "do\n",
    "printf \"%s \" \"$fastq\"\n",
    "done"
   ]
  },
  {
   "cell_type": "code",
   "execution_count": 5,
   "metadata": {},
   "outputs": [
    {
     "name": "stdout",
     "output_type": "stream",
     "text": [
      "Process is terminated.\n"
     ]
    }
   ],
   "source": [
    "%%bash\n",
    "cd /mnt/data/coral_RNAseq_fastq/montipora/\n",
    "time  /home/shared/trinityrnaseq-Trinity-v2.6.5/Trinity \\\n",
    "--seqType fq \\\n",
    "--max_memory 90G \\\n",
    "--CPU 24 \\\n",
    "--left \\\n",
    "4R041-L6-P01-AGTCAA-READ1-Sequences.txt.gz \\\n",
    "4R041-L6-P02-CTTGTA-READ1-Sequences.txt.gz \\\n",
    "4R041-L6-P03-GTTTCG-READ1-Sequences.txt.gz \\\n",
    "4R041-L6-P04-ATCACG-READ1-Sequences.txt.gz \\\n",
    "4R041-L6-P05-TAGCTT-READ1-Sequences.txt.gz \\\n",
    "4R041-L6-P06-AGTTCC-READ1-Sequences.txt.gz \\\n",
    "4R041-L6-P07-ATGTCA-READ1-Sequences.txt.gz \\\n",
    "4R041-L6-P08-ACTGAT-READ1-Sequences.txt.gz \\\n",
    "4R041-L6-P09-GGCTAC-READ1-Sequences.txt.gz \\\n",
    "4R041-L6-P10-GTCCGC-READ1-Sequences.txt.gz \\\n",
    "4R041-L6-P11-GAGTGG-READ1-Sequences.txt.gz \\\n",
    "4R041-L6-P12-GCCAAT-READ1-Sequences.txt.gz \\\n",
    "4R041-L6-PrNotRecog-READ1-Sequences.txt.gz \\\n",
    "--right \\\n",
    "4R041-L6-P01-AGTCAA-READ2-Sequences.txt.gz \\\n",
    "4R041-L6-P02-CTTGTA-READ2-Sequences.txt.gz \\\n",
    "4R041-L6-P03-GTTTCG-READ2-Sequences.txt.gz \\\n",
    "4R041-L6-P04-ATCACG-READ2-Sequences.txt.gz \\\n",
    "4R041-L6-P05-TAGCTT-READ2-Sequences.txt.gz \\\n",
    "4R041-L6-P06-AGTTCC-READ2-Sequences.txt.gz \\\n",
    "4R041-L6-P07-ATGTCA-READ2-Sequences.txt.gz \\\n",
    "4R041-L6-P08-ACTGAT-READ2-Sequences.txt.gz \\\n",
    "4R041-L6-P09-GGCTAC-READ2-Sequences.txt.gz \\\n",
    "4R041-L6-P10-GTCCGC-READ2-Sequences.txt.gz \\\n",
    "4R041-L6-P11-GAGTGG-READ2-Sequences.txt.gz \\\n",
    "4R041-L6-P12-GCCAAT-READ2-Sequences.txt.gz \\\n",
    "4R041-L6-PrNotRecog-READ2-Sequences.txt.gz\n",
    "cat ~/.default_subject.mail| msmtp \"$EMAIL\""
   ]
  },
  {
   "cell_type": "markdown",
   "metadata": {},
   "source": [
    "Gah! Command formatting is wrong! Reads need to be separated by commas, not spaces!"
   ]
  },
  {
   "cell_type": "code",
   "execution_count": 6,
   "metadata": {},
   "outputs": [
    {
     "name": "stdout",
     "output_type": "stream",
     "text": [
      "Thu Mar 15 07:26:56 PDT 2018\n"
     ]
    }
   ],
   "source": [
    "%%bash\n",
    "date"
   ]
  },
  {
   "cell_type": "code",
   "execution_count": 7,
   "metadata": {},
   "outputs": [
    {
     "name": "stdout",
     "output_type": "stream",
     "text": [
      "4R041-L6-P01-AGTCAA-READ1-Sequences.txt.gz,4R041-L6-P02-CTTGTA-READ1-Sequences.txt.gz,4R041-L6-P03-GTTTCG-READ1-Sequences.txt.gz,4R041-L6-P04-ATCACG-READ1-Sequences.txt.gz,4R041-L6-P05-TAGCTT-READ1-Sequences.txt.gz,4R041-L6-P06-AGTTCC-READ1-Sequences.txt.gz,4R041-L6-P07-ATGTCA-READ1-Sequences.txt.gz,4R041-L6-P08-ACTGAT-READ1-Sequences.txt.gz,4R041-L6-P09-GGCTAC-READ1-Sequences.txt.gz,4R041-L6-P10-GTCCGC-READ1-Sequences.txt.gz,4R041-L6-P11-GAGTGG-READ1-Sequences.txt.gz,4R041-L6-P12-GCCAAT-READ1-Sequences.txt.gz,4R041-L6-PrNotRecog-READ1-Sequences.txt.gz,"
     ]
    }
   ],
   "source": [
    "%%bash\n",
    "cd /mnt/data/coral_RNAseq_fastq/montipora/\n",
    "for fastq in *READ1*.gz\n",
    "do\n",
    "printf \"%s,\" \"$fastq\"\n",
    "done"
   ]
  },
  {
   "cell_type": "code",
   "execution_count": 9,
   "metadata": {},
   "outputs": [
    {
     "name": "stdout",
     "output_type": "stream",
     "text": [
      "4R041-L6-P01-AGTCAA-READ2-Sequences.txt.gz,4R041-L6-P02-CTTGTA-READ2-Sequences.txt.gz,4R041-L6-P03-GTTTCG-READ2-Sequences.txt.gz,4R041-L6-P04-ATCACG-READ2-Sequences.txt.gz,4R041-L6-P05-TAGCTT-READ2-Sequences.txt.gz,4R041-L6-P06-AGTTCC-READ2-Sequences.txt.gz,4R041-L6-P07-ATGTCA-READ2-Sequences.txt.gz,4R041-L6-P08-ACTGAT-READ2-Sequences.txt.gz,4R041-L6-P09-GGCTAC-READ2-Sequences.txt.gz,4R041-L6-P10-GTCCGC-READ2-Sequences.txt.gz,4R041-L6-P11-GAGTGG-READ2-Sequences.txt.gz,4R041-L6-P12-GCCAAT-READ2-Sequences.txt.gz,4R041-L6-PrNotRecog-READ2-Sequences.txt.gz,"
     ]
    }
   ],
   "source": [
    "%%bash\n",
    "cd /mnt/data/coral_RNAseq_fastq/montipora/\n",
    "for fastq in *READ2*.gz\n",
    "do\n",
    "printf \"%s,\" \"$fastq\"\n",
    "done"
   ]
  },
  {
   "cell_type": "code",
   "execution_count": 10,
   "metadata": {},
   "outputs": [
    {
     "name": "stderr",
     "output_type": "stream",
     "text": [
      "IOPub data rate exceeded.\n",
      "The notebook server will temporarily stop sending output\n",
      "to the client in order to avoid crashing it.\n",
      "To change this limit, set the config variable\n",
      "`--NotebookApp.iopub_data_rate_limit`.\n",
      "\n",
      "Current values:\n",
      "NotebookApp.iopub_data_rate_limit=1000000.0 (bytes/sec)\n",
      "NotebookApp.rate_limit_window=3.0 (secs)\n",
      "\n",
      "\n",
      "real\t5593m48.613s\n",
      "user\t42327m18.060s\n",
      "sys\t12174m25.544s\n"
     ]
    }
   ],
   "source": [
    "%%bash\n",
    "cd /mnt/data/coral_RNAseq_fastq/montipora/\n",
    "time  /home/shared/trinityrnaseq-Trinity-v2.6.5/Trinity \\\n",
    "--seqType fq \\\n",
    "--max_memory 90G \\\n",
    "--CPU 24 \\\n",
    "--left \\\n",
    "4R041-L6-P01-AGTCAA-READ1-Sequences.txt.gz,\\\n",
    "4R041-L6-P02-CTTGTA-READ1-Sequences.txt.gz,\\\n",
    "4R041-L6-P03-GTTTCG-READ1-Sequences.txt.gz,\\\n",
    "4R041-L6-P04-ATCACG-READ1-Sequences.txt.gz,\\\n",
    "4R041-L6-P05-TAGCTT-READ1-Sequences.txt.gz,\\\n",
    "4R041-L6-P06-AGTTCC-READ1-Sequences.txt.gz,\\\n",
    "4R041-L6-P07-ATGTCA-READ1-Sequences.txt.gz,\\\n",
    "4R041-L6-P08-ACTGAT-READ1-Sequences.txt.gz,\\\n",
    "4R041-L6-P09-GGCTAC-READ1-Sequences.txt.gz,\\\n",
    "4R041-L6-P10-GTCCGC-READ1-Sequences.txt.gz,\\\n",
    "4R041-L6-P11-GAGTGG-READ1-Sequences.txt.gz,\\\n",
    "4R041-L6-P12-GCCAAT-READ1-Sequences.txt.gz,\\\n",
    "4R041-L6-PrNotRecog-READ1-Sequences.txt.gz \\\n",
    "--right \\\n",
    "4R041-L6-P01-AGTCAA-READ2-Sequences.txt.gz,\\\n",
    "4R041-L6-P02-CTTGTA-READ2-Sequences.txt.gz,\\\n",
    "4R041-L6-P03-GTTTCG-READ2-Sequences.txt.gz,\\\n",
    "4R041-L6-P04-ATCACG-READ2-Sequences.txt.gz,\\\n",
    "4R041-L6-P05-TAGCTT-READ2-Sequences.txt.gz,\\\n",
    "4R041-L6-P06-AGTTCC-READ2-Sequences.txt.gz,\\\n",
    "4R041-L6-P07-ATGTCA-READ2-Sequences.txt.gz,\\\n",
    "4R041-L6-P08-ACTGAT-READ2-Sequences.txt.gz,\\\n",
    "4R041-L6-P09-GGCTAC-READ2-Sequences.txt.gz,\\\n",
    "4R041-L6-P10-GTCCGC-READ2-Sequences.txt.gz,\\\n",
    "4R041-L6-P11-GAGTGG-READ2-Sequences.txt.gz,\\\n",
    "4R041-L6-P12-GCCAAT-READ2-Sequences.txt.gz,\\\n",
    "4R041-L6-PrNotRecog-READ2-Sequences.txt.gz\n",
    "cat ~/.default_subject.mail| msmtp \"$EMAIL\""
   ]
  },
  {
   "cell_type": "markdown",
   "metadata": {},
   "source": [
    "Had to restart computer to deal with connection of new, external HDD."
   ]
  },
  {
   "cell_type": "code",
   "execution_count": 1,
   "metadata": {},
   "outputs": [
    {
     "name": "stderr",
     "output_type": "stream",
     "text": [
      "mv: cannot create directory '/media/sam/4TB_toshiba/montipora': Permission denied\n",
      "\n",
      "real\t0m0.002s\n",
      "user\t0m0.000s\n",
      "sys\t0m0.000s\n"
     ]
    }
   ],
   "source": [
    "%%bash\n",
    "time mv /mnt/data/coral_RNAseq_fastq/montipora/ /media/sam/4TB_toshiba/\n",
    "cat ~/.default_subject.mail| msmtp \"$EMAIL\""
   ]
  },
  {
   "cell_type": "markdown",
   "metadata": {},
   "source": [
    "Had to change permissions outside of notebook due to required use of ```sudo```."
   ]
  },
  {
   "cell_type": "code",
   "execution_count": 2,
   "metadata": {},
   "outputs": [
    {
     "name": "stderr",
     "output_type": "stream",
     "text": [
      "\n",
      "real\t401m59.610s\n",
      "user\t2m6.684s\n",
      "sys\t25m13.724s\n"
     ]
    }
   ],
   "source": [
    "%%bash\n",
    "time mv /mnt/data/coral_RNAseq_fastq/montipora/ /media/sam/4TB_toshiba/\n",
    "cat ~/.default_subject.mail| msmtp \"$EMAIL\""
   ]
  },
  {
   "cell_type": "markdown",
   "metadata": {},
   "source": [
    "Verify freespace on HDD to allow starting Porites assembly."
   ]
  },
  {
   "cell_type": "code",
   "execution_count": 3,
   "metadata": {},
   "outputs": [
    {
     "name": "stdout",
     "output_type": "stream",
     "text": [
      "Filesystem      Size  Used Avail Use% Mounted on\n",
      "udev             48G     0   48G   0% /dev\n",
      "tmpfs           9.5G   34M  9.5G   1% /run\n",
      "/dev/sda3       107G   15G   87G  14% /\n",
      "tmpfs            48G   51M   48G   1% /dev/shm\n",
      "tmpfs           5.0M  4.0K  5.0M   1% /run/lock\n",
      "tmpfs            48G     0   48G   0% /sys/fs/cgroup\n",
      "/dev/loop0       82M   82M     0 100% /snap/core/4110\n",
      "/dev/loop1       82M   82M     0 100% /snap/core/4206\n",
      "/dev/loop2      131M  131M     0 100% /snap/atom/132\n",
      "/dev/loop3       82M   82M     0 100% /snap/core/4017\n",
      "/dev/loop5      175M  175M     0 100% /snap/atom/129\n",
      "/dev/loop4      175M  175M     0 100% /snap/atom/116\n",
      "cgmfs           100K     0  100K   0% /run/cgmanager/fs\n",
      "/dev/sdb1       932G   46G  886G   5% /mnt/data\n",
      "tmpfs           9.5G   84K  9.5G   1% /run/user/1000\n",
      "/dev/sdc1       3.6T  768G  2.7T  23% /media/sam/4TB_toshiba\n"
     ]
    }
   ],
   "source": [
    "%%bash\n",
    "df -h"
   ]
  },
  {
   "cell_type": "markdown",
   "metadata": {},
   "source": [
    "```/dev/sdb1``` is the drive we'll be using. Looks good!"
   ]
  },
  {
   "cell_type": "markdown",
   "metadata": {},
   "source": [
    "I'm a bit concered that I can't view the Trinity log, due to the Jupyter Notebook not being able to handle the IO stuff. There should be a file called ```Trinity.fasta``` in the output folder if the assembly was successful. Let's check it out."
   ]
  },
  {
   "cell_type": "code",
   "execution_count": 4,
   "metadata": {},
   "outputs": [
    {
     "name": "stdout",
     "output_type": "stream",
     "text": [
      "total 121457720\n",
      "-rwxrwxrwx 1 sam sam 18047189338 Mar 15 15:45 both.fa\n",
      "-rwxrwxrwx 1 sam sam           0 Mar 15 15:45 both.fa.ok\n",
      "-rwxrwxrwx 1 sam sam          10 Mar 15 15:46 both.fa.read_count\n",
      "drwxrwxrwx 2 sam sam        4096 Mar 16 01:14 chrysalis\n",
      "-rwxrwxrwx 1 sam sam    19463230 Mar 19 04:45 FailedCommands\n",
      "-rwxrwxrwx 1 sam sam  1171665873 Mar 15 18:38 inchworm.K25.L25.DS.fa\n",
      "-rwxrwxrwx 1 sam sam           0 Mar 15 18:44 inchworm.K25.L25.DS.fa.finished\n",
      "-rwxrwxrwx 1 sam sam          11 Mar 15 17:02 inchworm.kmer_count\n",
      "drwxrwxrwx 2 sam sam        4096 Mar 15 15:35 insilico_read_normalization\n",
      "-rwxrwxrwx 1 sam sam 38580110632 Mar 15 16:10 jellyfish.kmers.fa\n",
      "-rwxrwxrwx 1 sam sam       27529 Mar 15 16:12 jellyfish.kmers.fa.histo\n",
      "-rwxrwxrwx 1 sam sam           0 Mar 15 15:42 left.fa.ok\n",
      "-rwxrwxrwx 1 sam sam    24767098 Mar 16 01:30 partitioned_reads.files.list\n",
      "-rwxrwxrwx 1 sam sam           0 Mar 16 01:30 partitioned_reads.files.list.ok\n",
      "-rwxrwxrwx 1 sam sam        1733 Mar 16 01:07 pipeliner.3221.cmds\n",
      "drwxrwxrwx 5 sam sam        4096 Mar 16 01:29 read_partitions\n",
      "-rwxrwxrwx 1 sam sam    92758772 Mar 16 01:30 recursive_trinity.cmds\n",
      "-rwxrwxrwx 1 sam sam    73295542 Mar 19 04:42 recursive_trinity.cmds.completed\n",
      "-rwxrwxrwx 1 sam sam           0 Mar 16 01:30 recursive_trinity.cmds.ok\n",
      "-rwxrwxrwx 1 sam sam           0 Mar 15 15:42 right.fa.ok\n",
      "-rwxrwxrwx 1 sam sam 66363306365 Mar 15 21:49 scaffolding_entries.sam\n",
      "-rwxrwxrwx 1 sam sam        1281 Mar 15 07:31 Trinity.timing\n"
     ]
    }
   ],
   "source": [
    "%%bash\n",
    "ls -l /media/sam/4TB_toshiba/montipora/trinity_out_dir/"
   ]
  },
  {
   "cell_type": "markdown",
   "metadata": {},
   "source": [
    "Well, it's not there! This is not good, particularly since I can't refer to the stderr/stdout! I guess I'll have to re-run this to figure out what went wrong. :("
   ]
  },
  {
   "cell_type": "code",
   "execution_count": 5,
   "metadata": {},
   "outputs": [
    {
     "name": "stdout",
     "output_type": "stream",
     "text": [
      "Mon Apr  2 15:56:18 PDT 2018\n"
     ]
    }
   ],
   "source": [
    "%%bash\n",
    "date"
   ]
  },
  {
   "cell_type": "code",
   "execution_count": 6,
   "metadata": {},
   "outputs": [
    {
     "ename": "SyntaxError",
     "evalue": "invalid syntax (<ipython-input-6-dcd6ca353770>, line 1)",
     "output_type": "error",
     "traceback": [
      "\u001b[0;36m  File \u001b[0;32m\"<ipython-input-6-dcd6ca353770>\"\u001b[0;36m, line \u001b[0;32m1\u001b[0m\n\u001b[0;31m    cd /mnt/data/coral_RNAseq_fastq/montipora/\u001b[0m\n\u001b[0m                                              ^\u001b[0m\n\u001b[0;31mSyntaxError\u001b[0m\u001b[0;31m:\u001b[0m invalid syntax\n"
     ]
    }
   ],
   "source": [
    "cd /mnt/data/coral_RNAseq_fastq/montipora/\n",
    "time  /home/shared/trinityrnaseq-Trinity-v2.6.5/Trinity \\\n",
    "--output /media/sam/4TB_toshiba/montipora/20180402_trinity \\\n",
    "--seqType fq \\\n",
    "--max_memory 90G \\\n",
    "--CPU 24 \\\n",
    "--left \\\n",
    "4R041-L6-P01-AGTCAA-READ1-Sequences.txt.gz,\\\n",
    "4R041-L6-P02-CTTGTA-READ1-Sequences.txt.gz,\\\n",
    "4R041-L6-P03-GTTTCG-READ1-Sequences.txt.gz,\\\n",
    "4R041-L6-P04-ATCACG-READ1-Sequences.txt.gz,\\\n",
    "4R041-L6-P05-TAGCTT-READ1-Sequences.txt.gz,\\\n",
    "4R041-L6-P06-AGTTCC-READ1-Sequences.txt.gz,\\\n",
    "4R041-L6-P07-ATGTCA-READ1-Sequences.txt.gz,\\\n",
    "4R041-L6-P08-ACTGAT-READ1-Sequences.txt.gz,\\\n",
    "4R041-L6-P09-GGCTAC-READ1-Sequences.txt.gz,\\\n",
    "4R041-L6-P10-GTCCGC-READ1-Sequences.txt.gz,\\\n",
    "4R041-L6-P11-GAGTGG-READ1-Sequences.txt.gz,\\\n",
    "4R041-L6-P12-GCCAAT-READ1-Sequences.txt.gz,\\\n",
    "4R041-L6-PrNotRecog-READ1-Sequences.txt.gz \\\n",
    "--right \\\n",
    "4R041-L6-P01-AGTCAA-READ2-Sequences.txt.gz,\\\n",
    "4R041-L6-P02-CTTGTA-READ2-Sequences.txt.gz,\\\n",
    "4R041-L6-P03-GTTTCG-READ2-Sequences.txt.gz,\\\n",
    "4R041-L6-P04-ATCACG-READ2-Sequences.txt.gz,\\\n",
    "4R041-L6-P05-TAGCTT-READ2-Sequences.txt.gz,\\\n",
    "4R041-L6-P06-AGTTCC-READ2-Sequences.txt.gz,\\\n",
    "4R041-L6-P07-ATGTCA-READ2-Sequences.txt.gz,\\\n",
    "4R041-L6-P08-ACTGAT-READ2-Sequences.txt.gz,\\\n",
    "4R041-L6-P09-GGCTAC-READ2-Sequences.txt.gz,\\\n",
    "4R041-L6-P10-GTCCGC-READ2-Sequences.txt.gz,\\\n",
    "4R041-L6-P11-GAGTGG-READ2-Sequences.txt.gz,\\\n",
    "4R041-L6-P12-GCCAAT-READ2-Sequences.txt.gz,\\\n",
    "4R041-L6-PrNotRecog-READ2-Sequences.txt.gz \\\n",
    "> run.log 2>&1 &\n",
    "cat ~/.default_subject.mail| msmtp \"$EMAIL\""
   ]
  },
  {
   "cell_type": "code",
   "execution_count": null,
   "metadata": {},
   "outputs": [],
   "source": [
    "%%bash\n",
    "cd /mnt/data/coral_RNAseq_fastq/montipora/\n",
    "time  /home/shared/trinityrnaseq-Trinity-v2.6.5/Trinity \\\n",
    "--output /media/sam/4TB_toshiba/montipora/20180402_trinity \\\n",
    "--seqType fq \\\n",
    "--max_memory 90G \\\n",
    "--CPU 24 \\\n",
    "--left \\\n",
    "4R041-L6-P01-AGTCAA-READ1-Sequences.txt.gz,\\\n",
    "4R041-L6-P02-CTTGTA-READ1-Sequences.txt.gz,\\\n",
    "4R041-L6-P03-GTTTCG-READ1-Sequences.txt.gz,\\\n",
    "4R041-L6-P04-ATCACG-READ1-Sequences.txt.gz,\\\n",
    "4R041-L6-P05-TAGCTT-READ1-Sequences.txt.gz,\\\n",
    "4R041-L6-P06-AGTTCC-READ1-Sequences.txt.gz,\\\n",
    "4R041-L6-P07-ATGTCA-READ1-Sequences.txt.gz,\\\n",
    "4R041-L6-P08-ACTGAT-READ1-Sequences.txt.gz,\\\n",
    "4R041-L6-P09-GGCTAC-READ1-Sequences.txt.gz,\\\n",
    "4R041-L6-P10-GTCCGC-READ1-Sequences.txt.gz,\\\n",
    "4R041-L6-P11-GAGTGG-READ1-Sequences.txt.gz,\\\n",
    "4R041-L6-P12-GCCAAT-READ1-Sequences.txt.gz,\\\n",
    "4R041-L6-PrNotRecog-READ1-Sequences.txt.gz \\\n",
    "--right \\\n",
    "4R041-L6-P01-AGTCAA-READ2-Sequences.txt.gz,\\\n",
    "4R041-L6-P02-CTTGTA-READ2-Sequences.txt.gz,\\\n",
    "4R041-L6-P03-GTTTCG-READ2-Sequences.txt.gz,\\\n",
    "4R041-L6-P04-ATCACG-READ2-Sequences.txt.gz,\\\n",
    "4R041-L6-P05-TAGCTT-READ2-Sequences.txt.gz,\\\n",
    "4R041-L6-P06-AGTTCC-READ2-Sequences.txt.gz,\\\n",
    "4R041-L6-P07-ATGTCA-READ2-Sequences.txt.gz,\\\n",
    "4R041-L6-P08-ACTGAT-READ2-Sequences.txt.gz,\\\n",
    "4R041-L6-P09-GGCTAC-READ2-Sequences.txt.gz,\\\n",
    "4R041-L6-P10-GTCCGC-READ2-Sequences.txt.gz,\\\n",
    "4R041-L6-P11-GAGTGG-READ2-Sequences.txt.gz,\\\n",
    "4R041-L6-P12-GCCAAT-READ2-Sequences.txt.gz,\\\n",
    "4R041-L6-PrNotRecog-READ2-Sequences.txt.gz \\\n",
    "> run.log 2>&1 &\n",
    "cat ~/.default_subject.mail| msmtp \"$EMAIL\""
   ]
  }
 ],
 "metadata": {
  "kernelspec": {
   "display_name": "Python 3",
   "language": "python",
   "name": "python3"
  },
  "language_info": {
   "codemirror_mode": {
    "name": "ipython",
    "version": 3
   },
   "file_extension": ".py",
   "mimetype": "text/x-python",
   "name": "python",
   "nbconvert_exporter": "python",
   "pygments_lexer": "ipython3",
   "version": "3.6.4"
  }
 },
 "nbformat": 4,
 "nbformat_minor": 2
}
