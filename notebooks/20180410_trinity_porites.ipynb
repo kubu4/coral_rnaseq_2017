{
 "cells": [
  {
   "cell_type": "code",
   "execution_count": 1,
   "metadata": {},
   "outputs": [
    {
     "name": "stdout",
     "output_type": "stream",
     "text": [
      "TODAY'S DATE\n",
      "Tue Apr 10 08:16:31 PDT 2018\n",
      "------------\n",
      "\n",
      "Distributor ID:\tUbuntu\n",
      "Description:\tUbuntu 16.04.4 LTS\n",
      "Release:\t16.04\n",
      "Codename:\txenial\n",
      "\n",
      "------------\n",
      "HOSTNAME: \n",
      "jpg-d20\n",
      "\n",
      "------------\n",
      "Computer Specs:\n",
      "\n",
      "Architecture:          x86_64\n",
      "CPU op-mode(s):        32-bit, 64-bit\n",
      "Byte Order:            Little Endian\n",
      "CPU(s):                24\n",
      "On-line CPU(s) list:   0-23\n",
      "Thread(s) per core:    2\n",
      "Core(s) per socket:    6\n",
      "Socket(s):             2\n",
      "NUMA node(s):          2\n",
      "Vendor ID:             GenuineIntel\n",
      "CPU family:            6\n",
      "Model:                 44\n",
      "Model name:            Intel(R) Xeon(R) CPU           X5680  @ 3.33GHz\n",
      "Stepping:              2\n",
      "CPU MHz:               1596.000\n",
      "CPU max MHz:           3326.0000\n",
      "CPU min MHz:           1596.0000\n",
      "BogoMIPS:              6666.90\n",
      "Virtualization:        VT-x\n",
      "L1d cache:             32K\n",
      "L1i cache:             32K\n",
      "L2 cache:              256K\n",
      "L3 cache:              12288K\n",
      "NUMA node0 CPU(s):     0,2,4,6,8,10,12,14,16,18,20,22\n",
      "NUMA node1 CPU(s):     1,3,5,7,9,11,13,15,17,19,21,23\n",
      "Flags:                 fpu vme de pse tsc msr pae mce cx8 apic sep mtrr pge mca cmov pat pse36 clflush dts acpi mmx fxsr sse sse2 ss ht tm pbe syscall nx pdpe1gb rdtscp lm constant_tsc arch_perfmon pebs bts rep_good nopl xtopology nonstop_tsc aperfmperf pni pclmulqdq dtes64 monitor ds_cpl vmx smx est tm2 ssse3 cx16 xtpr pdcm pcid dca sse4_1 sse4_2 popcnt aes lahf_lm epb retpoline kaiser tpr_shadow vnmi flexpriority ept vpid dtherm ida arat\n",
      "\n",
      "------------\n",
      "\n",
      "Memory Specs\n",
      "\n",
      "              total        used        free      shared  buff/cache   available\n",
      "Mem:            94G        6.2G        8.9G        139M         79G         87G\n",
      "Swap:          128G        922M        127G\n"
     ]
    },
    {
     "name": "stderr",
     "output_type": "stream",
     "text": [
      "No LSB modules are available.\n"
     ]
    }
   ],
   "source": [
    "%%bash\n",
    "echo \"TODAY'S DATE\"\n",
    "date\n",
    "echo \"------------\"\n",
    "echo \"\"\n",
    "lsb_release -a\n",
    "echo \"\"\n",
    "echo \"------------\"\n",
    "echo \"HOSTNAME: \"\n",
    "hostname\n",
    "echo \"\"\n",
    "echo \"------------\"\n",
    "echo \"Computer Specs:\"\n",
    "echo \"\"\n",
    "lscpu\n",
    "echo \"\"\n",
    "echo \"------------\"\n",
    "echo \"\"\n",
    "echo \"Memory Specs\"\n",
    "echo \"\"\n",
    "free -mh"
   ]
  },
  {
   "cell_type": "code",
   "execution_count": 2,
   "metadata": {},
   "outputs": [
    {
     "name": "stderr",
     "output_type": "stream",
     "text": [
      "\n",
      "real\t0m3.914s\n",
      "user\t0m0.324s\n",
      "sys\t0m0.092s\n"
     ]
    }
   ],
   "source": [
    "%%bash\n",
    "mkdir /media/sam/4TB_toshiba/porites/20180410_trinity\n",
    "cd /mnt/data/coral_RNAseq_2017/porites/\n",
    "time  /home/shared/Trinityrnaseq-v2.6.6/Trinity \\\n",
    "--output /media/sam/4TB_toshiba/porites/20180410_trinity \\\n",
    "--seqType fq \\\n",
    "--max_memory 90G \\\n",
    "--CPU 24 \\\n",
    "--left \\\n",
    "4R041-L7-P01-AGTTCC-READ1-Sequences.txt.gz,\\\n",
    "4R041-L7-P02-ACAGTG-READ1-Sequences.txt.gz,\\\n",
    "4R041-L7-P03-ACTGAT-READ1-Sequences.txt.gz,\\\n",
    "4R041-L7-P04-GTCCGC-READ1-Sequences.txt.gz,\\\n",
    "4R041-L7-P05-GAGTGG-READ1-Sequences.txt.gz,\\\n",
    "4R041-L7-P06-GCCAAT-READ1-Sequences.txt.gz,\\\n",
    "4R041-L7-P07-AGTCAA-READ1-Sequences.txt.gz,\\\n",
    "4R041-L7-P08-CTTGTA-READ1-Sequences.txt.gz,\\\n",
    "4R041-L7-P09-GTGAAA-READ1-Sequences.txt.gz,\\\n",
    "4R041-L7-P10-TAGCTT-READ1-Sequences.txt.gz,\\\n",
    "4R041-L7-P11-ACTTGA-READ1-Sequences.txt.gz,\\\n",
    "4R041-L7-P12-TGACCA-READ1-Sequences.txt.gz,\\\n",
    "4R041-L7-P13-ATCACG-READ1-Sequences.txt.gz,\\\n",
    "4R041-L7-P14-GTGGCC-READ1-Sequences.txt.gz,\\\n",
    "4R041-L7-P15-GTTTCG-READ1-Sequences.txt.gz,\\\n",
    "4R041-L7-PrNotRecog-READ1-Sequences.txt.gz \\\n",
    "--right \\\n",
    "4R041-L7-P01-AGTTCC-READ2-Sequences.txt.gz,\\\n",
    "4R041-L7-P02-ACAGTG-READ2-Sequences.txt.gz,\\\n",
    "4R041-L7-P03-ACTGAT-READ2-Sequences.txt.gz,\\\n",
    "4R041-L7-P04-GTCCGC-READ2-Sequences.txt.gz,\\\n",
    "4R041-L7-P05-GAGTGG-READ2-Sequences.txt.gz,\\\n",
    "4R041-L7-P06-GCCAAT-READ2-Sequences.txt.gz,\\\n",
    "4R041-L7-P07-AGTCAA-READ2-Sequences.txt.gz,\\\n",
    "4R041-L7-P08-CTTGTA-READ2-Sequences.txt.gz,\\\n",
    "4R041-L7-P09-GTGAAA-READ2-Sequences.txt.gz,\\\n",
    "4R041-L7-P10-TAGCTT-READ2-Sequences.txt.gz,\\\n",
    "4R041-L7-P11-ACTTGA-READ2-Sequences.txt.gz,\\\n",
    "4R041-L7-P12-TGACCA-READ2-Sequences.txt.gz,\\\n",
    "4R041-L7-P13-ATCACG-READ2-Sequences.txt.gz,\\\n",
    "4R041-L7-P14-GTGGCC-READ2-Sequences.txt.gz,\\\n",
    "4R041-L7-P15-GTTTCG-READ2-Sequences.txt.gz,\\\n",
    "4R041-L7-PrNotRecog-READ2-Sequences.txt.gz \\\n",
    "> /media/sam/4TB_toshiba/porites/20180410_trinity/20180406_trinityrun.log 2>&1\n",
    "cat ~/.default_subject.mail| msmtp \"$EMAIL\""
   ]
  },
  {
   "cell_type": "code",
   "execution_count": 3,
   "metadata": {},
   "outputs": [
    {
     "name": "stdout",
     "output_type": "stream",
     "text": [
      "          '4R041-L7-P15-GTTTCG-READ2-Sequences.txt.gz',\n",
      "          '4R041-L7-PrNotRecog-READ2-Sequences.txt.gz'\n",
      "        ];\n",
      "Trinity version: Trinity-v2.6.6\n",
      "-currently using the latest production release of Trinity.\n",
      "\n",
      "Tuesday, April 10, 2018: 09:29:52\tCMD: java -Xmx64m -XX:ParallelGCThreads=2  -jar /home/shared/Trinityrnaseq-v2.6.6/util/support_scripts/ExitTester.jar 0\n",
      "Tuesday, April 10, 2018: 09:29:52\tCMD: java -Xmx64m -XX:ParallelGCThreads=2  -jar /home/shared/Trinityrnaseq-v2.6.6/util/support_scripts/ExitTester.jar 1\n",
      "Error, cannot locate file: 4R041-L7-P01-AGTTCC-READ1-Sequences.txt.gz at /home/shared/Trinityrnaseq-v2.6.6/Trinity line 2550.\n",
      "\tmain::create_full_path(ARRAY(0x116a5e8), 1) called at /home/shared/Trinityrnaseq-v2.6.6/Trinity line 1207\n"
     ]
    }
   ],
   "source": [
    "%%bash\n",
    "tail /media/sam/4TB_toshiba/porites/20180410_trinity/20180406_trinityrun.log"
   ]
  },
  {
   "cell_type": "code",
   "execution_count": 4,
   "metadata": {},
   "outputs": [
    {
     "name": "stderr",
     "output_type": "stream",
     "text": [
      "mkdir: cannot create directory ‘/media/sam/4TB_toshiba/porites/20180410_trinity’: File exists\n",
      "\n",
      "real\t3815m43.238s\n",
      "user\t62485m9.016s\n",
      "sys\t5758m7.628s\n"
     ]
    }
   ],
   "source": [
    "%%bash\n",
    "mkdir /media/sam/4TB_toshiba/porites/20180410_trinity\n",
    "cd /media/sam/4TB_toshiba/porites/\n",
    "time  /home/shared/Trinityrnaseq-v2.6.6/Trinity \\\n",
    "--output /media/sam/4TB_toshiba/porites/20180410_trinity \\\n",
    "--seqType fq \\\n",
    "--max_memory 90G \\\n",
    "--CPU 24 \\\n",
    "--left \\\n",
    "4R041-L7-P01-AGTTCC-READ1-Sequences.txt.gz,\\\n",
    "4R041-L7-P02-ACAGTG-READ1-Sequences.txt.gz,\\\n",
    "4R041-L7-P03-ACTGAT-READ1-Sequences.txt.gz,\\\n",
    "4R041-L7-P04-GTCCGC-READ1-Sequences.txt.gz,\\\n",
    "4R041-L7-P05-GAGTGG-READ1-Sequences.txt.gz,\\\n",
    "4R041-L7-P06-GCCAAT-READ1-Sequences.txt.gz,\\\n",
    "4R041-L7-P07-AGTCAA-READ1-Sequences.txt.gz,\\\n",
    "4R041-L7-P08-CTTGTA-READ1-Sequences.txt.gz,\\\n",
    "4R041-L7-P09-GTGAAA-READ1-Sequences.txt.gz,\\\n",
    "4R041-L7-P10-TAGCTT-READ1-Sequences.txt.gz,\\\n",
    "4R041-L7-P11-ACTTGA-READ1-Sequences.txt.gz,\\\n",
    "4R041-L7-P12-TGACCA-READ1-Sequences.txt.gz,\\\n",
    "4R041-L7-P13-ATCACG-READ1-Sequences.txt.gz,\\\n",
    "4R041-L7-P14-GTGGCC-READ1-Sequences.txt.gz,\\\n",
    "4R041-L7-P15-GTTTCG-READ1-Sequences.txt.gz \\\n",
    "--right \\\n",
    "4R041-L7-P01-AGTTCC-READ2-Sequences.txt.gz,\\\n",
    "4R041-L7-P02-ACAGTG-READ2-Sequences.txt.gz,\\\n",
    "4R041-L7-P03-ACTGAT-READ2-Sequences.txt.gz,\\\n",
    "4R041-L7-P04-GTCCGC-READ2-Sequences.txt.gz,\\\n",
    "4R041-L7-P05-GAGTGG-READ2-Sequences.txt.gz,\\\n",
    "4R041-L7-P06-GCCAAT-READ2-Sequences.txt.gz,\\\n",
    "4R041-L7-P07-AGTCAA-READ2-Sequences.txt.gz,\\\n",
    "4R041-L7-P08-CTTGTA-READ2-Sequences.txt.gz,\\\n",
    "4R041-L7-P09-GTGAAA-READ2-Sequences.txt.gz,\\\n",
    "4R041-L7-P10-TAGCTT-READ2-Sequences.txt.gz,\\\n",
    "4R041-L7-P11-ACTTGA-READ2-Sequences.txt.gz,\\\n",
    "4R041-L7-P12-TGACCA-READ2-Sequences.txt.gz,\\\n",
    "4R041-L7-P13-ATCACG-READ2-Sequences.txt.gz,\\\n",
    "4R041-L7-P14-GTGGCC-READ2-Sequences.txt.gz,\\\n",
    "4R041-L7-P15-GTTTCG-READ2-Sequences.txt.gz \\\n",
    "> /media/sam/4TB_toshiba/porites/20180410_trinity/20180406_trinityrun.log 2>&1\n",
    "cat ~/.default_subject.mail| msmtp \"$EMAIL\""
   ]
  },
  {
   "cell_type": "code",
   "execution_count": 5,
   "metadata": {},
   "outputs": [
    {
     "name": "stdout",
     "output_type": "stream",
     "text": [
      "total 114G\n",
      "-rw-rw-r-- 1 sam sam  11M Apr 13 01:17 20180406_trinityrun.log\n",
      "-rw-rw-r-- 1 sam sam  16G Apr 10 20:57 both.fa\n",
      "-rw-rw-r-- 1 sam sam    0 Apr 10 20:57 both.fa.ok\n",
      "-rw-rw-r-- 1 sam sam   10 Apr 10 21:00 both.fa.read_count\n",
      "drwxrwxr-x 2 sam sam 4.0K Apr 11 05:43 chrysalis\n",
      "-rw-rw-r-- 1 sam sam 1.2G Apr 10 23:17 inchworm.K25.L25.DS.fa\n",
      "-rw-rw-r-- 1 sam sam    0 Apr 10 23:22 inchworm.K25.L25.DS.fa.finished\n",
      "-rw-rw-r-- 1 sam sam   11 Apr 10 22:04 inchworm.kmer_count\n",
      "drwxrwxr-x 2 sam sam 4.0K Apr 10 20:46 insilico_read_normalization\n",
      "-rw-rw-r-- 1 sam sam  33G Apr 10 21:20 jellyfish.kmers.fa\n",
      "-rw-rw-r-- 1 sam sam  23K Apr 10 21:21 jellyfish.kmers.fa.histo\n",
      "-rw-rw-r-- 1 sam sam    0 Apr 10 20:51 left.fa.ok\n",
      "-rw-rw-r-- 1 sam sam  25M Apr 11 05:58 partitioned_reads.files.list\n",
      "-rw-rw-r-- 1 sam sam    0 Apr 11 05:58 partitioned_reads.files.list.ok\n",
      "-rw-rw-r-- 1 sam sam 1.6K Apr 11 05:38 pipeliner.16367.cmds\n",
      "drwxrwxr-x 5 sam sam 4.0K Apr 11 05:56 read_partitions\n",
      "-rw-rw-r-- 1 sam sam  94M Apr 11 05:58 recursive_trinity.cmds\n",
      "-rw-rw-r-- 1 sam sam  94M Apr 13 01:16 recursive_trinity.cmds.completed\n",
      "-rw-rw-r-- 1 sam sam    0 Apr 11 05:58 recursive_trinity.cmds.ok\n",
      "-rw-rw-r-- 1 sam sam    0 Apr 10 20:51 right.fa.ok\n",
      "-rw-rw-r-- 1 sam sam  64G Apr 11 02:23 scaffolding_entries.sam\n",
      "-rw-rw-r-- 1 sam sam 669M Apr 13 01:17 Trinity.fasta\n",
      "-rw-rw-r-- 1 sam sam  42M Apr 13 01:17 Trinity.fasta.gene_trans_map\n",
      "-rw-rw-r-- 1 sam sam 2.0K Apr 13 01:17 Trinity.timing\n"
     ]
    }
   ],
   "source": [
    "%%bash\n",
    "ls -lh /media/sam/4TB_toshiba/porites/20180410_trinity"
   ]
  },
  {
   "cell_type": "code",
   "execution_count": 6,
   "metadata": {},
   "outputs": [
    {
     "name": "stdout",
     "output_type": "stream",
     "text": [
      "-relocating /media/sam/4TB_toshiba/porites/20180410_trinity/Trinity.fasta.tmp to /media/sam/4TB_toshiba/porites/20180410_trinity/Trinity.fasta\n",
      "Friday, April 13, 2018: 01:17:09\tCMD: mv /media/sam/4TB_toshiba/porites/20180410_trinity/Trinity.fasta.tmp /media/sam/4TB_toshiba/porites/20180410_trinity/Trinity.fasta\n",
      "Friday, April 13, 2018: 01:17:09\tCMD: /home/shared/Trinityrnaseq-v2.6.6/util/support_scripts/get_Trinity_gene_to_trans_map.pl /media/sam/4TB_toshiba/porites/20180410_trinity/Trinity.fasta > /media/sam/4TB_toshiba/porites/20180410_trinity/Trinity.fasta.gene_trans_map\n",
      "\n",
      "\n",
      "###################################################################\n",
      "Trinity assemblies are written to /media/sam/4TB_toshiba/porites/20180410_trinity/Trinity.fasta\n",
      "###################################################################\n",
      "\n",
      "\n"
     ]
    }
   ],
   "source": [
    "%%bash\n",
    "tail /media/sam/4TB_toshiba/porites/20180410_trinity/20180406_trinityrun.log"
   ]
  },
  {
   "cell_type": "code",
   "execution_count": null,
   "metadata": {},
   "outputs": [],
   "source": []
  }
 ],
 "metadata": {
  "kernelspec": {
   "display_name": "Python 3",
   "language": "python",
   "name": "python3"
  },
  "language_info": {
   "codemirror_mode": {
    "name": "ipython",
    "version": 3
   },
   "file_extension": ".py",
   "mimetype": "text/x-python",
   "name": "python",
   "nbconvert_exporter": "python",
   "pygments_lexer": "ipython3",
   "version": "3.6.4"
  }
 },
 "nbformat": 4,
 "nbformat_minor": 2
}
