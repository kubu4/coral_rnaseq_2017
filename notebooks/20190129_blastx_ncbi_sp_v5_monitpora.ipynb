{
 "cells": [
  {
   "cell_type": "code",
   "execution_count": 1,
   "metadata": {},
   "outputs": [
    {
     "name": "stdout",
     "output_type": "stream",
     "text": [
      "TODAY'S DATE\n",
      "Tue Jan 29 13:56:21 PST 2019\n",
      "------------\n",
      "\n",
      "Distributor ID:\tUbuntu\n",
      "Description:\tUbuntu 16.04.5 LTS\n",
      "Release:\t16.04\n",
      "Codename:\txenial\n",
      "\n",
      "------------\n",
      "HOSTNAME: \n",
      "jpg-d20\n",
      "\n",
      "------------\n",
      "Computer Specs:\n",
      "\n",
      "Architecture:          x86_64\n",
      "CPU op-mode(s):        32-bit, 64-bit\n",
      "Byte Order:            Little Endian\n",
      "CPU(s):                24\n",
      "On-line CPU(s) list:   0-23\n",
      "Thread(s) per core:    2\n",
      "Core(s) per socket:    6\n",
      "Socket(s):             2\n",
      "NUMA node(s):          2\n",
      "Vendor ID:             GenuineIntel\n",
      "CPU family:            6\n",
      "Model:                 44\n",
      "Model name:            Intel(R) Xeon(R) CPU           X5680  @ 3.33GHz\n",
      "Stepping:              2\n",
      "CPU MHz:               1729.000\n",
      "CPU max MHz:           3326.0000\n",
      "CPU min MHz:           1596.0000\n",
      "BogoMIPS:              6666.90\n",
      "Virtualization:        VT-x\n",
      "L1d cache:             32K\n",
      "L1i cache:             32K\n",
      "L2 cache:              256K\n",
      "L3 cache:              12288K\n",
      "NUMA node0 CPU(s):     0,2,4,6,8,10,12,14,16,18,20,22\n",
      "NUMA node1 CPU(s):     1,3,5,7,9,11,13,15,17,19,21,23\n",
      "Flags:                 fpu vme de pse tsc msr pae mce cx8 apic sep mtrr pge mca cmov pat pse36 clflush dts acpi mmx fxsr sse sse2 ss ht tm pbe syscall nx pdpe1gb rdtscp lm constant_tsc arch_perfmon pebs bts rep_good nopl xtopology nonstop_tsc aperfmperf pni pclmulqdq dtes64 monitor ds_cpl vmx smx est tm2 ssse3 cx16 xtpr pdcm pcid dca sse4_1 sse4_2 popcnt aes lahf_lm epb kaiser tpr_shadow vnmi flexpriority ept vpid dtherm ida arat\n",
      "\n",
      "------------\n",
      "\n",
      "Memory Specs\n",
      "\n",
      "              total        used        free      shared  buff/cache   available\n",
      "Mem:            94G        1.9G         45G        731M         47G         91G\n",
      "Swap:          128G          0B        128G\n"
     ]
    },
    {
     "name": "stderr",
     "output_type": "stream",
     "text": [
      "No LSB modules are available.\n"
     ]
    }
   ],
   "source": [
    "%%bash\n",
    "echo \"TODAY'S DATE\"\n",
    "date\n",
    "echo \"------------\"\n",
    "echo \"\"\n",
    "lsb_release -a\n",
    "echo \"\"\n",
    "echo \"------------\"\n",
    "echo \"HOSTNAME: \"\n",
    "hostname\n",
    "echo \"\"\n",
    "echo \"------------\"\n",
    "echo \"Computer Specs:\"\n",
    "echo \"\"\n",
    "lscpu\n",
    "echo \"\"\n",
    "echo \"------------\"\n",
    "echo \"\"\n",
    "echo \"Memory Specs\"\n",
    "echo \"\"\n",
    "free -mh"
   ]
  },
  {
   "cell_type": "code",
   "execution_count": 3,
   "metadata": {},
   "outputs": [
    {
     "name": "stdout",
     "output_type": "stream",
     "text": [
      "env: blastx_out_dir=/media/sam/4TB_toshiba/montipora/20190129_blastx_ncbi_sp-v5_montipora\n",
      "env: get_taxids=/home/shared/ncbi-blast-2.8.1+/bin/get_species_taxids.sh\n",
      "env: taxid_list=/media/sam/4TB_toshiba/montipora/20190129_blastx_ncbi_sp-v5_montipora/cnidaria.taxids\n",
      "env: blastx=/home/shared/ncbi-blast-2.8.1+/bin/blastx\n",
      "env: orf_fasta=/media/sam/4TB_toshiba/montipora/20180429_transdecoder/Trinity.fasta.transdecoder.cds.complete-ORFS-only.fasta\n",
      "env: blastdb_dir=/mnt/data/ncbi_swissprot_v5_db\n",
      "env: sp_db=swissprot_v5\n",
      "env: blastx_out_file=20190129_blastx_ncbi_sp-v5_montipora.tab\n"
     ]
    }
   ],
   "source": [
    "%env blastx_out_dir=/media/sam/4TB_toshiba/montipora/20190129_blastx_ncbi_sp-v5_montipora\n",
    "%env get_taxids=/home/shared/ncbi-blast-2.8.1+/bin/get_species_taxids.sh\n",
    "%env taxid_list=/media/sam/4TB_toshiba/montipora/20190129_blastx_ncbi_sp-v5_montipora/cnidaria.taxids\n",
    "%env blastx=/home/shared/ncbi-blast-2.8.1+/bin/blastx\n",
    "%env orf_fasta=/media/sam/4TB_toshiba/montipora/20180429_transdecoder/Trinity.fasta.transdecoder.cds.complete-ORFS-only.fasta\n",
    "%env blastdb_dir=/mnt/data/ncbi_swissprot_v5_db\n",
    "%env sp_db=swissprot_v5\n",
    "%env blastx_out_file=20190129_blastx_ncbi_sp-v5_montipora.tab"
   ]
  },
  {
   "cell_type": "code",
   "execution_count": 4,
   "metadata": {},
   "outputs": [
    {
     "name": "stdout",
     "output_type": "stream",
     "text": [
      " \n",
      "Taxid: 6073\n",
      " rank: phylum\n",
      " division: cnidarians\n",
      " scientific name: Cnidaria\n",
      " common name: cnidarians\n",
      "\n",
      "1 matche(s) found.\n",
      "\n"
     ]
    }
   ],
   "source": [
    "%%bash\n",
    "mkdir ${blastx_out_dir}\n",
    "\n",
    "${get_taxids} -n cnidaria\n",
    "\n",
    "${get_taxids} -t 6073 \\\n",
    "> ${taxid_list}\n",
    "\n",
    "ls ${blastx_out_dir}\n",
    "\n",
    "head ${taxid_list}"
   ]
  },
  {
   "cell_type": "code",
   "execution_count": 5,
   "metadata": {},
   "outputs": [],
   "source": [
    "%%bash\n",
    "\n",
    "ls ${blastx_out_dir}"
   ]
  },
  {
   "cell_type": "code",
   "execution_count": 6,
   "metadata": {},
   "outputs": [],
   "source": [
    "%%bash\n",
    "${get_taxids} -t 6073 \\\n",
    "> ${taxid_list}\n",
    "\n",
    "head ${taxid_list}"
   ]
  },
  {
   "cell_type": "code",
   "execution_count": 7,
   "metadata": {},
   "outputs": [
    {
     "name": "stdout",
     "output_type": "stream",
     "text": [
      "total 72K\n",
      "-rw-rw-r-- 1 sam sam 72K Jan 29 14:03 cnidaria.taxids\n"
     ]
    }
   ],
   "source": [
    "%%bash\n",
    "ls -lh ${blastx_out_dir}"
   ]
  },
  {
   "cell_type": "code",
   "execution_count": 8,
   "metadata": {},
   "outputs": [
    {
     "name": "stdout",
     "output_type": "stream",
     "text": [
      "6073\n",
      "6074\n",
      "6077\n",
      "6078\n",
      "6079\n",
      "6080\n",
      "6082\n",
      "6083\n",
      "6086\n",
      "6087\n"
     ]
    }
   ],
   "source": [
    "%%bash\n",
    "head ${taxid_list}"
   ]
  },
  {
   "cell_type": "code",
   "execution_count": 9,
   "metadata": {},
   "outputs": [
    {
     "name": "stderr",
     "output_type": "stream",
     "text": [
      "Warning: [blastx] Examining 5 or more matches is recommended\n",
      "\n",
      "real\t21m2.758s\n",
      "user\t460m49.004s\n",
      "sys\t24m46.116s\n"
     ]
    }
   ],
   "source": [
    "%%bash\n",
    "\n",
    "cd ${blastdb_dir}\n",
    "\n",
    "export BLASTDB=${blastdb_dir}\n",
    "\n",
    "time \\\n",
    "${blastx} \\\n",
    "-query ${orf_fasta} \\\n",
    "-db ${blastdb_dir}/${sp_db} \\\n",
    "-taxidlist ${taxid_list} \\\n",
    "-evalue 1E-04 \\\n",
    "-outfmt \"6 std staxids\" \\\n",
    "-max_target_seqs 1 \\\n",
    "-num_threads 23 \\\n",
    "-out ${blastx_out_dir}/${blastx_out_file}\n",
    "\n",
    "sed '/^Subject:/ s/ / porites_blastx JOB COMPLETE/' ~/.default-subject.mail | msmtp \"$EMAIL\""
   ]
  },
  {
   "cell_type": "code",
   "execution_count": 10,
   "metadata": {},
   "outputs": [
    {
     "name": "stdout",
     "output_type": "stream",
     "text": [
      "total 1.3M\n",
      "-rw-rw-r-- 1 sam sam  72K Jan 29 14:03 cnidaria.taxids\n",
      "-rw-rw-r-- 1 sam sam 1.2M Jan 29 14:25 20190129_blastx_ncbi_sp-v5_montipora.tab\n",
      "TRINITY_DN100413_c0_g1_i1.p1\tA7SE05.1\t31.618\t136\t88\t2\t1\t408\t26\t156\t1.23e-23\t86.3\t45351\n",
      "TRINITY_DN101220_c0_g1_i1.p1\tA7SNN5.1\t28.571\t210\t134\t7\t493\t1098\t53\t254\t4.94e-17\t77.4\t45351\n",
      "TRINITY_DN101328_c0_g1_i1.p1\tA7SNN5.1\t26.490\t151\t91\t5\t19\t456\t80\t215\t6.65e-10\t52.8\t45351\n",
      "TRINITY_DN101721_c0_g2_i1.p1\tP35061.2\t55.085\t118\t42\t5\t616\t960\t13\t122\t2.76e-31\t110\t126732\n",
      "TRINITY_DN101721_c0_g2_i2.p1\tP35061.2\t55.172\t116\t45\t4\t637\t981\t13\t122\t2.85e-31\t110\t126732\n",
      "TRINITY_DN101836_c0_g1_i1.p1\tA7SNN5.1\t28.390\t236\t152\t5\t22\t711\t11\t235\t3.95e-26\t102\t45351\n",
      "TRINITY_DN102288_c0_g1_i1.p1\tP62184.2\t46.296\t54\t29\t0\t34\t195\t89\t142\t7.02e-08\t45.8\t6136\n",
      "TRINITY_DN102288_c0_g1_i1.p1\tP62184.2\t34.286\t70\t46\t0\t1\t210\t5\t74\t3.41e-05\t38.1\t6136\n",
      "TRINITY_DN102738_c0_g1_i2.p1\tA7RK30.1\t29.121\t182\t118\t7\t238\t756\t97\t276\t6.54e-05\t38.1\t45351\n",
      "TRINITY_DN102879_c0_g1_i1.p1\tP41114.1\t42.041\t245\t136\t2\t1\t726\t1\t242\t7.80e-30\t106\t6096\n"
     ]
    }
   ],
   "source": [
    "%%bash\n",
    "ls -ltrh ${blastx_out_dir}\n",
    "head ${blastx_out_dir}/${blastx_out_file}"
   ]
  },
  {
   "cell_type": "code",
   "execution_count": 11,
   "metadata": {},
   "outputs": [
    {
     "name": "stdout",
     "output_type": "stream",
     "text": [
      "total 1.6M\n",
      "-rw-rw-r-- 1 sam sam  72K Jan 29 14:03 cnidaria.taxids\n",
      "-rw-rw-r-- 1 sam sam 1.2M Jan 29 14:25 20190129_blastx_ncbi_sp-v5_montipora.tab\n",
      "-rw-rw-r-- 1 sam sam 336K Jan 29 14:25 20190129_blastx_sp_montipora_cnidarian.list\n",
      "\n",
      "NUMBER OF BLAST MATCHES:\n",
      "13161 20190129_blastx_sp_montipora_cnidarian.list\n",
      "\n",
      "TRINITY_DN100413_c0_g1_i1\n",
      "TRINITY_DN101220_c0_g1_i1\n",
      "TRINITY_DN101328_c0_g1_i1\n",
      "TRINITY_DN101721_c0_g2_i1\n",
      "TRINITY_DN101721_c0_g2_i2\n",
      "TRINITY_DN101836_c0_g1_i1\n",
      "TRINITY_DN102288_c0_g1_i1\n",
      "TRINITY_DN102288_c0_g1_i1\n",
      "TRINITY_DN102738_c0_g1_i2\n",
      "TRINITY_DN102879_c0_g1_i1\n"
     ]
    }
   ],
   "source": [
    "%%bash\n",
    "cd ${blastx_out_dir}\n",
    "awk -F'.' '{print $1}' ${blastx_out_file} > 20190129_blastx_sp_montipora_cnidarian.list\n",
    "\n",
    "ls -ltrh\n",
    "\n",
    "echo \"\"\n",
    "echo \"NUMBER OF BLAST MATCHES:\"\n",
    "wc -l 20190129_blastx_sp_montipora_cnidarian.list\n",
    "\n",
    "echo \"\"\n",
    "\n",
    "head 20190129_blastx_sp_montipora_cnidarian.list"
   ]
  },
  {
   "cell_type": "code",
   "execution_count": null,
   "metadata": {},
   "outputs": [],
   "source": []
  }
 ],
 "metadata": {
  "kernelspec": {
   "display_name": "Python 3",
   "language": "python",
   "name": "python3"
  },
  "language_info": {
   "codemirror_mode": {
    "name": "ipython",
    "version": 3
   },
   "file_extension": ".py",
   "mimetype": "text/x-python",
   "name": "python",
   "nbconvert_exporter": "python",
   "pygments_lexer": "ipython3",
   "version": "3.6.4"
  }
 },
 "nbformat": 4,
 "nbformat_minor": 2
}
