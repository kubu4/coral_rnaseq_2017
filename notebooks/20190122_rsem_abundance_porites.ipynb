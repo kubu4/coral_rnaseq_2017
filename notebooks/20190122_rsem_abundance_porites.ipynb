{
 "cells": [
  {
   "cell_type": "code",
   "execution_count": 1,
   "metadata": {
    "scrolled": true
   },
   "outputs": [
    {
     "name": "stdout",
     "output_type": "stream",
     "text": [
      "TODAY'S DATE\n",
      "Tue Jan 22 11:55:57 PST 2019\n",
      "------------\n",
      "\n",
      "Distributor ID:\tUbuntu\n",
      "Description:\tUbuntu 16.04.5 LTS\n",
      "Release:\t16.04\n",
      "Codename:\txenial\n",
      "\n",
      "------------\n",
      "HOSTNAME: \n",
      "jpg-d20\n",
      "\n",
      "------------\n",
      "Computer Specs:\n",
      "\n",
      "Architecture:          x86_64\n",
      "CPU op-mode(s):        32-bit, 64-bit\n",
      "Byte Order:            Little Endian\n",
      "CPU(s):                24\n",
      "On-line CPU(s) list:   0-23\n",
      "Thread(s) per core:    2\n",
      "Core(s) per socket:    6\n",
      "Socket(s):             2\n",
      "NUMA node(s):          2\n",
      "Vendor ID:             GenuineIntel\n",
      "CPU family:            6\n",
      "Model:                 44\n",
      "Model name:            Intel(R) Xeon(R) CPU           X5680  @ 3.33GHz\n",
      "Stepping:              2\n",
      "CPU MHz:               1596.000\n",
      "CPU max MHz:           3326.0000\n",
      "CPU min MHz:           1596.0000\n",
      "BogoMIPS:              6666.90\n",
      "Virtualization:        VT-x\n",
      "L1d cache:             32K\n",
      "L1i cache:             32K\n",
      "L2 cache:              256K\n",
      "L3 cache:              12288K\n",
      "NUMA node0 CPU(s):     0,2,4,6,8,10,12,14,16,18,20,22\n",
      "NUMA node1 CPU(s):     1,3,5,7,9,11,13,15,17,19,21,23\n",
      "Flags:                 fpu vme de pse tsc msr pae mce cx8 apic sep mtrr pge mca cmov pat pse36 clflush dts acpi mmx fxsr sse sse2 ss ht tm pbe syscall nx pdpe1gb rdtscp lm constant_tsc arch_perfmon pebs bts rep_good nopl xtopology nonstop_tsc aperfmperf pni pclmulqdq dtes64 monitor ds_cpl vmx smx est tm2 ssse3 cx16 xtpr pdcm pcid dca sse4_1 sse4_2 popcnt aes lahf_lm epb kaiser tpr_shadow vnmi flexpriority ept vpid dtherm ida arat\n",
      "\n",
      "------------\n",
      "\n",
      "Memory Specs\n",
      "\n",
      "              total        used        free      shared  buff/cache   available\n",
      "Mem:            94G        1.6G         91G        107M        1.6G         92G\n",
      "Swap:          128G          0B        128G\n"
     ]
    },
    {
     "name": "stderr",
     "output_type": "stream",
     "text": [
      "No LSB modules are available.\n"
     ]
    }
   ],
   "source": [
    "%%bash\n",
    "echo \"TODAY'S DATE\"\n",
    "date\n",
    "echo \"------------\"\n",
    "echo \"\"\n",
    "lsb_release -a\n",
    "echo \"\"\n",
    "echo \"------------\"\n",
    "echo \"HOSTNAME: \"\n",
    "hostname\n",
    "echo \"\"\n",
    "echo \"------------\"\n",
    "echo \"Computer Specs:\"\n",
    "echo \"\"\n",
    "lscpu\n",
    "echo \"\"\n",
    "echo \"------------\"\n",
    "echo \"\"\n",
    "echo \"Memory Specs\"\n",
    "echo \"\"\n",
    "free -mh"
   ]
  },
  {
   "cell_type": "code",
   "execution_count": 2,
   "metadata": {},
   "outputs": [
    {
     "name": "stdout",
     "output_type": "stream",
     "text": [
      "env: out_dir=/media/sam/4TB_toshiba/porites/20190122_rsem\n",
      "env: transcriptome=/media/sam/4TB_toshiba/porites/coral_transcripts/Trinity.coral.fasta\n",
      "env: rsem_stdout=20190122_rsem.out\n",
      "env: rsem_stderr=20190122_rsem.err\n",
      "env: samples=/home/sam/gitrepos/coral_rnaseq_2017/scripts/porites_b_vs_nb_trinity_sample_list.txt\n"
     ]
    }
   ],
   "source": [
    "%env out_dir=/media/sam/4TB_toshiba/porites/20190122_rsem\n",
    "%env transcriptome=/media/sam/4TB_toshiba/porites/coral_transcripts/Trinity.coral.fasta\n",
    "%env rsem_stdout=20190122_rsem.out\n",
    "%env rsem_stderr=20190122_rsem.err\n",
    "%env samples=/home/sam/gitrepos/coral_rnaseq_2017/scripts/porites_b_vs_nb_trinity_sample_list.txt"
   ]
  },
  {
   "cell_type": "code",
   "execution_count": 3,
   "metadata": {},
   "outputs": [
    {
     "name": "stdout",
     "output_type": "stream",
     "text": [
      "bleached  4R041-L7-P01-AGTTCC-READ1-Sequences.txt.gz_val_1.fq.gz  4R041-L7-P01-AGTTCC-READ2-Sequences.txt.gz_val_2.fq.gz\n",
      "bleached  4R041-L7-P03-ACTGAT-READ1-Sequences.txt.gz_val_1.fq.gz  4R041-L7-P03-ACTGAT-READ2-Sequences.txt.gz_val_2.fq.gz\n",
      "bleached  4R041-L7-P06-GCCAAT-READ1-Sequences.txt.gz_val_1.fq.gz  4R041-L7-P06-GCCAAT-READ2-Sequences.txt.gz_val_2.fq.gz\n",
      "bleached  4R041-L7-P07-AGTCAA-READ1-Sequences.txt.gz_val_1.fq.gz  4R041-L7-P07-AGTCAA-READ2-Sequences.txt.gz_val_2.fq.gz\n",
      "bleached  4R041-L7-P08-CTTGTA-READ1-Sequences.txt.gz_val_1.fq.gz  4R041-L7-P08-CTTGTA-READ2-Sequences.txt.gz_val_2.fq.gz\n",
      "bleached  4R041-L7-P09-GTGAAA-READ1-Sequences.txt.gz_val_1.fq.gz  4R041-L7-P09-GTGAAA-READ2-Sequences.txt.gz_val_2.fq.gz\n",
      "bleached  4R041-L7-P11-ACTTGA-READ1-Sequences.txt.gz_val_1.fq.gz  4R041-L7-P11-ACTTGA-READ2-Sequences.txt.gz_val_2.fq.gz\n",
      "bleached  4R041-L7-P13-ATCACG-READ1-Sequences.txt.gz_val_1.fq.gz  4R041-L7-P13-ATCACG-READ2-Sequences.txt.gz_val_2.fq.gz\n",
      "bleached  4R041-L7-P14-GTGGCC-READ1-Sequences.txt.gz_val_1.fq.gz  4R041-L7-P14-GTGGCC-READ2-Sequences.txt.gz_val_2.fq.gz\n",
      "non-bleached  4R041-L7-P02-ACAGTG-READ1-Sequences.txt.gz_val_1.fq.gz  4R041-L7-P02-ACAGTG-READ2-Sequences.txt.gz_val_2.fq.gz\n",
      "non-bleached  4R041-L7-P04-GTCCGC-READ1-Sequences.txt.gz_val_1.fq.gz  4R041-L7-P04-GTCCGC-READ2-Sequences.txt.gz_val_2.fq.gz\n",
      "non-bleached  4R041-L7-P05-GAGTGG-READ1-Sequences.txt.gz_val_1.fq.gz  4R041-L7-P05-GAGTGG-READ2-Sequences.txt.gz_val_2.fq.gz\n",
      "non-bleached  4R041-L7-P10-TAGCTT-READ1-Sequences.txt.gz_val_1.fq.gz  4R041-L7-P10-TAGCTT-READ2-Sequences.txt.gz_val_2.fq.gz\n",
      "non-bleached  4R041-L7-P12-TGACCA-READ1-Sequences.txt.gz_val_1.fq.gz  4R041-L7-P12-TGACCA-READ2-Sequences.txt.gz_val_2.fq.gz\n",
      "non-bleached  4R041-L7-P15-GTTTCG-READ1-Sequences.txt.gz_val_1.fq.gz  4R041-L7-P15-GTTTCG-READ2-Sequences.txt.gz_val_2.fq.gz\n"
     ]
    }
   ],
   "source": [
    "%%bash\n",
    "cat ${samples}"
   ]
  },
  {
   "cell_type": "code",
   "execution_count": 4,
   "metadata": {},
   "outputs": [
    {
     "name": "stderr",
     "output_type": "stream",
     "text": [
      "\n",
      "real\t11m19.778s\n",
      "user\t10m55.132s\n",
      "sys\t0m3.648s\n"
     ]
    }
   ],
   "source": [
    "%%bash\n",
    "\n",
    "mkdir ${out_dir}\n",
    "cd /mnt/data/coral_RNAseq_2017/porites/20180311_fastqc_trimming/trimmed\n",
    "\n",
    "time  /home/shared/Trinityrnaseq-v2.6.6/util/align_and_estimate_abundance.pl \\\n",
    "--output_dir ${out_dir} \\\n",
    "--transcripts ${transcriptome} \\\n",
    "--seqType fq \\\n",
    "--samples_file ${samples} \\\n",
    "--SS_lib_type RF \\\n",
    "--est_method RSEM \\\n",
    "--aln_method bowtie2 \\\n",
    "--trinity_mode \\\n",
    "--prep_reference \\\n",
    "--thread_count 23 \\\n",
    "1> ${out_dir}/20190122_rsem.out \\\n",
    "2> ${out_dir}/20190122_rsem.err\n",
    "sed '/^Subject:/ s/ / porites_rsem JOB COMPLETE/' ~/.default-subject.mail | msmtp \"$EMAIL\""
   ]
  },
  {
   "cell_type": "code",
   "execution_count": 5,
   "metadata": {},
   "outputs": [
    {
     "name": "stdout",
     "output_type": "stream",
     "text": [
      "total 16K\n",
      "-rw-rw-r-- 1 sam sam 6.5K Jan 22 12:21 20190122_rsem.out\n",
      "-rw-rw-r-- 1 sam sam 5.3K Jan 22 12:21 20190122_rsem.err\n"
     ]
    }
   ],
   "source": [
    "%%bash\n",
    "ls -ltrh ${out_dir}"
   ]
  },
  {
   "cell_type": "code",
   "execution_count": 6,
   "metadata": {},
   "outputs": [
    {
     "name": "stdout",
     "output_type": "stream",
     "text": [
      "            'single' => '<(gunzip -c /mnt/data/coral_RNAseq_2017/porites/20180311_fastqc_trimming/trimmed/4R041-L7-P12-TGACCA-READ2-Sequences.txt.gz_val_2.fq.gz)',\n",
      "            'output_dir' => '4R041-L7-P12-TGACCA-READ1-Sequences.txt.gz_val_1.fq.gz'\n",
      "          },\n",
      "          {\n",
      "            'output_dir' => '4R041-L7-P15-GTTTCG-READ1-Sequences.txt.gz_val_1.fq.gz',\n",
      "            'single' => '<(gunzip -c /mnt/data/coral_RNAseq_2017/porites/20180311_fastqc_trimming/trimmed/4R041-L7-P15-GTTTCG-READ2-Sequences.txt.gz_val_2.fq.gz)'\n",
      "          }\n",
      "        ];\n",
      "mkdir: cannot create directory ‘4R041-L7-P01-AGTTCC-READ1-Sequences.txt.gz_val_1.fq.gz’: File exists\n",
      "Error, cannot cd to output directory 4R041-L7-P01-AGTTCC-READ1-Sequences.txt.gz_val_1.fq.gz at /home/shared/Trinityrnaseq-v2.6.6/util/align_and_estimate_abundance.pl line 582.\n"
     ]
    }
   ],
   "source": [
    "%%bash\n",
    "tail ${out_dir}/${rsem_stderr}"
   ]
  },
  {
   "cell_type": "markdown",
   "metadata": {},
   "source": [
    "Need a \"fourth\" column. Added a column for biological reps"
   ]
  },
  {
   "cell_type": "code",
   "execution_count": 7,
   "metadata": {},
   "outputs": [
    {
     "name": "stdout",
     "output_type": "stream",
     "text": [
      "bleached  4R041-L7-P01-AGTTCC-READ1-Sequences.txt.gz_val_1.fq.gz  4R041-L7-P01-AGTTCC-READ2-Sequences.txt.gz_val_2.fq.gz\n",
      "bleached  4R041-L7-P03-ACTGAT-READ1-Sequences.txt.gz_val_1.fq.gz  4R041-L7-P03-ACTGAT-READ2-Sequences.txt.gz_val_2.fq.gz\n",
      "bleached  4R041-L7-P06-GCCAAT-READ1-Sequences.txt.gz_val_1.fq.gz  4R041-L7-P06-GCCAAT-READ2-Sequences.txt.gz_val_2.fq.gz\n",
      "bleached  4R041-L7-P07-AGTCAA-READ1-Sequences.txt.gz_val_1.fq.gz  4R041-L7-P07-AGTCAA-READ2-Sequences.txt.gz_val_2.fq.gz\n",
      "bleached  4R041-L7-P08-CTTGTA-READ1-Sequences.txt.gz_val_1.fq.gz  4R041-L7-P08-CTTGTA-READ2-Sequences.txt.gz_val_2.fq.gz\n",
      "bleached  4R041-L7-P09-GTGAAA-READ1-Sequences.txt.gz_val_1.fq.gz  4R041-L7-P09-GTGAAA-READ2-Sequences.txt.gz_val_2.fq.gz\n",
      "bleached  4R041-L7-P11-ACTTGA-READ1-Sequences.txt.gz_val_1.fq.gz  4R041-L7-P11-ACTTGA-READ2-Sequences.txt.gz_val_2.fq.gz\n",
      "bleached  4R041-L7-P13-ATCACG-READ1-Sequences.txt.gz_val_1.fq.gz  4R041-L7-P13-ATCACG-READ2-Sequences.txt.gz_val_2.fq.gz\n",
      "bleached  4R041-L7-P14-GTGGCC-READ1-Sequences.txt.gz_val_1.fq.gz  4R041-L7-P14-GTGGCC-READ2-Sequences.txt.gz_val_2.fq.gz\n",
      "non-bleached  4R041-L7-P02-ACAGTG-READ1-Sequences.txt.gz_val_1.fq.gz  4R041-L7-P02-ACAGTG-READ2-Sequences.txt.gz_val_2.fq.gz\n",
      "non-bleached  4R041-L7-P04-GTCCGC-READ1-Sequences.txt.gz_val_1.fq.gz  4R041-L7-P04-GTCCGC-READ2-Sequences.txt.gz_val_2.fq.gz\n",
      "non-bleached  4R041-L7-P05-GAGTGG-READ1-Sequences.txt.gz_val_1.fq.gz  4R041-L7-P05-GAGTGG-READ2-Sequences.txt.gz_val_2.fq.gz\n",
      "non-bleached  4R041-L7-P10-TAGCTT-READ1-Sequences.txt.gz_val_1.fq.gz  4R041-L7-P10-TAGCTT-READ2-Sequences.txt.gz_val_2.fq.gz\n",
      "non-bleached  4R041-L7-P12-TGACCA-READ1-Sequences.txt.gz_val_1.fq.gz  4R041-L7-P12-TGACCA-READ2-Sequences.txt.gz_val_2.fq.gz\n",
      "non-bleached  4R041-L7-P15-GTTTCG-READ1-Sequences.txt.gz_val_1.fq.gz  4R041-L7-P15-GTTTCG-READ2-Sequences.txt.gz_val_2.fq.gz\n"
     ]
    }
   ],
   "source": [
    "%%bash\n",
    "cat ${samples}"
   ]
  },
  {
   "cell_type": "markdown",
   "metadata": {},
   "source": [
    "Whoops, forgot to pull updated file from GitHub..."
   ]
  },
  {
   "cell_type": "code",
   "execution_count": 8,
   "metadata": {},
   "outputs": [
    {
     "name": "stdout",
     "output_type": "stream",
     "text": [
      "bleached  bleached  4R041-L7-P01-AGTTCC-READ1-Sequences.txt.gz_val_1.fq.gz  4R041-L7-P01-AGTTCC-READ2-Sequences.txt.gz_val_2.fq.gz\n",
      "bleached  bleached  4R041-L7-P03-ACTGAT-READ1-Sequences.txt.gz_val_1.fq.gz  4R041-L7-P03-ACTGAT-READ2-Sequences.txt.gz_val_2.fq.gz\n",
      "bleached  bleached  4R041-L7-P06-GCCAAT-READ1-Sequences.txt.gz_val_1.fq.gz  4R041-L7-P06-GCCAAT-READ2-Sequences.txt.gz_val_2.fq.gz\n",
      "bleached  bleached  4R041-L7-P07-AGTCAA-READ1-Sequences.txt.gz_val_1.fq.gz  4R041-L7-P07-AGTCAA-READ2-Sequences.txt.gz_val_2.fq.gz\n",
      "bleached  bleached  4R041-L7-P08-CTTGTA-READ1-Sequences.txt.gz_val_1.fq.gz  4R041-L7-P08-CTTGTA-READ2-Sequences.txt.gz_val_2.fq.gz\n",
      "bleached  bleached  4R041-L7-P09-GTGAAA-READ1-Sequences.txt.gz_val_1.fq.gz  4R041-L7-P09-GTGAAA-READ2-Sequences.txt.gz_val_2.fq.gz\n",
      "bleached  bleached  4R041-L7-P11-ACTTGA-READ1-Sequences.txt.gz_val_1.fq.gz  4R041-L7-P11-ACTTGA-READ2-Sequences.txt.gz_val_2.fq.gz\n",
      "bleached  bleached  4R041-L7-P13-ATCACG-READ1-Sequences.txt.gz_val_1.fq.gz  4R041-L7-P13-ATCACG-READ2-Sequences.txt.gz_val_2.fq.gz\n",
      "bleached  bleached  4R041-L7-P14-GTGGCC-READ1-Sequences.txt.gz_val_1.fq.gz  4R041-L7-P14-GTGGCC-READ2-Sequences.txt.gz_val_2.fq.gz\n",
      "non-bleached  non-bleached  4R041-L7-P02-ACAGTG-READ1-Sequences.txt.gz_val_1.fq.gz  4R041-L7-P02-ACAGTG-READ2-Sequences.txt.gz_val_2.fq.gz\n",
      "non-bleached  non-bleached  4R041-L7-P04-GTCCGC-READ1-Sequences.txt.gz_val_1.fq.gz  4R041-L7-P04-GTCCGC-READ2-Sequences.txt.gz_val_2.fq.gz\n",
      "non-bleached  non-bleached  4R041-L7-P05-GAGTGG-READ1-Sequences.txt.gz_val_1.fq.gz  4R041-L7-P05-GAGTGG-READ2-Sequences.txt.gz_val_2.fq.gz\n",
      "non-bleached  non-bleached  4R041-L7-P10-TAGCTT-READ1-Sequences.txt.gz_val_1.fq.gz  4R041-L7-P10-TAGCTT-READ2-Sequences.txt.gz_val_2.fq.gz\n",
      "non-bleached  non-bleached  4R041-L7-P12-TGACCA-READ1-Sequences.txt.gz_val_1.fq.gz  4R041-L7-P12-TGACCA-READ2-Sequences.txt.gz_val_2.fq.gz\n",
      "non-bleached  non-bleached  4R041-L7-P15-GTTTCG-READ1-Sequences.txt.gz_val_1.fq.gz  4R041-L7-P15-GTTTCG-READ2-Sequences.txt.gz_val_2.fq.gz\n"
     ]
    }
   ],
   "source": [
    "%%bash\n",
    "cat ${samples}"
   ]
  },
  {
   "cell_type": "code",
   "execution_count": 9,
   "metadata": {},
   "outputs": [
    {
     "name": "stderr",
     "output_type": "stream",
     "text": [
      "mkdir: cannot create directory ‘/media/sam/4TB_toshiba/porites/20190122_rsem’: File exists\n",
      "\n",
      "real\t0m0.041s\n",
      "user\t0m0.032s\n",
      "sys\t0m0.004s\n"
     ]
    }
   ],
   "source": [
    "%%bash\n",
    "\n",
    "mkdir ${out_dir}\n",
    "cd /mnt/data/coral_RNAseq_2017/porites/20180311_fastqc_trimming/trimmed\n",
    "\n",
    "time  /home/shared/Trinityrnaseq-v2.6.6/util/align_and_estimate_abundance.pl \\\n",
    "--output_dir ${out_dir} \\\n",
    "--transcripts ${transcriptome} \\\n",
    "--seqType fq \\\n",
    "--samples_file ${samples} \\\n",
    "--SS_lib_type RF \\\n",
    "--est_method RSEM \\\n",
    "--aln_method bowtie2 \\\n",
    "--trinity_mode \\\n",
    "--prep_reference \\\n",
    "--thread_count 23 \\\n",
    "1> ${out_dir}/${rsem_stdout} \\\n",
    "2> ${out_dir}/${rsem_stderr}\n",
    "sed '/^Subject:/ s/ / porites_rsem JOB COMPLETE/' ~/.default-subject.mail | msmtp \"$EMAIL\""
   ]
  },
  {
   "cell_type": "code",
   "execution_count": 10,
   "metadata": {},
   "outputs": [
    {
     "name": "stderr",
     "output_type": "stream",
     "text": [
      "\n",
      "real\t0m0.042s\n",
      "user\t0m0.036s\n",
      "sys\t0m0.004s\n"
     ]
    }
   ],
   "source": [
    "%%bash\n",
    "\n",
    "cd /mnt/data/coral_RNAseq_2017/porites/20180311_fastqc_trimming/trimmed\n",
    "\n",
    "time  /home/shared/Trinityrnaseq-v2.6.6/util/align_and_estimate_abundance.pl \\\n",
    "--output_dir ${out_dir} \\\n",
    "--transcripts ${transcriptome} \\\n",
    "--seqType fq \\\n",
    "--samples_file ${samples} \\\n",
    "--SS_lib_type RF \\\n",
    "--est_method RSEM \\\n",
    "--aln_method bowtie2 \\\n",
    "--trinity_mode \\\n",
    "--prep_reference \\\n",
    "--thread_count 23 \\\n",
    "1> ${out_dir}/${rsem_stdout} \\\n",
    "2> ${out_dir}/${rsem_stderr}\n",
    "sed '/^Subject:/ s/ / porites_rsem JOB COMPLETE/' ~/.default-subject.mail | msmtp \"$EMAIL\""
   ]
  },
  {
   "cell_type": "code",
   "execution_count": 11,
   "metadata": {},
   "outputs": [
    {
     "name": "stdout",
     "output_type": "stream",
     "text": [
      "Error, replicate names must be unique.  Found bleached listed multiple times at /home/shared/Trinityrnaseq-v2.6.6/util/align_and_estimate_abundance.pl line 1004, <$fh> line 2.\n"
     ]
    }
   ],
   "source": [
    "%%bash\n",
    "cat ${out_dir}/${rsem_stderr}"
   ]
  },
  {
   "cell_type": "markdown",
   "metadata": {},
   "source": [
    "OK. Guess I have to indicate reps. Will update sample list file."
   ]
  },
  {
   "cell_type": "code",
   "execution_count": 12,
   "metadata": {},
   "outputs": [
    {
     "name": "stdout",
     "output_type": "stream",
     "text": [
      "bleached  bleached_K5_01  4R041-L7-P01-AGTTCC-READ1-Sequences.txt.gz_val_1.fq.gz  4R041-L7-P01-AGTTCC-READ2-Sequences.txt.gz_val_2.fq.gz\n",
      "bleached  bleached_K5_02  4R041-L7-P06-GCCAAT-READ1-Sequences.txt.gz_val_1.fq.gz  4R041-L7-P06-GCCAAT-READ2-Sequences.txt.gz_val_2.fq.gz\n",
      "bleached  bleached_K5_03  4R041-L7-P07-AGTCAA-READ1-Sequences.txt.gz_val_1.fq.gz  4R041-L7-P07-AGTCAA-READ2-Sequences.txt.gz_val_2.fq.gz\n",
      "bleached  bleached_K5_04  4R041-L7-P08-CTTGTA-READ1-Sequences.txt.gz_val_1.fq.gz  4R041-L7-P08-CTTGTA-READ2-Sequences.txt.gz_val_2.fq.gz\n",
      "bleached  bleached_K5_05  4R041-L7-P09-GTGAAA-READ1-Sequences.txt.gz_val_1.fq.gz  4R041-L7-P09-GTGAAA-READ2-Sequences.txt.gz_val_2.fq.gz\n",
      "bleached  bleached_K5_06  4R041-L7-P13-ATCACG-READ1-Sequences.txt.gz_val_1.fq.gz  4R041-L7-P13-ATCACG-READ2-Sequences.txt.gz_val_2.fq.gz\n",
      "bleached  bleached_44_01  4R041-L7-P03-ACTGAT-READ1-Sequences.txt.gz_val_1.fq.gz  4R041-L7-P03-ACTGAT-READ2-Sequences.txt.gz_val_2.fq.gz\n",
      "bleached  bleached_44_02  4R041-L7-P11-ACTTGA-READ1-Sequences.txt.gz_val_1.fq.gz  4R041-L7-P11-ACTTGA-READ2-Sequences.txt.gz_val_2.fq.gz\n",
      "bleached  bleached_44_03  4R041-L7-P14-GTGGCC-READ1-Sequences.txt.gz_val_1.fq.gz  4R041-L7-P14-GTGGCC-READ2-Sequences.txt.gz_val_2.fq.gz\n",
      "non-bleached  non-bleached_K5_01  4R041-L7-P02-ACAGTG-READ1-Sequences.txt.gz_val_1.fq.gz  4R041-L7-P02-ACAGTG-READ2-Sequences.txt.gz_val_2.fq.gz\n",
      "non-bleached  non-bleached_K5_02  4R041-L7-P10-TAGCTT-READ1-Sequences.txt.gz_val_1.fq.gz  4R041-L7-P10-TAGCTT-READ2-Sequences.txt.gz_val_2.fq.gz\n",
      "non-bleached  non-bleached_K5_03  4R041-L7-P15-GTTTCG-READ1-Sequences.txt.gz_val_1.fq.gz  4R041-L7-P15-GTTTCG-READ2-Sequences.txt.gz_val_2.fq.gz\n",
      "non-bleached  non-bleached_44_01  4R041-L7-P04-GTCCGC-READ1-Sequences.txt.gz_val_1.fq.gz  4R041-L7-P04-GTCCGC-READ2-Sequences.txt.gz_val_2.fq.gz\n",
      "non-bleached  non-bleached_44_02  4R041-L7-P05-GAGTGG-READ1-Sequences.txt.gz_val_1.fq.gz  4R041-L7-P05-GAGTGG-READ2-Sequences.txt.gz_val_2.fq.gz\n",
      "non-bleached  non-bleached_44_03  4R041-L7-P12-TGACCA-READ1-Sequences.txt.gz_val_1.fq.gz  4R041-L7-P12-TGACCA-READ2-Sequences.txt.gz_val_2.fq.gz\n"
     ]
    }
   ],
   "source": [
    "%%bash\n",
    "cat ${samples}"
   ]
  },
  {
   "cell_type": "code",
   "execution_count": 13,
   "metadata": {},
   "outputs": [
    {
     "name": "stderr",
     "output_type": "stream",
     "text": [
      "\n",
      "real\t46m54.176s\n",
      "user\t332m50.032s\n",
      "sys\t215m0.628s\n"
     ]
    }
   ],
   "source": [
    "%%bash\n",
    "\n",
    "cd /mnt/data/coral_RNAseq_2017/porites/20180311_fastqc_trimming/trimmed\n",
    "\n",
    "time  /home/shared/Trinityrnaseq-v2.6.6/util/align_and_estimate_abundance.pl \\\n",
    "--output_dir ${out_dir} \\\n",
    "--transcripts ${transcriptome} \\\n",
    "--seqType fq \\\n",
    "--samples_file ${samples} \\\n",
    "--SS_lib_type RF \\\n",
    "--est_method RSEM \\\n",
    "--aln_method bowtie2 \\\n",
    "--trinity_mode \\\n",
    "--prep_reference \\\n",
    "--thread_count 23 \\\n",
    "1> ${out_dir}/${rsem_stdout} \\\n",
    "2> ${out_dir}/${rsem_stderr}\n",
    "sed '/^Subject:/ s/ / porites_rsem JOB COMPLETE/' ~/.default-subject.mail | msmtp \"$EMAIL\""
   ]
  },
  {
   "cell_type": "code",
   "execution_count": 14,
   "metadata": {},
   "outputs": [
    {
     "name": "stdout",
     "output_type": "stream",
     "text": [
      "    6444735 (25.94%) aligned concordantly >1 times\n",
      "39.82% overall alignment rate\n",
      "[bam_sort_core] merging from 20 files and 1 in-memory blocks...\n",
      "CMD: touch bowtie2.bam.ok\n",
      "CMD: convert-sam-for-rsem bowtie2.bam bowtie2.bam.for_rsem\n",
      "[bam_sort_core] merging from 19 files...\n",
      "CMD: rsem-calculate-expression  --paired-end   -p 23   --forward-prob 0 --no-bam-output --bam bowtie2.bam.for_rsem.bam /media/sam/4TB_toshiba/porites/coral_transcripts/Trinity.coral.fasta.RSEM RSEM \n",
      "Warning: The SAM/BAM file declares less reference sequences (49695) than RSEM knows (60605)! Please make sure that you aligned your reads against transcript sequences instead of genome.\n",
      "RSEM's indices might be corrupted, TRINITY_DN101206_c0_g1_i2 appears more than once!\n",
      "Error, cmd: rsem-calculate-expression  --paired-end   -p 23   --forward-prob 0 --no-bam-output --bam bowtie2.bam.for_rsem.bam /media/sam/4TB_toshiba/porites/coral_transcripts/Trinity.coral.fasta.RSEM RSEM  died with ret: 65280 at /home/shared/Trinityrnaseq-v2.6.6/util/align_and_estimate_abundance.pl line 790.\n"
     ]
    }
   ],
   "source": [
    "%%bash\n",
    "tail ${out_dir}/${rsem_stderr}"
   ]
  },
  {
   "cell_type": "code",
   "execution_count": null,
   "metadata": {},
   "outputs": [],
   "source": []
  }
 ],
 "metadata": {
  "kernelspec": {
   "display_name": "Python 3",
   "language": "python",
   "name": "python3"
  },
  "language_info": {
   "codemirror_mode": {
    "name": "ipython",
    "version": 3
   },
   "file_extension": ".py",
   "mimetype": "text/x-python",
   "name": "python",
   "nbconvert_exporter": "python",
   "pygments_lexer": "ipython3",
   "version": "3.6.4"
  }
 },
 "nbformat": 4,
 "nbformat_minor": 2
}
