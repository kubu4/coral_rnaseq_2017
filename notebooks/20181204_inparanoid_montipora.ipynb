{
 "cells": [
  {
   "cell_type": "code",
   "execution_count": 1,
   "metadata": {},
   "outputs": [
    {
     "name": "stdout",
     "output_type": "stream",
     "text": [
      "TODAY'S DATE\n",
      "Tue Dec  4 07:17:51 PST 2018\n",
      "------------\n",
      "\n",
      "Distributor ID:\tUbuntu\n",
      "Description:\tUbuntu 16.04.5 LTS\n",
      "Release:\t16.04\n",
      "Codename:\txenial\n",
      "\n",
      "------------\n",
      "HOSTNAME: \n",
      "jpg-d20\n",
      "\n",
      "------------\n",
      "Computer Specs:\n",
      "\n",
      "Architecture:          x86_64\n",
      "CPU op-mode(s):        32-bit, 64-bit\n",
      "Byte Order:            Little Endian\n",
      "CPU(s):                24\n",
      "On-line CPU(s) list:   0-23\n",
      "Thread(s) per core:    2\n",
      "Core(s) per socket:    6\n",
      "Socket(s):             2\n",
      "NUMA node(s):          2\n",
      "Vendor ID:             GenuineIntel\n",
      "CPU family:            6\n",
      "Model:                 44\n",
      "Model name:            Intel(R) Xeon(R) CPU           X5680  @ 3.33GHz\n",
      "Stepping:              2\n",
      "CPU MHz:               1596.000\n",
      "CPU max MHz:           3326.0000\n",
      "CPU min MHz:           1596.0000\n",
      "BogoMIPS:              6666.88\n",
      "Virtualization:        VT-x\n",
      "L1d cache:             32K\n",
      "L1i cache:             32K\n",
      "L2 cache:              256K\n",
      "L3 cache:              12288K\n",
      "NUMA node0 CPU(s):     0,2,4,6,8,10,12,14,16,18,20,22\n",
      "NUMA node1 CPU(s):     1,3,5,7,9,11,13,15,17,19,21,23\n",
      "Flags:                 fpu vme de pse tsc msr pae mce cx8 apic sep mtrr pge mca cmov pat pse36 clflush dts acpi mmx fxsr sse sse2 ss ht tm pbe syscall nx pdpe1gb rdtscp lm constant_tsc arch_perfmon pebs bts rep_good nopl xtopology nonstop_tsc aperfmperf pni pclmulqdq dtes64 monitor ds_cpl vmx smx est tm2 ssse3 cx16 xtpr pdcm pcid dca sse4_1 sse4_2 popcnt aes lahf_lm epb kaiser tpr_shadow vnmi flexpriority ept vpid dtherm ida arat\n",
      "\n",
      "------------\n",
      "\n",
      "Memory Specs\n",
      "\n",
      "              total        used        free      shared  buff/cache   available\n",
      "Mem:            94G        1.7G         89G        418M        3.6G         91G\n",
      "Swap:          128G        922M        127G\n"
     ]
    },
    {
     "name": "stderr",
     "output_type": "stream",
     "text": [
      "No LSB modules are available.\n"
     ]
    }
   ],
   "source": [
    "%%bash\n",
    "echo \"TODAY'S DATE\"\n",
    "date\n",
    "echo \"------------\"\n",
    "echo \"\"\n",
    "lsb_release -a\n",
    "echo \"\"\n",
    "echo \"------------\"\n",
    "echo \"HOSTNAME: \"\n",
    "hostname\n",
    "echo \"\"\n",
    "echo \"------------\"\n",
    "echo \"Computer Specs:\"\n",
    "echo \"\"\n",
    "lscpu\n",
    "echo \"\"\n",
    "echo \"------------\"\n",
    "echo \"\"\n",
    "echo \"Memory Specs\"\n",
    "echo \"\"\n",
    "free -mh"
   ]
  },
  {
   "cell_type": "code",
   "execution_count": 2,
   "metadata": {},
   "outputs": [
    {
     "name": "stdout",
     "output_type": "stream",
     "text": [
      "20180311_fastqc_trimming\n",
      "20180402_trinityrun.log\n",
      "20180405_trinity\n",
      "20180405_trinityrun.log\n",
      "20180406_trinity\n",
      "20180406_trinityrun.log\n",
      "20180416_trinity\n",
      "20180429_transdecoder\n",
      "20180803_cd-hit\n",
      "20180805_rsem\n",
      "20180820_blastx_nr\n",
      "20181204_inparanoid\n",
      "4R041-L6-P01-AGTCAA-READ1-Sequences.txt.gz\n",
      "4R041-L6-P01-AGTCAA-READ2-Sequences.txt.gz\n",
      "4R041-L6-P02-CTTGTA-READ1-Sequences.txt.gz\n",
      "4R041-L6-P02-CTTGTA-READ2-Sequences.txt.gz\n",
      "4R041-L6-P03-GTTTCG-READ1-Sequences.txt.gz\n",
      "4R041-L6-P03-GTTTCG-READ2-Sequences.txt.gz\n",
      "4R041-L6-P04-ATCACG-READ1-Sequences.txt.gz\n",
      "4R041-L6-P04-ATCACG-READ2-Sequences.txt.gz\n",
      "4R041-L6-P05-TAGCTT-READ1-Sequences.txt.gz\n",
      "4R041-L6-P05-TAGCTT-READ2-Sequences.txt.gz\n",
      "4R041-L6-P06-AGTTCC-READ1-Sequences.txt.gz\n",
      "4R041-L6-P06-AGTTCC-READ2-Sequences.txt.gz\n",
      "4R041-L6-P07-ATGTCA-READ1-Sequences.txt.gz\n",
      "4R041-L6-P07-ATGTCA-READ2-Sequences.txt.gz\n",
      "4R041-L6-P08-ACTGAT-READ1-Sequences.txt.gz\n",
      "4R041-L6-P08-ACTGAT-READ2-Sequences.txt.gz\n",
      "4R041-L6-P09-GGCTAC-READ1-Sequences.txt.gz\n",
      "4R041-L6-P09-GGCTAC-READ2-Sequences.txt.gz\n",
      "4R041-L6-P10-GTCCGC-READ1-Sequences.txt.gz\n",
      "4R041-L6-P10-GTCCGC-READ2-Sequences.txt.gz\n",
      "4R041-L6-P11-GAGTGG-READ1-Sequences.txt.gz\n",
      "4R041-L6-P11-GAGTGG-READ2-Sequences.txt.gz\n",
      "4R041-L6-P12-GCCAAT-READ1-Sequences.txt.gz\n",
      "4R041-L6-P12-GCCAAT-READ2-Sequences.txt.gz\n",
      "4R041-L6-PrNotRecog-READ1-Sequences.txt.gz\n",
      "4R041-L6-PrNotRecog-READ2-Sequences.txt.gz\n",
      "inparanoid_4.1.tar.gz\n"
     ]
    }
   ],
   "source": [
    "%%bash\n",
    "mkdir /media/sam/4TB_toshiba/montipora/20181204_inparanoid\n",
    "mv /media/sam/4TB_toshiba/montipora/inparanoid_4.1/ /media/sam/4TB_toshiba/montipora/20181204_inparanoid\n",
    "ls /media/sam/4TB_toshiba/montipora/"
   ]
  },
  {
   "cell_type": "code",
   "execution_count": 3,
   "metadata": {},
   "outputs": [
    {
     "name": "stdout",
     "output_type": "stream",
     "text": [
      "#! /usr/bin/perl\n",
      "###############################################################################\n",
      "# InParanoid version 4.1\n",
      "# Copyright (C) Erik Sonnhammer, Kristoffer Forslund, Isabella Pekkari, \n",
      "# Ann-Charlotte Berglund, Maido Remm, 2007\n",
      "#\n",
      "# This program is provided under the terms of a personal license to the recipient and may only \n",
      "# be used for the recipient's own research at an academic insititution.\n",
      "#\n",
      "# Distribution of the results of this program must be discussed with the authors.\n",
      "# For using this program in a company or for commercial purposes, a commercial license is required. \n",
      "# Contact Erik.Sonnhammer@sbc.su.se in both cases\n",
      "#\n",
      "# Make sure that Perl XML libraries are installed!\n",
      "#\n",
      "# NOTE: This script requires blastall (NCBI BLAST) version 2.2.16 or higher, that supports \n",
      "# compositional score matrix adjustment (-C2 flag).\n",
      "\n",
      "my $usage =\" Usage: inparanoid.pl <FASTAFILE with sequences of species A> <FASTAFILE with sequences of species B> [FASTAFILE with sequences of species C]\n",
      "\n",
      "\";\n",
      "\n",
      "###############################################################################\n",
      "# The program calculates orthologs between 2 datasets of proteins \n",
      "# called A and B. Both datasets should be in multi-fasta file\n",
      "# - Additionally, it tries to assign paralogous sequences (in-paralogs) to each \n",
      "#   thus forming paralogous clusters. \n",
      "# - Confidence of in-paralogs is calculated in relative scale between 0-100%.\n",
      "#   This confidence value is dependent on how far is given sequence from the\n",
      "#   seed ortholog of given group\n",
      "# - Confidence of groups can be calculated with bootstrapping. This is related \n",
      "#   to score difference between best hit and second best hit.\n",
      "# - Optionally it can use a species C as outgroup.\n",
      "\n",
      "###############################################################################\n",
      "# You may need to run the following command manually to increase your \n",
      "# default datasize limit: 'limit datasize 500000 kb'\n",
      "\n",
      "###############################################################################\n",
      "# Set following variables:                                                    #\n",
      "###############################################################################\n",
      "\n",
      "# What do you want the program to do?                                         #\n",
      "$run_blast = 1;  # Set to 1 if you don't have the 4 BLAST output files        #\n",
      "                 # Requires 'blastall', 'formatdb' (NCBI BLAST2)              #\n",
      "                 # and parser 'blast_parser.pl'                               #\n",
      "$blast_two_passes = 1;  # Set to 1 to run 2-pass strategy                     #\n",
      "                 # (strongly recommended, but slower)                         #\n",
      "$run_inparanoid = 1;\n",
      "$use_bootstrap = 1;# Use bootstrapping to estimate the confidence of orthologs#\n",
      "                   # Needs additional programs 'seqstat' and 'blast2faa.pl'\n",
      "$use_outgroup = 0; # Use proteins from the third genome as an outgroup        #\n",
      "                   # Reject best-best hit if outgroup sequence is MORE        #\n",
      "                   # similar to one of the sequences                          #\n",
      "                   # (by more than $outgroup_cutoff bits)                     #\n",
      "\n",
      "# Define location of files and programs:\n",
      "#$blastall = \"blastall -VT\"; #Remove -VT for blast version 2.2.12 or earlier\n",
      "$blastall = \"blastall\";  #Add -aN to use N processors\n",
      "$formatdb = \"formatdb\"; \n",
      "$seqstat = \"seqstat\";\n",
      "$blastParser = \"blast_parser.pl\";\n",
      "\n",
      "$matrix = \"BLOSUM62\"; # Reasonable default for comparison of eukaryotes.\n",
      "#$matrix = \"BLOSUM45\"; #(for prokaryotes),\n",
      "#$matrix = \"BLOSUM80\"; #(orthologs within metazoa),\n",
      "#$matrix = \"PAM70\";\n",
      "#$matrix = \"PAM30\";\n",
      "\n",
      "# Output options:                                                              #\n",
      "$output = 1;      # table_stats-format output                                  #\n",
      "$table = 1;       # Print tab-delimited table of orthologs to file \"table.txt\" #\n",
      "                  # Each orthologous group with all inparalogs is on one line  #\n",
      "$mysql_table = 1; # Print out sql tables for the web server                    #\n",
      "                  # Each inparalog is on separate line                         #\n",
      "$html = 1;        # HTML-format output                                         #\n",
      "\n",
      "# Algorithm parameters:                                                        \n",
      "# Default values should work without problems.\n",
      "# MAKE SURE, however, that the score cutoff here matches what you used for BLAST!\n",
      "$score_cutoff = 40;    # In bits. Any match below this is ignored             #\n",
      "$outgroup_cutoff = 50; # In bits. Outgroup sequence hit must be this many bits#\n",
      "                       # stronger to reject best-best hit between A and B     #\n",
      "$conf_cutoff = 0.05;   # Include in-paralogs with this confidence or better   #\n",
      "$group_overlap_cutoff = 0.5; # Merge groups if ortholog in one group has more #\n",
      "                             # than this confidence in other group            #\n",
      "$grey_zone = 0;  # This many bits signifies the difference between 2 scores   #\n",
      "$show_times = 0; # Show times spent for execution of each part of the program #\n",
      "                 # (This does not work properly)                              #\n",
      "$debug = 0;      # Print debugging messages or not. Levels 0,1,2 and 4 exist  #\n",
      "\n",
      "my $seq_overlap_cutoff = 0.5; \t\t# Match area should cover at least this much of longer sequence. Match area is defined as area from start of\n",
      "\t\t\t\t\t# first segment to end of last segment, i.e segments 1-10 and 90-100 gives a match length of 100.\n",
      "my $segment_coverage_cutoff = 0.25; \t# Actually matching segments must cover this much of longer sequence. \n",
      "\t\t\t\t\t# For example, segments 1-10 and 90-100 gives a total length of 20.\n",
      "\n",
      "###############################################################################\n",
      "# No changes should be required below this line                               #\n",
      "###############################################################################\n",
      "$ENV{CLASSPATH} = \"./$seqstat\" if ($use_bootstrap);\n"
     ]
    }
   ],
   "source": [
    "%%bash\n",
    "head -n 100 /media/sam/4TB_toshiba/montipora/20181204_inparanoid/inparanoid_4.1/inparanoid.pl"
   ]
  },
  {
   "cell_type": "code",
   "execution_count": 4,
   "metadata": {},
   "outputs": [
    {
     "name": "stdout",
     "output_type": "stream",
     "text": [
      "#! /usr/bin/perl\n",
      "###############################################################################\n",
      "# InParanoid version 4.1\n",
      "# Copyright (C) Erik Sonnhammer, Kristoffer Forslund, Isabella Pekkari, \n",
      "# Ann-Charlotte Berglund, Maido Remm, 2007\n",
      "#\n",
      "# This program is provided under the terms of a personal license to the recipient and may only \n",
      "# be used for the recipient's own research at an academic insititution.\n",
      "#\n",
      "# Distribution of the results of this program must be discussed with the authors.\n",
      "# For using this program in a company or for commercial purposes, a commercial license is required. \n",
      "# Contact Erik.Sonnhammer@sbc.su.se in both cases\n",
      "#\n",
      "# Make sure that Perl XML libraries are installed!\n",
      "#\n",
      "# NOTE: This script requires blastall (NCBI BLAST) version 2.2.16 or higher, that supports \n",
      "# compositional score matrix adjustment (-C2 flag).\n",
      "\n",
      "my $usage =\" Usage: inparanoid.pl <FASTAFILE with sequences of species A> <FASTAFILE with sequences of species B> [FASTAFILE with sequences of species C]\n",
      "\n",
      "\";\n",
      "\n",
      "###############################################################################\n",
      "# The program calculates orthologs between 2 datasets of proteins \n",
      "# called A and B. Both datasets should be in multi-fasta file\n",
      "# - Additionally, it tries to assign paralogous sequences (in-paralogs) to each \n",
      "#   thus forming paralogous clusters. \n",
      "# - Confidence of in-paralogs is calculated in relative scale between 0-100%.\n",
      "#   This confidence value is dependent on how far is given sequence from the\n",
      "#   seed ortholog of given group\n",
      "# - Confidence of groups can be calculated with bootstrapping. This is related \n",
      "#   to score difference between best hit and second best hit.\n",
      "# - Optionally it can use a species C as outgroup.\n",
      "\n",
      "###############################################################################\n",
      "# You may need to run the following command manually to increase your \n",
      "# default datasize limit: 'limit datasize 500000 kb'\n",
      "\n",
      "###############################################################################\n",
      "# Set following variables:                                                    #\n",
      "###############################################################################\n",
      "\n",
      "# What do you want the program to do?                                         #\n",
      "$run_blast = 1;  # Set to 1 if you don't have the 4 BLAST output files        #\n",
      "                 # Requires 'blastall', 'formatdb' (NCBI BLAST2)              #\n",
      "                 # and parser 'blast_parser.pl'                               #\n",
      "$blast_two_passes = 1;  # Set to 1 to run 2-pass strategy                     #\n",
      "                 # (strongly recommended, but slower)                         #\n",
      "$run_inparanoid = 1;\n",
      "$use_bootstrap = 1;# Use bootstrapping to estimate the confidence of orthologs#\n",
      "                   # Needs additional programs 'seqstat' and 'blast2faa.pl'\n",
      "$use_outgroup = 0; # Use proteins from the third genome as an outgroup        #\n",
      "                   # Reject best-best hit if outgroup sequence is MORE        #\n",
      "                   # similar to one of the sequences                          #\n",
      "                   # (by more than $outgroup_cutoff bits)                     #\n",
      "\n",
      "# Define location of files and programs:\n",
      "#$blastall = \"blastall -VT\"; #Remove -VT for blast version 2.2.12 or earlier\n",
      "$blastall = \"/home/shared/blast-2.2.17/bin/blastall -a23\";  #Add -aN to use N processors\n",
      "$formatdb = \"/home/shared/blast-2.2.17/bin/formatdb; \n",
      "$seqstat = \"seqstat\";\n",
      "$blastParser = \"blast_parser.pl\";\n",
      "\n",
      "$matrix = \"BLOSUM62\"; # Reasonable default for comparison of eukaryotes.\n",
      "#$matrix = \"BLOSUM45\"; #(for prokaryotes),\n",
      "#$matrix = \"BLOSUM80\"; #(orthologs within metazoa),\n",
      "#$matrix = \"PAM70\";\n",
      "#$matrix = \"PAM30\";\n",
      "\n",
      "# Output options:                                                              #\n",
      "$output = 1;      # table_stats-format output                                  #\n",
      "$table = 1;       # Print tab-delimited table of orthologs to file \"table.txt\" #\n",
      "                  # Each orthologous group with all inparalogs is on one line  #\n",
      "$mysql_table = 1; # Print out sql tables for the web server                    #\n",
      "                  # Each inparalog is on separate line                         #\n",
      "$html = 1;        # HTML-format output                                         #\n",
      "\n",
      "# Algorithm parameters:                                                        \n",
      "# Default values should work without problems.\n",
      "# MAKE SURE, however, that the score cutoff here matches what you used for BLAST!\n",
      "$score_cutoff = 40;    # In bits. Any match below this is ignored             #\n",
      "$outgroup_cutoff = 50; # In bits. Outgroup sequence hit must be this many bits#\n",
      "                       # stronger to reject best-best hit between A and B     #\n",
      "$conf_cutoff = 0.05;   # Include in-paralogs with this confidence or better   #\n",
      "$group_overlap_cutoff = 0.5; # Merge groups if ortholog in one group has more #\n",
      "                             # than this confidence in other group            #\n",
      "$grey_zone = 0;  # This many bits signifies the difference between 2 scores   #\n",
      "$show_times = 0; # Show times spent for execution of each part of the program #\n",
      "                 # (This does not work properly)                              #\n",
      "$debug = 0;      # Print debugging messages or not. Levels 0,1,2 and 4 exist  #\n",
      "\n",
      "my $seq_overlap_cutoff = 0.5; \t\t# Match area should cover at least this much of longer sequence. Match area is defined as area from start of\n",
      "\t\t\t\t\t# first segment to end of last segment, i.e segments 1-10 and 90-100 gives a match length of 100.\n",
      "my $segment_coverage_cutoff = 0.25; \t# Actually matching segments must cover this much of longer sequence. \n",
      "\t\t\t\t\t# For example, segments 1-10 and 90-100 gives a total length of 20.\n",
      "\n",
      "###############################################################################\n",
      "# No changes should be required below this line                               #\n",
      "###############################################################################\n",
      "$ENV{CLASSPATH} = \"./$seqstat\" if ($use_bootstrap);\n"
     ]
    }
   ],
   "source": [
    "%%bash\n",
    "cd /media/sam/4TB_toshiba/montipora/20181204_inparanoid/inparanoid_4.1\n",
    "sed -i '/^$blastall = \"blastall\"/ s%\"blastall\"%\"/home/shared/blast-2.2.17/bin/blastall -a23\"%' inparanoid.pl\n",
    "sed -i '/^$formatdb = \"formatdb\"/ s%\"formatdb\"%\"/home/shared/blast-2.2.17/bin/formatdb%' inparanoid.pl\n",
    "head -n 100 inparanoid.pl"
   ]
  },
  {
   "cell_type": "markdown",
   "metadata": {},
   "source": [
    "Add missing ```\"``` after ```formatdb``` path"
   ]
  },
  {
   "cell_type": "code",
   "execution_count": 5,
   "metadata": {},
   "outputs": [
    {
     "name": "stdout",
     "output_type": "stream",
     "text": [
      "#! /usr/bin/perl\n",
      "###############################################################################\n",
      "# InParanoid version 4.1\n",
      "# Copyright (C) Erik Sonnhammer, Kristoffer Forslund, Isabella Pekkari, \n",
      "# Ann-Charlotte Berglund, Maido Remm, 2007\n",
      "#\n",
      "# This program is provided under the terms of a personal license to the recipient and may only \n",
      "# be used for the recipient's own research at an academic insititution.\n",
      "#\n",
      "# Distribution of the results of this program must be discussed with the authors.\n",
      "# For using this program in a company or for commercial purposes, a commercial license is required. \n",
      "# Contact Erik.Sonnhammer@sbc.su.se in both cases\n",
      "#\n",
      "# Make sure that Perl XML libraries are installed!\n",
      "#\n",
      "# NOTE: This script requires blastall (NCBI BLAST) version 2.2.16 or higher, that supports \n",
      "# compositional score matrix adjustment (-C2 flag).\n",
      "\n",
      "my $usage =\" Usage: inparanoid.pl <FASTAFILE with sequences of species A> <FASTAFILE with sequences of species B> [FASTAFILE with sequences of species C]\n",
      "\n",
      "\";\n",
      "\n",
      "###############################################################################\n",
      "# The program calculates orthologs between 2 datasets of proteins \n",
      "# called A and B. Both datasets should be in multi-fasta file\n",
      "# - Additionally, it tries to assign paralogous sequences (in-paralogs) to each \n",
      "#   thus forming paralogous clusters. \n",
      "# - Confidence of in-paralogs is calculated in relative scale between 0-100%.\n",
      "#   This confidence value is dependent on how far is given sequence from the\n",
      "#   seed ortholog of given group\n",
      "# - Confidence of groups can be calculated with bootstrapping. This is related \n",
      "#   to score difference between best hit and second best hit.\n",
      "# - Optionally it can use a species C as outgroup.\n",
      "\n",
      "###############################################################################\n",
      "# You may need to run the following command manually to increase your \n",
      "# default datasize limit: 'limit datasize 500000 kb'\n",
      "\n",
      "###############################################################################\n",
      "# Set following variables:                                                    #\n",
      "###############################################################################\n",
      "\n",
      "# What do you want the program to do?                                         #\n",
      "$run_blast = 1;  # Set to 1 if you don't have the 4 BLAST output files        #\n",
      "                 # Requires 'blastall', 'formatdb' (NCBI BLAST2)              #\n",
      "                 # and parser 'blast_parser.pl'                               #\n",
      "$blast_two_passes = 1;  # Set to 1 to run 2-pass strategy                     #\n",
      "                 # (strongly recommended, but slower)                         #\n",
      "$run_inparanoid = 1;\n",
      "$use_bootstrap = 1;# Use bootstrapping to estimate the confidence of orthologs#\n",
      "                   # Needs additional programs 'seqstat' and 'blast2faa.pl'\n",
      "$use_outgroup = 0; # Use proteins from the third genome as an outgroup        #\n",
      "                   # Reject best-best hit if outgroup sequence is MORE        #\n",
      "                   # similar to one of the sequences                          #\n",
      "                   # (by more than $outgroup_cutoff bits)                     #\n",
      "\n",
      "# Define location of files and programs:\n",
      "#$blastall = \"blastall -VT\"; #Remove -VT for blast version 2.2.12 or earlier\n",
      "$blastall = \"/home/shared/blast-2.2.17/bin/blastall -a23\";  #Add -aN to use N processors\n",
      "$formatdb = \"/home/shared/blast-2.2.17/bin/formatdb; \n",
      "$seqstat = \"seqstat\";\n",
      "$blastParser = \"blast_parser.pl\";\n",
      "\n",
      "$matrix = \"BLOSUM62\"; # Reasonable default for comparison of eukaryotes.\n",
      "#$matrix = \"BLOSUM45\"; #(for prokaryotes),\n",
      "#$matrix = \"BLOSUM80\"; #(orthologs within metazoa),\n",
      "#$matrix = \"PAM70\";\n",
      "#$matrix = \"PAM30\";\n",
      "\n",
      "# Output options:                                                              #\n",
      "$output = 1;      # table_stats-format output                                  #\n",
      "$table = 1;       # Print tab-delimited table of orthologs to file \"table.txt\" #\n",
      "                  # Each orthologous group with all inparalogs is on one line  #\n",
      "$mysql_table = 1; # Print out sql tables for the web server                    #\n",
      "                  # Each inparalog is on separate line                         #\n",
      "$html = 1;        # HTML-format output                                         #\n",
      "\n",
      "# Algorithm parameters:                                                        \n",
      "# Default values should work without problems.\n",
      "# MAKE SURE, however, that the score cutoff here matches what you used for BLAST!\n",
      "$score_cutoff = 40;    # In bits. Any match below this is ignored             #\n",
      "$outgroup_cutoff = 50; # In bits. Outgroup sequence hit must be this many bits#\n",
      "                       # stronger to reject best-best hit between A and B     #\n",
      "$conf_cutoff = 0.05;   # Include in-paralogs with this confidence or better   #\n",
      "$group_overlap_cutoff = 0.5; # Merge groups if ortholog in one group has more #\n",
      "                             # than this confidence in other group            #\n",
      "$grey_zone = 0;  # This many bits signifies the difference between 2 scores   #\n",
      "$show_times = 0; # Show times spent for execution of each part of the program #\n",
      "                 # (This does not work properly)                              #\n",
      "$debug = 0;      # Print debugging messages or not. Levels 0,1,2 and 4 exist  #\n",
      "\n",
      "my $seq_overlap_cutoff = 0.5; \t\t# Match area should cover at least this much of longer sequence. Match area is defined as area from start of\n",
      "\t\t\t\t\t# first segment to end of last segment, i.e segments 1-10 and 90-100 gives a match length of 100.\n",
      "my $segment_coverage_cutoff = 0.25; \t# Actually matching segments must cover this much of longer sequence. \n",
      "\t\t\t\t\t# For example, segments 1-10 and 90-100 gives a total length of 20.\n",
      "\n",
      "###############################################################################\n",
      "# No changes should be required below this line                               #\n",
      "###############################################################################\n",
      "$ENV{CLASSPATH} = \"./$seqstat\" if ($use_bootstrap);\n"
     ]
    }
   ],
   "source": [
    "%%bash\n",
    "cd /media/sam/4TB_toshiba/montipora/20181204_inparanoid/inparanoid_4.1\n",
    "sed -i '/^$formatdb = \"formatdb\"/ s%\"formatdb\"%\"/home/shared/blast-2.2.17/bin/formatdb\"%' inparanoid.pl\n",
    "head -n 100 inparanoid.pl"
   ]
  },
  {
   "cell_type": "markdown",
   "metadata": {},
   "source": [
    "Fix quotes again..."
   ]
  },
  {
   "cell_type": "code",
   "execution_count": 6,
   "metadata": {},
   "outputs": [
    {
     "name": "stdout",
     "output_type": "stream",
     "text": [
      "$formatdb = \"/home/shared/blast-2.2.17/bin/formatdb; \n"
     ]
    },
    {
     "name": "stderr",
     "output_type": "stream",
     "text": [
      "sed: -e expression #1, char 18: extra characters after command\n"
     ]
    }
   ],
   "source": [
    "%%bash\n",
    "cd /media/sam/4TB_toshiba/montipora/20181204_inparanoid/inparanoid_4.1\n",
    "sed -i '/^$formatdb = \"/home/shared/blast-2.2.17/bin/formatdb/ s%\"formatdb\"%\"/home/shared/blast-2.2.17/bin/formatdb\"%' inparanoid.pl\n",
    "grep \"\\$formatdb \\=\" inparanoid.pl"
   ]
  },
  {
   "cell_type": "code",
   "execution_count": 7,
   "metadata": {},
   "outputs": [
    {
     "name": "stdout",
     "output_type": "stream",
     "text": [
      "#$blastall = \"blastall -VT\"; #Remove -VT for blast version 2.2.12 or earlier\n",
      "$blastall = \"/home/shared/blast-2.2.17/bin/blastall -a24\";  #Add -aN to use N processors\n",
      "$formatdb = \"/home/shared/blast-2.2.17/bin/formatdb\"; \n"
     ]
    }
   ],
   "source": [
    "%%bash\n",
    "cp /home/shared/inparanoid_4.1/inparanoid.pl /media/sam/4TB_toshiba/montipora/20181204_inparanoid/inparanoid_4.1\n",
    "cd /media/sam/4TB_toshiba/montipora/20181204_inparanoid/inparanoid_4.1\n",
    "sed -i '/^$blastall = \"blastall\"/ s%\"blastall\"%\"/home/shared/blast-2.2.17/bin/blastall -a23\"%' inparanoid.pl\n",
    "sed -i '/^$formatdb = \"formatdb\"/ s%\"formatdb\"%\"/home/shared/blast-2.2.17/bin/formatdb\"%' inparanoid.pl\n",
    "grep \"\\$blastall \\=\" inparanoid.pl\n",
    "grep \"\\$formatdb \\=\" inparanoid.pl"
   ]
  },
  {
   "cell_type": "code",
   "execution_count": 8,
   "metadata": {},
   "outputs": [
    {
     "name": "stdout",
     "output_type": "stream",
     "text": [
      "Process is interrupted.\n"
     ]
    }
   ],
   "source": [
    "%%bash\n",
    "cd /media/sam/4TB_toshiba/montipora/20181204_inparanoid/inparanoid_4.1\n",
    "time \\\n",
    "perl inparanoid.pl \\\n",
    "/media/sam/4TB_toshiba/montipora/20180803_cd-hit/20180803_cd-hit_montipora.txt \\\n",
    "/mnt/data/montipora_aequituberculata_matz/maeq_coral_PRO.fas \\\n",
    "/mnt/data/symbiodinium_minutum_prot/symbB.v1.2.augustus.prot.fa\n",
    "\n",
    "sed '/^Subject:/ s/ / montipora inparanoid JOB COMPLETE/' ~/.default-subject.mail | msmtp \"$EMAIL\""
   ]
  },
  {
   "cell_type": "markdown",
   "metadata": {},
   "source": [
    "Whoops! Didn't set outgroup option!"
   ]
  },
  {
   "cell_type": "code",
   "execution_count": 9,
   "metadata": {},
   "outputs": [
    {
     "name": "stdout",
     "output_type": "stream",
     "text": [
      "#$blastall = \"blastall -VT\"; #Remove -VT for blast version 2.2.12 or earlier\n",
      "$blastall = \"/home/shared/blast-2.2.17/bin/blastall -a24\";  #Add -aN to use N processors\n",
      "$formatdb = \"/home/shared/blast-2.2.17/bin/formatdb\"; \n",
      "$use_outgroup = 1; # Use proteins from the third genome as an outgroup        #\n"
     ]
    }
   ],
   "source": [
    "%%bash\n",
    "cp /home/shared/inparanoid_4.1/inparanoid.pl /media/sam/4TB_toshiba/montipora/20181204_inparanoid/inparanoid_4.1\n",
    "cd /media/sam/4TB_toshiba/montipora/20181204_inparanoid/inparanoid_4.1\n",
    "sed -i '/^$blastall = \"blastall\"/ s%\"blastall\"%\"/home/shared/blast-2.2.17/bin/blastall -a23\"%' inparanoid.pl\n",
    "sed -i '/^$formatdb = \"formatdb\"/ s%\"formatdb\"%\"/home/shared/blast-2.2.17/bin/formatdb\"%' inparanoid.pl\n",
    "sed -i '/^$use_outgroup = 0/ s%0%1%' inparanoid.pl\n",
    "\n",
    "grep \"\\$blastall \\=\" inparanoid.pl\n",
    "grep \"\\$formatdb \\=\" inparanoid.pl\n",
    "grep \"\\$use_outgroup \\=\" inparanoid.pl"
   ]
  },
  {
   "cell_type": "code",
   "execution_count": 10,
   "metadata": {},
   "outputs": [
    {
     "name": "stdout",
     "output_type": "stream",
     "text": [
      "92938 sequences in file /media/sam/4TB_toshiba/montipora/20180803_cd-hit/20180803_cd-hit_montipora.txt\n",
      "28717 sequences in file /mnt/data/montipora_aequituberculata_matz/maeq_coral_PRO.fas\n",
      "47014 sequences in file /mnt/data/symbiodinium_minutum_prot/symbB.v1.2.augustus.prot.fa\n",
      "Trying to run BLAST now - this may take several hours ... or days in worst case!\n",
      "Tue Dec  4 08:48:25 PST 2018\n",
      "Tue Dec  4 16:00:55 PST 2018\n",
      "Tue Dec  4 17:26:17 PST 2018\n",
      "Tue Dec  4 18:21:50 PST 2018\n",
      "Tue Dec  4 18:45:38 PST 2018\n",
      "Tue Dec  4 19:53:23 PST 2018\n",
      "Tue Dec  4 20:14:17 PST 2018\n",
      "Tue Dec  4 20:34:41 PST 2018\n",
      "Tue Dec  4 20:52:32 PST 2018\n",
      "Wed Dec  5 04:00:21 PST 2018\n",
      "Wed Dec  5 05:00:08 PST 2018\n",
      "Wed Dec  5 05:49:50 PST 2018\n"
     ]
    },
    {
     "name": "stderr",
     "output_type": "stream",
     "text": [
      "IOPub data rate exceeded.\n",
      "The notebook server will temporarily stop sending output\n",
      "to the client in order to avoid crashing it.\n",
      "To change this limit, set the config variable\n",
      "`--NotebookApp.iopub_data_rate_limit`.\n",
      "\n",
      "Current values:\n",
      "NotebookApp.iopub_data_rate_limit=1000000.0 (bytes/sec)\n",
      "NotebookApp.rate_limit_window=3.0 (secs)\n",
      "\n"
     ]
    }
   ],
   "source": [
    "%%bash\n",
    "cd /media/sam/4TB_toshiba/montipora/20181204_inparanoid/inparanoid_4.1\n",
    "time \\\n",
    "perl inparanoid.pl \\\n",
    "/media/sam/4TB_toshiba/montipora/20180803_cd-hit/20180803_cd-hit_montipora.txt \\\n",
    "/mnt/data/montipora_aequituberculata_matz/maeq_coral_PRO.fas \\\n",
    "/mnt/data/symbiodinium_minutum_prot/symbB.v1.2.augustus.prot.fa\n",
    "\n",
    "sed '/^Subject:/ s/ / montipora inparanoid JOB COMPLETE/' ~/.default-subject.mail | msmtp \"$EMAIL\""
   ]
  },
  {
   "cell_type": "code",
   "execution_count": 11,
   "metadata": {},
   "outputs": [
    {
     "name": "stdout",
     "output_type": "stream",
     "text": [
      "total 348K\n",
      "-rwxr-x--- 1 sam sam  13K Jun 11  2009 seqstat\n",
      "-rw-r----- 1 sam sam 121K Jun 17  2009 SC\n",
      "-rw-r----- 1 sam sam 5.2K Oct  9  2009 README\n",
      "-rw-r----- 1 sam sam 2.7K Jan 29  2008 PAM70\n",
      "-rw-r----- 1 sam sam 2.7K Jan 29  2008 PAM30\n",
      "-rw-r--r-- 1 sam sam  205 Aug 13 14:02 LicenseAgreement.txt\n",
      "-rw-r----- 1 sam sam   76 Jun 11  2009 LICENCE\n",
      "-rwxr-x--- 1 sam sam  66K Dec  4 08:47 inparanoid.pl\n",
      "-rw-rw-r-- 1 sam sam    0 Dec  4 07:52 error.log\n",
      "-rw-r----- 1 sam sam  84K Jun 17  2009 EC\n",
      "-rw-r----- 1 sam sam 2.1K Nov 15  2007 BLOSUM80\n",
      "-rw-r----- 1 sam sam 2.1K Jun 11  2009 BLOSUM62\n",
      "-rw-r----- 1 sam sam 2.1K Nov 15  2007 BLOSUM45\n",
      "-rwxr-x--- 1 sam sam  17K Aug 18  2009 blast_parser.pl\n"
     ]
    }
   ],
   "source": [
    "%%bash\n",
    "cd /media/sam/4TB_toshiba/montipora/20181204_inparanoid/inparanoid_4.1\n",
    "ls -lhr"
   ]
  },
  {
   "cell_type": "markdown",
   "metadata": {},
   "source": [
    "Hmmm, should have four output files:\n",
    "\n",
    "- table.\n",
    "- sqltable.\n",
    "- Output.\n",
    "- Orthologs.*.html\n",
    "\n",
    "Since notebook got overloaded, I can't see full stdout messages. Will re-run and redirect stdout/stderr to files."
   ]
  },
  {
   "cell_type": "code",
   "execution_count": 12,
   "metadata": {},
   "outputs": [
    {
     "name": "stdout",
     "output_type": "stream",
     "text": [
      "Process is interrupted.\n"
     ]
    }
   ],
   "source": [
    "%%bash\n",
    "cd /media/sam/4TB_toshiba/montipora/20181204_inparanoid/inparanoid_4.1\n",
    "time \\\n",
    "perl inparanoid.pl \\\n",
    "/media/sam/4TB_toshiba/montipora/20180803_cd-hit/20180803_cd-hit_montipora.txt \\\n",
    "/mnt/data/montipora_aequituberculata_matz/maeq_coral_PRO.fas \\\n",
    "/mnt/data/symbiodinium_minutum_prot/symbB.v1.2.augustus.prot.fa \\\n",
    "1>stdout.txt \\\n",
    "2>stderr.txt\n",
    "\n",
    "sed '/^Subject:/ s/ / montipora inparanoid JOB COMPLETE/' ~/.default-subject.mail | msmtp \"$EMAIL\""
   ]
  },
  {
   "cell_type": "markdown",
   "metadata": {},
   "source": [
    "Did some testing outside of notebook with test files included with inparanoid. Seems like input FastA files must be _in_ the inparanoid directory!"
   ]
  },
  {
   "cell_type": "code",
   "execution_count": 13,
   "metadata": {},
   "outputs": [
    {
     "name": "stdout",
     "output_type": "stream",
     "text": [
      "total 95M\n",
      "-rw-r----- 1 sam sam 2.1K Nov 15  2007 BLOSUM80\n",
      "-rw-r----- 1 sam sam 2.1K Nov 15  2007 BLOSUM45\n",
      "-rw-r----- 1 sam sam 2.7K Jan 29  2008 PAM70\n",
      "-rw-r----- 1 sam sam 2.7K Jan 29  2008 PAM30\n",
      "-rwxr-x--- 1 sam sam  13K Jun 11  2009 seqstat\n",
      "-rw-r----- 1 sam sam 2.1K Jun 11  2009 BLOSUM62\n",
      "-rw-r----- 1 sam sam   76 Jun 11  2009 LICENCE\n",
      "-rw-r----- 1 sam sam  84K Jun 17  2009 EC\n",
      "-rw-r----- 1 sam sam 121K Jun 17  2009 SC\n",
      "-rwxr-x--- 1 sam sam  17K Aug 18  2009 blast_parser.pl\n",
      "-rw-r----- 1 sam sam 5.2K Oct  9  2009 README\n",
      "-rw-r--r-- 1 sam sam  205 Aug 13 14:02 LicenseAgreement.txt\n",
      "-rw-rw-r-- 1 sam sam    0 Dec  4 07:52 error.log\n",
      "-rwxr-x--- 1 sam sam  66K Dec  4 08:47 inparanoid.pl\n",
      "-rw-rw-r-- 1 sam sam  987 Dec  5 07:03 formatdb.log\n",
      "-rw-rw-r-- 1 sam sam  386 Dec  5 07:03 stdout.txt\n",
      "-rw-rw-r-- 1 sam sam  361 Dec  5 07:03 stderr.txt\n",
      "-rw-rw-r-- 1 sam sam  58M Dec  5 07:12 20180803_cd-hit_montipora.txt\n",
      "-rw------- 1 sam sam 9.4M Dec  5 07:12 maeq_coral_PRO.fas\n",
      "-rw-rw-r-- 1 sam sam  28M Dec  5 07:12 symbB.v1.2.augustus.prot.fa\n"
     ]
    }
   ],
   "source": [
    "%%bash\n",
    "cd /media/sam/4TB_toshiba/montipora/20181204_inparanoid/inparanoid_4.1\n",
    "rsync /media/sam/4TB_toshiba/montipora/20180803_cd-hit/20180803_cd-hit_montipora.txt .\n",
    "rsync /mnt/data/montipora_aequituberculata_matz/maeq_coral_PRO.fas .\n",
    "rsync /mnt/data/symbiodinium_minutum_prot/symbB.v1.2.augustus.prot.fa .\n",
    "ls -ltrh"
   ]
  },
  {
   "cell_type": "code",
   "execution_count": 14,
   "metadata": {},
   "outputs": [
    {
     "name": "stdout",
     "output_type": "stream",
     "text": [
      "total 820M\n",
      "-rw-r----- 1 sam sam 2.1K Nov 15  2007 BLOSUM80\n",
      "-rw-r----- 1 sam sam 2.1K Nov 15  2007 BLOSUM45\n",
      "-rw-r----- 1 sam sam 2.7K Jan 29  2008 PAM70\n",
      "-rw-r----- 1 sam sam 2.7K Jan 29  2008 PAM30\n",
      "-rwxr-x--- 1 sam sam  13K Jun 11  2009 seqstat\n",
      "-rw-r----- 1 sam sam 2.1K Jun 11  2009 BLOSUM62\n",
      "-rw-r----- 1 sam sam   76 Jun 11  2009 LICENCE\n",
      "-rw-r----- 1 sam sam  84K Jun 17  2009 EC\n",
      "-rw-r----- 1 sam sam 121K Jun 17  2009 SC\n",
      "-rwxr-x--- 1 sam sam  17K Aug 18  2009 blast_parser.pl\n",
      "-rw-r----- 1 sam sam 5.2K Oct  9  2009 README\n",
      "-rw-r--r-- 1 sam sam  205 Aug 13 14:02 LicenseAgreement.txt\n",
      "-rw-rw-r-- 1 sam sam    0 Dec  4 07:52 error.log\n",
      "-rwxr-x--- 1 sam sam  66K Dec  4 08:47 inparanoid.pl\n",
      "-rw-rw-r-- 1 sam sam  58M Dec  5 07:12 20180803_cd-hit_montipora.txt\n",
      "-rw------- 1 sam sam 9.4M Dec  5 07:12 maeq_coral_PRO.fas\n",
      "-rw-rw-r-- 1 sam sam  28M Dec  5 07:12 symbB.v1.2.augustus.prot.fa\n",
      "-rw-rw-r-- 1 sam sam 293M Dec  5 16:20 20180803_cd-hit_montipora.txt-20180803_cd-hit_montipora.txt\n",
      "-rw-rw-r-- 1 sam sam  69M Dec  5 17:48 20180803_cd-hit_montipora.txt-maeq_coral_PRO.fas\n",
      "-rw-rw-r-- 1 sam sam  69M Dec  5 19:25 maeq_coral_PRO.fas-20180803_cd-hit_montipora.txt\n",
      "-rw-rw-r-- 1 sam sam  38M Dec  5 20:11 maeq_coral_PRO.fas-maeq_coral_PRO.fas\n",
      "-rw-rw-r-- 1 sam sam 225M Dec  6 04:35 20180803_cd-hit_montipora.txt-symbB.v1.2.augustus.prot.fa\n",
      "-rw-rw-r-- 1 sam sam  27M Dec  6 05:36 maeq_coral_PRO.fas-symbB.v1.2.augustus.prot.fa\n",
      "-rw-rw-r-- 1 sam sam 1.6K Dec  6 05:36 stderr.txt\n",
      "-rw-rw-r-- 1 sam sam  71K Dec  6 05:36 rejected_sequences.symbB.v1.2.augustus.prot.fa\n",
      "-rw-rw-r-- 1 sam sam 2.9M Dec  6 06:42 Output.20180803_cd-hit_montipora.txt-maeq_coral_PRO.fas\n",
      "-rw-rw-r-- 1 sam sam 3.0M Dec  6 06:42 orthologs.20180803_cd-hit_montipora.txt-maeq_coral_PRO.fas.html\n",
      "-rw-rw-r-- 1 sam sam 480K Dec  6 06:42 table.20180803_cd-hit_montipora.txt-maeq_coral_PRO.fas\n",
      "-rw-rw-r-- 1 sam sam 958K Dec  6 06:42 sqltable.20180803_cd-hit_montipora.txt-maeq_coral_PRO.fas\n",
      "-rw-rw-r-- 1 sam sam  980 Dec  6 06:42 stdout.txt\n"
     ]
    },
    {
     "name": "stderr",
     "output_type": "stream",
     "text": [
      "\n",
      "real\t1408m40.105s\n",
      "user\t3387m34.812s\n",
      "sys\t101m4.044s\n"
     ]
    }
   ],
   "source": [
    "%%bash\n",
    "cd /media/sam/4TB_toshiba/montipora/20181204_inparanoid/inparanoid_4.1\n",
    "time \\\n",
    "perl inparanoid.pl \\\n",
    "20180803_cd-hit_montipora.txt \\\n",
    "maeq_coral_PRO.fas \\\n",
    "symbB.v1.2.augustus.prot.fa \\\n",
    "1>stdout.txt \\\n",
    "2>stderr.txt\n",
    "\n",
    "sed '/^Subject:/ s/ / montipora inparanoid JOB COMPLETE/' ~/.default-subject.mail | msmtp \"$EMAIL\"\n",
    "\n",
    "ls -lhtr"
   ]
  },
  {
   "cell_type": "code",
   "execution_count": 15,
   "metadata": {},
   "outputs": [
    {
     "name": "stdout",
     "output_type": "stream",
     "text": [
      "OrtoID\tScore\tOrtoA\tOrtoB\n",
      "1\t4719\tTRINITY_DN192808_c0_g1_i2.p1 1.000 \tcomp36485_c0_seq1 1.000 \n",
      "2\t3687\tTRINITY_DN190708_c1_g1_i1.p1 1.000 \tcomp38101_c0_seq1 1.000 \n",
      "3\t2847\tTRINITY_DN191546_c0_g1_i3.p1 1.000 \tcomp35755_c0_seq1 1.000 \n",
      "4\t2599\tTRINITY_DN195926_c1_g1_i2.p1 1.000 \tcomp38073_c0_seq2 1.000 \n",
      "5\t2395\tTRINITY_DN173015_c1_g1_i1.p1 1.000 \tcomp27148_c0_seq2 1.000 \n",
      "6\t2370\tTRINITY_DN197663_c1_g1_i5.p1 1.000 \tcomp33140_c0_seq5 1.000 \n",
      "7\t2361\tTRINITY_DN190166_c0_g1_i2.p1 1.000 \tcomp30215_c0_seq1 1.000 \n",
      "8\t2161\tTRINITY_DN189310_c1_g2_i4.p1 1.000 \tcomp35313_c0_seq1 1.000 \n",
      "9\t2151\tTRINITY_DN186538_c3_g1_i11.p1 1.000 \tcomp36993_c1_seq2 1.000 comp36993_c1_seq7 0.996 comp36993_c1_seq6 0.996 comp36993_c1_seq5 0.996 comp36993_c1_seq1 0.996 comp36993_c1_seq8 0.996 \n"
     ]
    }
   ],
   "source": [
    "%%bash\n",
    "cd /media/sam/4TB_toshiba/montipora/20181204_inparanoid/inparanoid_4.1\n",
    "head table.20180803_cd-hit_montipora.txt-maeq_coral_PRO.fas"
   ]
  },
  {
   "cell_type": "code",
   "execution_count": null,
   "metadata": {},
   "outputs": [],
   "source": []
  }
 ],
 "metadata": {
  "kernelspec": {
   "display_name": "Python 3",
   "language": "python",
   "name": "python3"
  },
  "language_info": {
   "codemirror_mode": {
    "name": "ipython",
    "version": 3
   },
   "file_extension": ".py",
   "mimetype": "text/x-python",
   "name": "python",
   "nbconvert_exporter": "python",
   "pygments_lexer": "ipython3",
   "version": "3.6.4"
  }
 },
 "nbformat": 4,
 "nbformat_minor": 2
}
