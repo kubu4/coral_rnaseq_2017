{
 "cells": [
  {
   "cell_type": "code",
   "execution_count": 1,
   "metadata": {},
   "outputs": [
    {
     "name": "stdout",
     "output_type": "stream",
     "text": [
      "TODAY'S DATE\n",
      "Tue Jan 15 07:10:04 PST 2019\n",
      "------------\n",
      "\n",
      "Distributor ID:\tUbuntu\n",
      "Description:\tUbuntu 16.04.5 LTS\n",
      "Release:\t16.04\n",
      "Codename:\txenial\n",
      "\n",
      "------------\n",
      "HOSTNAME: \n",
      "jpg-d20\n",
      "\n",
      "------------\n",
      "Computer Specs:\n",
      "\n",
      "Architecture:          x86_64\n",
      "CPU op-mode(s):        32-bit, 64-bit\n",
      "Byte Order:            Little Endian\n",
      "CPU(s):                24\n",
      "On-line CPU(s) list:   0-23\n",
      "Thread(s) per core:    2\n",
      "Core(s) per socket:    6\n",
      "Socket(s):             2\n",
      "NUMA node(s):          2\n",
      "Vendor ID:             GenuineIntel\n",
      "CPU family:            6\n",
      "Model:                 44\n",
      "Model name:            Intel(R) Xeon(R) CPU           X5680  @ 3.33GHz\n",
      "Stepping:              2\n",
      "CPU MHz:               1596.000\n",
      "CPU max MHz:           3326.0000\n",
      "CPU min MHz:           1596.0000\n",
      "BogoMIPS:              6666.88\n",
      "Virtualization:        VT-x\n",
      "L1d cache:             32K\n",
      "L1i cache:             32K\n",
      "L2 cache:              256K\n",
      "L3 cache:              12288K\n",
      "NUMA node0 CPU(s):     0,2,4,6,8,10,12,14,16,18,20,22\n",
      "NUMA node1 CPU(s):     1,3,5,7,9,11,13,15,17,19,21,23\n",
      "Flags:                 fpu vme de pse tsc msr pae mce cx8 apic sep mtrr pge mca cmov pat pse36 clflush dts acpi mmx fxsr sse sse2 ss ht tm pbe syscall nx pdpe1gb rdtscp lm constant_tsc arch_perfmon pebs bts rep_good nopl xtopology nonstop_tsc aperfmperf pni pclmulqdq dtes64 monitor ds_cpl vmx smx est tm2 ssse3 cx16 xtpr pdcm pcid dca sse4_1 sse4_2 popcnt aes lahf_lm epb kaiser tpr_shadow vnmi flexpriority ept vpid dtherm ida arat\n",
      "\n",
      "------------\n",
      "\n",
      "Memory Specs\n",
      "\n",
      "              total        used        free      shared  buff/cache   available\n",
      "Mem:            94G        2.2G         20G        1.0G         71G         90G\n",
      "Swap:          128G        421M        127G\n"
     ]
    },
    {
     "name": "stderr",
     "output_type": "stream",
     "text": [
      "No LSB modules are available.\n"
     ]
    }
   ],
   "source": [
    "%%bash\n",
    "echo \"TODAY'S DATE\"\n",
    "date\n",
    "echo \"------------\"\n",
    "echo \"\"\n",
    "lsb_release -a\n",
    "echo \"\"\n",
    "echo \"------------\"\n",
    "echo \"HOSTNAME: \"\n",
    "hostname\n",
    "echo \"\"\n",
    "echo \"------------\"\n",
    "echo \"Computer Specs:\"\n",
    "echo \"\"\n",
    "lscpu\n",
    "echo \"\"\n",
    "echo \"------------\"\n",
    "echo \"\"\n",
    "echo \"Memory Specs\"\n",
    "echo \"\"\n",
    "free -mh"
   ]
  },
  {
   "cell_type": "code",
   "execution_count": 2,
   "metadata": {},
   "outputs": [],
   "source": [
    "%%bash\n",
    "mkdir /media/sam/4TB_toshiba/porites/20190115_blastx_ncbi_nr-v5_porites\n"
   ]
  },
  {
   "cell_type": "code",
   "execution_count": 3,
   "metadata": {},
   "outputs": [
    {
     "name": "stdout",
     "output_type": "stream",
     "text": [
      " \n",
      "Taxid: 6073\n",
      " rank: phylum\n",
      " division: cnidarians\n",
      " scientific name: Cnidaria\n",
      " common name: cnidarians\n",
      "\n",
      "1 matche(s) found.\n",
      "\n"
     ]
    }
   ],
   "source": [
    "%%bash\n",
    "/home/shared/ncbi-blast-2.8.1+/bin/get_species_taxids.sh -n cnidaria"
   ]
  },
  {
   "cell_type": "code",
   "execution_count": 4,
   "metadata": {},
   "outputs": [],
   "source": [
    "%%bash\n",
    "\n",
    "/home/shared/ncbi-blast-2.8.1+/bin/get_species_taxids.sh -t 6073 \\\n",
    "> /media/sam/4TB_toshiba/porites/20190115_blastx_ncbi_nr-v5_porites/cnidaria.txids\n",
    "\n",
    "head /media/sam/4TB_toshiba/porites/20190115_blastx_ncbi_nr-v5_porites/cnidaria.txids"
   ]
  },
  {
   "cell_type": "code",
   "execution_count": 5,
   "metadata": {},
   "outputs": [
    {
     "name": "stdout",
     "output_type": "stream",
     "text": [
      "6073\n",
      "6074\n",
      "6077\n",
      "6078\n",
      "6079\n",
      "6080\n",
      "6082\n",
      "6083\n",
      "6086\n",
      "6087\n"
     ]
    }
   ],
   "source": [
    "%%bash\n",
    "head /media/sam/4TB_toshiba/porites/20190115_blastx_ncbi_nr-v5_porites/cnidaria.txids"
   ]
  },
  {
   "cell_type": "code",
   "execution_count": 6,
   "metadata": {},
   "outputs": [
    {
     "name": "stderr",
     "output_type": "stream",
     "text": [
      "\n",
      "real\t805m22.131s\n",
      "user\t4925m53.468s\n",
      "sys\t46m7.316s\n"
     ]
    }
   ],
   "source": [
    "%%bash\n",
    "\n",
    "cd /mnt/data/ncbi_nr_db_v5/\n",
    "\n",
    "export BLASTDB=/mnt/data/ncbi_nr_db_v5/\n",
    "\n",
    "time \\\n",
    "/home/shared/ncbi-blast-2.8.1+/bin/blastx \\\n",
    "-query /media/sam/4TB_toshiba/porites/20180429_transdecoder/Trinity.fasta.transdecoder.cds.complete-ORFS-only.fasta \\\n",
    "-db /mnt/data/ncbi_nr_db_v5/nr_v5 \\\n",
    "-taxidlist /media/sam/4TB_toshiba/porites/20190115_blastx_ncbi_nr-v5_porites/cnidaria.txids \\\n",
    "-evalue 1E-04 \\\n",
    "-outfmt \"6 std staxids\" \\\n",
    "-max_target_seqs 1 \\\n",
    "-num_threads 23 \\\n",
    "-out /media/sam/4TB_toshiba/porites/20190115_blastx_ncbi_nr-v5_porites/20190115_blastx_nr_porites.tab \\\n",
    "1> /media/sam/4TB_toshiba/porites/20190115_blastx_ncbi_nr-v5_porites/20190115_blastx_nr_porites.out \\\n",
    "2> /media/sam/4TB_toshiba/porites/20190115_blastx_ncbi_nr-v5_porites/20190115_blastx_nr_porites.err\n",
    "\n",
    "sed '/^Subject:/ s/ / porites_blastx JOB COMPLETE/' ~/.default-subject.mail | msmtp \"$EMAIL\""
   ]
  },
  {
   "cell_type": "code",
   "execution_count": 1,
   "metadata": {},
   "outputs": [
    {
     "name": "stdout",
     "output_type": "stream",
     "text": [
      "total 7.0M\n",
      "-rw-rw-r-- 1 sam sam  71K Jan 15 07:14 cnidaria.txids\n",
      "-rw-rw-r-- 1 sam sam    0 Jan 15 07:18 20190115_blastx_nr_porites.out\n",
      "-rw-rw-r-- 1 sam sam   61 Jan 15 07:18 20190115_blastx_nr_porites.err\n",
      "-rw-rw-r-- 1 sam sam 5.4M Jan 15 20:43 20190115_blastx_nr_porites.tab\n",
      "-rw-rw-r-- 1 sam sam 1.6M Jan 19 13:32 20190115_blastx_nr_porites.list\n"
     ]
    }
   ],
   "source": [
    "%%bash\n",
    "ls -ltrh /media/sam/4TB_toshiba/porites/20190115_blastx_ncbi_nr-v5_porites/"
   ]
  },
  {
   "cell_type": "code",
   "execution_count": 2,
   "metadata": {},
   "outputs": [
    {
     "name": "stdout",
     "output_type": "stream",
     "text": [
      "total 7.2M\n",
      "-rw-rw-r-- 1 sam sam  71K Jan 15 07:14 cnidaria.txids\n",
      "-rw-rw-r-- 1 sam sam    0 Jan 15 07:18 20190115_blastx_nr_porites.out\n",
      "-rw-rw-r-- 1 sam sam   61 Jan 15 07:18 20190115_blastx_nr_porites.err\n",
      "-rw-rw-r-- 1 sam sam 5.4M Jan 15 20:43 20190115_blastx_nr_porites.tab\n",
      "-rw-rw-r-- 1 sam sam 1.7M Jan 22 15:55 20190115_blastx_nr_porites.list\n",
      "60605 20190115_blastx_nr_porites.list\n",
      "\n",
      "TRINITY_DN100060_c0_g1_i1.p1\n",
      "TRINITY_DN100087_c0_g1_i1.p2\n",
      "TRINITY_DN100128_c0_g1_i1.p1\n",
      "TRINITY_DN100292_c0_g1_i1.p2\n",
      "TRINITY_DN100302_c0_g1_i1.p1\n",
      "TRINITY_DN100366_c0_g1_i1.p1\n",
      "TRINITY_DN100412_c0_g1_i1.p1\n",
      "TRINITY_DN100516_c0_g1_i1.p1\n",
      "TRINITY_DN10051_c0_g1_i1.p1\n",
      "TRINITY_DN100553_c0_g1_i1.p1\n"
     ]
    }
   ],
   "source": [
    "%%bash\n",
    "cd /media/sam/4TB_toshiba/porites/20190115_blastx_ncbi_nr-v5_porites/\n",
    "awk '{print $1}' 20190115_blastx_nr_porites.tab > 20190115_blastx_nr_porites.list\n",
    "\n",
    "ls -ltrh\n",
    "\n",
    "wc -l 20190115_blastx_nr_porites.list\n",
    "\n",
    "echo \"\"\n",
    "\n",
    "head 20190115_blastx_nr_porites.list"
   ]
  },
  {
   "cell_type": "code",
   "execution_count": null,
   "metadata": {},
   "outputs": [],
   "source": []
  }
 ],
 "metadata": {
  "kernelspec": {
   "display_name": "Python 3",
   "language": "python",
   "name": "python3"
  },
  "language_info": {
   "codemirror_mode": {
    "name": "ipython",
    "version": 3
   },
   "file_extension": ".py",
   "mimetype": "text/x-python",
   "name": "python",
   "nbconvert_exporter": "python",
   "pygments_lexer": "ipython3",
   "version": "3.6.4"
  }
 },
 "nbformat": 4,
 "nbformat_minor": 2
}
