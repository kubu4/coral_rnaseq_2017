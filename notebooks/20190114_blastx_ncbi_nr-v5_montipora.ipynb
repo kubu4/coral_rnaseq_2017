{
 "cells": [
  {
   "cell_type": "code",
   "execution_count": 1,
   "metadata": {},
   "outputs": [
    {
     "name": "stdout",
     "output_type": "stream",
     "text": [
      "TODAY'S DATE\n",
      "Mon Jan 14 08:32:01 PST 2019\n",
      "------------\n",
      "\n",
      "Distributor ID:\tUbuntu\n",
      "Description:\tUbuntu 16.04.5 LTS\n",
      "Release:\t16.04\n",
      "Codename:\txenial\n",
      "\n",
      "------------\n",
      "HOSTNAME: \n",
      "jpg-d20\n",
      "\n",
      "------------\n",
      "Computer Specs:\n",
      "\n",
      "Architecture:          x86_64\n",
      "CPU op-mode(s):        32-bit, 64-bit\n",
      "Byte Order:            Little Endian\n",
      "CPU(s):                24\n",
      "On-line CPU(s) list:   0-23\n",
      "Thread(s) per core:    2\n",
      "Core(s) per socket:    6\n",
      "Socket(s):             2\n",
      "NUMA node(s):          2\n",
      "Vendor ID:             GenuineIntel\n",
      "CPU family:            6\n",
      "Model:                 44\n",
      "Model name:            Intel(R) Xeon(R) CPU           X5680  @ 3.33GHz\n",
      "Stepping:              2\n",
      "CPU MHz:               1596.000\n",
      "CPU max MHz:           3326.0000\n",
      "CPU min MHz:           1596.0000\n",
      "BogoMIPS:              6666.88\n",
      "Virtualization:        VT-x\n",
      "L1d cache:             32K\n",
      "L1i cache:             32K\n",
      "L2 cache:              256K\n",
      "L3 cache:              12288K\n",
      "NUMA node0 CPU(s):     0,2,4,6,8,10,12,14,16,18,20,22\n",
      "NUMA node1 CPU(s):     1,3,5,7,9,11,13,15,17,19,21,23\n",
      "Flags:                 fpu vme de pse tsc msr pae mce cx8 apic sep mtrr pge mca cmov pat pse36 clflush dts acpi mmx fxsr sse sse2 ss ht tm pbe syscall nx pdpe1gb rdtscp lm constant_tsc arch_perfmon pebs bts rep_good nopl xtopology nonstop_tsc aperfmperf pni pclmulqdq dtes64 monitor ds_cpl vmx smx est tm2 ssse3 cx16 xtpr pdcm pcid dca sse4_1 sse4_2 popcnt aes lahf_lm epb kaiser tpr_shadow vnmi flexpriority ept vpid dtherm ida arat\n",
      "\n",
      "------------\n",
      "\n",
      "Memory Specs\n",
      "\n",
      "              total        used        free      shared  buff/cache   available\n",
      "Mem:            94G        2.2G         21G        1.0G         70G         90G\n",
      "Swap:          128G        421M        127G\n"
     ]
    },
    {
     "name": "stderr",
     "output_type": "stream",
     "text": [
      "No LSB modules are available.\n"
     ]
    }
   ],
   "source": [
    "%%bash\n",
    "echo \"TODAY'S DATE\"\n",
    "date\n",
    "echo \"------------\"\n",
    "echo \"\"\n",
    "lsb_release -a\n",
    "echo \"\"\n",
    "echo \"------------\"\n",
    "echo \"HOSTNAME: \"\n",
    "hostname\n",
    "echo \"\"\n",
    "echo \"------------\"\n",
    "echo \"Computer Specs:\"\n",
    "echo \"\"\n",
    "lscpu\n",
    "echo \"\"\n",
    "echo \"------------\"\n",
    "echo \"\"\n",
    "echo \"Memory Specs\"\n",
    "echo \"\"\n",
    "free -mh"
   ]
  },
  {
   "cell_type": "code",
   "execution_count": 2,
   "metadata": {},
   "outputs": [
    {
     "name": "stdout",
     "output_type": "stream",
     "text": [
      "161704 /media/sam/4TB_toshiba/montipora/20180429_transdecoder/Trinity.fasta.transdecoder.cds.complete-ORFS-only.fasta\n"
     ]
    }
   ],
   "source": [
    "%%bash\n",
    "wc -l /media/sam/4TB_toshiba/montipora/20180429_transdecoder/Trinity.fasta.transdecoder.cds.complete-ORFS-only.fasta"
   ]
  },
  {
   "cell_type": "code",
   "execution_count": 3,
   "metadata": {},
   "outputs": [],
   "source": [
    "%%bash\n",
    "mkdir /media/sam/4TB_toshiba/montipora/20190105_blastx_swissprot-v5_montipora\n",
    "\n",
    "/home/shared/ncbi-blast-2.8.1+/bin/get_species_taxids.sh -n cnidaria \\\n",
    "> /media/sam/4TB_toshiba/montipora/20190105_blastx_swissprot-v5_montipora/cnidaria.txids"
   ]
  },
  {
   "cell_type": "code",
   "execution_count": 4,
   "metadata": {},
   "outputs": [
    {
     "name": "stdout",
     "output_type": "stream",
     "text": [
      " \n",
      "Taxid: 6073\n",
      " rank: phylum\n",
      " division: cnidarians\n",
      " scientific name: Cnidaria\n",
      " common name: cnidarians\n",
      "\n",
      "1 matche(s) found.\n",
      "\n"
     ]
    }
   ],
   "source": [
    "%%bash\n",
    "head /media/sam/4TB_toshiba/montipora/20190105_blastx_swissprot-v5_montipora/cnidaria.txids"
   ]
  },
  {
   "cell_type": "code",
   "execution_count": 5,
   "metadata": {},
   "outputs": [
    {
     "name": "stderr",
     "output_type": "stream",
     "text": [
      "\n",
      "real\t0m0.007s\n",
      "user\t0m0.004s\n",
      "sys\t0m0.000s\n"
     ]
    }
   ],
   "source": [
    "%%bash\n",
    "\n",
    "cd /media/sam/4TB_toshiba/montipora/20190105_blastx_swissprot-v5_montipora\n",
    "\n",
    "export BLASTDB=/mnt/data/ncbi_swissprot_v5_db/\n",
    "\n",
    "time \\\n",
    "/home/shared/ncbi-blast-2.8.1+/bin/blastx \\\n",
    "-query /media/sam/4TB_toshiba/montipora/20180429_transdecoder/Trinity.fasta.transdecoder.cds.complete-ORFS-only.fasta \\\n",
    "-db /mnt/data/ncbi_swissprot_v5_db/swissprot_v5 \\\n",
    "-taxidlist /media/sam/4TB_toshiba/montipora/20190105_blastx_swissprot-v5_montipora/cnidaria.txids \\\n",
    "-evalue 1E-04 \\\n",
    "-outfmt \"6 std staxids\" \\\n",
    "-max_target_seqs 1 \\\n",
    "-num_threads 23 \\\n",
    "-out /media/sam/4TB_toshiba/montipora/20190105_blastx_swissprot-v5_montipora/20190105_blastx_nr_montipora.tab \\\n",
    "1> /media/sam/4TB_toshiba/montipora/20190105_blastx_swissprot-v5_montipora/20190105_blastx_nr_montipora.out \\\n",
    "2> /media/sam/4TB_toshiba/montipora/20190105_blastx_swissprot-v5_montipora/20190105_blastx_nr_montipora.err\n",
    "\n",
    "sed '/^Subject:/ s/ / monitpora_blastx JOB COMPLETE/' ~/.default-subject.mail | msmtp \"$EMAIL\""
   ]
  },
  {
   "cell_type": "code",
   "execution_count": 6,
   "metadata": {},
   "outputs": [
    {
     "name": "stdout",
     "output_type": "stream",
     "text": [
      "Error: NCBI C++ Exception:\n",
      "    T0 \"/home/coremake/release_build/build/PrepareRelease_Linux64-Centos_JSID_01_530714_130.14.18.6_9008__PrepareRelease_Linux64-Centos_1543251062/c++/compilers/unix/../../src/corelib/ncbistr.cpp\", line 800: Error: ncbi::NStr::StringToInt8() - Cannot convert string ' ' to Int8 (m_Pos = 1)\n",
      "\n"
     ]
    }
   ],
   "source": [
    "%%bash\n",
    "cat /media/sam/4TB_toshiba/montipora/20190105_blastx_swissprot-v5_montipora/20190105_blastx_nr_montipora.err"
   ]
  },
  {
   "cell_type": "markdown",
   "metadata": {},
   "source": [
    "Communication with NCBI indicates that the taxid file is not formatted correctly (despite following their example). Below is the correct formatting."
   ]
  },
  {
   "cell_type": "code",
   "execution_count": 7,
   "metadata": {},
   "outputs": [
    {
     "name": "stdout",
     "output_type": "stream",
     "text": [
      "6073\n"
     ]
    }
   ],
   "source": [
    "%%bash\n",
    "echo 6073 > /media/sam/4TB_toshiba/montipora/20190105_blastx_swissprot-v5_montipora/cnidaria.txids\n",
    "cat /media/sam/4TB_toshiba/montipora/20190105_blastx_swissprot-v5_montipora/cnidaria.txids"
   ]
  },
  {
   "cell_type": "code",
   "execution_count": 8,
   "metadata": {},
   "outputs": [
    {
     "name": "stderr",
     "output_type": "stream",
     "text": [
      "\n",
      "real\t0m2.801s\n",
      "user\t0m0.008s\n",
      "sys\t0m0.008s\n"
     ]
    }
   ],
   "source": [
    "%%bash\n",
    "\n",
    "cd /media/sam/4TB_toshiba/montipora/20190105_blastx_swissprot-v5_montipora\n",
    "\n",
    "export BLASTDB=/mnt/data/ncbi_swissprot_v5_db/\n",
    "\n",
    "time \\\n",
    "/home/shared/ncbi-blast-2.8.1+/bin/blastx \\\n",
    "-query /media/sam/4TB_toshiba/montipora/20180429_transdecoder/Trinity.fasta.transdecoder.cds.complete-ORFS-only.fasta \\\n",
    "-db /mnt/data/ncbi_swissprot_v5_db/swissprot_v5 \\\n",
    "-taxidlist /media/sam/4TB_toshiba/montipora/20190105_blastx_swissprot-v5_montipora/cnidaria.txids \\\n",
    "-evalue 1E-04 \\\n",
    "-outfmt \"6 std staxids\" \\\n",
    "-max_target_seqs 1 \\\n",
    "-num_threads 23 \\\n",
    "-out /media/sam/4TB_toshiba/montipora/20190105_blastx_swissprot-v5_montipora/20190105_blastx_nr_montipora.tab \\\n",
    "1> /media/sam/4TB_toshiba/montipora/20190105_blastx_swissprot-v5_montipora/20190105_blastx_nr_montipora.out \\\n",
    "2> /media/sam/4TB_toshiba/montipora/20190105_blastx_swissprot-v5_montipora/20190105_blastx_nr_montipora.err\n",
    "\n",
    "sed '/^Subject:/ s/ / monitpora_blastx JOB COMPLETE/' ~/.default-subject.mail | msmtp \"$EMAIL\""
   ]
  },
  {
   "cell_type": "code",
   "execution_count": 9,
   "metadata": {},
   "outputs": [
    {
     "name": "stdout",
     "output_type": "stream",
     "text": [
      "Warning: [blastx] Examining 5 or more matches is recommended\n",
      "BLAST Database error: Taxonomy ID(s) not found.\n"
     ]
    }
   ],
   "source": [
    "%%bash\n",
    "cat /media/sam/4TB_toshiba/montipora/20190105_blastx_swissprot-v5_montipora/20190105_blastx_nr_montipora.err"
   ]
  },
  {
   "cell_type": "code",
   "execution_count": 10,
   "metadata": {},
   "outputs": [
    {
     "name": "stderr",
     "output_type": "stream",
     "text": [
      "\n",
      "real\t0m0.007s\n",
      "user\t0m0.004s\n",
      "sys\t0m0.004s\n"
     ]
    }
   ],
   "source": [
    "%%bash\n",
    "\n",
    "cd /media/sam/4TB_toshiba/montipora/20190105_blastx_swissprot-v5_montipora\n",
    "\n",
    "export BLASTDB=/mnt/data/ncbi_nr_db_v5/\n",
    "\n",
    "time \\\n",
    "/home/shared/ncbi-blast-2.8.1+/bin/blastx \\\n",
    "-query /media/sam/4TB_toshiba/montipora/20180429_transdecoder/Trinity.fasta.transdecoder.cds.complete-ORFS-only.fasta \\\n",
    "-db /mnt/data/ncbi_nr_db_v5/nr \\\n",
    "-taxidlist /media/sam/4TB_toshiba/montipora/20190105_blastx_swissprot-v5_montipora/cnidaria.txids \\\n",
    "-evalue 1E-04 \\\n",
    "-outfmt \"6 std staxids\" \\\n",
    "-max_target_seqs 1 \\\n",
    "-num_threads 23 \\\n",
    "-out /media/sam/4TB_toshiba/montipora/20190105_blastx_swissprot-v5_montipora/20190105_blastx_nr_montipora.tab \\\n",
    "1> /media/sam/4TB_toshiba/montipora/20190105_blastx_swissprot-v5_montipora/20190105_blastx_nr_montipora.out \\\n",
    "2> /media/sam/4TB_toshiba/montipora/20190105_blastx_swissprot-v5_montipora/20190105_blastx_nr_montipora.err\n",
    "\n",
    "sed '/^Subject:/ s/ / monitpora_blastx JOB COMPLETE/' ~/.default-subject.mail | msmtp \"$EMAIL\""
   ]
  },
  {
   "cell_type": "code",
   "execution_count": 11,
   "metadata": {},
   "outputs": [
    {
     "name": "stdout",
     "output_type": "stream",
     "text": [
      "Warning: [blastx] Examining 5 or more matches is recommended\n",
      "BLAST Database error: No alias or index file found for protein database [/mnt/data/ncbi_nr_db_v5/nr] in search path [/media/sam/4TB_toshiba/montipora/20190105_blastx_swissprot-v5_montipora:/mnt/data/ncbi_nr_db_v5:]\n"
     ]
    }
   ],
   "source": [
    "%%bash\n",
    "cat /media/sam/4TB_toshiba/montipora/20190105_blastx_swissprot-v5_montipora/20190105_blastx_nr_montipora.err"
   ]
  },
  {
   "cell_type": "code",
   "execution_count": 2,
   "metadata": {},
   "outputs": [],
   "source": [
    "%%bash\n",
    "/home/shared/ncbi-blast-2.8.1+/bin/get_species_taxids.sh -t 6073 \\\n",
    "> /media/sam/4TB_toshiba/montipora/20190105_blastx_swissprot-v5_montipora/cnidaria.txids\n",
    "\n",
    "head /media/sam/4TB_toshiba/montipora/20190105_blastx_swissprot-v5_montipora/cnidaria.txids"
   ]
  },
  {
   "cell_type": "code",
   "execution_count": null,
   "metadata": {},
   "outputs": [],
   "source": []
  }
 ],
 "metadata": {
  "kernelspec": {
   "display_name": "Python 3",
   "language": "python",
   "name": "python3"
  },
  "language_info": {
   "codemirror_mode": {
    "name": "ipython",
    "version": 3
   },
   "file_extension": ".py",
   "mimetype": "text/x-python",
   "name": "python",
   "nbconvert_exporter": "python",
   "pygments_lexer": "ipython3",
   "version": "3.6.4"
  }
 },
 "nbformat": 4,
 "nbformat_minor": 2
}
