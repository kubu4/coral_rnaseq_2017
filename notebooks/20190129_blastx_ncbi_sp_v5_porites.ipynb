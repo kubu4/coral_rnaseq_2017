{
 "cells": [
  {
   "cell_type": "code",
   "execution_count": 1,
   "metadata": {},
   "outputs": [
    {
     "name": "stdout",
     "output_type": "stream",
     "text": [
      "TODAY'S DATE\n",
      "Tue Jan 29 12:11:38 PST 2019\n",
      "------------\n",
      "\n",
      "Distributor ID:\tUbuntu\n",
      "Description:\tUbuntu 16.04.5 LTS\n",
      "Release:\t16.04\n",
      "Codename:\txenial\n",
      "\n",
      "------------\n",
      "HOSTNAME: \n",
      "jpg-d20\n",
      "\n",
      "------------\n",
      "Computer Specs:\n",
      "\n",
      "Architecture:          x86_64\n",
      "CPU op-mode(s):        32-bit, 64-bit\n",
      "Byte Order:            Little Endian\n",
      "CPU(s):                24\n",
      "On-line CPU(s) list:   0-23\n",
      "Thread(s) per core:    2\n",
      "Core(s) per socket:    6\n",
      "Socket(s):             2\n",
      "NUMA node(s):          2\n",
      "Vendor ID:             GenuineIntel\n",
      "CPU family:            6\n",
      "Model:                 44\n",
      "Model name:            Intel(R) Xeon(R) CPU           X5680  @ 3.33GHz\n",
      "Stepping:              2\n",
      "CPU MHz:               1596.000\n",
      "CPU max MHz:           3326.0000\n",
      "CPU min MHz:           1596.0000\n",
      "BogoMIPS:              6666.90\n",
      "Virtualization:        VT-x\n",
      "L1d cache:             32K\n",
      "L1i cache:             32K\n",
      "L2 cache:              256K\n",
      "L3 cache:              12288K\n",
      "NUMA node0 CPU(s):     0,2,4,6,8,10,12,14,16,18,20,22\n",
      "NUMA node1 CPU(s):     1,3,5,7,9,11,13,15,17,19,21,23\n",
      "Flags:                 fpu vme de pse tsc msr pae mce cx8 apic sep mtrr pge mca cmov pat pse36 clflush dts acpi mmx fxsr sse sse2 ss ht tm pbe syscall nx pdpe1gb rdtscp lm constant_tsc arch_perfmon pebs bts rep_good nopl xtopology nonstop_tsc aperfmperf pni pclmulqdq dtes64 monitor ds_cpl vmx smx est tm2 ssse3 cx16 xtpr pdcm pcid dca sse4_1 sse4_2 popcnt aes lahf_lm epb kaiser tpr_shadow vnmi flexpriority ept vpid dtherm ida arat\n",
      "\n",
      "------------\n",
      "\n",
      "Memory Specs\n",
      "\n",
      "              total        used        free      shared  buff/cache   available\n",
      "Mem:            94G        1.8G         45G        731M         47G         91G\n",
      "Swap:          128G          0B        128G\n"
     ]
    },
    {
     "name": "stderr",
     "output_type": "stream",
     "text": [
      "No LSB modules are available.\n"
     ]
    }
   ],
   "source": [
    "%%bash\n",
    "echo \"TODAY'S DATE\"\n",
    "date\n",
    "echo \"------------\"\n",
    "echo \"\"\n",
    "lsb_release -a\n",
    "echo \"\"\n",
    "echo \"------------\"\n",
    "echo \"HOSTNAME: \"\n",
    "hostname\n",
    "echo \"\"\n",
    "echo \"------------\"\n",
    "echo \"Computer Specs:\"\n",
    "echo \"\"\n",
    "lscpu\n",
    "echo \"\"\n",
    "echo \"------------\"\n",
    "echo \"\"\n",
    "echo \"Memory Specs\"\n",
    "echo \"\"\n",
    "free -mh"
   ]
  },
  {
   "cell_type": "code",
   "execution_count": 2,
   "metadata": {},
   "outputs": [
    {
     "name": "stdout",
     "output_type": "stream",
     "text": [
      "env: blastx_out_dir=/media/sam/4TB_toshiba/porites/20190129_blastx_ncbi_sp-v5_porites\n",
      "env: get_taxids=/home/shared/ncbi-blast-2.8.1+/bin/get_species_taxids.sh\n",
      "env: taxid_list=/media/sam/4TB_toshiba/porites/20190129_blastx_ncbi_sp-v5_porites/cindaria.taxids\n",
      "env: blastx=/home/shared/ncbi-blast-2.8.1+/bin/blastx\n",
      "env: orf_fasta=/media/sam/4TB_toshiba/porites/20180429_transdecoder/Trinity.fasta.transdecoder.cds.complete-ORFS-only.fasta\n",
      "env: blastdb_dir=/mnt/data/ncbi_swissprot_v5_db\n",
      "env: sp_db=swissprot_v5\n",
      "env: blastx_out_file=20190129_blastx_ncbi_sp-v5_porites.tab\n",
      "env: blastx_out_fmt=\"6 std staxids\"\n"
     ]
    }
   ],
   "source": [
    "%env blastx_out_dir=/media/sam/4TB_toshiba/porites/20190129_blastx_ncbi_sp-v5_porites\n",
    "%env get_taxids=/home/shared/ncbi-blast-2.8.1+/bin/get_species_taxids.sh\n",
    "%env taxid_list=/media/sam/4TB_toshiba/porites/20190129_blastx_ncbi_sp-v5_porites/cindaria.taxids\n",
    "%env blastx=/home/shared/ncbi-blast-2.8.1+/bin/blastx\n",
    "%env orf_fasta=/media/sam/4TB_toshiba/porites/20180429_transdecoder/Trinity.fasta.transdecoder.cds.complete-ORFS-only.fasta\n",
    "%env blastdb_dir=/mnt/data/ncbi_swissprot_v5_db\n",
    "%env sp_db=swissprot_v5\n",
    "%env blastx_out_file=20190129_blastx_ncbi_sp-v5_porites.tab\n",
    "%env blastx_out_fmt=\"6 std staxids\""
   ]
  },
  {
   "cell_type": "code",
   "execution_count": 3,
   "metadata": {},
   "outputs": [
    {
     "name": "stdout",
     "output_type": "stream",
     "text": [
      " \n",
      "Taxid: 6073\n",
      " rank: phylum\n",
      " division: cnidarians\n",
      " scientific name: Cnidaria\n",
      " common name: cnidarians\n",
      "\n",
      "1 matche(s) found.\n",
      "\n"
     ]
    }
   ],
   "source": [
    "%%bash\n",
    "mkdir ${blastx_out_dir}\n",
    "\n",
    "${get_taxids} -n cnidaria\n",
    "\n",
    "${get_taxids} -t 6073 \\\n",
    "> ${taxid_list}\n",
    "\n",
    "head ${taxid_list}"
   ]
  },
  {
   "cell_type": "code",
   "execution_count": 4,
   "metadata": {},
   "outputs": [
    {
     "name": "stderr",
     "output_type": "stream",
     "text": [
      "head: cannot open '/media/sam/4TB_toshiba/porites/20190129_blastx_ncbi_sp-v5_porites/cindaria.taxids' for reading: No such file or directory\n"
     ]
    }
   ],
   "source": [
    "%%bash\n",
    "\n",
    "ls ${blastx_out_dir}\n",
    "head ${taxid_list}"
   ]
  },
  {
   "cell_type": "code",
   "execution_count": 5,
   "metadata": {},
   "outputs": [],
   "source": [
    "%%bash\n",
    "${get_taxids} -t 6073 \\\n",
    "> ${taxid_list}\n",
    "\n",
    "head ${taxid_list}"
   ]
  },
  {
   "cell_type": "code",
   "execution_count": 6,
   "metadata": {},
   "outputs": [
    {
     "name": "stdout",
     "output_type": "stream",
     "text": [
      "total 72K\n",
      "-rw-rw-r-- 1 sam sam 72K Jan 29 12:26 cindaria.taxids\n"
     ]
    }
   ],
   "source": [
    "%%bash\n",
    "ls -lh ${blastx_out_dir}"
   ]
  },
  {
   "cell_type": "code",
   "execution_count": 7,
   "metadata": {},
   "outputs": [
    {
     "name": "stdout",
     "output_type": "stream",
     "text": [
      "6073\n",
      "6074\n",
      "6077\n",
      "6078\n",
      "6079\n",
      "6080\n",
      "6082\n",
      "6083\n",
      "6086\n",
      "6087\n"
     ]
    }
   ],
   "source": [
    "%%bash\n",
    "head ${taxid_list}"
   ]
  },
  {
   "cell_type": "code",
   "execution_count": 8,
   "metadata": {},
   "outputs": [
    {
     "name": "stderr",
     "output_type": "stream",
     "text": [
      "USAGE\n",
      "  blastx [-h] [-help] [-import_search_strategy filename]\n",
      "    [-export_search_strategy filename] [-task task_name] [-db database_name]\n",
      "    [-dbsize num_letters] [-gilist filename] [-seqidlist filename]\n",
      "    [-negative_gilist filename] [-negative_seqidlist filename]\n",
      "    [-taxids taxids] [-negative_taxids taxids] [-taxidlist filename]\n",
      "    [-negative_taxidlist filename] [-entrez_query entrez_query]\n",
      "    [-db_soft_mask filtering_algorithm] [-db_hard_mask filtering_algorithm]\n",
      "    [-subject subject_input_file] [-subject_loc range] [-query input_file]\n",
      "    [-out output_file] [-evalue evalue] [-word_size int_value]\n",
      "    [-gapopen open_penalty] [-gapextend extend_penalty]\n",
      "    [-qcov_hsp_perc float_value] [-max_hsps int_value]\n",
      "    [-xdrop_ungap float_value] [-xdrop_gap float_value]\n",
      "    [-xdrop_gap_final float_value] [-searchsp int_value]\n",
      "    [-sum_stats bool_value] [-max_intron_length length] [-seg SEG_options]\n",
      "    [-soft_masking soft_masking] [-matrix matrix_name]\n",
      "    [-threshold float_value] [-culling_limit int_value]\n",
      "    [-best_hit_overhang float_value] [-best_hit_score_edge float_value]\n",
      "    [-subject_besthit] [-window_size int_value] [-ungapped] [-lcase_masking]\n",
      "    [-query_loc range] [-strand strand] [-parse_deflines]\n",
      "    [-query_gencode int_value] [-outfmt format] [-show_gis]\n",
      "    [-num_descriptions int_value] [-num_alignments int_value]\n",
      "    [-line_length line_length] [-html] [-max_target_seqs num_sequences]\n",
      "    [-num_threads int_value] [-remote] [-comp_based_stats compo]\n",
      "    [-use_sw_tback] [-version]\n",
      "\n",
      "DESCRIPTION\n",
      "   Translated Query-Protein Subject BLAST 2.8.1+\n",
      "\n",
      "Use '-help' to print detailed descriptions of command line arguments\n",
      "========================================================================\n",
      "\n",
      "Error:  (CArgException::eSynopsis) Too many positional arguments (1), the offending value: std\n",
      "\n",
      "real\t0m0.011s\n",
      "user\t0m0.008s\n",
      "sys\t0m0.000s\n"
     ]
    }
   ],
   "source": [
    "%%bash\n",
    "\n",
    "cd ${blastdb_dir}\n",
    "\n",
    "export BLASTDB=${blastdb_dir}\n",
    "\n",
    "time \\\n",
    "${blastx} \\\n",
    "-query ${orf_fasta} \\\n",
    "-db ${blastdb_dir}/${sp_db} \\\n",
    "-taxidlist ${taxid_list} \\\n",
    "-evalue 1E-04 \\\n",
    "-outfmt ${blastx_out_fmt} \\\n",
    "-max_target_seqs 1 \\\n",
    "-num_threads 23 \\\n",
    "-out ${blastx_out_dir}/${blastx_out_file}\n",
    "\n",
    "sed '/^Subject:/ s/ / porites_blastx JOB COMPLETE/' ~/.default-subject.mail | msmtp \"$EMAIL\""
   ]
  },
  {
   "cell_type": "code",
   "execution_count": 9,
   "metadata": {},
   "outputs": [
    {
     "name": "stderr",
     "output_type": "stream",
     "text": [
      "Warning: [blastx] Examining 5 or more matches is recommended\n",
      "\n",
      "real\t15m45.504s\n",
      "user\t341m26.300s\n",
      "sys\t19m3.036s\n"
     ]
    }
   ],
   "source": [
    "%%bash\n",
    "\n",
    "cd ${blastdb_dir}\n",
    "\n",
    "export BLASTDB=${blastdb_dir}\n",
    "\n",
    "time \\\n",
    "${blastx} \\\n",
    "-query ${orf_fasta} \\\n",
    "-db ${blastdb_dir}/${sp_db} \\\n",
    "-taxidlist ${taxid_list} \\\n",
    "-evalue 1E-04 \\\n",
    "-outfmt \"6 std staxids\" \\\n",
    "-max_target_seqs 1 \\\n",
    "-num_threads 23 \\\n",
    "-out ${blastx_out_dir}/${blastx_out_file}\n",
    "\n",
    "sed '/^Subject:/ s/ / porites_blastx JOB COMPLETE/' ~/.default-subject.mail | msmtp \"$EMAIL\""
   ]
  },
  {
   "cell_type": "code",
   "execution_count": 10,
   "metadata": {},
   "outputs": [
    {
     "name": "stdout",
     "output_type": "stream",
     "text": [
      "total 1.1M\n",
      "-rw-rw-r-- 1 sam sam  72K Jan 29 12:26 cindaria.taxids\n",
      "-rw-rw-r-- 1 sam sam 954K Jan 29 12:53 20190129_blastx_ncbi_sp-v5_porites.tab\n",
      "TRINITY_DN100516_c0_g1_i1.p1\tA7SNN5.1\t30.075\t133\t77\t6\t571\t936\t82\t209\t1.51e-05\t41.6\t45351\n",
      "TRINITY_DN100945_c0_g1_i1.p1\tP17713.1\t29.108\t213\t133\t8\t340\t972\t290\t486\t1.28e-15\t71.6\t6087\n",
      "TRINITY_DN101074_c0_g1_i1.p1\tA7RK30.1\t36.047\t86\t53\t2\t13\t267\t56\t140\t5.39e-07\t44.7\t45351\n",
      "TRINITY_DN101081_c0_g1_i1.p1\tP53356.1\t33.032\t221\t118\t10\t1303\t1923\t476\t680\t6.23e-20\t88.6\t6087\n",
      "TRINITY_DN101212_c0_g1_i2.p1\tP62184.2\t29.545\t88\t60\t1\t82\t345\t61\t146\t1.74e-10\t49.7\t6136\n",
      "TRINITY_DN101275_c0_g1_i1.p1\tA7T395.2\t32.381\t315\t174\t6\t13\t948\t319\t597\t8.42e-39\t139\t45351\n",
      "TRINITY_DN101407_c0_g1_i1.p1\tP53356.1\t23.200\t125\t91\t2\t442\t801\t120\t244\t4.21e-05\t38.5\t6087\n",
      "TRINITY_DN101407_c0_g1_i1.p1\tP53356.1\t25.926\t135\t97\t2\t406\t801\t75\t209\t6.44e-05\t38.1\t6087\n",
      "TRINITY_DN101544_c0_g1_i1.p1\tA7SNN5.1\t24.519\t208\t126\t7\t280\t885\t75\t257\t2.69e-06\t43.1\t45351\n",
      "TRINITY_DN101870_c1_g1_i1.p1\tP61368.2\t64.242\t165\t59\t0\t1\t495\t1\t165\t5.66e-73\t214\t6087\n"
     ]
    }
   ],
   "source": [
    "%%bash\n",
    "ls -ltrh ${blastx_out_dir}\n",
    "head ${blastx_out_dir}/${blastx_out_file}"
   ]
  },
  {
   "cell_type": "code",
   "execution_count": 11,
   "metadata": {},
   "outputs": [
    {
     "name": "stdout",
     "output_type": "stream",
     "text": [
      "total 1.4M\n",
      "-rw-rw-r-- 1 sam sam  72K Jan 29 12:26 cindaria.taxids\n",
      "-rw-rw-r-- 1 sam sam 954K Jan 29 12:53 20190129_blastx_ncbi_sp-v5_porites.tab\n",
      "-rw-rw-r-- 1 sam sam 308K Jan 29 13:54 20190129_blastx_sp_porites_cnidarian.list\n",
      "\n",
      "NUMBER OF BLAST MATCHES:\n",
      "10840 20190129_blastx_sp_porites_cnidarian.list\n",
      "\n",
      "TRINITY_DN100516_c0_g1_i1.p1\n",
      "TRINITY_DN100945_c0_g1_i1.p1\n",
      "TRINITY_DN101074_c0_g1_i1.p1\n",
      "TRINITY_DN101081_c0_g1_i1.p1\n",
      "TRINITY_DN101212_c0_g1_i2.p1\n",
      "TRINITY_DN101275_c0_g1_i1.p1\n",
      "TRINITY_DN101407_c0_g1_i1.p1\n",
      "TRINITY_DN101407_c0_g1_i1.p1\n",
      "TRINITY_DN101544_c0_g1_i1.p1\n",
      "TRINITY_DN101870_c1_g1_i1.p1\n"
     ]
    }
   ],
   "source": [
    "%%bash\n",
    "cd ${blastx_out_dir}\n",
    "awk '{print $1}' ${blastx_out_file} > 20190129_blastx_sp_porites_cnidarian.list\n",
    "\n",
    "ls -ltrh\n",
    "\n",
    "echo \"\"\n",
    "echo \"NUMBER OF BLAST MATCHES:\"\n",
    "wc -l 20190129_blastx_sp_porites_cnidarian.list\n",
    "\n",
    "echo \"\"\n",
    "\n",
    "head 20190129_blastx_sp_porites_cnidarian.list"
   ]
  },
  {
   "cell_type": "code",
   "execution_count": 12,
   "metadata": {},
   "outputs": [
    {
     "name": "stdout",
     "output_type": "stream",
     "text": [
      "total 1.3M\n",
      "-rw-rw-r-- 1 sam sam  72K Jan 29 12:26 cindaria.taxids\n",
      "-rw-rw-r-- 1 sam sam 954K Jan 29 12:53 20190129_blastx_ncbi_sp-v5_porites.tab\n",
      "-rw-rw-r-- 1 sam sam 276K Jan 29 13:55 20190129_blastx_sp_porites_cnidarian.list\n",
      "\n",
      "NUMBER OF BLAST MATCHES:\n",
      "10840 20190129_blastx_sp_porites_cnidarian.list\n",
      "\n",
      "TRINITY_DN100516_c0_g1_i1\n",
      "TRINITY_DN100945_c0_g1_i1\n",
      "TRINITY_DN101074_c0_g1_i1\n",
      "TRINITY_DN101081_c0_g1_i1\n",
      "TRINITY_DN101212_c0_g1_i2\n",
      "TRINITY_DN101275_c0_g1_i1\n",
      "TRINITY_DN101407_c0_g1_i1\n",
      "TRINITY_DN101407_c0_g1_i1\n",
      "TRINITY_DN101544_c0_g1_i1\n",
      "TRINITY_DN101870_c1_g1_i1\n"
     ]
    }
   ],
   "source": [
    "%%bash\n",
    "cd ${blastx_out_dir}\n",
    "awk -F'.' '{print $1}' ${blastx_out_file} > 20190129_blastx_sp_porites_cnidarian.list\n",
    "\n",
    "ls -ltrh\n",
    "\n",
    "echo \"\"\n",
    "echo \"NUMBER OF BLAST MATCHES:\"\n",
    "wc -l 20190129_blastx_sp_porites_cnidarian.list\n",
    "\n",
    "echo \"\"\n",
    "\n",
    "head 20190129_blastx_sp_porites_cnidarian.list"
   ]
  },
  {
   "cell_type": "code",
   "execution_count": null,
   "metadata": {},
   "outputs": [],
   "source": []
  }
 ],
 "metadata": {
  "kernelspec": {
   "display_name": "Python 3",
   "language": "python",
   "name": "python3"
  },
  "language_info": {
   "codemirror_mode": {
    "name": "ipython",
    "version": 3
   },
   "file_extension": ".py",
   "mimetype": "text/x-python",
   "name": "python",
   "nbconvert_exporter": "python",
   "pygments_lexer": "ipython3",
   "version": "3.6.4"
  }
 },
 "nbformat": 4,
 "nbformat_minor": 2
}
