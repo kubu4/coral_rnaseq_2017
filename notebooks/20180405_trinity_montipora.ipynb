{
 "cells": [
  {
   "cell_type": "code",
   "execution_count": 1,
   "metadata": {},
   "outputs": [
    {
     "name": "stdout",
     "output_type": "stream",
     "text": [
      "TODAY'S DATE\n",
      "Thu Apr  5 22:43:48 PDT 2018\n",
      "------------\n",
      "\n",
      "Distributor ID:\tUbuntu\n",
      "Description:\tUbuntu 16.04.4 LTS\n",
      "Release:\t16.04\n",
      "Codename:\txenial\n",
      "\n",
      "------------\n",
      "HOSTNAME: \n",
      "jpg-d20\n",
      "\n",
      "------------\n",
      "Computer Specs:\n",
      "\n",
      "Architecture:          x86_64\n",
      "CPU op-mode(s):        32-bit, 64-bit\n",
      "Byte Order:            Little Endian\n",
      "CPU(s):                24\n",
      "On-line CPU(s) list:   0-23\n",
      "Thread(s) per core:    2\n",
      "Core(s) per socket:    6\n",
      "Socket(s):             2\n",
      "NUMA node(s):          2\n",
      "Vendor ID:             GenuineIntel\n",
      "CPU family:            6\n",
      "Model:                 44\n",
      "Model name:            Intel(R) Xeon(R) CPU           X5680  @ 3.33GHz\n",
      "Stepping:              2\n",
      "CPU MHz:               1596.000\n",
      "CPU max MHz:           3326.0000\n",
      "CPU min MHz:           1596.0000\n",
      "BogoMIPS:              6666.90\n",
      "Virtualization:        VT-x\n",
      "L1d cache:             32K\n",
      "L1i cache:             32K\n",
      "L2 cache:              256K\n",
      "L3 cache:              12288K\n",
      "NUMA node0 CPU(s):     0,2,4,6,8,10,12,14,16,18,20,22\n",
      "NUMA node1 CPU(s):     1,3,5,7,9,11,13,15,17,19,21,23\n",
      "Flags:                 fpu vme de pse tsc msr pae mce cx8 apic sep mtrr pge mca cmov pat pse36 clflush dts acpi mmx fxsr sse sse2 ss ht tm pbe syscall nx pdpe1gb rdtscp lm constant_tsc arch_perfmon pebs bts rep_good nopl xtopology nonstop_tsc aperfmperf pni pclmulqdq dtes64 monitor ds_cpl vmx smx est tm2 ssse3 cx16 xtpr pdcm pcid dca sse4_1 sse4_2 popcnt aes lahf_lm epb retpoline kaiser tpr_shadow vnmi flexpriority ept vpid dtherm ida arat\n",
      "\n",
      "------------\n",
      "\n",
      "Memory Specs\n",
      "\n",
      "              total        used        free      shared  buff/cache   available\n",
      "Mem:            94G        1.5G         92G         70M        922M         92G\n",
      "Swap:          128G          0B        128G\n"
     ]
    },
    {
     "name": "stderr",
     "output_type": "stream",
     "text": [
      "No LSB modules are available.\n"
     ]
    }
   ],
   "source": [
    "%%bash\n",
    "echo \"TODAY'S DATE\"\n",
    "date\n",
    "echo \"------------\"\n",
    "echo \"\"\n",
    "lsb_release -a\n",
    "echo \"\"\n",
    "echo \"------------\"\n",
    "echo \"HOSTNAME: \"\n",
    "hostname\n",
    "echo \"\"\n",
    "echo \"------------\"\n",
    "echo \"Computer Specs:\"\n",
    "echo \"\"\n",
    "lscpu\n",
    "echo \"\"\n",
    "echo \"------------\"\n",
    "echo \"\"\n",
    "echo \"Memory Specs\"\n",
    "echo \"\"\n",
    "free -mh"
   ]
  },
  {
   "cell_type": "code",
   "execution_count": 2,
   "metadata": {},
   "outputs": [
    {
     "name": "stderr",
     "output_type": "stream",
     "text": [
      "\n",
      "real\t17m53.851s\n",
      "user\t0m0.384s\n",
      "sys\t0m42.684s\n"
     ]
    }
   ],
   "source": [
    "%%bash\n",
    "time cp /media/sam/4TB_toshiba/montipora/*.gz /mnt/data/coral_RNAseq_2017/montipora/\n",
    "cat ~/.default_subject.mail| msmtp \"$EMAIL\""
   ]
  },
  {
   "cell_type": "code",
   "execution_count": 3,
   "metadata": {},
   "outputs": [
    {
     "name": "stdout",
     "output_type": "stream",
     "text": [
      "Process is terminated.\n"
     ]
    }
   ],
   "source": [
    "%%bash\n",
    "mkdir /media/sam/4TB_toshiba/montipora/20180405_trinity\n",
    "cd /mnt/data/coral_RNAseq_2017/montipora/\n",
    "time  /home/shared/trinityrnaseq-Trinity-v2.6.5/Trinity \\\n",
    "--output /media/sam/4TB_toshiba/montipora/20180405_trinity \\\n",
    "--seqType fq \\\n",
    "--max_memory 90G \\\n",
    "--CPU 24 \\\n",
    "--left \\\n",
    "4R041-L6-P01-AGTCAA-READ1-Sequences.txt.gz,\\\n",
    "4R041-L6-P02-CTTGTA-READ1-Sequences.txt.gz,\\\n",
    "4R041-L6-P03-GTTTCG-READ1-Sequences.txt.gz,\\\n",
    "4R041-L6-P04-ATCACG-READ1-Sequences.txt.gz,\\\n",
    "4R041-L6-P05-TAGCTT-READ1-Sequences.txt.gz,\\\n",
    "4R041-L6-P06-AGTTCC-READ1-Sequences.txt.gz,\\\n",
    "4R041-L6-P07-ATGTCA-READ1-Sequences.txt.gz,\\\n",
    "4R041-L6-P08-ACTGAT-READ1-Sequences.txt.gz,\\\n",
    "4R041-L6-P09-GGCTAC-READ1-Sequences.txt.gz,\\\n",
    "4R041-L6-P10-GTCCGC-READ1-Sequences.txt.gz,\\\n",
    "4R041-L6-P11-GAGTGG-READ1-Sequences.txt.gz,\\\n",
    "4R041-L6-P12-GCCAAT-READ1-Sequences.txt.gz,\\\n",
    "4R041-L6-PrNotRecog-READ1-Sequences.txt.gz \\\n",
    "--right \\\n",
    "4R041-L6-P01-AGTCAA-READ2-Sequences.txt.gz,\\\n",
    "4R041-L6-P02-CTTGTA-READ2-Sequences.txt.gz,\\\n",
    "4R041-L6-P03-GTTTCG-READ2-Sequences.txt.gz,\\\n",
    "4R041-L6-P04-ATCACG-READ2-Sequences.txt.gz,\\\n",
    "4R041-L6-P05-TAGCTT-READ2-Sequences.txt.gz,\\\n",
    "4R041-L6-P06-AGTTCC-READ2-Sequences.txt.gz,\\\n",
    "4R041-L6-P07-ATGTCA-READ2-Sequences.txt.gz,\\\n",
    "4R041-L6-P08-ACTGAT-READ2-Sequences.txt.gz,\\\n",
    "4R041-L6-P09-GGCTAC-READ2-Sequences.txt.gz,\\\n",
    "4R041-L6-P10-GTCCGC-READ2-Sequences.txt.gz,\\\n",
    "4R041-L6-P11-GAGTGG-READ2-Sequences.txt.gz,\\\n",
    "4R041-L6-P12-GCCAAT-READ2-Sequences.txt.gz,\\\n",
    "4R041-L6-PrNotRecog-READ2-Sequences.txt.gz \\\n",
    "> /media/sam/4TB_toshiba/montipora/20180405_trinityrun.log 2>&1\n",
    "cat ~/.default_subject.mail| msmtp \"$EMAIL\""
   ]
  },
  {
   "cell_type": "code",
   "execution_count": 4,
   "metadata": {},
   "outputs": [
    {
     "name": "stdout",
     "output_type": "stream",
     "text": [
      "  File \"/home/shared/trinityrnaseq-Trinity-v2.6.5/Analysis/SuperTranscripts/Trinity_gene_splice_modeler.py\", line 136, in main\n",
      "    squeezed_splice_model = Splice_model_refiner.refine_alignment(squeezed_splice_model, reset_node_ids=True) # True important here... can have repeat nodes\n",
      "  File \"/home/shared/trinityrnaseq-Trinity-v2.6.5/Analysis/SuperTranscripts/pylib/Splice_model_refiner.py\", line 43, in refine_alignment\n",
      "    graph_compactor.compact_unbranched(refined_tgraph)\n",
      "  File \"/home/shared/trinityrnaseq-Trinity-v2.6.5/Analysis/SuperTranscripts/pylib/Compact_graph_whole.py\", line 32, in compact_unbranched\n",
      "    for node in tgraph.get_all_nodes():\n",
      "RuntimeError: dictionary changed size during iteration\n",
      "Trinity run failed. Must investigate error above.\n",
      "warning, cmd: /home/shared/trinityrnaseq-Trinity-v2.6.5/util/support_scripts/../../Trinity --single \"/media/sam/4TB_toshiba/montipora/20180405_trinity/read_partitions/Fb_1/CBin_1083/c108320.trinity.reads.fa\" --output \"/media/sam/4TB_toshiba/montipora/20180405_trinity/read_partitions/Fb_1/CBin_1083/c108320.trinity.reads.fa.out\" --CPU 1 --max_memory 1G --run_as_paired --seqType fa --trinity_complete --full_cleanup   failed with ret: 512, going to retry.\n",
      "\r",
      "succeeded(1860), failed(495)   1.04696% completed.    \r",
      "succeeded(1861), failed(495)   1.0474% completed.    \r",
      "succeeded(1862), failed(495)   1.04784% completed.    \r",
      "succeeded(1863), failed(495)   1.04829% completed.    \r",
      "succeeded(1864), failed(495)   1.04873% completed.    \r",
      "succeeded(1865), failed(495)   1.04918% completed.    "
     ]
    }
   ],
   "source": [
    "%%bash\n",
    "tail /media/sam/4TB_toshiba/montipora/20180405_trinityrun.log"
   ]
  },
  {
   "cell_type": "markdown",
   "metadata": {},
   "source": [
    "Dude... A quick search for this error revealed this: https://github.com/trinityrnaseq/trinityrnaseq/issues/406\n",
    "\n",
    "Can be resolved by installing v2.6.6 patch. Will install and re-run..."
   ]
  },
  {
   "cell_type": "code",
   "execution_count": null,
   "metadata": {},
   "outputs": [],
   "source": []
  }
 ],
 "metadata": {
  "kernelspec": {
   "display_name": "Python 3",
   "language": "python",
   "name": "python3"
  },
  "language_info": {
   "codemirror_mode": {
    "name": "ipython",
    "version": 3
   },
   "file_extension": ".py",
   "mimetype": "text/x-python",
   "name": "python",
   "nbconvert_exporter": "python",
   "pygments_lexer": "ipython3",
   "version": "3.6.4"
  }
 },
 "nbformat": 4,
 "nbformat_minor": 2
}
