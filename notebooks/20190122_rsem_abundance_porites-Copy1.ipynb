{
 "cells": [
  {
   "cell_type": "code",
   "execution_count": 1,
   "metadata": {
    "scrolled": true
   },
   "outputs": [
    {
     "name": "stdout",
     "output_type": "stream",
     "text": [
      "TODAY'S DATE\n",
      "Tue Jan 22 20:30:49 PST 2019\n",
      "------------\n",
      "\n",
      "Distributor ID:\tUbuntu\n",
      "Description:\tUbuntu 16.04.5 LTS\n",
      "Release:\t16.04\n",
      "Codename:\txenial\n",
      "\n",
      "------------\n",
      "HOSTNAME: \n",
      "jpg-d20\n",
      "\n",
      "------------\n",
      "Computer Specs:\n",
      "\n",
      "Architecture:          x86_64\n",
      "CPU op-mode(s):        32-bit, 64-bit\n",
      "Byte Order:            Little Endian\n",
      "CPU(s):                24\n",
      "On-line CPU(s) list:   0-23\n",
      "Thread(s) per core:    2\n",
      "Core(s) per socket:    6\n",
      "Socket(s):             2\n",
      "NUMA node(s):          2\n",
      "Vendor ID:             GenuineIntel\n",
      "CPU family:            6\n",
      "Model:                 44\n",
      "Model name:            Intel(R) Xeon(R) CPU           X5680  @ 3.33GHz\n",
      "Stepping:              2\n",
      "CPU MHz:               1596.000\n",
      "CPU max MHz:           3326.0000\n",
      "CPU min MHz:           1596.0000\n",
      "BogoMIPS:              6666.90\n",
      "Virtualization:        VT-x\n",
      "L1d cache:             32K\n",
      "L1i cache:             32K\n",
      "L2 cache:              256K\n",
      "L3 cache:              12288K\n",
      "NUMA node0 CPU(s):     0,2,4,6,8,10,12,14,16,18,20,22\n",
      "NUMA node1 CPU(s):     1,3,5,7,9,11,13,15,17,19,21,23\n",
      "Flags:                 fpu vme de pse tsc msr pae mce cx8 apic sep mtrr pge mca cmov pat pse36 clflush dts acpi mmx fxsr sse sse2 ss ht tm pbe syscall nx pdpe1gb rdtscp lm constant_tsc arch_perfmon pebs bts rep_good nopl xtopology nonstop_tsc aperfmperf pni pclmulqdq dtes64 monitor ds_cpl vmx smx est tm2 ssse3 cx16 xtpr pdcm pcid dca sse4_1 sse4_2 popcnt aes lahf_lm epb kaiser tpr_shadow vnmi flexpriority ept vpid dtherm ida arat\n",
      "\n",
      "------------\n",
      "\n",
      "Memory Specs\n",
      "\n",
      "              total        used        free      shared  buff/cache   available\n",
      "Mem:            94G        1.7G         84G        155M        8.2G         91G\n",
      "Swap:          128G          0B        128G\n"
     ]
    },
    {
     "name": "stderr",
     "output_type": "stream",
     "text": [
      "No LSB modules are available.\n"
     ]
    }
   ],
   "source": [
    "%%bash\n",
    "echo \"TODAY'S DATE\"\n",
    "date\n",
    "echo \"------------\"\n",
    "echo \"\"\n",
    "lsb_release -a\n",
    "echo \"\"\n",
    "echo \"------------\"\n",
    "echo \"HOSTNAME: \"\n",
    "hostname\n",
    "echo \"\"\n",
    "echo \"------------\"\n",
    "echo \"Computer Specs:\"\n",
    "echo \"\"\n",
    "lscpu\n",
    "echo \"\"\n",
    "echo \"------------\"\n",
    "echo \"\"\n",
    "echo \"Memory Specs\"\n",
    "echo \"\"\n",
    "free -mh"
   ]
  },
  {
   "cell_type": "code",
   "execution_count": 2,
   "metadata": {},
   "outputs": [
    {
     "name": "stdout",
     "output_type": "stream",
     "text": [
      "env: rsem_out_dir=/media/sam/4TB_toshiba/porites/20190122_rsem\n",
      "env: faidx_out_dir=/media/sam/4TB_toshiba/porites/coral_transcripts\n",
      "env: coral_transcriptome=/media/sam/4TB_toshiba/porites/coral_transcripts/Trinity.coral.fasta\n",
      "env: coral_fasta_index=/media/sam/4TB_toshiba/porites/coral_transcripts/Trinity.coral.fasta.fai\n",
      "env: transcriptome=/media/sam/4TB_toshiba/porites/20180419_trinity/Trinity.fasta\n",
      "env: samples=/home/sam/gitrepos/coral_rnaseq_2017/scripts/porites_b_vs_nb_trinity_sample_list.txt\n",
      "env: faidx_stdout=/media/sam/4TB_toshiba/porites/coral_transcripts/20190122_faidx.out\n",
      "env: faidx_stderr=/media/sam/4TB_toshiba/porites/coral_transcripts/20190122_faidx.err\n",
      "env: rsem_stdout=/media/sam/4TB_toshiba/porites/20190122_rsem/20190122_rsem.out\n",
      "env: rsem_stderr=/media/sam/4TB_toshiba/porites/20190122_rsem/20190122_rsem.err\n"
     ]
    }
   ],
   "source": [
    "%env rsem_out_dir=/media/sam/4TB_toshiba/porites/20190122_rsem\n",
    "%env faidx_out_dir=/media/sam/4TB_toshiba/porites/coral_transcripts\n",
    "%env coral_transcriptome=/media/sam/4TB_toshiba/porites/coral_transcripts/Trinity.coral.fasta\n",
    "%env coral_fasta_index=/media/sam/4TB_toshiba/porites/coral_transcripts/Trinity.coral.fasta.fai\n",
    "%env transcriptome=/media/sam/4TB_toshiba/porites/20180419_trinity/Trinity.fasta\n",
    "%env samples=/home/sam/gitrepos/coral_rnaseq_2017/scripts/porites_b_vs_nb_trinity_sample_list.txt\n",
    "\n",
    "%env faidx_stdout=/media/sam/4TB_toshiba/porites/coral_transcripts/20190122_faidx.out\n",
    "%env faidx_stderr=/media/sam/4TB_toshiba/porites/coral_transcripts/20190122_faidx.err\n",
    "%env rsem_stdout=/media/sam/4TB_toshiba/porites/20190122_rsem/20190122_rsem.out\n",
    "%env rsem_stderr=/media/sam/4TB_toshiba/porites/20190122_rsem/20190122_rsem.err"
   ]
  },
  {
   "cell_type": "code",
   "execution_count": 3,
   "metadata": {},
   "outputs": [
    {
     "ename": "SyntaxError",
     "evalue": "invalid syntax (<ipython-input-3-e59965062e93>, line 3)",
     "output_type": "error",
     "traceback": [
      "\u001b[0;36m  File \u001b[0;32m\"<ipython-input-3-e59965062e93>\"\u001b[0;36m, line \u001b[0;32m3\u001b[0m\n\u001b[0;31m    transcripts_list=/media/sam/4TB_toshiba/porites/20190115_blastx_ncbi_nr-v5_porites/20190115_blastx_nr_porites.list\u001b[0m\n\u001b[0m                     ^\u001b[0m\n\u001b[0;31mSyntaxError\u001b[0m\u001b[0;31m:\u001b[0m invalid syntax\n"
     ]
    }
   ],
   "source": [
    "# Set program locations\n",
    "faidx=\"/home/shared/samtools-1.9/samtools faidx\"\n",
    "transcripts_list=/media/sam/4TB_toshiba/porites/20190115_blastx_ncbi_nr-v5_porites/20190115_blastx_nr_porites.list\n",
    "\n",
    "cd ${faidx_out_dir}\n",
    "\n",
    "# Pull out coral only seqs from Trinity transcriptome\n",
    "time \\\n",
    "while read contig; do\n",
    "  ${faidx} \\\n",
    "  ${transcriptome} \\\n",
    "  ${contig} \\\n",
    "  >> ${coral_fasta} \\\n",
    "  1>> ${faidx_stdout} \\\n",
    "  2>> ${faidx_stderr}\n",
    "done < ${transcripts_list}\n",
    "\n",
    "## Create index for new fasta\n",
    "${faidx} ${coral_fasta}\n",
    "\n",
    "sed '/^Subject:/ s/ / porites_faidx JOB COMPLETE/' ~/.default-subject.mail | msmtp \"$EMAIL\"\n",
    "\n",
    "echo \"STANDARD OUT\"\n",
    "tail ${faidx_stdout}\n",
    "echo \"--------------\"\n",
    "echo \"\"\n",
    "echo \"STANDARD ERROR\"\n",
    "tail ${faidx_stderr}\n",
    "echo \"\"\n",
    "\n",
    "wc -l ${transcripts_list}\n",
    "\n",
    "grep -c \">\" ${coral_transcriptome}"
   ]
  },
  {
   "cell_type": "code",
   "execution_count": 4,
   "metadata": {},
   "outputs": [
    {
     "name": "stdout",
     "output_type": "stream",
     "text": [
      "Usage: samtools faidx <file.fa|file.fa.gz> [<reg> [...]]\n",
      "Option: \n",
      " -o, --output FILE        Write FASTA to file.\n",
      " -n, --length INT         Length of FASTA sequence line. [60]\n",
      " -c, --continue           Continue after trying to retrieve missing region.\n",
      " -r, --region-file FILE   File of regions.  Format is chr:from-to. One per line.\n",
      " -i, --reverse-complement Reverse complement sequences.\n",
      "     --mark-strand TYPE   Add strand indicator to sequence name\n",
      "                          TYPE = rc   for /rc on negative strand (default)\n",
      "                                 no   for no strand indicator\n",
      "                                 sign for (+) / (-)\n",
      "                                 custom,<pos>,<neg> for custom indicator\n",
      " -f, --fastq              File and index in FASTQ format.\n",
      " -h, --help               This message.\n",
      "STANDARD OUT\n",
      "--------------\n",
      "\n",
      "STANDARD ERROR\n",
      "\n",
      "60605 /media/sam/4TB_toshiba/porites/20190115_blastx_ncbi_nr-v5_porites/20190115_blastx_nr_porites.list\n"
     ]
    },
    {
     "name": "stderr",
     "output_type": "stream",
     "text": [
      "IOPub data rate exceeded.\n",
      "The notebook server will temporarily stop sending output\n",
      "to the client in order to avoid crashing it.\n",
      "To change this limit, set the config variable\n",
      "`--NotebookApp.iopub_data_rate_limit`.\n",
      "\n",
      "Current values:\n",
      "NotebookApp.iopub_data_rate_limit=1000000.0 (bytes/sec)\n",
      "NotebookApp.rate_limit_window=3.0 (secs)\n",
      "\n"
     ]
    }
   ],
   "source": [
    "%%bash\n",
    "# Set program locations\n",
    "faidx=\"/home/shared/samtools-1.9/samtools faidx\"\n",
    "transcripts_list=/media/sam/4TB_toshiba/porites/20190115_blastx_ncbi_nr-v5_porites/20190115_blastx_nr_porites.list\n",
    "\n",
    "cd ${faidx_out_dir}\n",
    "\n",
    "# Pull out coral only seqs from Trinity transcriptome\n",
    "time \\\n",
    "while read contig; do\n",
    "  ${faidx} \\\n",
    "  ${transcriptome} \\\n",
    "  ${contig} \\\n",
    "  >> ${coral_fasta} \\\n",
    "  1>> ${faidx_stdout} \\\n",
    "  2>> ${faidx_stderr}\n",
    "done < ${transcripts_list}\n",
    "\n",
    "## Create index for new fasta\n",
    "${faidx} ${coral_fasta}\n",
    "\n",
    "sed '/^Subject:/ s/ / porites_faidx JOB COMPLETE/' ~/.default-subject.mail | msmtp \"$EMAIL\"\n",
    "\n",
    "echo \"STANDARD OUT\"\n",
    "tail ${faidx_stdout}\n",
    "echo \"--------------\"\n",
    "echo \"\"\n",
    "echo \"STANDARD ERROR\"\n",
    "tail ${faidx_stderr}\n",
    "echo \"\"\n",
    "\n",
    "wc -l ${transcripts_list}\n",
    "\n",
    "grep -c \">\" ${coral_transcriptome}"
   ]
  },
  {
   "cell_type": "code",
   "execution_count": 5,
   "metadata": {},
   "outputs": [
    {
     "name": "stderr",
     "output_type": "stream",
     "text": [
      "bash: line 1: fg: no job control\n",
      "bash: line 35: syntax error: unexpected end of file\n"
     ]
    }
   ],
   "source": [
    "%%bash\n",
    "%%bash\n",
    "# Set program locations\n",
    "faidx=\"/home/shared/samtools-1.9/samtools faidx\"\n",
    "transcripts_list=/media/sam/4TB_toshiba/porites/20190115_blastx_ncbi_nr-v5_porites/20190115_blastx_nr_porites.list\n",
    "\n",
    "cd ${faidx_out_dir}\n",
    "\n",
    "# Pull out coral only seqs from Trinity transcriptome\n",
    "time \\\n",
    "while read contig; do\n",
    "  ${faidx} \\\n",
    "  ${transcriptome} \\\n",
    "  ${contig} \\\n",
    "  >> ${coral_fasta} \\\n",
    "  1>> ${faidx_stdout} \\\n",
    "  2>> ${faidx_stderr} \\\n",
    "done < ${transcripts_list}\n",
    "\n",
    "## Create index for new fasta\n",
    "${faidx} ${coral_fasta}\n",
    "\n",
    "sed '/^Subject:/ s/ / porites_faidx JOB COMPLETE/' ~/.default-subject.mail | msmtp \"$EMAIL\"\n",
    "\n",
    "echo \"STANDARD OUT\"\n",
    "tail ${faidx_stdout}\n",
    "echo \"--------------\"\n",
    "echo \"\"\n",
    "echo \"STANDARD ERROR\"\n",
    "tail ${faidx_stderr}\n",
    "echo \"\"\n",
    "\n",
    "wc -l ${transcripts_list}\n",
    "\n",
    "grep -c \">\" ${coral_transcriptome}"
   ]
  },
  {
   "cell_type": "code",
   "execution_count": 6,
   "metadata": {},
   "outputs": [
    {
     "name": "stderr",
     "output_type": "stream",
     "text": [
      "bash: line 34: syntax error: unexpected end of file\n"
     ]
    }
   ],
   "source": [
    "%%bash\n",
    "# Set program locations\n",
    "faidx=\"/home/shared/samtools-1.9/samtools faidx\"\n",
    "transcripts_list=/media/sam/4TB_toshiba/porites/20190115_blastx_ncbi_nr-v5_porites/20190115_blastx_nr_porites.list\n",
    "\n",
    "cd ${faidx_out_dir}\n",
    "\n",
    "# Pull out coral only seqs from Trinity transcriptome\n",
    "time \\\n",
    "while read contig; do\n",
    "  ${faidx} \\\n",
    "  ${transcriptome} \\\n",
    "  ${contig} \\\n",
    "  >> ${coral_fasta} \\\n",
    "  1>> ${faidx_stdout} \\\n",
    "  2>> ${faidx_stderr} \\\n",
    "done < ${transcripts_list}\n",
    "\n",
    "## Create index for new fasta\n",
    "${faidx} ${coral_fasta}\n",
    "\n",
    "sed '/^Subject:/ s/ / porites_faidx JOB COMPLETE/' ~/.default-subject.mail | msmtp \"$EMAIL\"\n",
    "\n",
    "echo \"STANDARD OUT\"\n",
    "tail ${faidx_stdout}\n",
    "echo \"--------------\"\n",
    "echo \"\"\n",
    "echo \"STANDARD ERROR\"\n",
    "tail ${faidx_stderr}\n",
    "echo \"\"\n",
    "\n",
    "wc -l ${transcripts_list}\n",
    "\n",
    "grep -c \">\" ${coral_transcriptome}"
   ]
  },
  {
   "cell_type": "code",
   "execution_count": 7,
   "metadata": {},
   "outputs": [
    {
     "name": "stdout",
     "output_type": "stream",
     "text": [
      "Usage: samtools faidx <file.fa|file.fa.gz> [<reg> [...]]\n",
      "Option: \n",
      " -o, --output FILE        Write FASTA to file.\n",
      " -n, --length INT         Length of FASTA sequence line. [60]\n",
      " -c, --continue           Continue after trying to retrieve missing region.\n",
      " -r, --region-file FILE   File of regions.  Format is chr:from-to. One per line.\n",
      " -i, --reverse-complement Reverse complement sequences.\n",
      "     --mark-strand TYPE   Add strand indicator to sequence name\n",
      "                          TYPE = rc   for /rc on negative strand (default)\n",
      "                                 no   for no strand indicator\n",
      "                                 sign for (+) / (-)\n",
      "                                 custom,<pos>,<neg> for custom indicator\n",
      " -f, --fastq              File and index in FASTQ format.\n",
      " -h, --help               This message.\n",
      "STANDARD OUT\n",
      "--------------\n",
      "\n",
      "STANDARD ERROR\n",
      "\n",
      "60605 /media/sam/4TB_toshiba/porites/20190115_blastx_ncbi_nr-v5_porites/20190115_blastx_nr_porites.list\n"
     ]
    },
    {
     "name": "stderr",
     "output_type": "stream",
     "text": [
      "IOPub data rate exceeded.\n",
      "The notebook server will temporarily stop sending output\n",
      "to the client in order to avoid crashing it.\n",
      "To change this limit, set the config variable\n",
      "`--NotebookApp.iopub_data_rate_limit`.\n",
      "\n",
      "Current values:\n",
      "NotebookApp.iopub_data_rate_limit=1000000.0 (bytes/sec)\n",
      "NotebookApp.rate_limit_window=3.0 (secs)\n",
      "\n"
     ]
    }
   ],
   "source": [
    "%%bash\n",
    "# Set program locations\n",
    "faidx=\"/home/shared/samtools-1.9/samtools faidx\"\n",
    "transcripts_list=/media/sam/4TB_toshiba/porites/20190115_blastx_ncbi_nr-v5_porites/20190115_blastx_nr_porites.list\n",
    "\n",
    "cd ${faidx_out_dir}\n",
    "\n",
    "# Pull out coral only seqs from Trinity transcriptome\n",
    "time \\\n",
    "while read contig; do\n",
    "  ${faidx} \\\n",
    "  ${transcriptome} \\\n",
    "  ${contig} \\\n",
    "  >> ${coral_fasta}\n",
    "done < ${transcripts_list}\n",
    "\n",
    "## Create index for new fasta\n",
    "${faidx} ${coral_fasta}\n",
    "\n",
    "sed '/^Subject:/ s/ / porites_faidx JOB COMPLETE/' ~/.default-subject.mail | msmtp \"$EMAIL\"\n",
    "\n",
    "echo \"STANDARD OUT\"\n",
    "tail ${faidx_stdout}\n",
    "echo \"--------------\"\n",
    "echo \"\"\n",
    "echo \"STANDARD ERROR\"\n",
    "tail ${faidx_stderr}\n",
    "echo \"\"\n",
    "\n",
    "wc -l ${transcripts_list}\n",
    "\n",
    "grep -c \">\" ${coral_transcriptome}"
   ]
  },
  {
   "cell_type": "code",
   "execution_count": 8,
   "metadata": {},
   "outputs": [
    {
     "name": "stdout",
     "output_type": "stream",
     "text": [
      "bleached  bleached_K5_01  4R041-L7-P01-AGTTCC-READ1-Sequences.txt.gz_val_1.fq.gz  4R041-L7-P01-AGTTCC-READ2-Sequences.txt.gz_val_2.fq.gz\n",
      "bleached  bleached_K5_02  4R041-L7-P06-GCCAAT-READ1-Sequences.txt.gz_val_1.fq.gz  4R041-L7-P06-GCCAAT-READ2-Sequences.txt.gz_val_2.fq.gz\n",
      "bleached  bleached_K5_03  4R041-L7-P07-AGTCAA-READ1-Sequences.txt.gz_val_1.fq.gz  4R041-L7-P07-AGTCAA-READ2-Sequences.txt.gz_val_2.fq.gz\n",
      "bleached  bleached_K5_04  4R041-L7-P08-CTTGTA-READ1-Sequences.txt.gz_val_1.fq.gz  4R041-L7-P08-CTTGTA-READ2-Sequences.txt.gz_val_2.fq.gz\n",
      "bleached  bleached_K5_05  4R041-L7-P09-GTGAAA-READ1-Sequences.txt.gz_val_1.fq.gz  4R041-L7-P09-GTGAAA-READ2-Sequences.txt.gz_val_2.fq.gz\n",
      "bleached  bleached_K5_06  4R041-L7-P13-ATCACG-READ1-Sequences.txt.gz_val_1.fq.gz  4R041-L7-P13-ATCACG-READ2-Sequences.txt.gz_val_2.fq.gz\n",
      "bleached  bleached_44_01  4R041-L7-P03-ACTGAT-READ1-Sequences.txt.gz_val_1.fq.gz  4R041-L7-P03-ACTGAT-READ2-Sequences.txt.gz_val_2.fq.gz\n",
      "bleached  bleached_44_02  4R041-L7-P11-ACTTGA-READ1-Sequences.txt.gz_val_1.fq.gz  4R041-L7-P11-ACTTGA-READ2-Sequences.txt.gz_val_2.fq.gz\n",
      "bleached  bleached_44_03  4R041-L7-P14-GTGGCC-READ1-Sequences.txt.gz_val_1.fq.gz  4R041-L7-P14-GTGGCC-READ2-Sequences.txt.gz_val_2.fq.gz\n",
      "non-bleached  non-bleached_K5_01  4R041-L7-P02-ACAGTG-READ1-Sequences.txt.gz_val_1.fq.gz  4R041-L7-P02-ACAGTG-READ2-Sequences.txt.gz_val_2.fq.gz\n",
      "non-bleached  non-bleached_K5_02  4R041-L7-P10-TAGCTT-READ1-Sequences.txt.gz_val_1.fq.gz  4R041-L7-P10-TAGCTT-READ2-Sequences.txt.gz_val_2.fq.gz\n",
      "non-bleached  non-bleached_K5_03  4R041-L7-P15-GTTTCG-READ1-Sequences.txt.gz_val_1.fq.gz  4R041-L7-P15-GTTTCG-READ2-Sequences.txt.gz_val_2.fq.gz\n",
      "non-bleached  non-bleached_44_01  4R041-L7-P04-GTCCGC-READ1-Sequences.txt.gz_val_1.fq.gz  4R041-L7-P04-GTCCGC-READ2-Sequences.txt.gz_val_2.fq.gz\n",
      "non-bleached  non-bleached_44_02  4R041-L7-P05-GAGTGG-READ1-Sequences.txt.gz_val_1.fq.gz  4R041-L7-P05-GAGTGG-READ2-Sequences.txt.gz_val_2.fq.gz\n",
      "non-bleached  non-bleached_44_03  4R041-L7-P12-TGACCA-READ1-Sequences.txt.gz_val_1.fq.gz  4R041-L7-P12-TGACCA-READ2-Sequences.txt.gz_val_2.fq.gz\n"
     ]
    }
   ],
   "source": [
    "%%bash\n",
    "cat ${samples}"
   ]
  },
  {
   "cell_type": "code",
   "execution_count": 9,
   "metadata": {},
   "outputs": [
    {
     "name": "stderr",
     "output_type": "stream",
     "text": [
      "\n",
      "real\t23m29.441s\n",
      "user\t22m45.232s\n",
      "sys\t0m33.712s\n"
     ]
    }
   ],
   "source": [
    "%%bash\n",
    "\n",
    "cd /mnt/data/coral_RNAseq_2017/porites/20180311_fastqc_trimming/trimmed\n",
    "\n",
    "time  /home/shared/Trinityrnaseq-v2.6.6/util/align_and_estimate_abundance.pl \\\n",
    "--output_dir ${rsem_out_dir} \\\n",
    "--transcripts ${coral_transcriptome} \\\n",
    "--seqType fq \\\n",
    "--samples_file ${samples} \\\n",
    "--SS_lib_type RF \\\n",
    "--est_method RSEM \\\n",
    "--aln_method bowtie2 \\\n",
    "--trinity_mode \\\n",
    "--prep_reference \\\n",
    "--thread_count 23 \\\n",
    "1> ${rsem_stdout} \\\n",
    "2> ${rsem_stderr}\n",
    "sed '/^Subject:/ s/ / porites_rsem JOB COMPLETE/' ~/.default-subject.mail | msmtp \"$EMAIL\""
   ]
  },
  {
   "cell_type": "code",
   "execution_count": 10,
   "metadata": {},
   "outputs": [
    {
     "name": "stdout",
     "output_type": "stream",
     "text": [
      "Finished!\n",
      "\n",
      "Conversion is completed. bowtie2.bam.for_rsem.bam will be checked by 'rsem-sam-validator'.\n",
      "rsem-sam-validator bowtie2.bam.for_rsem.bam\n",
      ".\n",
      "The two mates of paired-end read K00339:74:HLGK3BBXX:7:1101:1235:13588 are marked as both mate1 or both mate2!\n",
      "The input file is not valid!\n",
      "\n",
      "rsem-parse-alignments /media/sam/4TB_toshiba/porites/coral_transcripts/Trinity.coral.fasta.RSEM RSEM.temp/RSEM RSEM.stat/RSEM bowtie2.bam.for_rsem.bam 3 -tag XM\n",
      "\"rsem-parse-alignments /media/sam/4TB_toshiba/porites/coral_transcripts/Trinity.coral.fasta.RSEM RSEM.temp/RSEM RSEM.stat/RSEM bowtie2.bam.for_rsem.bam 3 -tag XM\" failed! Plase check if you provide correct parameters/options for the pipeline!\n"
     ]
    }
   ],
   "source": [
    "%%bash\n",
    "tail ${rsem_stdout}"
   ]
  },
  {
   "cell_type": "code",
   "execution_count": 11,
   "metadata": {},
   "outputs": [
    {
     "name": "stdout",
     "output_type": "stream",
     "text": [
      "            'left' => '<(gunzip -c /mnt/data/coral_RNAseq_2017/porites/20180311_fastqc_trimming/trimmed/4R041-L7-P12-TGACCA-READ1-Sequences.txt.gz_val_1.fq.gz)',\n",
      "            'right' => '<(gunzip -c /mnt/data/coral_RNAseq_2017/porites/20180311_fastqc_trimming/trimmed/4R041-L7-P12-TGACCA-READ2-Sequences.txt.gz_val_2.fq.gz)',\n",
      "            'output_dir' => 'non-bleached_44_03'\n",
      "          }\n",
      "        ];\n",
      "CMD: convert-sam-for-rsem bowtie2.bam bowtie2.bam.for_rsem\n",
      "[bam_sort_core] merging from 19 files...\n",
      "CMD: rsem-calculate-expression  --paired-end   -p 23   --forward-prob 0 --no-bam-output --bam bowtie2.bam.for_rsem.bam /media/sam/4TB_toshiba/porites/coral_transcripts/Trinity.coral.fasta.RSEM RSEM \n",
      "Read K00339:74:HLGK3BBXX:7:1101:1235:13588: The adjacent two lines do not represent the two mates of a paired-end read! (RSEM assumes the two mates of a paired-end read should be adjacent)\n",
      "Error, cmd: rsem-calculate-expression  --paired-end   -p 23   --forward-prob 0 --no-bam-output --bam bowtie2.bam.for_rsem.bam /media/sam/4TB_toshiba/porites/coral_transcripts/Trinity.coral.fasta.RSEM RSEM  died with ret: 65280 at /home/shared/Trinityrnaseq-v2.6.6/util/align_and_estimate_abundance.pl line 790.\n"
     ]
    }
   ],
   "source": [
    "%%bash\n",
    "tail ${rsem_stderr}"
   ]
  },
  {
   "cell_type": "code",
   "execution_count": null,
   "metadata": {},
   "outputs": [],
   "source": []
  }
 ],
 "metadata": {
  "kernelspec": {
   "display_name": "Python 3",
   "language": "python",
   "name": "python3"
  },
  "language_info": {
   "codemirror_mode": {
    "name": "ipython",
    "version": 3
   },
   "file_extension": ".py",
   "mimetype": "text/x-python",
   "name": "python",
   "nbconvert_exporter": "python",
   "pygments_lexer": "ipython3",
   "version": "3.6.4"
  }
 },
 "nbformat": 4,
 "nbformat_minor": 2
}
