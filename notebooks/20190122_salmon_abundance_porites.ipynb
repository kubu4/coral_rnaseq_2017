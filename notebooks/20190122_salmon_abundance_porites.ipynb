{
 "cells": [
  {
   "cell_type": "code",
   "execution_count": 1,
   "metadata": {
    "scrolled": true
   },
   "outputs": [
    {
     "name": "stdout",
     "output_type": "stream",
     "text": [
      "TODAY'S DATE\n",
      "Thu Jan 24 11:48:38 PST 2019\n",
      "------------\n",
      "\n",
      "Distributor ID:\tUbuntu\n",
      "Description:\tUbuntu 16.04.5 LTS\n",
      "Release:\t16.04\n",
      "Codename:\txenial\n",
      "\n",
      "------------\n",
      "HOSTNAME: \n",
      "jpg-d20\n",
      "\n",
      "------------\n",
      "Computer Specs:\n",
      "\n",
      "Architecture:          x86_64\n",
      "CPU op-mode(s):        32-bit, 64-bit\n",
      "Byte Order:            Little Endian\n",
      "CPU(s):                24\n",
      "On-line CPU(s) list:   0-23\n",
      "Thread(s) per core:    2\n",
      "Core(s) per socket:    6\n",
      "Socket(s):             2\n",
      "NUMA node(s):          2\n",
      "Vendor ID:             GenuineIntel\n",
      "CPU family:            6\n",
      "Model:                 44\n",
      "Model name:            Intel(R) Xeon(R) CPU           X5680  @ 3.33GHz\n",
      "Stepping:              2\n",
      "CPU MHz:               1596.000\n",
      "CPU max MHz:           3326.0000\n",
      "CPU min MHz:           1596.0000\n",
      "BogoMIPS:              6666.90\n",
      "Virtualization:        VT-x\n",
      "L1d cache:             32K\n",
      "L1i cache:             32K\n",
      "L2 cache:              256K\n",
      "L3 cache:              12288K\n",
      "NUMA node0 CPU(s):     0,2,4,6,8,10,12,14,16,18,20,22\n",
      "NUMA node1 CPU(s):     1,3,5,7,9,11,13,15,17,19,21,23\n",
      "Flags:                 fpu vme de pse tsc msr pae mce cx8 apic sep mtrr pge mca cmov pat pse36 clflush dts acpi mmx fxsr sse sse2 ss ht tm pbe syscall nx pdpe1gb rdtscp lm constant_tsc arch_perfmon pebs bts rep_good nopl xtopology nonstop_tsc aperfmperf pni pclmulqdq dtes64 monitor ds_cpl vmx smx est tm2 ssse3 cx16 xtpr pdcm pcid dca sse4_1 sse4_2 popcnt aes lahf_lm epb kaiser tpr_shadow vnmi flexpriority ept vpid dtherm ida arat\n",
      "\n",
      "------------\n",
      "\n",
      "Memory Specs\n",
      "\n",
      "              total        used        free      shared  buff/cache   available\n",
      "Mem:            94G        1.8G         82G        331M        9.9G         91G\n",
      "Swap:          128G          0B        128G\n"
     ]
    },
    {
     "name": "stderr",
     "output_type": "stream",
     "text": [
      "No LSB modules are available.\n"
     ]
    }
   ],
   "source": [
    "%%bash\n",
    "echo \"TODAY'S DATE\"\n",
    "date\n",
    "echo \"------------\"\n",
    "echo \"\"\n",
    "lsb_release -a\n",
    "echo \"\"\n",
    "echo \"------------\"\n",
    "echo \"HOSTNAME: \"\n",
    "hostname\n",
    "echo \"\"\n",
    "echo \"------------\"\n",
    "echo \"Computer Specs:\"\n",
    "echo \"\"\n",
    "lscpu\n",
    "echo \"\"\n",
    "echo \"------------\"\n",
    "echo \"\"\n",
    "echo \"Memory Specs\"\n",
    "echo \"\"\n",
    "free -mh"
   ]
  },
  {
   "cell_type": "code",
   "execution_count": 1,
   "metadata": {},
   "outputs": [
    {
     "name": "stdout",
     "output_type": "stream",
     "text": [
      "env: salmon_out_dir=/media/sam/4TB_toshiba/porites/20190124_salmon\n",
      "env: coral_transcriptome=/media/sam/4TB_toshiba/porites/coral_transcripts/Trinity.coral.fasta\n",
      "env: coral_fasta_index=/media/sam/4TB_toshiba/porites/coral_transcripts/Trinity.coral.fasta.fai\n",
      "env: samples=/home/sam/gitrepos/coral_rnaseq_2017/scripts/porites_b_vs_nb_trinity_sample_list.txt\n",
      "env: gene_map=/media/sam/4TB_toshiba/porites/coral_transcripts/Trinity.coral.fasta.gene_trans_map\n",
      "env: salmon_stdout=/media/sam/4TB_toshiba/porites/20190124_salmon/20190124_salmon.out\n",
      "env: salmon_stderr=/media/sam/4TB_toshiba/porites/20190124_salmon/20190124_salmon.err\n"
     ]
    }
   ],
   "source": [
    "%env salmon_out_dir=/media/sam/4TB_toshiba/porites/20190124_salmon\n",
    "%env coral_transcriptome=/media/sam/4TB_toshiba/porites/coral_transcripts/Trinity.coral.fasta\n",
    "%env coral_fasta_index=/media/sam/4TB_toshiba/porites/coral_transcripts/Trinity.coral.fasta.fai\n",
    "%env samples=/home/sam/gitrepos/coral_rnaseq_2017/scripts/porites_b_vs_nb_trinity_sample_list.txt\n",
    "%env gene_map=/media/sam/4TB_toshiba/porites/coral_transcripts/Trinity.coral.fasta.gene_trans_map\n",
    "\n",
    "%env salmon_stdout=/media/sam/4TB_toshiba/porites/20190124_salmon/20190124_salmon.out\n",
    "%env salmon_stderr=/media/sam/4TB_toshiba/porites/20190124_salmon/20190124_salmon.err"
   ]
  },
  {
   "cell_type": "code",
   "execution_count": 3,
   "metadata": {},
   "outputs": [
    {
     "name": "stdout",
     "output_type": "stream",
     "text": [
      "bleached  bleached_K5_01  4R041-L7-P01-AGTTCC-READ1-Sequences.txt.gz_val_1.fq.gz  4R041-L7-P01-AGTTCC-READ2-Sequences.txt.gz_val_2.fq.gz\n",
      "bleached  bleached_K5_02  4R041-L7-P06-GCCAAT-READ1-Sequences.txt.gz_val_1.fq.gz  4R041-L7-P06-GCCAAT-READ2-Sequences.txt.gz_val_2.fq.gz\n",
      "bleached  bleached_K5_03  4R041-L7-P07-AGTCAA-READ1-Sequences.txt.gz_val_1.fq.gz  4R041-L7-P07-AGTCAA-READ2-Sequences.txt.gz_val_2.fq.gz\n",
      "bleached  bleached_K5_04  4R041-L7-P08-CTTGTA-READ1-Sequences.txt.gz_val_1.fq.gz  4R041-L7-P08-CTTGTA-READ2-Sequences.txt.gz_val_2.fq.gz\n",
      "bleached  bleached_K5_05  4R041-L7-P09-GTGAAA-READ1-Sequences.txt.gz_val_1.fq.gz  4R041-L7-P09-GTGAAA-READ2-Sequences.txt.gz_val_2.fq.gz\n",
      "bleached  bleached_K5_06  4R041-L7-P13-ATCACG-READ1-Sequences.txt.gz_val_1.fq.gz  4R041-L7-P13-ATCACG-READ2-Sequences.txt.gz_val_2.fq.gz\n",
      "bleached  bleached_44_01  4R041-L7-P03-ACTGAT-READ1-Sequences.txt.gz_val_1.fq.gz  4R041-L7-P03-ACTGAT-READ2-Sequences.txt.gz_val_2.fq.gz\n",
      "bleached  bleached_44_02  4R041-L7-P11-ACTTGA-READ1-Sequences.txt.gz_val_1.fq.gz  4R041-L7-P11-ACTTGA-READ2-Sequences.txt.gz_val_2.fq.gz\n",
      "bleached  bleached_44_03  4R041-L7-P14-GTGGCC-READ1-Sequences.txt.gz_val_1.fq.gz  4R041-L7-P14-GTGGCC-READ2-Sequences.txt.gz_val_2.fq.gz\n",
      "non-bleached  non-bleached_K5_01  4R041-L7-P02-ACAGTG-READ1-Sequences.txt.gz_val_1.fq.gz  4R041-L7-P02-ACAGTG-READ2-Sequences.txt.gz_val_2.fq.gz\n",
      "non-bleached  non-bleached_K5_02  4R041-L7-P10-TAGCTT-READ1-Sequences.txt.gz_val_1.fq.gz  4R041-L7-P10-TAGCTT-READ2-Sequences.txt.gz_val_2.fq.gz\n",
      "non-bleached  non-bleached_K5_03  4R041-L7-P15-GTTTCG-READ1-Sequences.txt.gz_val_1.fq.gz  4R041-L7-P15-GTTTCG-READ2-Sequences.txt.gz_val_2.fq.gz\n",
      "non-bleached  non-bleached_44_01  4R041-L7-P04-GTCCGC-READ1-Sequences.txt.gz_val_1.fq.gz  4R041-L7-P04-GTCCGC-READ2-Sequences.txt.gz_val_2.fq.gz\n",
      "non-bleached  non-bleached_44_02  4R041-L7-P05-GAGTGG-READ1-Sequences.txt.gz_val_1.fq.gz  4R041-L7-P05-GAGTGG-READ2-Sequences.txt.gz_val_2.fq.gz\n",
      "non-bleached  non-bleached_44_03  4R041-L7-P12-TGACCA-READ1-Sequences.txt.gz_val_1.fq.gz  4R041-L7-P12-TGACCA-READ2-Sequences.txt.gz_val_2.fq.gz\n"
     ]
    }
   ],
   "source": [
    "%%bash\n",
    "cat ${samples}"
   ]
  },
  {
   "cell_type": "code",
   "execution_count": 4,
   "metadata": {},
   "outputs": [
    {
     "name": "stderr",
     "output_type": "stream",
     "text": [
      "bash: line 5: /media/sam/4TB_toshiba/porites/20190124_salmon/20190124_salmon.out: No such file or directory\n",
      "\n",
      "real\t0m0.001s\n",
      "user\t0m0.000s\n",
      "sys\t0m0.000s\n"
     ]
    }
   ],
   "source": [
    "%%bash\n",
    "\n",
    "cd /mnt/data/coral_RNAseq_2017/porites/20180311_fastqc_trimming/trimmed\n",
    "\n",
    "time  /home/shared/Trinityrnaseq-v2.6.6/util/align_and_estimate_abundance.pl \\\n",
    "--output_dir ${salmon_out_dir} \\\n",
    "--transcripts ${coral_transcriptome} \\\n",
    "--seqType fq \\\n",
    "--samples_file ${samples} \\\n",
    "--SS_lib_type RF \\\n",
    "--est_method salmon \\\n",
    "--aln_method bowtie2 \\\n",
    "--trinity_mode \\\n",
    "--prep_reference \\\n",
    "--thread_count 23 \\\n",
    "1> ${salmon_stdout} \\\n",
    "2> ${salmon_stderr}\n",
    "sed '/^Subject:/ s/ / porites_rsem JOB COMPLETE/' ~/.default-subject.mail | msmtp \"$EMAIL\""
   ]
  },
  {
   "cell_type": "code",
   "execution_count": 5,
   "metadata": {},
   "outputs": [
    {
     "name": "stderr",
     "output_type": "stream",
     "text": [
      "\n",
      "real\t17m55.703s\n",
      "user\t293m38.832s\n",
      "sys\t8m36.964s\n"
     ]
    }
   ],
   "source": [
    "%%bash\n",
    "\n",
    "mkdir ${salmon_out_dir}\n",
    "cd /mnt/data/coral_RNAseq_2017/porites/20180311_fastqc_trimming/trimmed\n",
    "\n",
    "time  /home/shared/Trinityrnaseq-v2.6.6/util/align_and_estimate_abundance.pl \\\n",
    "--output_dir ${salmon_out_dir} \\\n",
    "--transcripts ${coral_transcriptome} \\\n",
    "--seqType fq \\\n",
    "--samples_file ${samples} \\\n",
    "--SS_lib_type RF \\\n",
    "--est_method salmon \\\n",
    "--aln_method bowtie2 \\\n",
    "--trinity_mode \\\n",
    "--prep_reference \\\n",
    "--thread_count 23 \\\n",
    "1> ${salmon_stdout} \\\n",
    "2> ${salmon_stderr}\n",
    "sed '/^Subject:/ s/ / porites_rsem JOB COMPLETE/' ~/.default-subject.mail | msmtp \"$EMAIL\""
   ]
  },
  {
   "cell_type": "code",
   "execution_count": 6,
   "metadata": {},
   "outputs": [
    {
     "name": "stdout",
     "output_type": "stream",
     "text": [
      "[2019-01-24 12:15:56.063] [jointLog] [info] iteration = 1300 | max rel diff. = 0.0102504\n",
      "[2019-01-24 12:15:56.090] [jointLog] [info] iteration = 1322 | max rel diff. = 0.00815226\n",
      "[2019-01-24 12:15:56.099] [jointLog] [info] Finished optimizer\n",
      "[2019-01-24 12:15:56.099] [jointLog] [info] writing output \n",
      "\n",
      "[2019-01-24 12:15:56.186] [jointLog] [warning] NOTE: Read Lib [( /dev/fd/63, /dev/fd/62 )] :\n",
      "\n",
      "Greater than 5% of the fragments disagreed with the provided library type; check the file: non-bleached_44_03/lib_format_counts.json for details\n",
      "\n",
      "CMD: /home/shared/Trinityrnaseq-v2.6.6/util/support_scripts/salmon_trans_to_gene_results.pl non-bleached_44_03/quant.sf /media/sam/4TB_toshiba/porites/coral_transcripts/Trinity.coral.fasta.gene_trans_map > non-bleached_44_03/quant.sf.genes\n"
     ]
    }
   ],
   "source": [
    "%%bash\n",
    "tail ${salmon_stderr}"
   ]
  },
  {
   "cell_type": "code",
   "execution_count": 7,
   "metadata": {},
   "outputs": [
    {
     "name": "stderr",
     "output_type": "stream",
     "text": [
      "mkdir: cannot create directory ‘/media/sam/4TB_toshiba/porites/20190124_salmon’: File exists\n",
      "\n",
      "real\t16m19.228s\n",
      "user\t291m30.340s\n",
      "sys\t7m55.724s\n"
     ]
    }
   ],
   "source": [
    "%%bash\n",
    "\n",
    "mkdir ${salmon_out_dir}\n",
    "cd /mnt/data/coral_RNAseq_2017/porites/20180311_fastqc_trimming/trimmed\n",
    "\n",
    "time  /home/shared/Trinityrnaseq-v2.6.6/util/align_and_estimate_abundance.pl \\\n",
    "--output_dir ${salmon_out_dir} \\\n",
    "--transcripts ${coral_transcriptome} \\\n",
    "--seqType fq \\\n",
    "--samples_file ${samples} \\\n",
    "--SS_lib_type FR \\\n",
    "--est_method salmon \\\n",
    "--aln_method bowtie2 \\\n",
    "--trinity_mode \\\n",
    "--prep_reference \\\n",
    "--thread_count 23 \\\n",
    "1> ${salmon_stdout} \\\n",
    "2> ${salmon_stderr}\n",
    "sed '/^Subject:/ s/ / porites_rsem JOB COMPLETE/' ~/.default-subject.mail | msmtp \"$EMAIL\""
   ]
  },
  {
   "cell_type": "code",
   "execution_count": 3,
   "metadata": {},
   "outputs": [
    {
     "name": "stderr",
     "output_type": "stream",
     "text": [
      "\n",
      "real\t16m30.179s\n",
      "user\t292m36.120s\n",
      "sys\t8m57.116s\n"
     ]
    }
   ],
   "source": [
    "%%bash\n",
    "\n",
    "cd /mnt/data/coral_RNAseq_2017/porites/20180311_fastqc_trimming/trimmed\n",
    "\n",
    "time  /home/shared/Trinityrnaseq-v2.6.6/util/align_and_estimate_abundance.pl \\\n",
    "--output_dir ${salmon_out_dir} \\\n",
    "--transcripts ${coral_transcriptome} \\\n",
    "--seqType fq \\\n",
    "--samples_file ${samples} \\\n",
    "--SS_lib_type RF \\\n",
    "--est_method salmon \\\n",
    "--aln_method bowtie2 \\\n",
    "--trinity_mode \\\n",
    "--prep_reference \\\n",
    "--thread_count 23 \\\n",
    "1> ${salmon_stdout} \\\n",
    "2> ${salmon_stderr}\n",
    "sed '/^Subject:/ s/ / porites_rsem JOB COMPLETE/' ~/.default-subject.mail | msmtp \"$EMAIL\""
   ]
  },
  {
   "cell_type": "code",
   "execution_count": 4,
   "metadata": {},
   "outputs": [
    {
     "name": "stdout",
     "output_type": "stream",
     "text": [
      "total 34G\n",
      "drwxrwxr-x 2 sam sam  4.0K Apr 15  2018 fastqc\n",
      "-rw-rw-r-- 1 sam sam  4.5K Apr 15  2018 4R041-L7-P01-AGTTCC-READ1-Sequences.txt.gz_trimming_report.txt\n",
      "-rw-rw-r-- 1 sam sam  1.1G Apr 15  2018 4R041-L7-P01-AGTTCC-READ1-Sequences.txt.gz_val_1.fq.gz\n",
      "-rw-rw-r-- 1 sam sam  1.2G Apr 15  2018 4R041-L7-P01-AGTTCC-READ2-Sequences.txt.gz_val_2.fq.gz\n",
      "-rw-rw-r-- 1 sam sam  4.8K Apr 15  2018 4R041-L7-P01-AGTTCC-READ2-Sequences.txt.gz_trimming_report.txt\n",
      "-rw-rw-r-- 1 sam sam  4.6K Apr 15  2018 4R041-L7-P02-ACAGTG-READ1-Sequences.txt.gz_trimming_report.txt\n",
      "-rw-rw-r-- 1 sam sam  998M Apr 15  2018 4R041-L7-P02-ACAGTG-READ1-Sequences.txt.gz_val_1.fq.gz\n",
      "-rw-rw-r-- 1 sam sam  1.2G Apr 15  2018 4R041-L7-P02-ACAGTG-READ2-Sequences.txt.gz_val_2.fq.gz\n",
      "-rw-rw-r-- 1 sam sam  4.8K Apr 15  2018 4R041-L7-P02-ACAGTG-READ2-Sequences.txt.gz_trimming_report.txt\n",
      "-rw-rw-r-- 1 sam sam  4.5K Apr 15  2018 4R041-L7-P03-ACTGAT-READ1-Sequences.txt.gz_trimming_report.txt\n",
      "-rw-rw-r-- 1 sam sam  956M Apr 15  2018 4R041-L7-P03-ACTGAT-READ1-Sequences.txt.gz_val_1.fq.gz\n",
      "-rw-rw-r-- 1 sam sam  1.1G Apr 15  2018 4R041-L7-P03-ACTGAT-READ2-Sequences.txt.gz_val_2.fq.gz\n",
      "-rw-rw-r-- 1 sam sam  4.8K Apr 15  2018 4R041-L7-P03-ACTGAT-READ2-Sequences.txt.gz_trimming_report.txt\n",
      "-rw-rw-r-- 1 sam sam  4.6K Apr 15  2018 4R041-L7-P04-GTCCGC-READ1-Sequences.txt.gz_trimming_report.txt\n",
      "-rw-rw-r-- 1 sam sam  941M Apr 15  2018 4R041-L7-P04-GTCCGC-READ1-Sequences.txt.gz_val_1.fq.gz\n",
      "-rw-rw-r-- 1 sam sam  1.1G Apr 15  2018 4R041-L7-P04-GTCCGC-READ2-Sequences.txt.gz_val_2.fq.gz\n",
      "-rw-rw-r-- 1 sam sam  4.8K Apr 15  2018 4R041-L7-P04-GTCCGC-READ2-Sequences.txt.gz_trimming_report.txt\n",
      "-rw-rw-r-- 1 sam sam  4.7K Apr 15  2018 4R041-L7-P05-GAGTGG-READ1-Sequences.txt.gz_trimming_report.txt\n",
      "-rw-rw-r-- 1 sam sam  1.1G Apr 15  2018 4R041-L7-P05-GAGTGG-READ1-Sequences.txt.gz_val_1.fq.gz\n",
      "-rw-rw-r-- 1 sam sam  1.2G Apr 15  2018 4R041-L7-P05-GAGTGG-READ2-Sequences.txt.gz_val_2.fq.gz\n",
      "-rw-rw-r-- 1 sam sam  4.9K Apr 15  2018 4R041-L7-P05-GAGTGG-READ2-Sequences.txt.gz_trimming_report.txt\n",
      "-rw-rw-r-- 1 sam sam  4.5K Apr 15  2018 4R041-L7-P06-GCCAAT-READ1-Sequences.txt.gz_trimming_report.txt\n",
      "-rw-rw-r-- 1 sam sam  761M Apr 15  2018 4R041-L7-P06-GCCAAT-READ1-Sequences.txt.gz_val_1.fq.gz\n",
      "-rw-rw-r-- 1 sam sam  859M Apr 15  2018 4R041-L7-P06-GCCAAT-READ2-Sequences.txt.gz_val_2.fq.gz\n",
      "-rw-rw-r-- 1 sam sam  4.7K Apr 15  2018 4R041-L7-P06-GCCAAT-READ2-Sequences.txt.gz_trimming_report.txt\n",
      "-rw-rw-r-- 1 sam sam  4.5K Apr 15  2018 4R041-L7-P07-AGTCAA-READ1-Sequences.txt.gz_trimming_report.txt\n",
      "-rw-rw-r-- 1 sam sam  1.1G Apr 16  2018 4R041-L7-P07-AGTCAA-READ1-Sequences.txt.gz_val_1.fq.gz\n",
      "-rw-rw-r-- 1 sam sam  1.2G Apr 16  2018 4R041-L7-P07-AGTCAA-READ2-Sequences.txt.gz_val_2.fq.gz\n",
      "-rw-rw-r-- 1 sam sam  4.8K Apr 16  2018 4R041-L7-P07-AGTCAA-READ2-Sequences.txt.gz_trimming_report.txt\n",
      "-rw-rw-r-- 1 sam sam  4.5K Apr 16  2018 4R041-L7-P08-CTTGTA-READ1-Sequences.txt.gz_trimming_report.txt\n",
      "-rw-rw-r-- 1 sam sam  1.2G Apr 16  2018 4R041-L7-P08-CTTGTA-READ1-Sequences.txt.gz_val_1.fq.gz\n",
      "-rw-rw-r-- 1 sam sam  1.4G Apr 16  2018 4R041-L7-P08-CTTGTA-READ2-Sequences.txt.gz_val_2.fq.gz\n",
      "-rw-rw-r-- 1 sam sam  4.8K Apr 16  2018 4R041-L7-P08-CTTGTA-READ2-Sequences.txt.gz_trimming_report.txt\n",
      "-rw-rw-r-- 1 sam sam  4.6K Apr 16  2018 4R041-L7-P09-GTGAAA-READ1-Sequences.txt.gz_trimming_report.txt\n",
      "-rw-rw-r-- 1 sam sam 1022M Apr 16  2018 4R041-L7-P09-GTGAAA-READ2-Sequences.txt.gz_val_2.fq.gz\n",
      "-rw-rw-r-- 1 sam sam  955M Apr 16  2018 4R041-L7-P09-GTGAAA-READ1-Sequences.txt.gz_val_1.fq.gz\n",
      "-rw-rw-r-- 1 sam sam  4.8K Apr 16  2018 4R041-L7-P09-GTGAAA-READ2-Sequences.txt.gz_trimming_report.txt\n",
      "-rw-rw-r-- 1 sam sam  4.5K Apr 16  2018 4R041-L7-P10-TAGCTT-READ1-Sequences.txt.gz_trimming_report.txt\n",
      "-rw-rw-r-- 1 sam sam  1.4G Apr 16  2018 4R041-L7-P10-TAGCTT-READ1-Sequences.txt.gz_val_1.fq.gz\n",
      "-rw-rw-r-- 1 sam sam  1.6G Apr 16  2018 4R041-L7-P10-TAGCTT-READ2-Sequences.txt.gz_val_2.fq.gz\n",
      "-rw-rw-r-- 1 sam sam  4.8K Apr 16  2018 4R041-L7-P10-TAGCTT-READ2-Sequences.txt.gz_trimming_report.txt\n",
      "-rw-rw-r-- 1 sam sam  4.5K Apr 16  2018 4R041-L7-P11-ACTTGA-READ1-Sequences.txt.gz_trimming_report.txt\n",
      "-rw-rw-r-- 1 sam sam  916M Apr 16  2018 4R041-L7-P11-ACTTGA-READ1-Sequences.txt.gz_val_1.fq.gz\n",
      "-rw-rw-r-- 1 sam sam  1.1G Apr 16  2018 4R041-L7-P11-ACTTGA-READ2-Sequences.txt.gz_val_2.fq.gz\n",
      "-rw-rw-r-- 1 sam sam  4.7K Apr 16  2018 4R041-L7-P11-ACTTGA-READ2-Sequences.txt.gz_trimming_report.txt\n",
      "-rw-rw-r-- 1 sam sam  4.5K Apr 16  2018 4R041-L7-P12-TGACCA-READ1-Sequences.txt.gz_trimming_report.txt\n",
      "-rw-rw-r-- 1 sam sam  1.1G Apr 16  2018 4R041-L7-P12-TGACCA-READ1-Sequences.txt.gz_val_1.fq.gz\n",
      "-rw-rw-r-- 1 sam sam  1.3G Apr 16  2018 4R041-L7-P12-TGACCA-READ2-Sequences.txt.gz_val_2.fq.gz\n",
      "-rw-rw-r-- 1 sam sam  4.8K Apr 16  2018 4R041-L7-P12-TGACCA-READ2-Sequences.txt.gz_trimming_report.txt\n",
      "-rw-rw-r-- 1 sam sam  4.5K Apr 16  2018 4R041-L7-P13-ATCACG-READ1-Sequences.txt.gz_trimming_report.txt\n",
      "-rw-rw-r-- 1 sam sam  760M Apr 16  2018 4R041-L7-P13-ATCACG-READ1-Sequences.txt.gz_val_1.fq.gz\n",
      "-rw-rw-r-- 1 sam sam  786M Apr 16  2018 4R041-L7-P13-ATCACG-READ2-Sequences.txt.gz_val_2.fq.gz\n",
      "-rw-rw-r-- 1 sam sam  4.7K Apr 16  2018 4R041-L7-P13-ATCACG-READ2-Sequences.txt.gz_trimming_report.txt\n",
      "-rw-rw-r-- 1 sam sam  4.5K Apr 16  2018 4R041-L7-P14-GTGGCC-READ1-Sequences.txt.gz_trimming_report.txt\n",
      "-rw-rw-r-- 1 sam sam  1.4G Apr 16  2018 4R041-L7-P14-GTGGCC-READ1-Sequences.txt.gz_val_1.fq.gz\n",
      "-rw-rw-r-- 1 sam sam  1.5G Apr 16  2018 4R041-L7-P14-GTGGCC-READ2-Sequences.txt.gz_val_2.fq.gz\n",
      "-rw-rw-r-- 1 sam sam  4.8K Apr 16  2018 4R041-L7-P14-GTGGCC-READ2-Sequences.txt.gz_trimming_report.txt\n",
      "-rw-rw-r-- 1 sam sam  4.6K Apr 16  2018 4R041-L7-P15-GTTTCG-READ1-Sequences.txt.gz_trimming_report.txt\n",
      "-rw-rw-r-- 1 sam sam  1.5G Apr 16  2018 4R041-L7-P15-GTTTCG-READ1-Sequences.txt.gz_val_1.fq.gz\n",
      "-rw-rw-r-- 1 sam sam  1.6G Apr 16  2018 4R041-L7-P15-GTTTCG-READ2-Sequences.txt.gz_val_2.fq.gz\n",
      "-rw-rw-r-- 1 sam sam  4.8K Apr 16  2018 4R041-L7-P15-GTTTCG-READ2-Sequences.txt.gz_trimming_report.txt\n",
      "-rw-rw-r-- 1 sam sam  220K Apr 16  2018 stderr.log\n",
      "drwxrwxr-x 7 sam sam  4.0K Jan 24 12:00 bleached_K5_01\n",
      "drwxrwxr-x 5 sam sam  4.0K Jan 24 12:01 bleached_K5_02\n",
      "drwxrwxr-x 5 sam sam  4.0K Jan 24 12:02 bleached_K5_03\n",
      "drwxrwxr-x 5 sam sam  4.0K Jan 24 12:03 bleached_K5_04\n",
      "drwxrwxr-x 5 sam sam  4.0K Jan 24 12:04 bleached_K5_05\n",
      "drwxrwxr-x 5 sam sam  4.0K Jan 24 12:05 bleached_K5_06\n",
      "drwxrwxr-x 5 sam sam  4.0K Jan 24 12:06 bleached_44_01\n",
      "drwxrwxr-x 5 sam sam  4.0K Jan 24 12:07 bleached_44_02\n",
      "drwxrwxr-x 5 sam sam  4.0K Jan 24 12:08 bleached_44_03\n",
      "drwxrwxr-x 5 sam sam  4.0K Jan 24 12:09 non-bleached_K5_01\n",
      "drwxrwxr-x 5 sam sam  4.0K Jan 24 12:11 non-bleached_K5_02\n",
      "drwxrwxr-x 5 sam sam  4.0K Jan 24 12:12 non-bleached_K5_03\n",
      "drwxrwxr-x 5 sam sam  4.0K Jan 24 12:13 non-bleached_44_01\n",
      "drwxrwxr-x 5 sam sam  4.0K Jan 24 12:14 non-bleached_44_02\n",
      "drwxrwxr-x 5 sam sam  4.0K Jan 24 12:15 non-bleached_44_03\n"
     ]
    }
   ],
   "source": [
    "%%bash\n",
    "ls -ltrh /mnt/data/coral_RNAseq_2017/porites/20180311_fastqc_trimming/trimmed"
   ]
  },
  {
   "cell_type": "code",
   "execution_count": 5,
   "metadata": {},
   "outputs": [
    {
     "name": "stdout",
     "output_type": "stream",
     "text": [
      "total 200K\n",
      "drwxrwxr-x 7 sam sam 4.0K Jan 24 12:00 bleached_K5_01\n",
      "drwxrwxr-x 5 sam sam 4.0K Jan 24 12:01 bleached_K5_02\n",
      "drwxrwxr-x 5 sam sam 4.0K Jan 24 12:02 bleached_K5_03\n",
      "drwxrwxr-x 5 sam sam 4.0K Jan 24 12:03 bleached_K5_04\n",
      "drwxrwxr-x 5 sam sam 4.0K Jan 24 12:04 bleached_K5_05\n",
      "drwxrwxr-x 5 sam sam 4.0K Jan 24 12:05 bleached_K5_06\n",
      "drwxrwxr-x 5 sam sam 4.0K Jan 24 12:06 bleached_44_01\n",
      "drwxrwxr-x 5 sam sam 4.0K Jan 24 12:07 bleached_44_02\n",
      "drwxrwxr-x 5 sam sam 4.0K Jan 24 12:08 bleached_44_03\n",
      "drwxrwxr-x 5 sam sam 4.0K Jan 24 12:09 non-bleached_K5_01\n",
      "drwxrwxr-x 5 sam sam 4.0K Jan 24 12:11 non-bleached_K5_02\n",
      "drwxrwxr-x 5 sam sam 4.0K Jan 24 12:12 non-bleached_K5_03\n",
      "drwxrwxr-x 5 sam sam 4.0K Jan 24 12:13 non-bleached_44_01\n",
      "drwxrwxr-x 5 sam sam 4.0K Jan 24 12:14 non-bleached_44_02\n",
      "drwxrwxr-x 5 sam sam 4.0K Jan 24 12:15 non-bleached_44_03\n",
      "-rw-rw-r-- 1 sam sam    0 Jan 24 20:28 20190124_salmon.out\n",
      "-rw-rw-r-- 1 sam sam 135K Jan 24 20:45 20190124_salmon.err\n"
     ]
    }
   ],
   "source": [
    "%%bash\n",
    "mv /mnt/data/coral_RNAseq_2017/porites/20180311_fastqc_trimming/trimmed/bleached* \\\n",
    "${salmon_out_dir}\n",
    "\n",
    "mv /mnt/data/coral_RNAseq_2017/porites/20180311_fastqc_trimming/trimmed/non* \\\n",
    "${salmon_out_dir}\n",
    "\n",
    "ls -ltrh ${salmon_out_dir}"
   ]
  },
  {
   "cell_type": "code",
   "execution_count": 6,
   "metadata": {},
   "outputs": [
    {
     "name": "stdout",
     "output_type": "stream",
     "text": [
      "total 22M\n",
      "drwxrwxr-x 7 sam sam 4.0K Jan 24 12:00 bleached_K5_01\n",
      "drwxrwxr-x 5 sam sam 4.0K Jan 24 12:01 bleached_K5_02\n",
      "drwxrwxr-x 5 sam sam 4.0K Jan 24 12:02 bleached_K5_03\n",
      "drwxrwxr-x 5 sam sam 4.0K Jan 24 12:03 bleached_K5_04\n",
      "drwxrwxr-x 5 sam sam 4.0K Jan 24 12:04 bleached_K5_05\n",
      "drwxrwxr-x 5 sam sam 4.0K Jan 24 12:05 bleached_K5_06\n",
      "drwxrwxr-x 5 sam sam 4.0K Jan 24 12:06 bleached_44_01\n",
      "drwxrwxr-x 5 sam sam 4.0K Jan 24 12:07 bleached_44_02\n",
      "drwxrwxr-x 5 sam sam 4.0K Jan 24 12:08 bleached_44_03\n",
      "drwxrwxr-x 5 sam sam 4.0K Jan 24 12:09 non-bleached_K5_01\n",
      "drwxrwxr-x 5 sam sam 4.0K Jan 24 12:11 non-bleached_K5_02\n",
      "drwxrwxr-x 5 sam sam 4.0K Jan 24 12:12 non-bleached_K5_03\n",
      "drwxrwxr-x 5 sam sam 4.0K Jan 24 12:13 non-bleached_44_01\n",
      "drwxrwxr-x 5 sam sam 4.0K Jan 24 12:14 non-bleached_44_02\n",
      "drwxrwxr-x 5 sam sam 4.0K Jan 24 12:15 non-bleached_44_03\n",
      "-rw-rw-r-- 1 sam sam    0 Jan 24 20:28 20190124_salmon.out\n",
      "-rw-rw-r-- 1 sam sam 135K Jan 24 20:45 20190124_salmon.err\n",
      "-rw-rw-r-- 1 sam sam 6.7M Jan 26 15:23 salmon.isoform.TPM.not_cross_norm\n",
      "-rw-rw-r-- 1 sam sam 8.4M Jan 26 15:23 salmon.isoform.counts.matrix\n",
      "-rw-rw-r-- 1 sam sam 3.6M Jan 26 15:23 salmon.gene.TPM.not_cross_norm\n",
      "-rw-rw-r-- 1 sam sam 2.7M Jan 26 15:23 salmon.gene.counts.matrix\n",
      "-rw-rw-r-- 1 sam sam    0 Jan 26 15:23 salmon.isoform.TMM.EXPR.matrix\n",
      "-rw-rw-r-- 1 sam sam  528 Jan 26 15:23 salmon.isoform.TPM.not_cross_norm.runTMM.R\n"
     ]
    },
    {
     "name": "stderr",
     "output_type": "stream",
     "text": [
      "-reading file: bleached_44_02/quant.sf\n",
      "-reading file: bleached_K5_03/quant.sf\n",
      "-reading file: bleached_K5_01/quant.sf\n",
      "-reading file: non-bleached_K5_01/quant.sf\n",
      "-reading file: non-bleached_44_03/quant.sf\n",
      "-reading file: bleached_K5_05/quant.sf\n",
      "-reading file: bleached_K5_02/quant.sf\n",
      "-reading file: non-bleached_44_02/quant.sf\n",
      "-reading file: non-bleached_44_01/quant.sf\n",
      "-reading file: bleached_44_03/quant.sf\n",
      "-reading file: bleached_K5_04/quant.sf\n",
      "-reading file: non-bleached_K5_02/quant.sf\n",
      "-reading file: non-bleached_K5_03/quant.sf\n",
      "-reading file: bleached_K5_06/quant.sf\n",
      "-reading file: bleached_44_01/quant.sf\n",
      "\n",
      "\n",
      "* Outputting combined matrix.\n",
      "\n",
      "/home/shared/Trinityrnaseq-v2.6.6/util/support_scripts/run_TMM_scale_matrix.pl --matrix salmon.isoform.TPM.not_cross_norm > salmon.isoform.TMM.EXPR.matrixCMD: R --no-save --no-restore --no-site-file --no-init-file -q < salmon.isoform.TPM.not_cross_norm.runTMM.R 1>&2 \n",
      "> library(edgeR)\n",
      "Error in library(edgeR) : there is no package called ‘edgeR’\n",
      "Execution halted\n",
      "Error, cmd: R --no-save --no-restore --no-site-file --no-init-file -q < salmon.isoform.TPM.not_cross_norm.runTMM.R 1>&2  died with ret (256)  at /home/shared/Trinityrnaseq-v2.6.6/util/support_scripts/run_TMM_scale_matrix.pl line 105.\n",
      "Error, CMD: /home/shared/Trinityrnaseq-v2.6.6/util/support_scripts/run_TMM_scale_matrix.pl --matrix salmon.isoform.TPM.not_cross_norm > salmon.isoform.TMM.EXPR.matrix died with ret 6400 at /home/shared/Trinityrnaseq-v2.6.6/util/abundance_estimates_to_matrix.pl line 385.\n",
      "\n",
      "real\t0m17.119s\n",
      "user\t0m7.132s\n",
      "sys\t0m0.340s\n"
     ]
    }
   ],
   "source": [
    "%%bash\n",
    "cd ${salmon_out_dir}\n",
    "\n",
    "time \\\n",
    "/home/shared/Trinityrnaseq-v2.6.6/util/abundance_estimates_to_matrix.pl \\\n",
    "--est_method salmon \\\n",
    "--gene_trans_map ${gene_map} \\\n",
    "--out_prefix salmon \\\n",
    "--name_sample_by_basedir \\\n",
    "bleached_44_02/quant.sf \\\n",
    "bleached_K5_03/quant.sf \\\n",
    "bleached_K5_01/quant.sf \\\n",
    "non-bleached_K5_01/quant.sf \\\n",
    "non-bleached_44_03/quant.sf \\\n",
    "bleached_K5_05/quant.sf \\\n",
    "bleached_K5_02/quant.sf \\\n",
    "non-bleached_44_02/quant.sf \\\n",
    "non-bleached_44_01/quant.sf \\\n",
    "bleached_44_03/quant.sf \\\n",
    "bleached_K5_04/quant.sf \\\n",
    "non-bleached_K5_02/quant.sf \\\n",
    "non-bleached_K5_03/quant.sf \\\n",
    "bleached_K5_06/quant.sf \\\n",
    "bleached_44_01/quant.sf\n",
    "\n",
    "ls -ltrh\n",
    "\n",
    "sed '/^Subject:/ s/ / porites_abundances JOB COMPLETE/' ~/.default-subject.mail | msmtp \"$EMAIL\""
   ]
  },
  {
   "cell_type": "code",
   "execution_count": 2,
   "metadata": {},
   "outputs": [
    {
     "name": "stdout",
     "output_type": "stream",
     "text": [
      "total 30M\n",
      "drwxrwxr-x 7 sam sam 4.0K Jan 24 12:00 bleached_K5_01\n",
      "drwxrwxr-x 5 sam sam 4.0K Jan 24 12:01 bleached_K5_02\n",
      "drwxrwxr-x 5 sam sam 4.0K Jan 24 12:02 bleached_K5_03\n",
      "drwxrwxr-x 5 sam sam 4.0K Jan 24 12:03 bleached_K5_04\n",
      "drwxrwxr-x 5 sam sam 4.0K Jan 24 12:04 bleached_K5_05\n",
      "drwxrwxr-x 5 sam sam 4.0K Jan 24 12:05 bleached_K5_06\n",
      "drwxrwxr-x 5 sam sam 4.0K Jan 24 12:06 bleached_44_01\n",
      "drwxrwxr-x 5 sam sam 4.0K Jan 24 12:07 bleached_44_02\n",
      "drwxrwxr-x 5 sam sam 4.0K Jan 24 12:08 bleached_44_03\n",
      "drwxrwxr-x 5 sam sam 4.0K Jan 24 12:09 non-bleached_K5_01\n",
      "drwxrwxr-x 5 sam sam 4.0K Jan 24 12:11 non-bleached_K5_02\n",
      "drwxrwxr-x 5 sam sam 4.0K Jan 24 12:12 non-bleached_K5_03\n",
      "drwxrwxr-x 5 sam sam 4.0K Jan 24 12:13 non-bleached_44_01\n",
      "drwxrwxr-x 5 sam sam 4.0K Jan 24 12:14 non-bleached_44_02\n",
      "drwxrwxr-x 5 sam sam 4.0K Jan 24 12:15 non-bleached_44_03\n",
      "-rw-rw-r-- 1 sam sam    0 Jan 24 20:28 20190124_salmon.out\n",
      "-rw-rw-r-- 1 sam sam 135K Jan 24 20:45 20190124_salmon.err\n",
      "-rw-rw-r-- 1 sam sam 6.7M Jan 26 16:05 salmon.isoform.TPM.not_cross_norm\n",
      "-rw-rw-r-- 1 sam sam 8.4M Jan 26 16:05 salmon.isoform.counts.matrix\n",
      "-rw-rw-r-- 1 sam sam 3.6M Jan 26 16:05 salmon.gene.TPM.not_cross_norm\n",
      "-rw-rw-r-- 1 sam sam 2.7M Jan 26 16:05 salmon.gene.counts.matrix\n",
      "-rw-rw-r-- 1 sam sam  528 Jan 26 16:05 salmon.isoform.TPM.not_cross_norm.runTMM.R\n",
      "-rw-rw-r-- 1 sam sam  906 Jan 26 16:06 salmon.isoform.TPM.not_cross_norm.TMM_info.txt\n",
      "-rw-rw-r-- 1 sam sam 5.8M Jan 26 16:06 salmon.isoform.TMM.EXPR.matrix\n",
      "-rw-rw-r-- 1 sam sam  522 Jan 26 16:06 salmon.gene.TPM.not_cross_norm.runTMM.R\n",
      "-rw-rw-r-- 1 sam sam  907 Jan 26 16:06 salmon.gene.TPM.not_cross_norm.TMM_info.txt\n",
      "-rw-rw-r-- 1 sam sam 2.8M Jan 26 16:06 salmon.gene.TMM.EXPR.matrix\n"
     ]
    },
    {
     "name": "stderr",
     "output_type": "stream",
     "text": [
      "-reading file: bleached_44_02/quant.sf\n",
      "-reading file: bleached_K5_03/quant.sf\n",
      "-reading file: bleached_K5_01/quant.sf\n",
      "-reading file: non-bleached_K5_01/quant.sf\n",
      "-reading file: non-bleached_44_03/quant.sf\n",
      "-reading file: bleached_K5_05/quant.sf\n",
      "-reading file: bleached_K5_02/quant.sf\n",
      "-reading file: non-bleached_44_02/quant.sf\n",
      "-reading file: non-bleached_44_01/quant.sf\n",
      "-reading file: bleached_44_03/quant.sf\n",
      "-reading file: bleached_K5_04/quant.sf\n",
      "-reading file: non-bleached_K5_02/quant.sf\n",
      "-reading file: non-bleached_K5_03/quant.sf\n",
      "-reading file: bleached_K5_06/quant.sf\n",
      "-reading file: bleached_44_01/quant.sf\n",
      "\n",
      "\n",
      "* Outputting combined matrix.\n",
      "\n",
      "/home/shared/Trinityrnaseq-v2.6.6/util/support_scripts/run_TMM_scale_matrix.pl --matrix salmon.isoform.TPM.not_cross_norm > salmon.isoform.TMM.EXPR.matrixCMD: R --no-save --no-restore --no-site-file --no-init-file -q < salmon.isoform.TPM.not_cross_norm.runTMM.R 1>&2 \n",
      "> library(edgeR)\n",
      "Loading required package: limma\n",
      "> \n",
      "> rnaseqMatrix = read.table(\"salmon.isoform.TPM.not_cross_norm\", header=T, row.names=1, com='', check.names=F)\n",
      "> rnaseqMatrix = as.matrix(rnaseqMatrix)\n",
      "> rnaseqMatrix = round(rnaseqMatrix)\n",
      "> exp_study = DGEList(counts=rnaseqMatrix, group=factor(colnames(rnaseqMatrix)))\n",
      "> exp_study = calcNormFactors(exp_study)\n",
      "> exp_study$samples$eff.lib.size = exp_study$samples$lib.size * exp_study$samples$norm.factors\n",
      "> write.table(exp_study$samples, file=\"salmon.isoform.TPM.not_cross_norm.TMM_info.txt\", quote=F, sep=\"\\t\", row.names=F)\n",
      "> \n",
      "/home/shared/Trinityrnaseq-v2.6.6/util/support_scripts/run_TMM_scale_matrix.pl --matrix salmon.gene.TPM.not_cross_norm > salmon.gene.TMM.EXPR.matrixCMD: R --no-save --no-restore --no-site-file --no-init-file -q < salmon.gene.TPM.not_cross_norm.runTMM.R 1>&2 \n",
      "> library(edgeR)\n",
      "Loading required package: limma\n",
      "> \n",
      "> rnaseqMatrix = read.table(\"salmon.gene.TPM.not_cross_norm\", header=T, row.names=1, com='', check.names=F)\n",
      "> rnaseqMatrix = as.matrix(rnaseqMatrix)\n",
      "> rnaseqMatrix = round(rnaseqMatrix)\n",
      "> exp_study = DGEList(counts=rnaseqMatrix, group=factor(colnames(rnaseqMatrix)))\n",
      "> exp_study = calcNormFactors(exp_study)\n",
      "> exp_study$samples$eff.lib.size = exp_study$samples$lib.size * exp_study$samples$norm.factors\n",
      "> write.table(exp_study$samples, file=\"salmon.gene.TPM.not_cross_norm.TMM_info.txt\", quote=F, sep=\"\\t\", row.names=F)\n",
      "> \n",
      "\n",
      "real\t0m21.383s\n",
      "user\t0m15.912s\n",
      "sys\t0m0.456s\n"
     ]
    }
   ],
   "source": [
    "%%bash\n",
    "cd ${salmon_out_dir}\n",
    "\n",
    "time \\\n",
    "/home/shared/Trinityrnaseq-v2.6.6/util/abundance_estimates_to_matrix.pl \\\n",
    "--est_method salmon \\\n",
    "--gene_trans_map ${gene_map} \\\n",
    "--out_prefix salmon \\\n",
    "--name_sample_by_basedir \\\n",
    "bleached_44_02/quant.sf \\\n",
    "bleached_K5_03/quant.sf \\\n",
    "bleached_K5_01/quant.sf \\\n",
    "non-bleached_K5_01/quant.sf \\\n",
    "non-bleached_44_03/quant.sf \\\n",
    "bleached_K5_05/quant.sf \\\n",
    "bleached_K5_02/quant.sf \\\n",
    "non-bleached_44_02/quant.sf \\\n",
    "non-bleached_44_01/quant.sf \\\n",
    "bleached_44_03/quant.sf \\\n",
    "bleached_K5_04/quant.sf \\\n",
    "non-bleached_K5_02/quant.sf \\\n",
    "non-bleached_K5_03/quant.sf \\\n",
    "bleached_K5_06/quant.sf \\\n",
    "bleached_44_01/quant.sf\n",
    "\n",
    "ls -ltrh\n",
    "\n",
    "sed '/^Subject:/ s/ / porites_abundances JOB COMPLETE/' ~/.default-subject.mail | msmtp \"$EMAIL\""
   ]
  },
  {
   "cell_type": "code",
   "execution_count": 3,
   "metadata": {},
   "outputs": [
    {
     "name": "stderr",
     "output_type": "stream",
     "text": [
      "head: cannot open '/salmon.isoform.counts.matrix' for reading: No such file or directory\n"
     ]
    }
   ],
   "source": [
    "%%bash\n",
    "\n",
    "head ${salmount_out_dir}/salmon.isoform.counts.matrix \\\n",
    "| column -t"
   ]
  },
  {
   "cell_type": "code",
   "execution_count": 4,
   "metadata": {},
   "outputs": [
    {
     "name": "stdout",
     "output_type": "stream",
     "text": [
      "bleached_44_02             bleached_K5_03  bleached_K5_01  non-bleached_K5_01  non-bleached_44_03  bleached_K5_05  bleached_K5_02  non-bleached_44_02  non-bleached_44_01  bleached_44_03  bleached_K5_04  non-bleached_K5_02  non-bleached_K5_03  bleached_K5_06  bleached_44_01\n",
      "TRINITY_DN112195_c0_g1_i1  30.000000       30.000000       36.000000           31.000000           43.000000       30.000000       20.000000           36.000000           24.000000       37.000000       37.000000           74.000000           31.000000       15.000000       64.000000\n",
      "TRINITY_DN190637_c2_g1_i3  0.000000        0.000000        206.811700          0.000000            235.309043      12.150061       0.000000            0.000000            0.000000        0.000000        0.000000            0.000000            0.000000        0.000000        0.000000\n",
      "TRINITY_DN178765_c5_g2_i1  0.000000        0.000000        2.898304            0.000000            0.000000        0.000000        0.000000            0.000000            0.000000        215.894361      0.000000            0.000000            0.000000        1.349370        5.581434\n",
      "TRINITY_DN195734_c1_g5_i3  17.826233       33.510575       10.865872           49.040630           5.755781        5.903369        11.974277           0.000000            15.531023       14.462098       0.000000            58.260004           16.934864       4.504695        0.000000\n",
      "TRINITY_DN172049_c3_g2_i1  1532.894846     2452.000000     4156.000000         1590.880291         2224.938446     1730.000000     1649.000000         2562.000000         1949.000000     4855.984965     2584.000000         1806.000000         2432.000000     1121.000000     980.000000\n",
      "TRINITY_DN183729_c6_g1_i7  0.000000        0.000000        0.000000            0.000000            0.000000        0.000000        0.000000            0.000000            0.000000        0.000000        56.995348           0.000000            0.000000        0.117508        0.000000\n",
      "TRINITY_DN185646_c6_g2_i2  0.304142        0.000000        0.000000            59.775017           98.223901       0.000000        22.579262           31.338489           113.305266      11.732550       47.476142           0.000000            0.000000        11.507686       0.426989\n",
      "TRINITY_DN192506_c1_g1_i1  15.697215       0.000000        0.000000            0.000000            21.203841       0.000000        14.452536           0.000000            83.959948       30.354304       0.004491            13.757501           15.593446       0.000000        129.071857\n",
      "TRINITY_DN190771_c1_g3_i1  350.216622      438.134202      0.000000            0.000000            0.000000        0.000000        4.715811            0.000000            0.000000        0.000000        0.000000            0.000000            497.449915      8.594705        0.000000\n"
     ]
    }
   ],
   "source": [
    "%%bash\n",
    "\n",
    "head ${salmon_out_dir}/salmon.isoform.counts.matrix \\\n",
    "| column -t"
   ]
  },
  {
   "cell_type": "code",
   "execution_count": 5,
   "metadata": {},
   "outputs": [
    {
     "name": "stderr",
     "output_type": "stream",
     "text": [
      "Error, cannot open file /salmon.isoform.counts.matrix at /home/shared/Trinityrnaseq-v2.6.6/Analysis/DifferentialExpression/run_DE_analysis.pl line 335.\n"
     ]
    }
   ],
   "source": [
    "%%bash\n",
    "\n",
    "cd /media/sam/4TB_toshiba/porites/coral_transcripts\n",
    "\n",
    "/home/shared/Trinityrnaseq-v2.6.6/Analysis/DifferentialExpression/run_DE_analysis.pl \\\n",
    "--matrix ${salmon_out_dir}/salmon.isoform.counts.matrix \\\n",
    "--method edgeR \\\n",
    "--samples_file ${samples} \n",
    "\n",
    "sed '/^Subject:/ s/ / porites_edgeR JOB COMPLETE/' ~/.default-subject.mail | msmtp \"$EMAIL\""
   ]
  },
  {
   "cell_type": "code",
   "execution_count": 6,
   "metadata": {},
   "outputs": [
    {
     "name": "stdout",
     "output_type": "stream",
     "text": [
      "$VAR1 = {\n",
      "          'non-bleached' => [\n",
      "                              'non-bleached_K5_01',\n",
      "                              'non-bleached_K5_02',\n",
      "                              'non-bleached_K5_03',\n",
      "                              'non-bleached_44_01',\n",
      "                              'non-bleached_44_02',\n",
      "                              'non-bleached_44_03'\n",
      "                            ],\n",
      "          'bleached' => [\n",
      "                          'bleached_K5_01',\n",
      "                          'bleached_K5_02',\n",
      "                          'bleached_K5_03',\n",
      "                          'bleached_K5_04',\n",
      "                          'bleached_K5_05',\n",
      "                          'bleached_K5_06',\n",
      "                          'bleached_44_01',\n",
      "                          'bleached_44_02',\n",
      "                          'bleached_44_03'\n",
      "                        ]\n",
      "        };\n",
      "CMD: R --no-save --no-restore --no-site-file --no-init-file -q < salmon.isoform.counts.matrix.bleached_vs_non-bleached.bleached.vs.non-bleached.EdgeR.Rscript\n",
      "> library(edgeR)\n",
      "> \n",
      "> data = read.table(\"/media/sam/4TB_toshiba/porites/20190124_salmon/salmon.isoform.counts.matrix\", header=T, row.names=1, com='')\n",
      "> col_ordering = c(3,7,2,11,6,14,15,1,10,4,12,13,9,8,5)\n",
      "> rnaseqMatrix = data[,col_ordering]\n",
      "> rnaseqMatrix = round(rnaseqMatrix)\n",
      "> rnaseqMatrix = rnaseqMatrix[rowSums(cpm(rnaseqMatrix) > 1) >= 2,]\n",
      "> conditions = factor(c(rep(\"bleached\", 9), rep(\"non-bleached\", 6)))\n",
      "> \n",
      "> exp_study = DGEList(counts=rnaseqMatrix, group=conditions)\n",
      "> exp_study = calcNormFactors(exp_study)\n",
      "> exp_study = estimateCommonDisp(exp_study)\n",
      "> exp_study = estimateTagwiseDisp(exp_study)\n",
      "> et = exactTest(exp_study, pair=c(\"bleached\", \"non-bleached\"))\n",
      "> tTags = topTags(et,n=NULL)\n",
      "> result_table = tTags$table\n",
      "> result_table = data.frame(sampleA=\"bleached\", sampleB=\"non-bleached\", result_table)\n",
      "> result_table$logFC = -1 * result_table$logFC\n",
      "> write.table(result_table, file='salmon.isoform.counts.matrix.bleached_vs_non-bleached.edgeR.DE_results', sep='\t', quote=F, row.names=T)\n",
      "> write.table(rnaseqMatrix, file='salmon.isoform.counts.matrix.bleached_vs_non-bleached.edgeR.count_matrix', sep='\t', quote=F, row.names=T)\n",
      "> source(\"/home/shared/Trinityrnaseq-v2.6.6/Analysis/DifferentialExpression/R/rnaseq_plot_funcs.R\")\n",
      "> pdf(\"salmon.isoform.counts.matrix.bleached_vs_non-bleached.edgeR.DE_results.MA_n_Volcano.pdf\")\n",
      "> plot_MA_and_Volcano(rownames(result_table), result_table$logCPM, result_table$logFC, result_table$FDR)\n",
      "> dev.off()\n",
      "null device \n",
      "          1 \n",
      "> \n"
     ]
    },
    {
     "name": "stderr",
     "output_type": "stream",
     "text": [
      "Got 15 samples, and got: 16 data fields.\n",
      "Header: bleached_44_02\tbleached_K5_03\tbleached_K5_01\tnon-bleached_K5_01\tnon-bleached_44_03\tbleached_K5_05\tbleached_K5_02\tnon-bleached_44_02\tnon-bleached_44_01\tbleached_44_03\tbleached_K5_04\tnon-bleached_K5_02\tnon-bleached_K5_03\tbleached_K5_06\tbleached_44_01\n",
      "Next: TRINITY_DN112195_c0_g1_i1\t30.000000\t30.000000\t36.000000\t31.000000\t43.000000\t30.000000\t20.000000\t36.000000\t24.000000\t37.000000\t37.000000\t74.000000\t31.000000\t15.000000\t64.000000\n",
      "\n",
      "$VAR1 = {\n",
      "          'non-bleached_44_01' => 9,\n",
      "          'non-bleached_K5_01' => 4,\n",
      "          'bleached_44_01' => 15,\n",
      "          'bleached_K5_02' => 7,\n",
      "          'bleached_K5_05' => 6,\n",
      "          'bleached_44_02' => 1,\n",
      "          'bleached_K5_03' => 2,\n",
      "          'non-bleached_44_02' => 8,\n",
      "          'bleached_K5_04' => 11,\n",
      "          'non-bleached_K5_02' => 12,\n",
      "          'bleached_44_03' => 10,\n",
      "          'bleached_K5_06' => 14,\n",
      "          'non-bleached_K5_03' => 13,\n",
      "          'bleached_K5_01' => 3,\n",
      "          'non-bleached_44_03' => 5\n",
      "        };\n",
      "Contrasts to perform are: $VAR1 = [\n",
      "          [\n",
      "            'bleached',\n",
      "            'non-bleached'\n",
      "          ]\n",
      "        ];\n",
      "Loading required package: limma\n"
     ]
    }
   ],
   "source": [
    "%%bash\n",
    "\n",
    "cd /media/sam/4TB_toshiba/porites/coral_transcripts\n",
    "\n",
    "/home/shared/Trinityrnaseq-v2.6.6/Analysis/DifferentialExpression/run_DE_analysis.pl \\\n",
    "--matrix ${salmon_out_dir}/salmon.isoform.counts.matrix \\\n",
    "--method edgeR \\\n",
    "--samples_file ${samples} \n",
    "\n",
    "sed '/^Subject:/ s/ / porites_edgeR JOB COMPLETE/' ~/.default-subject.mail | msmtp \"$EMAIL\""
   ]
  },
  {
   "cell_type": "code",
   "execution_count": 7,
   "metadata": {},
   "outputs": [
    {
     "name": "stderr",
     "output_type": "stream",
     "text": [
      "bash: line 2: cd: cd: No such file or directory\n",
      "Error, no DE_results files!  This needs to be run in the edgeR or DESeq output directory at /home/shared/Trinityrnaseq-v2.6.6//Analysis/DifferentialExpression/analyze_diff_expr.pl line 132.\n"
     ]
    }
   ],
   "source": [
    "%%bash\n",
    "\n",
    "cd cd /media/sam/4TB_toshiba/porites/coral_transcripts/edgeR.11860.dir/\n",
    "\n",
    "/home/shared/Trinityrnaseq-v2.6.6//Analysis/DifferentialExpression/analyze_diff_expr.pl \\\n",
    "--matrix ${salmon_out_dir}/salmon.isoform.TMM.EXPR.matrix\n",
    "\n",
    "sed '/^Subject:/ s/ / porites_edgeR JOB COMPLETE/' ~/.default-subject.mail | msmtp \"$EMAIL\""
   ]
  },
  {
   "cell_type": "code",
   "execution_count": 8,
   "metadata": {},
   "outputs": [
    {
     "name": "stderr",
     "output_type": "stream",
     "text": [
      "\n",
      "\n",
      "\tError, not finding replicates corresponding to cond: bleached.  Please use the --samples parameter to specify sample/replicate relationships\n",
      "\n",
      "$VAR1 = {\n",
      "          'bleached_K5_05' => [\n",
      "                                'bleached_K5_05'\n",
      "                              ],\n",
      "          'bleached_K5_06' => [\n",
      "                                'bleached_K5_06'\n",
      "                              ],\n",
      "          'bleached_K5_01' => [\n",
      "                                'bleached_K5_01'\n",
      "                              ],\n",
      "          'non-bleached_K5_01' => [\n",
      "                                    'non-bleached_K5_01'\n",
      "                                  ],\n",
      "          'bleached_K5_04' => [\n",
      "                                'bleached_K5_04'\n",
      "                              ],\n",
      "          'bleached_44_03' => [\n",
      "                                'bleached_44_03'\n",
      "                              ],\n",
      "          'non-bleached_44_01' => [\n",
      "                                    'non-bleached_44_01'\n",
      "                                  ],\n",
      "          'bleached_44_01' => [\n",
      "                                'bleached_44_01'\n",
      "                              ],\n",
      "          'non-bleached_K5_03' => [\n",
      "                                    'non-bleached_K5_03'\n",
      "                                  ],\n",
      "          'non-bleached_44_03' => [\n",
      "                                    'non-bleached_44_03'\n",
      "                                  ],\n",
      "          'bleached_K5_02' => [\n",
      "                                'bleached_K5_02'\n",
      "                              ],\n",
      "          'non-bleached_K5_02' => [\n",
      "                                    'non-bleached_K5_02'\n",
      "                                  ],\n",
      "          'bleached_44_02' => [\n",
      "                                'bleached_44_02'\n",
      "                              ],\n",
      "          'bleached_K5_03' => [\n",
      "                                'bleached_K5_03'\n",
      "                              ],\n",
      "          'non-bleached_44_02' => [\n",
      "                                    'non-bleached_44_02'\n",
      "                                  ]\n",
      "        };\n"
     ]
    }
   ],
   "source": [
    "%%bash\n",
    "\n",
    "cd /media/sam/4TB_toshiba/porites/coral_transcripts/edgeR.11860.dir/\n",
    "\n",
    "/home/shared/Trinityrnaseq-v2.6.6//Analysis/DifferentialExpression/analyze_diff_expr.pl \\\n",
    "--matrix ${salmon_out_dir}/salmon.isoform.TMM.EXPR.matrix\n",
    "\n",
    "sed '/^Subject:/ s/ / porites_edgeR JOB COMPLETE/' ~/.default-subject.mail | msmtp \"$EMAIL\""
   ]
  },
  {
   "cell_type": "code",
   "execution_count": 9,
   "metadata": {},
   "outputs": [
    {
     "name": "stdout",
     "output_type": "stream",
     "text": [
      "> library(cluster)\n",
      "> library(Biobase)\n",
      "> library(qvalue)\n"
     ]
    },
    {
     "name": "stderr",
     "output_type": "stream",
     "text": [
      "\n",
      "\n",
      "** Found 16 features as differentially expressed.\n",
      "\n",
      "CMD: /home/shared/Trinityrnaseq-v2.6.6/Analysis/DifferentialExpression/PtR -m diffExpr.P0.001_C2.matrix --log2 --heatmap --min_colSums 0 --min_rowSums 0 --gene_dist euclidean --sample_dist euclidean --sample_cor_matrix --center_rows --save  -s /home/sam/gitrepos/coral_rnaseq_2017/scripts/porites_b_vs_nb_trinity_sample_list.txt\n",
      "CMD: R --no-save --no-restore --no-site-file --no-init-file -q < diffExpr.P0.001_C2.matrix.R\n",
      "Loading required package: BiocGenerics\n",
      "Loading required package: parallel\n",
      "\n",
      "Attaching package: ‘BiocGenerics’\n",
      "\n",
      "The following objects are masked from ‘package:parallel’:\n",
      "\n",
      "    clusterApply, clusterApplyLB, clusterCall, clusterEvalQ,\n",
      "    clusterExport, clusterMap, parApply, parCapply, parLapply,\n",
      "    parLapplyLB, parRapply, parSapply, parSapplyLB\n",
      "\n",
      "The following objects are masked from ‘package:stats’:\n",
      "\n",
      "    IQR, mad, sd, var, xtabs\n",
      "\n",
      "The following objects are masked from ‘package:base’:\n",
      "\n",
      "    anyDuplicated, append, as.data.frame, cbind, colMeans, colnames,\n",
      "    colSums, do.call, duplicated, eval, evalq, Filter, Find, get, grep,\n",
      "    grepl, intersect, is.unsorted, lapply, lengths, Map, mapply, match,\n",
      "    mget, order, paste, pmax, pmax.int, pmin, pmin.int, Position, rank,\n",
      "    rbind, Reduce, rowMeans, rownames, rowSums, sapply, setdiff, sort,\n",
      "    table, tapply, union, unique, unsplit, which, which.max, which.min\n",
      "\n",
      "Welcome to Bioconductor\n",
      "\n",
      "    Vignettes contain introductory material; view with\n",
      "    'browseVignettes()'. To cite Bioconductor, see\n",
      "    'citation(\"Biobase\")', and for packages 'citation(\"pkgname\")'.\n",
      "\n",
      "Error in library(qvalue) : there is no package called ‘qvalue’\n",
      "Execution halted\n",
      "Error, cmd: R --no-save --no-restore --no-site-file --no-init-file -q < diffExpr.P0.001_C2.matrix.R died with ret 256 at /home/shared/Trinityrnaseq-v2.6.6/Analysis/DifferentialExpression/PtR line 1694.\n",
      "Error, Error, cmd: /home/shared/Trinityrnaseq-v2.6.6/Analysis/DifferentialExpression/PtR -m diffExpr.P0.001_C2.matrix --log2 --heatmap --min_colSums 0 --min_rowSums 0 --gene_dist euclidean --sample_dist euclidean --sample_cor_matrix --center_rows --save  -s /home/sam/gitrepos/coral_rnaseq_2017/scripts/porites_b_vs_nb_trinity_sample_list.txt died with ret 6400 at /home/shared/Trinityrnaseq-v2.6.6//Analysis/DifferentialExpression/analyze_diff_expr.pl line 272.\n"
     ]
    }
   ],
   "source": [
    "%%bash\n",
    "\n",
    "cd /media/sam/4TB_toshiba/porites/coral_transcripts/edgeR.11860.dir/\n",
    "\n",
    "/home/shared/Trinityrnaseq-v2.6.6//Analysis/DifferentialExpression/analyze_diff_expr.pl \\\n",
    "--matrix ${salmon_out_dir}/salmon.isoform.TMM.EXPR.matrix \\\n",
    "--samples ${samples}\n",
    "\n",
    "sed '/^Subject:/ s/ / porites_edgeR JOB COMPLETE/' ~/.default-subject.mail | msmtp \"$EMAIL\""
   ]
  },
  {
   "cell_type": "code",
   "execution_count": 2,
   "metadata": {},
   "outputs": [
    {
     "name": "stdout",
     "output_type": "stream",
     "text": [
      "> library(cluster)\n",
      "> library(Biobase)\n",
      "> library(qvalue)\n",
      "> library(fastcluster)\n"
     ]
    },
    {
     "name": "stderr",
     "output_type": "stream",
     "text": [
      "\n",
      "\n",
      "** Found 16 features as differentially expressed.\n",
      "\n",
      "CMD: /home/shared/Trinityrnaseq-v2.6.6/Analysis/DifferentialExpression/PtR -m diffExpr.P0.001_C2.matrix --log2 --heatmap --min_colSums 0 --min_rowSums 0 --gene_dist euclidean --sample_dist euclidean --sample_cor_matrix --center_rows --save  -s /home/sam/gitrepos/coral_rnaseq_2017/scripts/porites_b_vs_nb_trinity_sample_list.txt\n",
      "CMD: R --no-save --no-restore --no-site-file --no-init-file -q < diffExpr.P0.001_C2.matrix.R\n",
      "Loading required package: BiocGenerics\n",
      "Loading required package: parallel\n",
      "\n",
      "Attaching package: ‘BiocGenerics’\n",
      "\n",
      "The following objects are masked from ‘package:parallel’:\n",
      "\n",
      "    clusterApply, clusterApplyLB, clusterCall, clusterEvalQ,\n",
      "    clusterExport, clusterMap, parApply, parCapply, parLapply,\n",
      "    parLapplyLB, parRapply, parSapply, parSapplyLB\n",
      "\n",
      "The following objects are masked from ‘package:stats’:\n",
      "\n",
      "    IQR, mad, sd, var, xtabs\n",
      "\n",
      "The following objects are masked from ‘package:base’:\n",
      "\n",
      "    anyDuplicated, append, as.data.frame, cbind, colMeans, colnames,\n",
      "    colSums, do.call, duplicated, eval, evalq, Filter, Find, get, grep,\n",
      "    grepl, intersect, is.unsorted, lapply, lengths, Map, mapply, match,\n",
      "    mget, order, paste, pmax, pmax.int, pmin, pmin.int, Position, rank,\n",
      "    rbind, Reduce, rowMeans, rownames, rowSums, sapply, setdiff, sort,\n",
      "    table, tapply, union, unique, unsplit, which, which.max, which.min\n",
      "\n",
      "Welcome to Bioconductor\n",
      "\n",
      "    Vignettes contain introductory material; view with\n",
      "    'browseVignettes()'. To cite Bioconductor, see\n",
      "    'citation(\"Biobase\")', and for packages 'citation(\"pkgname\")'.\n",
      "\n",
      "Error in library(fastcluster) : there is no package called ‘fastcluster’\n",
      "Execution halted\n",
      "Error, cmd: R --no-save --no-restore --no-site-file --no-init-file -q < diffExpr.P0.001_C2.matrix.R died with ret 256 at /home/shared/Trinityrnaseq-v2.6.6/Analysis/DifferentialExpression/PtR line 1694.\n",
      "Error, Error, cmd: /home/shared/Trinityrnaseq-v2.6.6/Analysis/DifferentialExpression/PtR -m diffExpr.P0.001_C2.matrix --log2 --heatmap --min_colSums 0 --min_rowSums 0 --gene_dist euclidean --sample_dist euclidean --sample_cor_matrix --center_rows --save  -s /home/sam/gitrepos/coral_rnaseq_2017/scripts/porites_b_vs_nb_trinity_sample_list.txt died with ret 6400 at /home/shared/Trinityrnaseq-v2.6.6//Analysis/DifferentialExpression/analyze_diff_expr.pl line 272.\n"
     ]
    }
   ],
   "source": [
    "%%bash\n",
    "\n",
    "cd /media/sam/4TB_toshiba/porites/coral_transcripts/edgeR.11860.dir/\n",
    "\n",
    "/home/shared/Trinityrnaseq-v2.6.6//Analysis/DifferentialExpression/analyze_diff_expr.pl \\\n",
    "--matrix ${salmon_out_dir}/salmon.isoform.TMM.EXPR.matrix \\\n",
    "--samples ${samples}\n",
    "\n",
    "sed '/^Subject:/ s/ / porites_edgeR JOB COMPLETE/' ~/.default-subject.mail | msmtp \"$EMAIL\""
   ]
  },
  {
   "cell_type": "code",
   "execution_count": 2,
   "metadata": {},
   "outputs": [
    {
     "name": "stdout",
     "output_type": "stream",
     "text": [
      "> library(cluster)\n",
      "> library(Biobase)\n",
      "> library(qvalue)\n",
      "> library(fastcluster)\n",
      "> options(stringsAsFactors = FALSE)\n",
      "> NO_REUSE = F\n",
      "> \n",
      "> # try to reuse earlier-loaded data if possible\n",
      "> if (file.exists(\"diffExpr.P0.001_C2.matrix.RData\") && ! NO_REUSE) {\n",
      "+     print('RESTORING DATA FROM EARLIER ANALYSIS')\n",
      "+     load(\"diffExpr.P0.001_C2.matrix.RData\")\n",
      "+ } else {\n",
      "+     print('Reading matrix file.')\n",
      "+     primary_data = read.table(\"diffExpr.P0.001_C2.matrix\", header=T, com='', row.names=1, check.names=F)\n",
      "+     primary_data = as.matrix(primary_data)\n",
      "+ }\n",
      "[1] \"Reading matrix file.\"\n",
      "> source(\"/home/shared/Trinityrnaseq-v2.6.6/Analysis/DifferentialExpression/R/heatmap.3.R\")\n",
      "> source(\"/home/shared/Trinityrnaseq-v2.6.6/Analysis/DifferentialExpression/R/misc_rnaseq_funcs.R\")\n",
      "> source(\"/home/shared/Trinityrnaseq-v2.6.6/Analysis/DifferentialExpression/R/pairs3.R\")\n",
      "> source(\"/home/shared/Trinityrnaseq-v2.6.6/Analysis/DifferentialExpression/R/vioplot2.R\")\n",
      "> data = primary_data\n",
      "> myheatcol = colorpanel(75, 'purple','black','yellow')\n",
      "> samples_data = read.table(\"/home/sam/gitrepos/coral_rnaseq_2017/scripts/porites_b_vs_nb_trinity_sample_list.txt\", header=F, check.names=F, fill=T)\n",
      "> samples_data = samples_data[samples_data[,2] != '',]\n",
      "> colnames(samples_data) = c('sample_name', 'replicate_name')\n",
      "> sample_types = as.character(unique(samples_data[,1]))\n",
      "> rep_names = as.character(samples_data[,2])\n",
      "> data = data[, colnames(data) %in% rep_names, drop=F ]\n",
      "> nsamples = length(sample_types)\n",
      "> sample_colors = rainbow(nsamples)\n",
      "> names(sample_colors) = sample_types\n",
      "> sample_type_list = list()\n",
      "> for (i in 1:nsamples) {\n",
      "+     samples_want = samples_data[samples_data[,1]==sample_types[i], 2]\n",
      "+     sample_type_list[[sample_types[i]]] = as.vector(samples_want)\n",
      "+ }\n",
      "> sample_factoring = colnames(data)\n",
      "> for (i in 1:nsamples) {\n",
      "+     sample_type = sample_types[i]\n",
      "+     replicates_want = sample_type_list[[sample_type]]\n",
      "+     sample_factoring[ colnames(data) %in% replicates_want ] = sample_type\n",
      "+ }\n",
      "> initial_matrix = data # store before doing various data transformations\n",
      "> data = log2(data+1)\n",
      "> sample_factoring = colnames(data)\n",
      "> for (i in 1:nsamples) {\n",
      "+     sample_type = sample_types[i]\n",
      "+     replicates_want = sample_type_list[[sample_type]]\n",
      "+     sample_factoring[ colnames(data) %in% replicates_want ] = sample_type\n",
      "+ }\n",
      "> sampleAnnotations = matrix(ncol=ncol(data),nrow=nsamples)\n",
      "> for (i in 1:nsamples) {\n",
      "+   sampleAnnotations[i,] = colnames(data) %in% sample_type_list[[sample_types[i]]]\n",
      "+ }\n",
      "> sampleAnnotations = apply(sampleAnnotations, 1:2, function(x) as.logical(x))\n",
      "> sampleAnnotations = sample_matrix_to_color_assignments(sampleAnnotations, col=sample_colors)\n",
      "> rownames(sampleAnnotations) = as.vector(sample_types)\n",
      "> colnames(sampleAnnotations) = colnames(data)\n",
      "> data = as.matrix(data) # convert to matrix\n",
      "> \n",
      "> # Centering rows\n",
      "> data = t(scale(t(data), scale=F))\n",
      "> \n",
      "> write.table(data, file=\"diffExpr.P0.001_C2.matrix.log2.centered.dat\", quote=F, sep='\t');\n",
      "> if (nrow(data) < 2) { stop(\"\n",
      "+ \n",
      "+ **** Sorry, at least two rows are required for this matrix.\n",
      "+ \n",
      "+ \");}\n",
      "> if (ncol(data) < 2) { stop(\"\n",
      "+ \n",
      "+ **** Sorry, at least two columns are required for this matrix.\n",
      "+ \n",
      "+ \");}\n",
      "> sample_cor = cor(data, method='pearson', use='pairwise.complete.obs')\n",
      "> write.table(sample_cor, file=\"diffExpr.P0.001_C2.matrix.log2.centered.sample_cor.dat\", quote=F, sep='\t')\n",
      "> sample_dist = dist(t(data), method='euclidean')\n",
      "> hc_samples = hclust(sample_dist, method='complete')\n",
      "> pdf(\"diffExpr.P0.001_C2.matrix.log2.centered.sample_cor_matrix.pdf\")\n",
      "> sample_cor_for_plot = sample_cor\n",
      "> heatmap.3(sample_cor_for_plot, dendrogram='both', Rowv=as.dendrogram(hc_samples), Colv=as.dendrogram(hc_samples), col = myheatcol, scale='none', symm=TRUE, key=TRUE,density.info='none', trace='none', symkey=FALSE, symbreaks=F, margins=c(10,10), cexCol=1, cexRow=1, cex.main=0.75, main=paste(\"sample correlation matrix\n",
      "+ \", \"diffExpr.P0.001_C2.matrix.log2.centered\") , ColSideColors=sampleAnnotations, RowSideColors=t(sampleAnnotations))\n",
      "> dev.off()\n",
      "null device \n",
      "          1 \n",
      "> gene_cor = NULL\n",
      "> gene_dist = dist(data, method='euclidean')\n",
      "> if (nrow(data) <= 1) { message('Too few genes to generate heatmap'); quit(status=0); }\n",
      "> hc_genes = hclust(gene_dist, method='complete')\n",
      "> heatmap_data = data\n",
      "> pdf(\"diffExpr.P0.001_C2.matrix.log2.centered.genes_vs_samples_heatmap.pdf\")\n",
      "> heatmap.3(heatmap_data, dendrogram='both', Rowv=as.dendrogram(hc_genes), Colv=as.dendrogram(hc_samples), col=myheatcol, scale=\"none\", density.info=\"none\", trace=\"none\", key=TRUE, keysize=1.2, cexCol=1, margins=c(10,10), cex.main=0.75, main=paste(\"samples vs. features\n",
      "+ \", \"diffExpr.P0.001_C2.matrix.log2.centered\" ) , ColSideColors=sampleAnnotations)\n",
      "> dev.off()\n",
      "null device \n",
      "          1 \n",
      "> save(list=ls(all=TRUE), file=\"diffExpr.P0.001_C2.matrix.RData\")\n",
      "> \n"
     ]
    },
    {
     "name": "stderr",
     "output_type": "stream",
     "text": [
      "\n",
      "\n",
      "** Found 16 features as differentially expressed.\n",
      "\n",
      "CMD: /home/shared/Trinityrnaseq-v2.6.6/Analysis/DifferentialExpression/PtR -m diffExpr.P0.001_C2.matrix --log2 --heatmap --min_colSums 0 --min_rowSums 0 --gene_dist euclidean --sample_dist euclidean --sample_cor_matrix --center_rows --save  -s /home/sam/gitrepos/coral_rnaseq_2017/scripts/porites_b_vs_nb_trinity_sample_list.txt\n",
      "CMD: R --no-save --no-restore --no-site-file --no-init-file -q < diffExpr.P0.001_C2.matrix.R\n",
      "Loading required package: BiocGenerics\n",
      "Loading required package: parallel\n",
      "\n",
      "Attaching package: ‘BiocGenerics’\n",
      "\n",
      "The following objects are masked from ‘package:parallel’:\n",
      "\n",
      "    clusterApply, clusterApplyLB, clusterCall, clusterEvalQ,\n",
      "    clusterExport, clusterMap, parApply, parCapply, parLapply,\n",
      "    parLapplyLB, parRapply, parSapply, parSapplyLB\n",
      "\n",
      "The following objects are masked from ‘package:stats’:\n",
      "\n",
      "    IQR, mad, sd, var, xtabs\n",
      "\n",
      "The following objects are masked from ‘package:base’:\n",
      "\n",
      "    anyDuplicated, append, as.data.frame, cbind, colMeans, colnames,\n",
      "    colSums, do.call, duplicated, eval, evalq, Filter, Find, get, grep,\n",
      "    grepl, intersect, is.unsorted, lapply, lengths, Map, mapply, match,\n",
      "    mget, order, paste, pmax, pmax.int, pmin, pmin.int, Position, rank,\n",
      "    rbind, Reduce, rowMeans, rownames, rowSums, sapply, setdiff, sort,\n",
      "    table, tapply, union, unique, unsplit, which, which.max, which.min\n",
      "\n",
      "Welcome to Bioconductor\n",
      "\n",
      "    Vignettes contain introductory material; view with\n",
      "    'browseVignettes()'. To cite Bioconductor, see\n",
      "    'citation(\"Biobase\")', and for packages 'citation(\"pkgname\")'.\n",
      "\n",
      "\n",
      "Attaching package: ‘fastcluster’\n",
      "\n",
      "The following object is masked from ‘package:stats’:\n",
      "\n",
      "    hclust\n",
      "\n",
      "for plotting:: min.raw: -0.592202637710915 max.raw: 1\n",
      "for plotting:: min.raw: -8.5455384761478 max.raw: 8.5455384761478\n"
     ]
    }
   ],
   "source": [
    "%%bash\n",
    "\n",
    "cd /media/sam/4TB_toshiba/porites/coral_transcripts/edgeR.11860.dir/\n",
    "\n",
    "/home/shared/Trinityrnaseq-v2.6.6//Analysis/DifferentialExpression/analyze_diff_expr.pl \\\n",
    "--matrix ${salmon_out_dir}/salmon.isoform.TMM.EXPR.matrix \\\n",
    "--samples ${samples}\n",
    "\n",
    "sed '/^Subject:/ s/ / porites_edgeR JOB COMPLETE/' ~/.default-subject.mail | msmtp \"$EMAIL\""
   ]
  },
  {
   "cell_type": "code",
   "execution_count": 3,
   "metadata": {},
   "outputs": [
    {
     "name": "stdout",
     "output_type": "stream",
     "text": [
      "bleached\tbleached_K5_01\n",
      "bleached\tbleached_K5_02\n",
      "bleached\tbleached_K5_03\n",
      "bleached\tbleached_K5_04\n",
      "bleached\tbleached_K5_05\n",
      "bleached\tbleached_K5_06\n",
      "bleached\tbleached_44_01\n",
      "bleached\tbleached_44_02\n",
      "bleached\tbleached_44_03\n",
      "non-bleached\tnon-bleached_K5_01\n"
     ]
    }
   ],
   "source": [
    "%%bash\n",
    "cd /media/sam/4TB_toshiba/porites/coral_transcripts/edgeR.11860.dir/\n",
    "\n",
    "head /media/sam/4TB_toshiba/porites/coral_transcripts/edgeR.11860.dir/salmon.isoform.counts.matrix.bleached_vs_non-bleached.edgeR.DE_results.samples"
   ]
  },
  {
   "cell_type": "code",
   "execution_count": 4,
   "metadata": {},
   "outputs": [
    {
     "name": "stdout",
     "output_type": "stream",
     "text": [
      "sampleA\tsampleB\tlogFC\tlogCPM\tPValue\tFDR\tbleached_44_02\tbleached_K5_03\tbleached_K5_01\tnon-bleached_K5_01\tnon-bleached_44_03\tbleached_K5_05\tbleached_K5_02\tnon-bleached_44_02\tnon-bleached_44_01\tbleached_44_03\tbleached_K5_04\tnon-bleached_K5_02\tnon-bleached_K5_03\tbleached_K5_06\tbleached_44_01\n",
      "TRINITY_DN192019_c4_g3_i8\tbleached\tnon-bleached\t10.7000052256787\t3.28322103053615\t5.34650439931148e-08\t0.000237386825007586\t0.000\t12.483\t0.000\t0.000\t0.000\t5.106\t15.255\t0.000\t0.000\t5.350\t23.176\t0.000\t0.000\t15.362\t14.048\n",
      "TRINITY_DN183062_c3_g1_i6\tbleached\tnon-bleached\t12.0936462808723\t4.66389093324185\t1.29871896146489e-07\t0.000414374837783395\t62.933\t0.154\t58.277\t0.000\t0.000\t0.000\t67.730\t0.000\t0.000\t0.381\t106.910\t0.000\t0.000\t0.000\t48.134\n"
     ]
    }
   ],
   "source": [
    "%%bash\n",
    "cd /media/sam/4TB_toshiba/porites/coral_transcripts/edgeR.11860.dir/\n",
    "\n",
    "head /media/sam/4TB_toshiba/porites/coral_transcripts/edgeR.11860.dir/salmon.isoform.counts.matrix.bleached_vs_non-bleached.edgeR.DE_results.P0.001_C2.bleached-UP.subset"
   ]
  },
  {
   "cell_type": "code",
   "execution_count": 5,
   "metadata": {},
   "outputs": [
    {
     "name": "stdout",
     "output_type": "stream",
     "text": [
      "sampleA\tsampleB\tlogFC\tlogCPM\tPValue\tFDR\tbleached_44_02\tbleached_K5_03\tbleached_K5_01\tnon-bleached_K5_01\tnon-bleached_44_03\tbleached_K5_05\tbleached_K5_02\tnon-bleached_44_02\tnon-bleached_44_01\tbleached_44_03\tbleached_K5_04\tnon-bleached_K5_02\tnon-bleached_K5_03\tbleached_K5_06\tbleached_44_01\n",
      "TRINITY_DN185043_c0_g1_i3\tbleached\tnon-bleached\t-10.3834730492142\t2.40389696933643\t1.35523559915627e-11\t6.05370189787115e-07\t0.000\t0.000\t0.000\t10.314\t15.109\t0.010\t0.000\t6.494\t8.071\t0.000\t0.002\t16.695\t0.000\t0.000\t0.000\n",
      "TRINITY_DN194157_c3_g1_i6\tbleached\tnon-bleached\t-11.833804915182\t3.82679226180582\t4.97362144695839e-11\t1.11083348207092e-06\t0.000\t0.000\t0.000\t45.765\t50.429\t0.000\t0.000\t0.000\t34.911\t0.000\t0.000\t50.712\t0.000\t0.000\t0.000\n",
      "TRINITY_DN190104_c1_g1_i2\tbleached\tnon-bleached\t-8.77097889047938\t5.14503483441873\t9.96942338483347e-09\t0.000104934176592973\t0.203\t0.000\t0.821\t83.008\t0.253\t1.146\t0.326\t0.538\t0.346\t0.136\t0.485\t0.440\t1064.490\t0.337\t0.426\n",
      "TRINITY_DN164448_c0_g3_i2\tbleached\tnon-bleached\t-8.0405762707177\t5.07440095528771\t1.04560108931907e-08\t0.000104934176592973\t1.373\t0.970\t0.000\t892.132\t0.326\t0.268\t0.000\t1.491\t4.117\t0.949\t0.625\t0.452\t161.194\t0.326\t1.537\n",
      "TRINITY_DN164448_c0_g2_i2\tbleached\tnon-bleached\t-6.79355512332877\t5.55972072545994\t1.17457494675248e-08\t0.000104934176592973\t1.323\t1.112\t0.358\t232.072\t1.006\t0.526\t0.880\t0.647\t3.490\t1.987\t0.485\t1.318\t679.582\t3.650\t2.209\n",
      "TRINITY_DN198392_c1_g2_i3\tbleached\tnon-bleached\t-11.1611101177783\t3.16312393049142\t1.75761702866819e-08\t0.000130851658422632\t0.000\t0.000\t0.000\t6.927\t0.000\t0.000\t0.000\t0.068\t19.932\t0.000\t0.000\t1.694\t0.000\t0.000\t0.000\n",
      "TRINITY_DN191554_c0_g1_i15\tbleached\tnon-bleached\t-6.94291128224931\t1.0525833771628\t2.60064329547972e-08\t0.000165954479093977\t0.444\t0.000\t0.000\t6.932\t6.985\t0.000\t0.000\t8.315\t7.395\t0.000\t0.000\t13.556\t4.525\t0.000\t0.000\n",
      "TRINITY_DN157861_c0_g1_i1\tbleached\tnon-bleached\t-11.8177284542733\t3.81095485908972\t3.57313837117792e-08\t0.000199510647377683\t0.000\t0.000\t0.000\t0.000\t212.013\t0.000\t0.000\t0.000\t0.000\t0.000\t0.000\t33.196\t50.273\t0.000\t0.000\n",
      "TRINITY_DN166638_c3_g2_i7\tbleached\tnon-bleached\t-9.33868307135469\t5.12516724621453\t4.55374084028278e-08\t0.000226012277327324\t0.525\t0.137\t0.000\t0.151\t0.281\t0.753\t0.400\t385.992\t567.576\t0.000\t0.132\t0.000\t0.219\t0.000\t0.135\n"
     ]
    }
   ],
   "source": [
    "%%bash\n",
    "cd /media/sam/4TB_toshiba/porites/coral_transcripts/edgeR.11860.dir/\n",
    "\n",
    "head /media/sam/4TB_toshiba/porites/coral_transcripts/edgeR.11860.dir/salmon.isoform.counts.matrix.bleached_vs_non-bleached.edgeR.DE_results.P0.001_C2.non-bleached-UP.subset"
   ]
  },
  {
   "cell_type": "code",
   "execution_count": null,
   "metadata": {},
   "outputs": [],
   "source": []
  }
 ],
 "metadata": {
  "kernelspec": {
   "display_name": "Python 3",
   "language": "python",
   "name": "python3"
  },
  "language_info": {
   "codemirror_mode": {
    "name": "ipython",
    "version": 3
   },
   "file_extension": ".py",
   "mimetype": "text/x-python",
   "name": "python",
   "nbconvert_exporter": "python",
   "pygments_lexer": "ipython3",
   "version": "3.6.4"
  }
 },
 "nbformat": 4,
 "nbformat_minor": 2
}
