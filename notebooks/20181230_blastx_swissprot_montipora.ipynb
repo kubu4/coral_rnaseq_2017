{
 "cells": [
  {
   "cell_type": "code",
   "execution_count": 1,
   "metadata": {},
   "outputs": [
    {
     "name": "stdout",
     "output_type": "stream",
     "text": [
      "TODAY'S DATE\n",
      "Sun Dec 30 15:12:05 PST 2018\n",
      "------------\n",
      "\n",
      "Distributor ID:\tUbuntu\n",
      "Description:\tUbuntu 16.04.5 LTS\n",
      "Release:\t16.04\n",
      "Codename:\txenial\n",
      "\n",
      "------------\n",
      "HOSTNAME: \n",
      "jpg-d20\n",
      "\n",
      "------------\n",
      "Computer Specs:\n",
      "\n",
      "Architecture:          x86_64\n",
      "CPU op-mode(s):        32-bit, 64-bit\n",
      "Byte Order:            Little Endian\n",
      "CPU(s):                24\n",
      "On-line CPU(s) list:   0-23\n",
      "Thread(s) per core:    2\n",
      "Core(s) per socket:    6\n",
      "Socket(s):             2\n",
      "NUMA node(s):          2\n",
      "Vendor ID:             GenuineIntel\n",
      "CPU family:            6\n",
      "Model:                 44\n",
      "Model name:            Intel(R) Xeon(R) CPU           X5680  @ 3.33GHz\n",
      "Stepping:              2\n",
      "CPU MHz:               1596.000\n",
      "CPU max MHz:           3326.0000\n",
      "CPU min MHz:           1596.0000\n",
      "BogoMIPS:              6666.88\n",
      "Virtualization:        VT-x\n",
      "L1d cache:             32K\n",
      "L1i cache:             32K\n",
      "L2 cache:              256K\n",
      "L3 cache:              12288K\n",
      "NUMA node0 CPU(s):     0,2,4,6,8,10,12,14,16,18,20,22\n",
      "NUMA node1 CPU(s):     1,3,5,7,9,11,13,15,17,19,21,23\n",
      "Flags:                 fpu vme de pse tsc msr pae mce cx8 apic sep mtrr pge mca cmov pat pse36 clflush dts acpi mmx fxsr sse sse2 ss ht tm pbe syscall nx pdpe1gb rdtscp lm constant_tsc arch_perfmon pebs bts rep_good nopl xtopology nonstop_tsc aperfmperf pni pclmulqdq dtes64 monitor ds_cpl vmx smx est tm2 ssse3 cx16 xtpr pdcm pcid dca sse4_1 sse4_2 popcnt aes lahf_lm epb kaiser tpr_shadow vnmi flexpriority ept vpid dtherm ida arat\n",
      "\n",
      "------------\n",
      "\n",
      "Memory Specs\n",
      "\n",
      "              total        used        free      shared  buff/cache   available\n",
      "Mem:            94G        1.8G        1.1G        1.0G         91G         90G\n",
      "Swap:          128G        414M        127G\n"
     ]
    },
    {
     "name": "stderr",
     "output_type": "stream",
     "text": [
      "No LSB modules are available.\n"
     ]
    }
   ],
   "source": [
    "%%bash\n",
    "echo \"TODAY'S DATE\"\n",
    "date\n",
    "echo \"------------\"\n",
    "echo \"\"\n",
    "lsb_release -a\n",
    "echo \"\"\n",
    "echo \"------------\"\n",
    "echo \"HOSTNAME: \"\n",
    "hostname\n",
    "echo \"\"\n",
    "echo \"------------\"\n",
    "echo \"Computer Specs:\"\n",
    "echo \"\"\n",
    "lscpu\n",
    "echo \"\"\n",
    "echo \"------------\"\n",
    "echo \"\"\n",
    "echo \"Memory Specs\"\n",
    "echo \"\"\n",
    "free -mh"
   ]
  },
  {
   "cell_type": "code",
   "execution_count": null,
   "metadata": {},
   "outputs": [],
   "source": []
  },
  {
   "cell_type": "code",
   "execution_count": 2,
   "metadata": {},
   "outputs": [
    {
     "name": "stdout",
     "output_type": "stream",
     "text": [
      "161704 /media/sam/4TB_toshiba/montipora/20180429_transdecoder/Trinity.fasta.transdecoder.cds.complete-ORFS-only.fasta\n"
     ]
    }
   ],
   "source": [
    "%%bash\n",
    "wc -l /media/sam/4TB_toshiba/montipora/20180429_transdecoder/Trinity.fasta.transdecoder.cds.complete-ORFS-only.fasta"
   ]
  },
  {
   "cell_type": "code",
   "execution_count": 3,
   "metadata": {},
   "outputs": [
    {
     "name": "stdout",
     "output_type": "stream",
     "text": [
      "Process is terminated.\n"
     ]
    }
   ],
   "source": [
    "%%bash\n",
    "mkdir /media/sam/4TB_toshiba/montipora/20181230_blastx_uniprot_montipora\n",
    "cd /media/sam/4TB_toshiba/montipora/20181230_blastx_uniprot_montipora\n",
    "\n",
    "export BLASTDB=/mnt/data/20181008_uniprot_sprot.fasta\n",
    "\n",
    "time \\\n",
    "/home/shared/ncbi-blast-2.7.1+/bin/blastx \\\n",
    "-query /media/sam/4TB_toshiba/montipora/20180429_transdecoder/Trinity.fasta.transdecoder.cds.complete-ORFS-only.fasta \\\n",
    "-db /mnt/data/ncbi_nr_db/nr \\\n",
    "-evalue 1E-04 \\\n",
    "-outfmt \"6 std staxids\" \\\n",
    "-max_target_seqs 1 \\\n",
    "-num_threads 23 \\\n",
    "-out /media/sam/4TB_toshiba/montipora/20181230_blastx_uniprot_montipora201801230_blastx_nr_montipora.tab \\\n",
    "1> /media/sam/4TB_toshiba/montipora/20181230_blastx_uniprot_montipora201801230_blastx_nr_montipora.out \\\n",
    "2> /media/sam/4TB_toshiba/montipora/20181230_blastx_uniprot_montipora201801230_blastx_nr_montipora.err\n",
    "\n",
    "sed '/^Subject:/ s/ / monitpora_blastx JOB COMPLETE/' ~/.default-subject.mail | msmtp \"$EMAIL\""
   ]
  },
  {
   "cell_type": "code",
   "execution_count": 4,
   "metadata": {},
   "outputs": [
    {
     "name": "stderr",
     "output_type": "stream",
     "text": [
      "mkdir: cannot create directory ‘/media/sam/4TB_toshiba/montipora/20181230_blastx_uniprot_montipora’: File exists\n",
      "\n",
      "real\t536m43.279s\n",
      "user\t11663m35.764s\n",
      "sys\t48m15.188s\n"
     ]
    }
   ],
   "source": [
    "%%bash\n",
    "mkdir /media/sam/4TB_toshiba/montipora/20181230_blastx_uniprot_montipora\n",
    "cd /media/sam/4TB_toshiba/montipora/20181230_blastx_uniprot_montipora\n",
    "\n",
    "export BLASTDB=/mnt/data/UniProtKB_20181008/\n",
    "\n",
    "time \\\n",
    "/home/shared/ncbi-blast-2.7.1+/bin/blastx \\\n",
    "-query /media/sam/4TB_toshiba/montipora/20180429_transdecoder/Trinity.fasta.transdecoder.cds.complete-ORFS-only.fasta \\\n",
    "-db /mnt/data/UniProtKB_20181008/20181008_uniprot_sprot.fasta \\\n",
    "-evalue 1E-04 \\\n",
    "-outfmt \"6 std staxids\" \\\n",
    "-max_target_seqs 1 \\\n",
    "-num_threads 23 \\\n",
    "-out /media/sam/4TB_toshiba/montipora/20181230_blastx_uniprot_montipora201801230_blastx_nr_montipora.tab \\\n",
    "1> /media/sam/4TB_toshiba/montipora/20181230_blastx_uniprot_montipora201801230_blastx_nr_montipora.out \\\n",
    "2> /media/sam/4TB_toshiba/montipora/20181230_blastx_uniprot_montipora201801230_blastx_nr_montipora.err\n",
    "\n",
    "sed '/^Subject:/ s/ / monitpora_blastx JOB COMPLETE/' ~/.default-subject.mail | msmtp \"$EMAIL\""
   ]
  },
  {
   "cell_type": "code",
   "execution_count": 5,
   "metadata": {},
   "outputs": [],
   "source": [
    "%%bash\n",
    "mv /media/sam/4TB_toshiba/montipora/20181230_blastx_uniprot_montipora201801230_blastx_nr_montipora.tab \\\n",
    "/media/sam/4TB_toshiba/montipora/20181230_blastx_uniprot_montipora/201801230_blastx_nr_montipora.tab\n",
    "\n",
    "mv /media/sam/4TB_toshiba/montipora/20181230_blastx_uniprot_montipora201801230_blastx_nr_montipora.out \\\n",
    "/media/sam/4TB_toshiba/montipora/20181230_blastx_uniprot_montipora/201801230_blastx_nr_montipora.out\n",
    "\n",
    "mv /media/sam/4TB_toshiba/montipora/20181230_blastx_uniprot_montipora201801230_blastx_nr_montipora.err \\\n",
    "/media/sam/4TB_toshiba/montipora/20181230_blastx_uniprot_montipora/201801230_blastx_nr_montipora.err"
   ]
  },
  {
   "cell_type": "code",
   "execution_count": 6,
   "metadata": {},
   "outputs": [
    {
     "name": "stdout",
     "output_type": "stream",
     "text": [
      "total 6.2M\n",
      "-rw-rw-r-- 1 sam sam    0 Dec 30 15:48 201801230_blastx_nr_montipora.out\n",
      "-rw-rw-r-- 1 sam sam    0 Dec 30 15:48 201801230_blastx_nr_montipora.err\n",
      "-rw-rw-r-- 1 sam sam 6.1M Dec 31 00:45 201801230_blastx_nr_montipora.tab\n"
     ]
    }
   ],
   "source": [
    "%%bash\n",
    "ls -ltrh /media/sam/4TB_toshiba/montipora/20181230_blastx_uniprot_montipora"
   ]
  },
  {
   "cell_type": "code",
   "execution_count": 7,
   "metadata": {},
   "outputs": [
    {
     "name": "stdout",
     "output_type": "stream",
     "text": [
      "63947 /media/sam/4TB_toshiba/montipora/20181230_blastx_uniprot_montipora/201801230_blastx_nr_montipora.tab\n"
     ]
    }
   ],
   "source": [
    "%%bash\n",
    "wc -l /media/sam/4TB_toshiba/montipora/20181230_blastx_uniprot_montipora/201801230_blastx_nr_montipora.tab"
   ]
  },
  {
   "cell_type": "code",
   "execution_count": 8,
   "metadata": {},
   "outputs": [
    {
     "name": "stdout",
     "output_type": "stream",
     "text": [
      "TRINITY_DN100108_c0_g1_i1.p1\tsp|Q5REK7|BORC7_PONAB\t33.010\t103\t66\t2\t7\t315\t6\t105\t2.10e-06\t46.2\tN/A\n",
      "TRINITY_DN100126_c0_g1_i1.p1\tsp|Q5F478|ANR44_CHICK\t26.786\t280\t178\t11\t910\t1722\t136\t397\t3.15e-12\t73.6\tN/A\n",
      "TRINITY_DN100413_c0_g1_i1.p1\tsp|P52493|UBC2_NEUCR\t46.099\t141\t71\t2\t1\t423\t16\t151\t2.69e-43\t143\tN/A\n",
      "TRINITY_DN100520_c0_g1_i2.p1\tsp|Q92556|ELMO1_HUMAN\t46.860\t207\t96\t3\t25\t606\t8\t213\t5.28e-49\t172\tN/A\n",
      "TRINITY_DN100528_c0_g1_i1.p2\tsp|Q18297|TRPA1_CAEEL\t39.344\t61\t37\t0\t94\t276\t517\t577\t1.12e-05\t47.0\tN/A\n",
      "TRINITY_DN100902_c0_g1_i1.p1\tsp|O81716|P2C21_ARATH\t37.695\t321\t139\t8\t1\t861\t36\t329\t2.47e-60\t199\tN/A\n",
      "TRINITY_DN101220_c0_g1_i1.p1\tsp|Q9P7I2|KCC1_SCHPO\t30.876\t217\t140\t4\t496\t1122\t73\t287\t2.12e-24\t106\tN/A\n",
      "TRINITY_DN101287_c0_g2_i1.p1\tsp|Q9XIG1|U80B1_ARATH\t34.104\t173\t102\t2\t22\t540\t407\t567\t2.27e-27\t113\tN/A\n",
      "TRINITY_DN101328_c0_g1_i1.p1\tsp|Q7XIM0|CDPKH_ORYSJ\t27.570\t214\t125\t5\t31\t669\t179\t363\t3.05e-18\t86.3\tN/A\n",
      "TRINITY_DN101403_c0_g1_i1.p1\tsp|Q21268|YMSO_CAEEL\t36.279\t215\t100\t7\t157\t711\t67\t274\t8.69e-29\t113\tN/A\n"
     ]
    }
   ],
   "source": [
    "%%bash\n",
    "head /media/sam/4TB_toshiba/montipora/20181230_blastx_uniprot_montipora/201801230_blastx_nr_montipora.tab"
   ]
  },
  {
   "cell_type": "markdown",
   "metadata": {},
   "source": [
    "No TaxIDs. Need to get NCBI TaxID files..."
   ]
  },
  {
   "cell_type": "code",
   "execution_count": 9,
   "metadata": {},
   "outputs": [
    {
     "name": "stderr",
     "output_type": "stream",
     "text": [
      "\n",
      "real\t537m24.289s\n",
      "user\t11667m52.252s\n",
      "sys\t47m16.336s\n"
     ]
    }
   ],
   "source": [
    "%%bash\n",
    "mkdir /media/sam/4TB_toshiba/montipora/20181231_blastx_uniprot_montipora\n",
    "cd /media/sam/4TB_toshiba/montipora/20181231_blastx_uniprot_montipora\n",
    "\n",
    "export BLASTDB=/mnt/data/UniProtKB_20181008/\n",
    "\n",
    "time \\\n",
    "/home/shared/ncbi-blast-2.7.1+/bin/blastx \\\n",
    "-query /media/sam/4TB_toshiba/montipora/20180429_transdecoder/Trinity.fasta.transdecoder.cds.complete-ORFS-only.fasta \\\n",
    "-db /mnt/data/UniProtKB_20181008/20181008_uniprot_sprot.fasta \\\n",
    "-evalue 1E-04 \\\n",
    "-outfmt \"6 std staxids\" \\\n",
    "-max_target_seqs 1 \\\n",
    "-num_threads 23 \\\n",
    "-out /media/sam/4TB_toshiba/montipora/20181231_blastx_uniprot_montipora/201801231_blastx_nr_montipora.tab \\\n",
    "1> /media/sam/4TB_toshiba/montipora/20181231_blastx_uniprot_montipora/201801231_blastx_nr_montipora.out \\\n",
    "2> /media/sam/4TB_toshiba/montipora/20181231_blastx_uniprot_montipora/201801231_blastx_nr_montipora.err\n",
    "\n",
    "sed '/^Subject:/ s/ / monitpora_blastx JOB COMPLETE/' ~/.default-subject.mail | msmtp \"$EMAIL\""
   ]
  },
  {
   "cell_type": "markdown",
   "metadata": {},
   "source": [
    "Downloaded NCBI Swissprot BLAST database. Tested and I finally get taxids! Ugh, what a pain!"
   ]
  },
  {
   "cell_type": "code",
   "execution_count": 10,
   "metadata": {},
   "outputs": [
    {
     "name": "stdout",
     "output_type": "stream",
     "text": [
      "total 5.5M\n",
      "-rw-rw-r-- 1 sam sam    0 Jan  2 11:37 201801231_blastx_nr_montipora.err\n",
      "-rw-rw-r-- 1 sam sam    0 Jan  2 11:37 201801231_blastx_nr_montipora.out\n",
      "-rw-rw-r-- 1 sam sam 5.5M Jan  2 19:51 201801231_blastx_nr_montipora.tab\n"
     ]
    },
    {
     "name": "stderr",
     "output_type": "stream",
     "text": [
      "\n",
      "real\t493m56.500s\n",
      "user\t10546m2.416s\n",
      "sys\t47m47.076s\n"
     ]
    }
   ],
   "source": [
    "%%bash\n",
    "cd /media/sam/4TB_toshiba/montipora/20181231_blastx_uniprot_montipora\n",
    "export BLASTDB=/mnt/data/ncbi_swissprot_db/\n",
    "\n",
    "time \\\n",
    "/home/shared/ncbi-blast-2.7.1+/bin/blastx \\\n",
    "-query /media/sam/4TB_toshiba/montipora/20180429_transdecoder/Trinity.fasta.transdecoder.cds.complete-ORFS-only.fasta \\\n",
    "-db /mnt/data/ncbi_swissprot_db/swissprot \\\n",
    "-evalue 1E-04 \\\n",
    "-outfmt \"6 std staxids\" \\\n",
    "-max_target_seqs 1 \\\n",
    "-num_threads 23 \\\n",
    "-out /media/sam/4TB_toshiba/montipora/20181231_blastx_uniprot_montipora/201801231_blastx_nr_montipora.tab \\\n",
    "1> /media/sam/4TB_toshiba/montipora/20181231_blastx_uniprot_montipora/201801231_blastx_nr_montipora.out \\\n",
    "2> /media/sam/4TB_toshiba/montipora/20181231_blastx_uniprot_montipora/201801231_blastx_nr_montipora.err\n",
    "\n",
    "ls -lh"
   ]
  },
  {
   "cell_type": "code",
   "execution_count": 11,
   "metadata": {},
   "outputs": [
    {
     "ename": "SyntaxError",
     "evalue": "invalid syntax (<ipython-input-11-00474e063992>, line 1)",
     "output_type": "error",
     "traceback": [
      "\u001b[0;36m  File \u001b[0;32m\"<ipython-input-11-00474e063992>\"\u001b[0;36m, line \u001b[0;32m1\u001b[0m\n\u001b[0;31m    sed '/^Subject:/ s/ / monitpora_blastx JOB COMPLETE/' ~/.default-subject.mail | msmtp \"$EMAIL\"\u001b[0m\n\u001b[0m                                                        ^\u001b[0m\n\u001b[0;31mSyntaxError\u001b[0m\u001b[0;31m:\u001b[0m invalid syntax\n"
     ]
    }
   ],
   "source": [
    "sed '/^Subject:/ s/ / monitpora_blastx JOB COMPLETE/' ~/.default-subject.mail | msmtp \"$EMAIL\""
   ]
  },
  {
   "cell_type": "code",
   "execution_count": 12,
   "metadata": {},
   "outputs": [
    {
     "name": "stdout",
     "output_type": "stream",
     "text": [
      "TRINITY_DN100108_c0_g1_i1.p1\tQ5REK7.2\t33.010\t103\t66\t2\t7\t315\t6\t105\t1.86e-06\t46.2\t9601\n",
      "TRINITY_DN100126_c0_g1_i1.p1\tQ5F478.1\t26.786\t280\t178\t11\t910\t1722\t136\t397\t2.80e-12\t73.6\t9031\n",
      "TRINITY_DN100413_c0_g1_i1.p1\tP52493.4\t46.099\t141\t71\t2\t1\t423\t16\t151\t2.39e-43\t143\t367110\n",
      "TRINITY_DN100520_c0_g1_i2.p1\tQ92556.2\t46.860\t207\t96\t3\t25\t606\t8\t213\t4.69e-49\t172\t9606\n",
      "TRINITY_DN100528_c0_g1_i1.p2\tQ18297.5\t39.344\t61\t37\t0\t94\t276\t517\t577\t9.95e-06\t47.0\t6239\n",
      "TRINITY_DN100902_c0_g1_i1.p1\tO81716.1\t37.695\t321\t139\t8\t1\t861\t36\t329\t2.19e-60\t199\t3702\n",
      "TRINITY_DN101220_c0_g1_i1.p1\tQ9P7I2.1\t30.876\t217\t140\t4\t496\t1122\t73\t287\t1.88e-24\t106\t284812\n",
      "TRINITY_DN101287_c0_g2_i1.p1\tQ9XIG1.1\t34.104\t173\t102\t2\t22\t540\t407\t567\t2.02e-27\t113\t3702\n",
      "TRINITY_DN101328_c0_g1_i1.p1\tQ7XIM0.1\t27.570\t214\t125\t5\t31\t669\t179\t363\t2.71e-18\t86.3\t39947\n",
      "TRINITY_DN101403_c0_g1_i1.p1\tQ21268.2\t36.279\t215\t100\t7\t157\t711\t67\t274\t7.72e-29\t113\t6239\n"
     ]
    }
   ],
   "source": [
    "%%bash\n",
    "head /media/sam/4TB_toshiba/montipora/20181231_blastx_uniprot_montipora/201801231_blastx_nr_montipora.tab"
   ]
  },
  {
   "cell_type": "code",
   "execution_count": null,
   "metadata": {},
   "outputs": [],
   "source": []
  }
 ],
 "metadata": {
  "kernelspec": {
   "display_name": "Python 3",
   "language": "python",
   "name": "python3"
  },
  "language_info": {
   "codemirror_mode": {
    "name": "ipython",
    "version": 3
   },
   "file_extension": ".py",
   "mimetype": "text/x-python",
   "name": "python",
   "nbconvert_exporter": "python",
   "pygments_lexer": "ipython3",
   "version": "3.6.4"
  }
 },
 "nbformat": 4,
 "nbformat_minor": 2
}
