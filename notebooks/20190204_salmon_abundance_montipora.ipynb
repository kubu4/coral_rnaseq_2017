{
 "cells": [
  {
   "cell_type": "code",
   "execution_count": 1,
   "metadata": {
    "scrolled": true
   },
   "outputs": [
    {
     "name": "stdout",
     "output_type": "stream",
     "text": [
      "TODAY'S DATE\n",
      "Mon Feb  4 06:15:38 PST 2019\n",
      "------------\n",
      "\n",
      "Distributor ID:\tUbuntu\n",
      "Description:\tUbuntu 16.04.5 LTS\n",
      "Release:\t16.04\n",
      "Codename:\txenial\n",
      "\n",
      "------------\n",
      "HOSTNAME: \n",
      "jpg-d20\n",
      "\n",
      "------------\n",
      "Computer Specs:\n",
      "\n",
      "Architecture:          x86_64\n",
      "CPU op-mode(s):        32-bit, 64-bit\n",
      "Byte Order:            Little Endian\n",
      "CPU(s):                24\n",
      "On-line CPU(s) list:   0-23\n",
      "Thread(s) per core:    2\n",
      "Core(s) per socket:    6\n",
      "Socket(s):             2\n",
      "NUMA node(s):          2\n",
      "Vendor ID:             GenuineIntel\n",
      "CPU family:            6\n",
      "Model:                 44\n",
      "Model name:            Intel(R) Xeon(R) CPU           X5680  @ 3.33GHz\n",
      "Stepping:              2\n",
      "CPU MHz:               1596.000\n",
      "CPU max MHz:           3326.0000\n",
      "CPU min MHz:           1596.0000\n",
      "BogoMIPS:              6666.90\n",
      "Virtualization:        VT-x\n",
      "L1d cache:             32K\n",
      "L1i cache:             32K\n",
      "L2 cache:              256K\n",
      "L3 cache:              12288K\n",
      "NUMA node0 CPU(s):     0,2,4,6,8,10,12,14,16,18,20,22\n",
      "NUMA node1 CPU(s):     1,3,5,7,9,11,13,15,17,19,21,23\n",
      "Flags:                 fpu vme de pse tsc msr pae mce cx8 apic sep mtrr pge mca cmov pat pse36 clflush dts acpi mmx fxsr sse sse2 ss ht tm pbe syscall nx pdpe1gb rdtscp lm constant_tsc arch_perfmon pebs bts rep_good nopl xtopology nonstop_tsc aperfmperf pni pclmulqdq dtes64 monitor ds_cpl vmx smx est tm2 ssse3 cx16 xtpr pdcm pcid dca sse4_1 sse4_2 popcnt aes lahf_lm epb kaiser tpr_shadow vnmi flexpriority ept vpid dtherm ida arat\n",
      "\n",
      "------------\n",
      "\n",
      "Memory Specs\n",
      "\n",
      "              total        used        free      shared  buff/cache   available\n",
      "Mem:            94G        2.0G         44G        1.0G         47G         90G\n",
      "Swap:          128G          0B        128G\n"
     ]
    },
    {
     "name": "stderr",
     "output_type": "stream",
     "text": [
      "No LSB modules are available.\n"
     ]
    }
   ],
   "source": [
    "%%bash\n",
    "echo \"TODAY'S DATE\"\n",
    "date\n",
    "echo \"------------\"\n",
    "echo \"\"\n",
    "lsb_release -a\n",
    "echo \"\"\n",
    "echo \"------------\"\n",
    "echo \"HOSTNAME: \"\n",
    "hostname\n",
    "echo \"\"\n",
    "echo \"------------\"\n",
    "echo \"Computer Specs:\"\n",
    "echo \"\"\n",
    "lscpu\n",
    "echo \"\"\n",
    "echo \"------------\"\n",
    "echo \"\"\n",
    "echo \"Memory Specs\"\n",
    "echo \"\"\n",
    "free -mh"
   ]
  },
  {
   "cell_type": "code",
   "execution_count": 14,
   "metadata": {},
   "outputs": [
    {
     "name": "stdout",
     "output_type": "stream",
     "text": [
      "env: salmon_out_dir=/media/sam/4TB_toshiba/montipora/20190204_salmon_abundance_montipora\n",
      "env: coral_transcriptome=/media/sam/4TB_toshiba/montipora/20190129_sp_coral_transcripts/Trinity.sp.coral.fasta\n",
      "env: coral_fasta_index=/media/sam/4TB_toshiba/montipora/20190129_sp_coral_transcripts/Trinity.sp.coral.fasta.fai\n",
      "env: samples=/home/sam/gitrepos/coral_rnaseq_2017/scripts/montipora_b_vs_nb_trinity_sample_list.txt\n",
      "env: gene_map=/media/sam/4TB_toshiba/montipora/20190129_sp_coral_transcripts/Trinity.sp.coral.fasta.gene_trans_map\n",
      "env: salmon_stdout=20190130_salmon.out\n",
      "env: salmon_stderr=20190130_salmon.err\n"
     ]
    }
   ],
   "source": [
    "%env salmon_out_dir=/media/sam/4TB_toshiba/montipora/20190204_salmon_abundance_montipora\n",
    "%env coral_transcriptome=/media/sam/4TB_toshiba/montipora/20190129_sp_coral_transcripts/Trinity.sp.coral.fasta\n",
    "%env coral_fasta_index=/media/sam/4TB_toshiba/montipora/20190129_sp_coral_transcripts/Trinity.sp.coral.fasta.fai\n",
    "%env samples=/home/sam/gitrepos/coral_rnaseq_2017/scripts/montipora_b_vs_nb_trinity_sample_list.txt\n",
    "%env gene_map=/media/sam/4TB_toshiba/montipora/20190129_sp_coral_transcripts/Trinity.sp.coral.fasta.gene_trans_map\n",
    "\n",
    "%env salmon_stdout=20190130_salmon.out\n",
    "%env salmon_stderr=20190130_salmon.err"
   ]
  },
  {
   "cell_type": "code",
   "execution_count": 3,
   "metadata": {},
   "outputs": [
    {
     "name": "stdout",
     "output_type": "stream",
     "text": [
      "bleached  bleached_k4 4R041-L6-P09-GGCTAC-READ1-Sequences.txt.gz_val_1.fq.gz  4R041-L6-P09-GGCTAC-READ1-Sequences.txt.gz_val_2.fq.gz\n",
      "bleached  bleached_44 4R041-L6-P10-GTCCGC-READ1-Sequences.txt.gz_val_1.fq.gz  4R041-L6-P10-GTCCGC-READ1-Sequences.txt.gz_val_2.fq.gz\n",
      "bleached  bleached_k4 4R041-L6-P06-AGTTCC-READ1-Sequences.txt.gz_val_1.fq.gz  4R041-L6-P06-AGTTCC-READ1-Sequences.txt.gz_val_2.fq.gz\n",
      "bleached  bleached_44 4R041-L6-P03-GTTTCG-READ1-Sequences.txt.gz_val_1.fq.gz  4R041-L6-P03-GTTTCG-READ1-Sequences.txt.gz_val_2.fq.gz\n",
      "bleached  bleached_44 4R041-L6-P04-ATCACG-READ1-Sequences.txt.gz_val_1.fq.gz  4R041-L6-P04-ATCACG-READ1-Sequences.txt.gz_val_2.fq.gz\n",
      "bleached  bleached_k4 4R041-L6-P07-ATGTCA-READ1-Sequences.txt.gz_val_1.fq.gz  4R041-L6-P07-ATGTCA-READ1-Sequences.txt.gz_val_2.fq.gz\n",
      "non-bleached non-bleached_k4  4R041-L6-P08-ACTGAT-READ1-Sequences.txt.gz_val_1.fq.gz  4R041-L6-P08-ACTGAT-READ1-Sequences.txt.gz_val_2.fq.gz\n",
      "non-bleached  non-bleached_k4 4R041-L6-P01-AGTCAA-READ1-Sequences.txt.gz_val_1.fq.gz  4R041-L6-P01-AGTCAA-READ1-Sequences.txt.gz_val_2.fq.gz\n",
      "non-bleached  non-bleached_44 4R041-L6-P11-GAGTGG-READ1-Sequences.txt.gz_val_1.fq.gz  4R041-L6-P11-GAGTGG-READ1-Sequences.txt.gz_val_2.fq.gz\n",
      "non-bleached  non-bleached_k4 4R041-L6-P02-CTTGTA-READ1-Sequences.txt.gz_val_1.fq.gz  4R041-L6-P02-CTTGTA-READ1-Sequences.txt.gz_val_2.fq.gz\n",
      "non-bleached  non-bleached_44 4R041-L6-P05-TAGCTT-READ1-Sequences.txt.gz_val_1.fq.gz  4R041-L6-P05-TAGCTT-READ1-Sequences.txt.gz_val_2.fq.gz\n",
      "non-bleached  non-bleached_44 4R041-L6-P12-GCCAAT-READ1-Sequences.txt.gz_val_1.fq.gz  4R041-L6-P12-GCCAAT-READ1-Sequences.txt.gz_val_2.fq.gz\n"
     ]
    }
   ],
   "source": [
    "%%bash\n",
    "cat ${samples}"
   ]
  },
  {
   "cell_type": "code",
   "execution_count": 4,
   "metadata": {},
   "outputs": [
    {
     "name": "stderr",
     "output_type": "stream",
     "text": [
      "mkdir: cannot create directory ‘/media/sam/4TB_toshiba/montipora/20190204_salmon_abundance_montipora’: File exists\n"
     ]
    }
   ],
   "source": [
    "%%bash\n",
    "mkdir ${salmon_out_dir}"
   ]
  },
  {
   "cell_type": "code",
   "execution_count": 5,
   "metadata": {},
   "outputs": [
    {
     "name": "stderr",
     "output_type": "stream",
     "text": [
      "\n",
      "real\t0m0.038s\n",
      "user\t0m0.032s\n",
      "sys\t0m0.004s\n"
     ]
    }
   ],
   "source": [
    "%%bash\n",
    "\n",
    "cd /mnt/data/coral_RNAseq_2017/montipora/20180311_fastqc_trimming/trimmed\n",
    "\n",
    "time  /home/shared/Trinityrnaseq-v2.6.6/util/align_and_estimate_abundance.pl \\\n",
    "--output_dir ${salmon_out_dir} \\\n",
    "--transcripts ${coral_transcriptome} \\\n",
    "--seqType fq \\\n",
    "--samples_file ${samples} \\\n",
    "--SS_lib_type RF \\\n",
    "--est_method salmon \\\n",
    "--aln_method bowtie2 \\\n",
    "--trinity_mode \\\n",
    "--prep_reference \\\n",
    "--thread_count 23 \\\n",
    "1> ${salmon_out_dir}/${salmon_stdout} \\\n",
    "2> ${salmon_out_dir}/${salmon_stderr}\n",
    "sed '/^Subject:/ s/ / montipora_salmon JOB COMPLETE/' ~/.default-subject.mail | msmtp \"$EMAIL\""
   ]
  },
  {
   "cell_type": "code",
   "execution_count": 6,
   "metadata": {},
   "outputs": [
    {
     "name": "stderr",
     "output_type": "stream",
     "text": [
      "cat: /media/sam/4TB_toshiba/montipora/20190204_salmon_abundance_montipora: Is a directory\n"
     ]
    }
   ],
   "source": [
    "%%bash\n",
    "cat ${salmon_out_dir/${salmon_stderr}}"
   ]
  },
  {
   "cell_type": "code",
   "execution_count": 7,
   "metadata": {},
   "outputs": [
    {
     "name": "stderr",
     "output_type": "stream",
     "text": [
      "cat: /media/sam/4TB_toshiba/montipora/20190204_salmon_abundance_montipora/20190130_salmon.err}: No such file or directory\n"
     ]
    }
   ],
   "source": [
    "%%bash\n",
    "cat ${salmon_out_dir}/${salmon_stderr}}"
   ]
  },
  {
   "cell_type": "code",
   "execution_count": 8,
   "metadata": {},
   "outputs": [
    {
     "name": "stdout",
     "output_type": "stream",
     "text": [
      "Error, cannot locate file 4R041-L6-P09-GGCTAC-READ1-Sequences.txt.gz_val_2.fq.gz as specified in samples file: /home/sam/gitrepos/coral_rnaseq_2017/scripts/montipora_b_vs_nb_trinity_sample_list.txt at /home/shared/Trinityrnaseq-v2.6.6/util/align_and_estimate_abundance.pl line 1028, <$fh> line 1.\n"
     ]
    }
   ],
   "source": [
    "%%bash\n",
    "cat ${salmon_out_dir}/${salmon_stderr}"
   ]
  },
  {
   "cell_type": "code",
   "execution_count": 9,
   "metadata": {},
   "outputs": [
    {
     "name": "stdout",
     "output_type": "stream",
     "text": [
      "bleached  bleached_k4 4R041-L6-P09-GGCTAC-READ1-Sequences.txt.gz_val_1.fq.gz  4R041-L6-P09-GGCTAC-READ2-Sequences.txt.gz_val_2.fq.gz\n",
      "bleached  bleached_44 4R041-L6-P10-GTCCGC-READ1-Sequences.txt.gz_val_1.fq.gz  4R041-L6-P10-GTCCGC-READ2-Sequences.txt.gz_val_2.fq.gz\n",
      "bleached  bleached_k4 4R041-L6-P06-AGTTCC-READ1-Sequences.txt.gz_val_1.fq.gz  4R041-L6-P06-AGTTCC-READ2-Sequences.txt.gz_val_2.fq.gz\n",
      "bleached  bleached_44 4R041-L6-P03-GTTTCG-READ1-Sequences.txt.gz_val_1.fq.gz  4R041-L6-P03-GTTTCG-READ2-Sequences.txt.gz_val_2.fq.gz\n",
      "bleached  bleached_44 4R041-L6-P04-ATCACG-READ1-Sequences.txt.gz_val_1.fq.gz  4R041-L6-P04-ATCACG-READ2-Sequences.txt.gz_val_2.fq.gz\n",
      "bleached  bleached_k4 4R041-L6-P07-ATGTCA-READ1-Sequences.txt.gz_val_1.fq.gz  4R041-L6-P07-ATGTCA-READ2-Sequences.txt.gz_val_2.fq.gz\n",
      "non-bleached non-bleached_k4  4R041-L6-P08-ACTGAT-READ1-Sequences.txt.gz_val_1.fq.gz  4R041-L6-P08-ACTGAT-READ2-Sequences.txt.gz_val_2.fq.gz\n",
      "non-bleached  non-bleached_k4 4R041-L6-P01-AGTCAA-READ1-Sequences.txt.gz_val_1.fq.gz  4R041-L6-P01-AGTCAA-READ2-Sequences.txt.gz_val_2.fq.gz\n",
      "non-bleached  non-bleached_44 4R041-L6-P11-GAGTGG-READ1-Sequences.txt.gz_val_1.fq.gz  4R041-L6-P11-GAGTGG-READ2-Sequences.txt.gz_val_2.fq.gz\n",
      "non-bleached  non-bleached_k4 4R041-L6-P02-CTTGTA-READ1-Sequences.txt.gz_val_1.fq.gz  4R041-L6-P02-CTTGTA-READ2-Sequences.txt.gz_val_2.fq.gz\n",
      "non-bleached  non-bleached_44 4R041-L6-P05-TAGCTT-READ1-Sequences.txt.gz_val_1.fq.gz  4R041-L6-P05-TAGCTT-READ2-Sequences.txt.gz_val_2.fq.gz\n",
      "non-bleached  non-bleached_44 4R041-L6-P12-GCCAAT-READ1-Sequences.txt.gz_val_1.fq.gz  4R041-L6-P12-GCCAAT-READ2-Sequences.txt.gz_val_2.fq.gz\n"
     ]
    }
   ],
   "source": [
    "%%bash\n",
    "cat ${samples}"
   ]
  },
  {
   "cell_type": "code",
   "execution_count": 10,
   "metadata": {},
   "outputs": [
    {
     "name": "stderr",
     "output_type": "stream",
     "text": [
      "\n",
      "real\t0m0.041s\n",
      "user\t0m0.032s\n",
      "sys\t0m0.004s\n"
     ]
    }
   ],
   "source": [
    "%%bash\n",
    "\n",
    "cd /mnt/data/coral_RNAseq_2017/montipora/20180311_fastqc_trimming/trimmed\n",
    "\n",
    "time  /home/shared/Trinityrnaseq-v2.6.6/util/align_and_estimate_abundance.pl \\\n",
    "--output_dir ${salmon_out_dir} \\\n",
    "--transcripts ${coral_transcriptome} \\\n",
    "--seqType fq \\\n",
    "--samples_file ${samples} \\\n",
    "--SS_lib_type RF \\\n",
    "--est_method salmon \\\n",
    "--aln_method bowtie2 \\\n",
    "--trinity_mode \\\n",
    "--prep_reference \\\n",
    "--thread_count 23 \\\n",
    "1> ${salmon_out_dir}/${salmon_stdout} \\\n",
    "2> ${salmon_out_dir}/${salmon_stderr}\n",
    "sed '/^Subject:/ s/ / montipora_salmon JOB COMPLETE/' ~/.default-subject.mail | msmtp \"$EMAIL\""
   ]
  },
  {
   "cell_type": "code",
   "execution_count": 11,
   "metadata": {},
   "outputs": [
    {
     "name": "stdout",
     "output_type": "stream",
     "text": [
      "Error, replicate names must be unique.  Found bleached_k4 listed multiple times at /home/shared/Trinityrnaseq-v2.6.6/util/align_and_estimate_abundance.pl line 1004, <$fh> line 3.\n"
     ]
    }
   ],
   "source": [
    "%%bash\n",
    "cat ${salmon_out_dir}/${salmon_stderr}"
   ]
  },
  {
   "cell_type": "code",
   "execution_count": 12,
   "metadata": {},
   "outputs": [
    {
     "name": "stdout",
     "output_type": "stream",
     "text": [
      "bleached  bleached_k4_01 4R041-L6-P09-GGCTAC-READ1-Sequences.txt.gz_val_1.fq.gz  4R041-L6-P09-GGCTAC-READ2-Sequences.txt.gz_val_2.fq.gz\n",
      "bleached  bleached_44_01 4R041-L6-P10-GTCCGC-READ1-Sequences.txt.gz_val_1.fq.gz  4R041-L6-P10-GTCCGC-READ2-Sequences.txt.gz_val_2.fq.gz\n",
      "bleached  bleached_k4_02 4R041-L6-P06-AGTTCC-READ1-Sequences.txt.gz_val_1.fq.gz  4R041-L6-P06-AGTTCC-READ2-Sequences.txt.gz_val_2.fq.gz\n",
      "bleached  bleached_44_02 4R041-L6-P03-GTTTCG-READ1-Sequences.txt.gz_val_1.fq.gz  4R041-L6-P03-GTTTCG-READ2-Sequences.txt.gz_val_2.fq.gz\n",
      "bleached  bleached_44_03 4R041-L6-P04-ATCACG-READ1-Sequences.txt.gz_val_1.fq.gz  4R041-L6-P04-ATCACG-READ2-Sequences.txt.gz_val_2.fq.gz\n",
      "bleached  bleached_k4_03 4R041-L6-P07-ATGTCA-READ1-Sequences.txt.gz_val_1.fq.gz  4R041-L6-P07-ATGTCA-READ2-Sequences.txt.gz_val_2.fq.gz\n",
      "non-bleached non-bleached_k4_01  4R041-L6-P08-ACTGAT-READ1-Sequences.txt.gz_val_1.fq.gz  4R041-L6-P08-ACTGAT-READ2-Sequences.txt.gz_val_2.fq.gz\n",
      "non-bleached  non-bleached_k4_02 4R041-L6-P01-AGTCAA-READ1-Sequences.txt.gz_val_1.fq.gz  4R041-L6-P01-AGTCAA-READ2-Sequences.txt.gz_val_2.fq.gz\n",
      "non-bleached  non-bleached_44_01 4R041-L6-P11-GAGTGG-READ1-Sequences.txt.gz_val_1.fq.gz  4R041-L6-P11-GAGTGG-READ2-Sequences.txt.gz_val_2.fq.gz\n",
      "non-bleached  non-bleached_k4_03 4R041-L6-P02-CTTGTA-READ1-Sequences.txt.gz_val_1.fq.gz  4R041-L6-P02-CTTGTA-READ2-Sequences.txt.gz_val_2.fq.gz\n",
      "non-bleached  non-bleached_44_02 4R041-L6-P05-TAGCTT-READ1-Sequences.txt.gz_val_1.fq.gz  4R041-L6-P05-TAGCTT-READ2-Sequences.txt.gz_val_2.fq.gz\n",
      "non-bleached  non-bleached_44_03 4R041-L6-P12-GCCAAT-READ1-Sequences.txt.gz_val_1.fq.gz  4R041-L6-P12-GCCAAT-READ2-Sequences.txt.gz_val_2.fq.gz\n"
     ]
    }
   ],
   "source": [
    "%%bash\n",
    "cat ${samples}"
   ]
  },
  {
   "cell_type": "code",
   "execution_count": 15,
   "metadata": {},
   "outputs": [
    {
     "name": "stderr",
     "output_type": "stream",
     "text": [
      "\n",
      "real\t21m46.713s\n",
      "user\t434m14.544s\n",
      "sys\t4m46.056s\n"
     ]
    }
   ],
   "source": [
    "%%bash\n",
    "\n",
    "cd /mnt/data/coral_RNAseq_2017/montipora/20180311_fastqc_trimming/trimmed\n",
    "\n",
    "time  /home/shared/Trinityrnaseq-v2.6.6/util/align_and_estimate_abundance.pl \\\n",
    "--output_dir ${salmon_out_dir} \\\n",
    "--transcripts ${coral_transcriptome} \\\n",
    "--seqType fq \\\n",
    "--samples_file ${samples} \\\n",
    "--SS_lib_type RF \\\n",
    "--est_method salmon \\\n",
    "--aln_method bowtie2 \\\n",
    "--trinity_mode \\\n",
    "--prep_reference \\\n",
    "--thread_count 23 \\\n",
    "1> ${salmon_out_dir}/${salmon_stdout} \\\n",
    "2> ${salmon_out_dir}/${salmon_stderr}\n",
    "sed '/^Subject:/ s/ / montipora_salmon JOB COMPLETE/' ~/.default-subject.mail | msmtp \"$EMAIL\""
   ]
  },
  {
   "cell_type": "code",
   "execution_count": 16,
   "metadata": {},
   "outputs": [
    {
     "name": "stdout",
     "output_type": "stream",
     "text": [
      "total 41G\n",
      "-rw-rw-r-- 1 sam sam 4.1K Apr 13  2018 4R041-L6-P01-AGTCAA-READ1-Sequences.txt.gz_trimming_report.txt\n",
      "-rw-rw-r-- 1 sam sam 1.4G Apr 13  2018 4R041-L6-P01-AGTCAA-READ2-Sequences.txt.gz_val_2.fq.gz\n",
      "-rw-rw-r-- 1 sam sam 1.3G Apr 13  2018 4R041-L6-P01-AGTCAA-READ1-Sequences.txt.gz_val_1.fq.gz\n",
      "-rw-rw-r-- 1 sam sam 4.4K Apr 13  2018 4R041-L6-P01-AGTCAA-READ2-Sequences.txt.gz_trimming_report.txt\n",
      "-rw-rw-r-- 1 sam sam 4.2K Apr 13  2018 4R041-L6-P02-CTTGTA-READ1-Sequences.txt.gz_trimming_report.txt\n",
      "-rw-rw-r-- 1 sam sam 1.6G Apr 13  2018 4R041-L6-P02-CTTGTA-READ1-Sequences.txt.gz_val_1.fq.gz\n",
      "-rw-rw-r-- 1 sam sam 1.9G Apr 13  2018 4R041-L6-P02-CTTGTA-READ2-Sequences.txt.gz_val_2.fq.gz\n",
      "-rw-rw-r-- 1 sam sam 4.4K Apr 13  2018 4R041-L6-P02-CTTGTA-READ2-Sequences.txt.gz_trimming_report.txt\n",
      "-rw-rw-r-- 1 sam sam 4.1K Apr 13  2018 4R041-L6-P03-GTTTCG-READ1-Sequences.txt.gz_trimming_report.txt\n",
      "-rw-rw-r-- 1 sam sam 1.2G Apr 13  2018 4R041-L6-P03-GTTTCG-READ1-Sequences.txt.gz_val_1.fq.gz\n",
      "-rw-rw-r-- 1 sam sam 1.4G Apr 13  2018 4R041-L6-P03-GTTTCG-READ2-Sequences.txt.gz_val_2.fq.gz\n",
      "-rw-rw-r-- 1 sam sam 4.4K Apr 13  2018 4R041-L6-P03-GTTTCG-READ2-Sequences.txt.gz_trimming_report.txt\n",
      "-rw-rw-r-- 1 sam sam 4.2K Apr 13  2018 4R041-L6-P04-ATCACG-READ1-Sequences.txt.gz_trimming_report.txt\n",
      "-rw-rw-r-- 1 sam sam 1.3G Apr 13  2018 4R041-L6-P04-ATCACG-READ1-Sequences.txt.gz_val_1.fq.gz\n",
      "-rw-rw-r-- 1 sam sam 1.4G Apr 13  2018 4R041-L6-P04-ATCACG-READ2-Sequences.txt.gz_val_2.fq.gz\n",
      "-rw-rw-r-- 1 sam sam 4.4K Apr 13  2018 4R041-L6-P04-ATCACG-READ2-Sequences.txt.gz_trimming_report.txt\n",
      "-rw-rw-r-- 1 sam sam 4.1K Apr 13  2018 4R041-L6-P05-TAGCTT-READ1-Sequences.txt.gz_trimming_report.txt\n",
      "-rw-rw-r-- 1 sam sam 1.7G Apr 13  2018 4R041-L6-P05-TAGCTT-READ1-Sequences.txt.gz_val_1.fq.gz\n",
      "-rw-rw-r-- 1 sam sam 2.0G Apr 13  2018 4R041-L6-P05-TAGCTT-READ2-Sequences.txt.gz_val_2.fq.gz\n",
      "-rw-rw-r-- 1 sam sam 4.4K Apr 13  2018 4R041-L6-P05-TAGCTT-READ2-Sequences.txt.gz_trimming_report.txt\n",
      "-rw-rw-r-- 1 sam sam 4.2K Apr 13  2018 4R041-L6-P06-AGTTCC-READ1-Sequences.txt.gz_trimming_report.txt\n",
      "-rw-rw-r-- 1 sam sam 2.0G Apr 13  2018 4R041-L6-P06-AGTTCC-READ1-Sequences.txt.gz_val_1.fq.gz\n",
      "-rw-rw-r-- 1 sam sam 2.3G Apr 13  2018 4R041-L6-P06-AGTTCC-READ2-Sequences.txt.gz_val_2.fq.gz\n",
      "-rw-rw-r-- 1 sam sam 4.4K Apr 13  2018 4R041-L6-P06-AGTTCC-READ2-Sequences.txt.gz_trimming_report.txt\n",
      "-rw-rw-r-- 1 sam sam 4.2K Apr 13  2018 4R041-L6-P07-ATGTCA-READ1-Sequences.txt.gz_trimming_report.txt\n",
      "-rw-rw-r-- 1 sam sam 1.5G Apr 13  2018 4R041-L6-P07-ATGTCA-READ1-Sequences.txt.gz_val_1.fq.gz\n",
      "-rw-rw-r-- 1 sam sam 1.6G Apr 13  2018 4R041-L6-P07-ATGTCA-READ2-Sequences.txt.gz_val_2.fq.gz\n",
      "-rw-rw-r-- 1 sam sam 4.4K Apr 13  2018 4R041-L6-P07-ATGTCA-READ2-Sequences.txt.gz_trimming_report.txt\n",
      "-rw-rw-r-- 1 sam sam 4.2K Apr 13  2018 4R041-L6-P08-ACTGAT-READ1-Sequences.txt.gz_trimming_report.txt\n",
      "-rw-rw-r-- 1 sam sam 2.3G Apr 13  2018 4R041-L6-P08-ACTGAT-READ2-Sequences.txt.gz_val_2.fq.gz\n",
      "-rw-rw-r-- 1 sam sam 2.1G Apr 13  2018 4R041-L6-P08-ACTGAT-READ1-Sequences.txt.gz_val_1.fq.gz\n",
      "-rw-rw-r-- 1 sam sam 4.4K Apr 13  2018 4R041-L6-P08-ACTGAT-READ2-Sequences.txt.gz_trimming_report.txt\n",
      "-rw-rw-r-- 1 sam sam 4.2K Apr 13  2018 4R041-L6-P09-GGCTAC-READ1-Sequences.txt.gz_trimming_report.txt\n",
      "-rw-rw-r-- 1 sam sam 1.7G Apr 13  2018 4R041-L6-P09-GGCTAC-READ1-Sequences.txt.gz_val_1.fq.gz\n",
      "-rw-rw-r-- 1 sam sam 1.9G Apr 13  2018 4R041-L6-P09-GGCTAC-READ2-Sequences.txt.gz_val_2.fq.gz\n",
      "-rw-rw-r-- 1 sam sam 4.4K Apr 13  2018 4R041-L6-P09-GGCTAC-READ2-Sequences.txt.gz_trimming_report.txt\n",
      "-rw-rw-r-- 1 sam sam 4.1K Apr 13  2018 4R041-L6-P10-GTCCGC-READ1-Sequences.txt.gz_trimming_report.txt\n",
      "-rw-rw-r-- 1 sam sam 778M Apr 13  2018 4R041-L6-P10-GTCCGC-READ1-Sequences.txt.gz_val_1.fq.gz\n",
      "-rw-rw-r-- 1 sam sam 897M Apr 13  2018 4R041-L6-P10-GTCCGC-READ2-Sequences.txt.gz_val_2.fq.gz\n",
      "-rw-rw-r-- 1 sam sam 4.3K Apr 13  2018 4R041-L6-P10-GTCCGC-READ2-Sequences.txt.gz_trimming_report.txt\n",
      "-rw-rw-r-- 1 sam sam 4.3K Apr 13  2018 4R041-L6-P11-GAGTGG-READ1-Sequences.txt.gz_trimming_report.txt\n",
      "-rw-rw-r-- 1 sam sam 2.1G Apr 13  2018 4R041-L6-P11-GAGTGG-READ1-Sequences.txt.gz_val_1.fq.gz\n",
      "-rw-rw-r-- 1 sam sam 2.4G Apr 13  2018 4R041-L6-P11-GAGTGG-READ2-Sequences.txt.gz_val_2.fq.gz\n",
      "-rw-rw-r-- 1 sam sam 4.5K Apr 13  2018 4R041-L6-P11-GAGTGG-READ2-Sequences.txt.gz_trimming_report.txt\n",
      "-rw-rw-r-- 1 sam sam 4.2K Apr 13  2018 4R041-L6-P12-GCCAAT-READ1-Sequences.txt.gz_trimming_report.txt\n",
      "-rw-rw-r-- 1 sam sam 2.1G Apr 13  2018 4R041-L6-P12-GCCAAT-READ1-Sequences.txt.gz_val_1.fq.gz\n",
      "-rw-rw-r-- 1 sam sam 2.4G Apr 13  2018 4R041-L6-P12-GCCAAT-READ2-Sequences.txt.gz_val_2.fq.gz\n",
      "-rw-rw-r-- 1 sam sam 4.4K Apr 13  2018 4R041-L6-P12-GCCAAT-READ2-Sequences.txt.gz_trimming_report.txt\n",
      "-rw-rw-r-- 1 sam sam 177K Apr 15  2018 stderr.log\n",
      "drwxrwxr-x 4 sam sam 4.0K Apr 15  2018 fastqc\n",
      "drwxrwxr-x 5 sam sam 4.0K Feb  4 14:54 bleached_k4_01\n",
      "drwxrwxr-x 5 sam sam 4.0K Feb  4 14:55 bleached_44_01\n",
      "drwxrwxr-x 5 sam sam 4.0K Feb  4 14:57 bleached_k4_02\n",
      "drwxrwxr-x 5 sam sam 4.0K Feb  4 14:58 bleached_44_02\n",
      "drwxrwxr-x 5 sam sam 4.0K Feb  4 15:00 bleached_44_03\n",
      "drwxrwxr-x 5 sam sam 4.0K Feb  4 15:01 bleached_k4_03\n",
      "drwxrwxr-x 5 sam sam 4.0K Feb  4 15:04 non-bleached_k4_01\n",
      "drwxrwxr-x 5 sam sam 4.0K Feb  4 15:05 non-bleached_k4_02\n",
      "drwxrwxr-x 5 sam sam 4.0K Feb  4 15:07 non-bleached_44_01\n",
      "drwxrwxr-x 5 sam sam 4.0K Feb  4 15:09 non-bleached_k4_03\n",
      "drwxrwxr-x 5 sam sam 4.0K Feb  4 15:11 non-bleached_44_02\n",
      "drwxrwxr-x 5 sam sam 4.0K Feb  4 15:14 non-bleached_44_03\n"
     ]
    }
   ],
   "source": [
    "%%bash\n",
    "ls -ltrh /mnt/data/coral_RNAseq_2017/montipora/20180311_fastqc_trimming/trimmed"
   ]
  },
  {
   "cell_type": "code",
   "execution_count": 17,
   "metadata": {},
   "outputs": [
    {
     "name": "stdout",
     "output_type": "stream",
     "text": [
      "total 180K\n",
      "-rw-rw-r-- 1 sam sam    0 Feb  4 14:52 20190130_salmon.out\n",
      "drwxrwxr-x 5 sam sam 4.0K Feb  4 14:54 bleached_k4_01\n",
      "drwxrwxr-x 5 sam sam 4.0K Feb  4 14:55 bleached_44_01\n",
      "drwxrwxr-x 5 sam sam 4.0K Feb  4 14:57 bleached_k4_02\n",
      "drwxrwxr-x 5 sam sam 4.0K Feb  4 14:58 bleached_44_02\n",
      "drwxrwxr-x 5 sam sam 4.0K Feb  4 15:00 bleached_44_03\n",
      "drwxrwxr-x 5 sam sam 4.0K Feb  4 15:01 bleached_k4_03\n",
      "drwxrwxr-x 5 sam sam 4.0K Feb  4 15:04 non-bleached_k4_01\n",
      "drwxrwxr-x 5 sam sam 4.0K Feb  4 15:05 non-bleached_k4_02\n",
      "drwxrwxr-x 5 sam sam 4.0K Feb  4 15:07 non-bleached_44_01\n",
      "drwxrwxr-x 5 sam sam 4.0K Feb  4 15:09 non-bleached_k4_03\n",
      "drwxrwxr-x 5 sam sam 4.0K Feb  4 15:11 non-bleached_44_02\n",
      "-rw-rw-r-- 1 sam sam 127K Feb  4 15:14 20190130_salmon.err\n",
      "drwxrwxr-x 5 sam sam 4.0K Feb  4 15:14 non-bleached_44_03\n"
     ]
    }
   ],
   "source": [
    "%%bash\n",
    "mv /mnt/data/coral_RNAseq_2017/montipora/20180311_fastqc_trimming/trimmed/bleached* \\\n",
    "${salmon_out_dir}\n",
    "\n",
    "mv /mnt/data/coral_RNAseq_2017/montipora/20180311_fastqc_trimming/trimmed/non* \\\n",
    "${salmon_out_dir}\n",
    "\n",
    "ls -ltrh ${salmon_out_dir}"
   ]
  },
  {
   "cell_type": "code",
   "execution_count": 18,
   "metadata": {},
   "outputs": [
    {
     "name": "stdout",
     "output_type": "stream",
     "text": [
      "total 3.8M\n",
      "-rw-rw-r-- 1 sam sam    0 Feb  4 14:52 20190130_salmon.out\n",
      "drwxrwxr-x 5 sam sam 4.0K Feb  4 14:54 bleached_k4_01\n",
      "drwxrwxr-x 5 sam sam 4.0K Feb  4 14:55 bleached_44_01\n",
      "drwxrwxr-x 5 sam sam 4.0K Feb  4 14:57 bleached_k4_02\n",
      "drwxrwxr-x 5 sam sam 4.0K Feb  4 14:58 bleached_44_02\n",
      "drwxrwxr-x 5 sam sam 4.0K Feb  4 15:00 bleached_44_03\n",
      "drwxrwxr-x 5 sam sam 4.0K Feb  4 15:01 bleached_k4_03\n",
      "drwxrwxr-x 5 sam sam 4.0K Feb  4 15:04 non-bleached_k4_01\n",
      "drwxrwxr-x 5 sam sam 4.0K Feb  4 15:05 non-bleached_k4_02\n",
      "drwxrwxr-x 5 sam sam 4.0K Feb  4 15:07 non-bleached_44_01\n",
      "drwxrwxr-x 5 sam sam 4.0K Feb  4 15:09 non-bleached_k4_03\n",
      "drwxrwxr-x 5 sam sam 4.0K Feb  4 15:11 non-bleached_44_02\n",
      "-rw-rw-r-- 1 sam sam 127K Feb  4 15:14 20190130_salmon.err\n",
      "drwxrwxr-x 5 sam sam 4.0K Feb  4 15:14 non-bleached_44_03\n",
      "-rw-rw-r-- 1 sam sam 846K Feb  7 15:50 salmon.isoform.TPM.not_cross_norm\n",
      "-rw-rw-r-- 1 sam sam 994K Feb  7 15:50 salmon.isoform.counts.matrix\n",
      "-rw-rw-r-- 1 sam sam 432K Feb  7 15:50 salmon.gene.TPM.not_cross_norm\n",
      "-rw-rw-r-- 1 sam sam 326K Feb  7 15:50 salmon.gene.counts.matrix\n",
      "-rw-rw-r-- 1 sam sam  528 Feb  7 15:50 salmon.isoform.TPM.not_cross_norm.runTMM.R\n",
      "-rw-rw-r-- 1 sam sam  742 Feb  7 15:50 salmon.isoform.TPM.not_cross_norm.TMM_info.txt\n",
      "-rw-rw-r-- 1 sam sam 720K Feb  7 15:50 salmon.isoform.TMM.EXPR.matrix\n",
      "-rw-rw-r-- 1 sam sam  522 Feb  7 15:50 salmon.gene.TPM.not_cross_norm.runTMM.R\n",
      "-rw-rw-r-- 1 sam sam  750 Feb  7 15:50 salmon.gene.TPM.not_cross_norm.TMM_info.txt\n",
      "-rw-rw-r-- 1 sam sam 345K Feb  7 15:50 salmon.gene.TMM.EXPR.matrix\n"
     ]
    },
    {
     "name": "stderr",
     "output_type": "stream",
     "text": [
      "-reading file: bleached_k4_01/quant.sf\n",
      "-reading file: bleached_44_01/quant.sf\n",
      "-reading file: bleached_k4_02/quant.sf\n",
      "-reading file: bleached_44_02/quant.sf\n",
      "-reading file: bleached_44_03/quant.sf\n",
      "-reading file: bleached_k4_03/quant.sf\n",
      "-reading file: non-bleached_k4_01/quant.sf\n",
      "-reading file: non-bleached_k4_02/quant.sf\n",
      "-reading file: non-bleached_44_01/quant.sf\n",
      "-reading file: non-bleached_k4_03/quant.sf\n",
      "-reading file: non-bleached_44_02/quant.sf\n",
      "-reading file: non-bleached_44_03/quant.sf\n",
      "\n",
      "\n",
      "* Outputting combined matrix.\n",
      "\n",
      "/home/shared/Trinityrnaseq-v2.6.6/util/support_scripts/run_TMM_scale_matrix.pl --matrix salmon.isoform.TPM.not_cross_norm > salmon.isoform.TMM.EXPR.matrixCMD: R --no-save --no-restore --no-site-file --no-init-file -q < salmon.isoform.TPM.not_cross_norm.runTMM.R 1>&2 \n",
      "> library(edgeR)\n",
      "Loading required package: limma\n",
      "> \n",
      "> rnaseqMatrix = read.table(\"salmon.isoform.TPM.not_cross_norm\", header=T, row.names=1, com='', check.names=F)\n",
      "> rnaseqMatrix = as.matrix(rnaseqMatrix)\n",
      "> rnaseqMatrix = round(rnaseqMatrix)\n",
      "> exp_study = DGEList(counts=rnaseqMatrix, group=factor(colnames(rnaseqMatrix)))\n",
      "> exp_study = calcNormFactors(exp_study)\n",
      "> exp_study$samples$eff.lib.size = exp_study$samples$lib.size * exp_study$samples$norm.factors\n",
      "> write.table(exp_study$samples, file=\"salmon.isoform.TPM.not_cross_norm.TMM_info.txt\", quote=F, sep=\"\\t\", row.names=F)\n",
      "> \n",
      "/home/shared/Trinityrnaseq-v2.6.6/util/support_scripts/run_TMM_scale_matrix.pl --matrix salmon.gene.TPM.not_cross_norm > salmon.gene.TMM.EXPR.matrixCMD: R --no-save --no-restore --no-site-file --no-init-file -q < salmon.gene.TPM.not_cross_norm.runTMM.R 1>&2 \n",
      "> library(edgeR)\n",
      "Loading required package: limma\n",
      "> \n",
      "> rnaseqMatrix = read.table(\"salmon.gene.TPM.not_cross_norm\", header=T, row.names=1, com='', check.names=F)\n",
      "> rnaseqMatrix = as.matrix(rnaseqMatrix)\n",
      "> rnaseqMatrix = round(rnaseqMatrix)\n",
      "> exp_study = DGEList(counts=rnaseqMatrix, group=factor(colnames(rnaseqMatrix)))\n",
      "> exp_study = calcNormFactors(exp_study)\n",
      "> exp_study$samples$eff.lib.size = exp_study$samples$lib.size * exp_study$samples$norm.factors\n",
      "> write.table(exp_study$samples, file=\"salmon.gene.TPM.not_cross_norm.TMM_info.txt\", quote=F, sep=\"\\t\", row.names=F)\n",
      "> \n",
      "\n",
      "real\t0m2.950s\n",
      "user\t0m2.812s\n",
      "sys\t0m0.108s\n"
     ]
    }
   ],
   "source": [
    "%%bash\n",
    "cd ${salmon_out_dir}\n",
    "\n",
    "time \\\n",
    "/home/shared/Trinityrnaseq-v2.6.6/util/abundance_estimates_to_matrix.pl \\\n",
    "--est_method salmon \\\n",
    "--gene_trans_map ${gene_map} \\\n",
    "--out_prefix salmon \\\n",
    "--name_sample_by_basedir \\\n",
    "bleached_k4_01/quant.sf \\\n",
    "bleached_44_01/quant.sf \\\n",
    "bleached_k4_02/quant.sf \\\n",
    "bleached_44_02/quant.sf \\\n",
    "bleached_44_03/quant.sf \\\n",
    "bleached_k4_03/quant.sf \\\n",
    "non-bleached_k4_01/quant.sf \\\n",
    "non-bleached_k4_02/quant.sf \\\n",
    "non-bleached_44_01/quant.sf \\\n",
    "non-bleached_k4_03/quant.sf \\\n",
    "non-bleached_44_02/quant.sf \\\n",
    "non-bleached_44_03/quant.sf\n",
    "\n",
    "ls -ltrh\n",
    "\n",
    "sed '/^Subject:/ s/ / montipora_abundances JOB COMPLETE/' ~/.default-subject.mail | msmtp \"$EMAIL\""
   ]
  },
  {
   "cell_type": "code",
   "execution_count": 19,
   "metadata": {},
   "outputs": [
    {
     "name": "stdout",
     "output_type": "stream",
     "text": [
      "bleached_k4_01             bleached_44_01  bleached_k4_02  bleached_44_02  bleached_44_03  bleached_k4_03  non-bleached_k4_01  non-bleached_k4_02  non-bleached_44_01  non-bleached_k4_03  non-bleached_44_02  non-bleached_44_03\n",
      "TRINITY_DN187928_c3_g2_i2  14.263237       10.805056       46.102410       25.108703       14.211843       17.697831           79.644737           49.242467           66.316806           74.776529           68.811147           29.941926\n",
      "TRINITY_DN182231_c1_g1_i7  1270.458549     864.477842      1697.344607     1095.977140     883.489983      1060.064664         1461.145432         1092.507616         1698.496211         1235.748979         1692.702996         2125.976280\n",
      "TRINITY_DN181254_c0_g1_i2  540.936836      282.000000      904.325236      626.933688      351.667153      488.000000          810.315203          404.429111          860.471607          661.248426          793.062896          913.832464\n",
      "TRINITY_DN174726_c0_g1_i2  51.214502       47.711186       92.676632       46.062339       65.213054       18.439801           35.811027           50.485737           112.570087          36.395523           72.710338           70.335428\n",
      "TRINITY_DN167216_c1_g3_i2  44.709717       7.818789        0.000000        5.647582        0.000000        0.000000            20.166554           0.000000            0.000000            0.000000            25.669813           0.000000\n",
      "TRINITY_DN190640_c1_g2_i1  27.605330       0.000000        0.000000        0.000000        38.610989       61.846448           77.531685           0.000000            0.000000            0.000000            59.783633           30.228503\n",
      "TRINITY_DN185597_c1_g4_i3  154.000000      86.563030       403.306868      52.409828       36.694050       27.000000           447.806757          32.000000           453.533514          48.261107           818.796372          78.000000\n",
      "TRINITY_DN192971_c2_g1_i3  433.000000      193.000000      433.000000      265.000000      348.000000      305.000000          551.000000          262.000000          659.000000          313.000000          414.000000          645.000000\n",
      "TRINITY_DN185625_c3_g3_i9  0.000000        8.813710        44.755772       0.000000        29.678933       13.569756           9.496923            15.033174           3.142753            42.881294           27.586537           79.278488\n"
     ]
    }
   ],
   "source": [
    "%%bash\n",
    "\n",
    "head ${salmon_out_dir}/salmon.isoform.counts.matrix \\\n",
    "| column -t"
   ]
  },
  {
   "cell_type": "code",
   "execution_count": 20,
   "metadata": {},
   "outputs": [
    {
     "name": "stdout",
     "output_type": "stream",
     "text": [
      "$VAR1 = {\n",
      "          'bleached' => [\n",
      "                          'bleached_k4_01',\n",
      "                          'bleached_44_01',\n",
      "                          'bleached_k4_02',\n",
      "                          'bleached_44_02',\n",
      "                          'bleached_44_03',\n",
      "                          'bleached_k4_03'\n",
      "                        ],\n",
      "          'non-bleached' => [\n",
      "                              'non-bleached_k4_01',\n",
      "                              'non-bleached_k4_02',\n",
      "                              'non-bleached_44_01',\n",
      "                              'non-bleached_k4_03',\n",
      "                              'non-bleached_44_02',\n",
      "                              'non-bleached_44_03'\n",
      "                            ]\n",
      "        };\n",
      "CMD: R --no-save --no-restore --no-site-file --no-init-file -q < salmon.isoform.counts.matrix.bleached_vs_non-bleached.bleached.vs.non-bleached.EdgeR.Rscript\n",
      "> library(edgeR)\n",
      "> \n",
      "> data = read.table(\"/media/sam/4TB_toshiba/montipora/20190204_salmon_abundance_montipora/salmon.isoform.counts.matrix\", header=T, row.names=1, com='')\n",
      "> col_ordering = c(1,2,3,4,5,6,7,8,9,10,11,12)\n",
      "> rnaseqMatrix = data[,col_ordering]\n",
      "> rnaseqMatrix = round(rnaseqMatrix)\n",
      "> rnaseqMatrix = rnaseqMatrix[rowSums(cpm(rnaseqMatrix) > 1) >= 2,]\n",
      "> conditions = factor(c(rep(\"bleached\", 6), rep(\"non-bleached\", 6)))\n",
      "> \n",
      "> exp_study = DGEList(counts=rnaseqMatrix, group=conditions)\n",
      "> exp_study = calcNormFactors(exp_study)\n",
      "> exp_study = estimateCommonDisp(exp_study)\n",
      "> exp_study = estimateTagwiseDisp(exp_study)\n",
      "> et = exactTest(exp_study, pair=c(\"bleached\", \"non-bleached\"))\n",
      "> tTags = topTags(et,n=NULL)\n",
      "> result_table = tTags$table\n",
      "> result_table = data.frame(sampleA=\"bleached\", sampleB=\"non-bleached\", result_table)\n",
      "> result_table$logFC = -1 * result_table$logFC\n",
      "> write.table(result_table, file='salmon.isoform.counts.matrix.bleached_vs_non-bleached.edgeR.DE_results', sep='\t', quote=F, row.names=T)\n",
      "> write.table(rnaseqMatrix, file='salmon.isoform.counts.matrix.bleached_vs_non-bleached.edgeR.count_matrix', sep='\t', quote=F, row.names=T)\n",
      "> source(\"/home/shared/Trinityrnaseq-v2.6.6/Analysis/DifferentialExpression/R/rnaseq_plot_funcs.R\")\n",
      "> pdf(\"salmon.isoform.counts.matrix.bleached_vs_non-bleached.edgeR.DE_results.MA_n_Volcano.pdf\")\n",
      "> plot_MA_and_Volcano(rownames(result_table), result_table$logCPM, result_table$logFC, result_table$FDR)\n",
      "> dev.off()\n",
      "null device \n",
      "          1 \n",
      "> \n"
     ]
    },
    {
     "name": "stderr",
     "output_type": "stream",
     "text": [
      "Got 12 samples, and got: 13 data fields.\n",
      "Header: bleached_k4_01\tbleached_44_01\tbleached_k4_02\tbleached_44_02\tbleached_44_03\tbleached_k4_03\tnon-bleached_k4_01\tnon-bleached_k4_02\tnon-bleached_44_01\tnon-bleached_k4_03\tnon-bleached_44_02\tnon-bleached_44_03\n",
      "Next: TRINITY_DN187928_c3_g2_i2\t14.263237\t10.805056\t46.102410\t25.108703\t14.211843\t17.697831\t79.644737\t49.242467\t66.316806\t74.776529\t68.811147\t29.941926\n",
      "\n",
      "$VAR1 = {\n",
      "          'bleached_44_02' => 4,\n",
      "          'bleached_44_03' => 5,\n",
      "          'non-bleached_44_01' => 9,\n",
      "          'non-bleached_k4_01' => 7,\n",
      "          'bleached_k4_03' => 6,\n",
      "          'non-bleached_k4_03' => 10,\n",
      "          'bleached_k4_01' => 1,\n",
      "          'bleached_k4_02' => 3,\n",
      "          'non-bleached_k4_02' => 8,\n",
      "          'non-bleached_44_03' => 12,\n",
      "          'non-bleached_44_02' => 11,\n",
      "          'bleached_44_01' => 2\n",
      "        };\n",
      "Contrasts to perform are: $VAR1 = [\n",
      "          [\n",
      "            'bleached',\n",
      "            'non-bleached'\n",
      "          ]\n",
      "        ];\n",
      "Loading required package: limma\n",
      "\n",
      "real\t0m3.627s\n",
      "user\t0m3.520s\n",
      "sys\t0m0.100s\n"
     ]
    }
   ],
   "source": [
    "%%bash\n",
    "\n",
    "cd /media/sam/4TB_toshiba/montipora/20190129_sp_coral_transcripts\n",
    "\n",
    "time \\\n",
    "/home/shared/Trinityrnaseq-v2.6.6/Analysis/DifferentialExpression/run_DE_analysis.pl \\\n",
    "--matrix ${salmon_out_dir}/salmon.isoform.counts.matrix \\\n",
    "--method edgeR \\\n",
    "--samples_file ${samples} \n",
    "\n",
    "sed '/^Subject:/ s/ / montipora_edgeR JOB COMPLETE/' ~/.default-subject.mail | msmtp \"$EMAIL\""
   ]
  },
  {
   "cell_type": "code",
   "execution_count": 21,
   "metadata": {},
   "outputs": [
    {
     "name": "stdout",
     "output_type": "stream",
     "text": [
      "total 17724\n",
      "-rw-rw-r-- 1 sam sam 17491510 Jan 30 11:25 Trinity.sp.coral.fasta\n",
      "-rw-rw-r-- 1 sam sam   308289 Jan 30 11:25 Trinity.sp.coral.fasta.fai\n",
      "-rw-rw-r-- 1 sam sam   334864 Feb  4 14:52 Trinity.sp.coral.fasta.gene_trans_map\n",
      "drwxrwxr-x 2 sam sam     4096 Feb  4 14:52 Trinity.sp.coral.fasta.salmon_quasi.idx\n",
      "drwxrwxr-x 2 sam sam     4096 Feb  7 15:52 edgeR.5710.dir\n"
     ]
    }
   ],
   "source": [
    "%%bash\n",
    "ls -ltr /media/sam/4TB_toshiba/montipora/20190129_sp_coral_transcripts"
   ]
  },
  {
   "cell_type": "code",
   "execution_count": 22,
   "metadata": {},
   "outputs": [
    {
     "name": "stdout",
     "output_type": "stream",
     "text": [
      "> library(cluster)\n",
      "> library(Biobase)\n",
      "> library(qvalue)\n",
      "> library(fastcluster)\n",
      "> options(stringsAsFactors = FALSE)\n",
      "> NO_REUSE = F\n",
      "> \n",
      "> # try to reuse earlier-loaded data if possible\n",
      "> if (file.exists(\"diffExpr.P0.001_C2.matrix.RData\") && ! NO_REUSE) {\n",
      "+     print('RESTORING DATA FROM EARLIER ANALYSIS')\n",
      "+     load(\"diffExpr.P0.001_C2.matrix.RData\")\n",
      "+ } else {\n",
      "+     print('Reading matrix file.')\n",
      "+     primary_data = read.table(\"diffExpr.P0.001_C2.matrix\", header=T, com='', row.names=1, check.names=F)\n",
      "+     primary_data = as.matrix(primary_data)\n",
      "+ }\n",
      "[1] \"Reading matrix file.\"\n",
      "> source(\"/home/shared/Trinityrnaseq-v2.6.6/Analysis/DifferentialExpression/R/heatmap.3.R\")\n",
      "> source(\"/home/shared/Trinityrnaseq-v2.6.6/Analysis/DifferentialExpression/R/misc_rnaseq_funcs.R\")\n",
      "> source(\"/home/shared/Trinityrnaseq-v2.6.6/Analysis/DifferentialExpression/R/pairs3.R\")\n",
      "> source(\"/home/shared/Trinityrnaseq-v2.6.6/Analysis/DifferentialExpression/R/vioplot2.R\")\n",
      "> data = primary_data\n",
      "> myheatcol = colorpanel(75, 'purple','black','yellow')\n",
      "> samples_data = read.table(\"/home/sam/gitrepos/coral_rnaseq_2017/scripts/montipora_b_vs_nb_trinity_sample_list.txt\", header=F, check.names=F, fill=T)\n",
      "> samples_data = samples_data[samples_data[,2] != '',]\n",
      "> colnames(samples_data) = c('sample_name', 'replicate_name')\n",
      "> sample_types = as.character(unique(samples_data[,1]))\n",
      "> rep_names = as.character(samples_data[,2])\n",
      "> data = data[, colnames(data) %in% rep_names, drop=F ]\n",
      "> nsamples = length(sample_types)\n",
      "> sample_colors = rainbow(nsamples)\n",
      "> names(sample_colors) = sample_types\n",
      "> sample_type_list = list()\n",
      "> for (i in 1:nsamples) {\n",
      "+     samples_want = samples_data[samples_data[,1]==sample_types[i], 2]\n",
      "+     sample_type_list[[sample_types[i]]] = as.vector(samples_want)\n",
      "+ }\n",
      "> sample_factoring = colnames(data)\n",
      "> for (i in 1:nsamples) {\n",
      "+     sample_type = sample_types[i]\n",
      "+     replicates_want = sample_type_list[[sample_type]]\n",
      "+     sample_factoring[ colnames(data) %in% replicates_want ] = sample_type\n",
      "+ }\n",
      "> initial_matrix = data # store before doing various data transformations\n",
      "> data = log2(data+1)\n",
      "> sample_factoring = colnames(data)\n",
      "> for (i in 1:nsamples) {\n",
      "+     sample_type = sample_types[i]\n",
      "+     replicates_want = sample_type_list[[sample_type]]\n",
      "+     sample_factoring[ colnames(data) %in% replicates_want ] = sample_type\n",
      "+ }\n",
      "> sampleAnnotations = matrix(ncol=ncol(data),nrow=nsamples)\n",
      "> for (i in 1:nsamples) {\n",
      "+   sampleAnnotations[i,] = colnames(data) %in% sample_type_list[[sample_types[i]]]\n",
      "+ }\n",
      "> sampleAnnotations = apply(sampleAnnotations, 1:2, function(x) as.logical(x))\n",
      "> sampleAnnotations = sample_matrix_to_color_assignments(sampleAnnotations, col=sample_colors)\n",
      "> rownames(sampleAnnotations) = as.vector(sample_types)\n",
      "> colnames(sampleAnnotations) = colnames(data)\n",
      "> data = as.matrix(data) # convert to matrix\n",
      "> \n",
      "> # Centering rows\n",
      "> data = t(scale(t(data), scale=F))\n",
      "> \n",
      "> write.table(data, file=\"diffExpr.P0.001_C2.matrix.log2.centered.dat\", quote=F, sep='\t');\n",
      "> if (nrow(data) < 2) { stop(\"\n",
      "+ \n",
      "+ **** Sorry, at least two rows are required for this matrix.\n",
      "+ \n",
      "+ \");}\n",
      "> if (ncol(data) < 2) { stop(\"\n",
      "+ \n",
      "+ **** Sorry, at least two columns are required for this matrix.\n",
      "+ \n",
      "+ \");}\n",
      "> sample_cor = cor(data, method='pearson', use='pairwise.complete.obs')\n",
      "> write.table(sample_cor, file=\"diffExpr.P0.001_C2.matrix.log2.centered.sample_cor.dat\", quote=F, sep='\t')\n",
      "> sample_dist = dist(t(data), method='euclidean')\n",
      "> hc_samples = hclust(sample_dist, method='complete')\n",
      "> pdf(\"diffExpr.P0.001_C2.matrix.log2.centered.sample_cor_matrix.pdf\")\n",
      "> sample_cor_for_plot = sample_cor\n",
      "> heatmap.3(sample_cor_for_plot, dendrogram='both', Rowv=as.dendrogram(hc_samples), Colv=as.dendrogram(hc_samples), col = myheatcol, scale='none', symm=TRUE, key=TRUE,density.info='none', trace='none', symkey=FALSE, symbreaks=F, margins=c(10,10), cexCol=1, cexRow=1, cex.main=0.75, main=paste(\"sample correlation matrix\n",
      "+ \", \"diffExpr.P0.001_C2.matrix.log2.centered\") , ColSideColors=sampleAnnotations, RowSideColors=t(sampleAnnotations))\n",
      "> dev.off()\n",
      "null device \n",
      "          1 \n",
      "> gene_cor = NULL\n",
      "> gene_dist = dist(data, method='euclidean')\n",
      "> if (nrow(data) <= 1) { message('Too few genes to generate heatmap'); quit(status=0); }\n",
      "> hc_genes = hclust(gene_dist, method='complete')\n",
      "> heatmap_data = data\n",
      "> pdf(\"diffExpr.P0.001_C2.matrix.log2.centered.genes_vs_samples_heatmap.pdf\")\n",
      "> heatmap.3(heatmap_data, dendrogram='both', Rowv=as.dendrogram(hc_genes), Colv=as.dendrogram(hc_samples), col=myheatcol, scale=\"none\", density.info=\"none\", trace=\"none\", key=TRUE, keysize=1.2, cexCol=1, margins=c(10,10), cex.main=0.75, main=paste(\"samples vs. features\n",
      "+ \", \"diffExpr.P0.001_C2.matrix.log2.centered\" ) , ColSideColors=sampleAnnotations)\n",
      "> dev.off()\n",
      "null device \n",
      "          1 \n",
      "> save(list=ls(all=TRUE), file=\"diffExpr.P0.001_C2.matrix.RData\")\n",
      "> \n"
     ]
    },
    {
     "name": "stderr",
     "output_type": "stream",
     "text": [
      "\n",
      "\n",
      "** Found 5 features as differentially expressed.\n",
      "\n",
      "CMD: /home/shared/Trinityrnaseq-v2.6.6/Analysis/DifferentialExpression/PtR -m diffExpr.P0.001_C2.matrix --log2 --heatmap --min_colSums 0 --min_rowSums 0 --gene_dist euclidean --sample_dist euclidean --sample_cor_matrix --center_rows --save  -s /home/sam/gitrepos/coral_rnaseq_2017/scripts/montipora_b_vs_nb_trinity_sample_list.txt\n",
      "CMD: R --no-save --no-restore --no-site-file --no-init-file -q < diffExpr.P0.001_C2.matrix.R\n",
      "Loading required package: BiocGenerics\n",
      "Loading required package: parallel\n",
      "\n",
      "Attaching package: ‘BiocGenerics’\n",
      "\n",
      "The following objects are masked from ‘package:parallel’:\n",
      "\n",
      "    clusterApply, clusterApplyLB, clusterCall, clusterEvalQ,\n",
      "    clusterExport, clusterMap, parApply, parCapply, parLapply,\n",
      "    parLapplyLB, parRapply, parSapply, parSapplyLB\n",
      "\n",
      "The following objects are masked from ‘package:stats’:\n",
      "\n",
      "    IQR, mad, sd, var, xtabs\n",
      "\n",
      "The following objects are masked from ‘package:base’:\n",
      "\n",
      "    anyDuplicated, append, as.data.frame, cbind, colMeans, colnames,\n",
      "    colSums, do.call, duplicated, eval, evalq, Filter, Find, get, grep,\n",
      "    grepl, intersect, is.unsorted, lapply, lengths, Map, mapply, match,\n",
      "    mget, order, paste, pmax, pmax.int, pmin, pmin.int, Position, rank,\n",
      "    rbind, Reduce, rowMeans, rownames, rowSums, sapply, setdiff, sort,\n",
      "    table, tapply, union, unique, unsplit, which, which.max, which.min\n",
      "\n",
      "Welcome to Bioconductor\n",
      "\n",
      "    Vignettes contain introductory material; view with\n",
      "    'browseVignettes()'. To cite Bioconductor, see\n",
      "    'citation(\"Biobase\")', and for packages 'citation(\"pkgname\")'.\n",
      "\n",
      "\n",
      "Attaching package: ‘fastcluster’\n",
      "\n",
      "The following object is masked from ‘package:stats’:\n",
      "\n",
      "    hclust\n",
      "\n",
      "for plotting:: min.raw: -0.973435452892258 max.raw: 1\n",
      "for plotting:: min.raw: -9.65304547081609 max.raw: 9.65304547081609\n",
      "\n",
      "real\t0m1.701s\n",
      "user\t0m1.616s\n",
      "sys\t0m0.068s\n"
     ]
    }
   ],
   "source": [
    "%%bash\n",
    "\n",
    "cd /media/sam/4TB_toshiba/montipora/20190129_sp_coral_transcripts/edgeR.5710.dir/\n",
    "\n",
    "time \\\n",
    "/home/shared/Trinityrnaseq-v2.6.6/Analysis/DifferentialExpression/analyze_diff_expr.pl \\\n",
    "--matrix ${salmon_out_dir}/salmon.isoform.TMM.EXPR.matrix \\\n",
    "--samples ${samples}\n",
    "\n",
    "sed '/^Subject:/ s/ / montipora_edgeR JOB COMPLETE/' ~/.default-subject.mail | msmtp \"$EMAIL\""
   ]
  },
  {
   "cell_type": "code",
   "execution_count": 23,
   "metadata": {},
   "outputs": [
    {
     "name": "stdout",
     "output_type": "stream",
     "text": [
      "  1 /media/sam/4TB_toshiba/montipora/20190129_sp_coral_transcripts/edgeR.5710.dir/salmon.isoform.counts.matrix.bleached_vs_non-bleached.edgeR.DE_results.P0.001_C2.bleached-UP.subset\n",
      "  1 total\n"
     ]
    },
    {
     "name": "stderr",
     "output_type": "stream",
     "text": [
      "wc: cd: No such file or directory\n"
     ]
    }
   ],
   "source": [
    "%%bash\n",
    "\n",
    "wc -l cd /media/sam/4TB_toshiba/montipora/20190129_sp_coral_transcripts/edgeR.5710.dir/salmon.isoform.counts.matrix.bleached_vs_non-bleached.edgeR.DE_results.P0.001_C2.bleached-UP.subset"
   ]
  },
  {
   "cell_type": "code",
   "execution_count": 24,
   "metadata": {},
   "outputs": [
    {
     "name": "stdout",
     "output_type": "stream",
     "text": [
      "1 /media/sam/4TB_toshiba/montipora/20190129_sp_coral_transcripts/edgeR.5710.dir/salmon.isoform.counts.matrix.bleached_vs_non-bleached.edgeR.DE_results.P0.001_C2.bleached-UP.subset\n"
     ]
    }
   ],
   "source": [
    "%%bash\n",
    "\n",
    "wc -l /media/sam/4TB_toshiba/montipora/20190129_sp_coral_transcripts/edgeR.5710.dir/salmon.isoform.counts.matrix.bleached_vs_non-bleached.edgeR.DE_results.P0.001_C2.bleached-UP.subset"
   ]
  },
  {
   "cell_type": "code",
   "execution_count": 25,
   "metadata": {},
   "outputs": [
    {
     "name": "stderr",
     "output_type": "stream",
     "text": [
      "wc: /media/sam/4TB_toshiba/montipora/20190129_sp_coral_transcripts/edgeR.5710.dir/salmon.isoform.counts.matrix.bleached_vs_non-bleached.edgeR.DE_results.P0.001_C2.bleached-UP.subset/salmon.isoform.counts.matrix.bleached_vs_non-bleached.edgeR.DE_results.P0.001_C2.non-bleached-UP.subset: Not a directory\n"
     ]
    }
   ],
   "source": [
    "%%bash\n",
    "\n",
    "\n",
    "wc -l /media/sam/4TB_toshiba/montipora/20190129_sp_coral_transcripts/edgeR.5710.dir/salmon.isoform.counts.matrix.bleached_vs_non-bleached.edgeR.DE_results.P0.001_C2.bleached-UP.subset/salmon.isoform.counts.matrix.bleached_vs_non-bleached.edgeR.DE_results.P0.001_C2.non-bleached-UP.subset"
   ]
  },
  {
   "cell_type": "code",
   "execution_count": 26,
   "metadata": {},
   "outputs": [
    {
     "name": "stdout",
     "output_type": "stream",
     "text": [
      "> library(cluster)\n",
      "> library(Biobase)\n",
      "> library(qvalue)\n",
      "> library(fastcluster)\n",
      "> options(stringsAsFactors = FALSE)\n",
      "> NO_REUSE = F\n",
      "> \n",
      "> # try to reuse earlier-loaded data if possible\n",
      "> if (file.exists(\"diffExpr.P0.05_C1.matrix.RData\") && ! NO_REUSE) {\n",
      "+     print('RESTORING DATA FROM EARLIER ANALYSIS')\n",
      "+     load(\"diffExpr.P0.05_C1.matrix.RData\")\n",
      "+ } else {\n",
      "+     print('Reading matrix file.')\n",
      "+     primary_data = read.table(\"diffExpr.P0.05_C1.matrix\", header=T, com='', row.names=1, check.names=F)\n",
      "+     primary_data = as.matrix(primary_data)\n",
      "+ }\n",
      "[1] \"Reading matrix file.\"\n",
      "> source(\"/home/shared/Trinityrnaseq-v2.6.6/Analysis/DifferentialExpression/R/heatmap.3.R\")\n",
      "> source(\"/home/shared/Trinityrnaseq-v2.6.6/Analysis/DifferentialExpression/R/misc_rnaseq_funcs.R\")\n",
      "> source(\"/home/shared/Trinityrnaseq-v2.6.6/Analysis/DifferentialExpression/R/pairs3.R\")\n",
      "> source(\"/home/shared/Trinityrnaseq-v2.6.6/Analysis/DifferentialExpression/R/vioplot2.R\")\n",
      "> data = primary_data\n",
      "> myheatcol = colorpanel(75, 'purple','black','yellow')\n",
      "> samples_data = read.table(\"/home/sam/gitrepos/coral_rnaseq_2017/scripts/montipora_b_vs_nb_trinity_sample_list.txt\", header=F, check.names=F, fill=T)\n",
      "> samples_data = samples_data[samples_data[,2] != '',]\n",
      "> colnames(samples_data) = c('sample_name', 'replicate_name')\n",
      "> sample_types = as.character(unique(samples_data[,1]))\n",
      "> rep_names = as.character(samples_data[,2])\n",
      "> data = data[, colnames(data) %in% rep_names, drop=F ]\n",
      "> nsamples = length(sample_types)\n",
      "> sample_colors = rainbow(nsamples)\n",
      "> names(sample_colors) = sample_types\n",
      "> sample_type_list = list()\n",
      "> for (i in 1:nsamples) {\n",
      "+     samples_want = samples_data[samples_data[,1]==sample_types[i], 2]\n",
      "+     sample_type_list[[sample_types[i]]] = as.vector(samples_want)\n",
      "+ }\n",
      "> sample_factoring = colnames(data)\n",
      "> for (i in 1:nsamples) {\n",
      "+     sample_type = sample_types[i]\n",
      "+     replicates_want = sample_type_list[[sample_type]]\n",
      "+     sample_factoring[ colnames(data) %in% replicates_want ] = sample_type\n",
      "+ }\n",
      "> initial_matrix = data # store before doing various data transformations\n",
      "> data = log2(data+1)\n",
      "> sample_factoring = colnames(data)\n",
      "> for (i in 1:nsamples) {\n",
      "+     sample_type = sample_types[i]\n",
      "+     replicates_want = sample_type_list[[sample_type]]\n",
      "+     sample_factoring[ colnames(data) %in% replicates_want ] = sample_type\n",
      "+ }\n",
      "> sampleAnnotations = matrix(ncol=ncol(data),nrow=nsamples)\n",
      "> for (i in 1:nsamples) {\n",
      "+   sampleAnnotations[i,] = colnames(data) %in% sample_type_list[[sample_types[i]]]\n",
      "+ }\n",
      "> sampleAnnotations = apply(sampleAnnotations, 1:2, function(x) as.logical(x))\n",
      "> sampleAnnotations = sample_matrix_to_color_assignments(sampleAnnotations, col=sample_colors)\n",
      "> rownames(sampleAnnotations) = as.vector(sample_types)\n",
      "> colnames(sampleAnnotations) = colnames(data)\n",
      "> data = as.matrix(data) # convert to matrix\n",
      "> \n",
      "> # Centering rows\n",
      "> data = t(scale(t(data), scale=F))\n",
      "> \n",
      "> write.table(data, file=\"diffExpr.P0.05_C1.matrix.log2.centered.dat\", quote=F, sep='\t');\n",
      "> if (nrow(data) < 2) { stop(\"\n",
      "+ \n",
      "+ **** Sorry, at least two rows are required for this matrix.\n",
      "+ \n",
      "+ \");}\n",
      "> if (ncol(data) < 2) { stop(\"\n",
      "+ \n",
      "+ **** Sorry, at least two columns are required for this matrix.\n",
      "+ \n",
      "+ \");}\n",
      "> sample_cor = cor(data, method='pearson', use='pairwise.complete.obs')\n",
      "> write.table(sample_cor, file=\"diffExpr.P0.05_C1.matrix.log2.centered.sample_cor.dat\", quote=F, sep='\t')\n",
      "> sample_dist = dist(t(data), method='euclidean')\n",
      "> hc_samples = hclust(sample_dist, method='complete')\n",
      "> pdf(\"diffExpr.P0.05_C1.matrix.log2.centered.sample_cor_matrix.pdf\")\n",
      "> sample_cor_for_plot = sample_cor\n",
      "> heatmap.3(sample_cor_for_plot, dendrogram='both', Rowv=as.dendrogram(hc_samples), Colv=as.dendrogram(hc_samples), col = myheatcol, scale='none', symm=TRUE, key=TRUE,density.info='none', trace='none', symkey=FALSE, symbreaks=F, margins=c(10,10), cexCol=1, cexRow=1, cex.main=0.75, main=paste(\"sample correlation matrix\n",
      "+ \", \"diffExpr.P0.05_C1.matrix.log2.centered\") , ColSideColors=sampleAnnotations, RowSideColors=t(sampleAnnotations))\n",
      "> dev.off()\n",
      "null device \n",
      "          1 \n",
      "> gene_cor = NULL\n",
      "> gene_dist = dist(data, method='euclidean')\n",
      "> if (nrow(data) <= 1) { message('Too few genes to generate heatmap'); quit(status=0); }\n",
      "> hc_genes = hclust(gene_dist, method='complete')\n",
      "> heatmap_data = data\n",
      "> pdf(\"diffExpr.P0.05_C1.matrix.log2.centered.genes_vs_samples_heatmap.pdf\")\n",
      "> heatmap.3(heatmap_data, dendrogram='both', Rowv=as.dendrogram(hc_genes), Colv=as.dendrogram(hc_samples), col=myheatcol, scale=\"none\", density.info=\"none\", trace=\"none\", key=TRUE, keysize=1.2, cexCol=1, margins=c(10,10), cex.main=0.75, main=paste(\"samples vs. features\n",
      "+ \", \"diffExpr.P0.05_C1.matrix.log2.centered\" ) , ColSideColors=sampleAnnotations)\n",
      "> dev.off()\n",
      "null device \n",
      "          1 \n",
      "> save(list=ls(all=TRUE), file=\"diffExpr.P0.05_C1.matrix.RData\")\n",
      "> \n"
     ]
    },
    {
     "name": "stderr",
     "output_type": "stream",
     "text": [
      "\n",
      "\n",
      "** Found 51 features as differentially expressed.\n",
      "\n",
      "CMD: /home/shared/Trinityrnaseq-v2.6.6/Analysis/DifferentialExpression/PtR -m diffExpr.P0.05_C1.matrix --log2 --heatmap --min_colSums 0 --min_rowSums 0 --gene_dist euclidean --sample_dist euclidean --sample_cor_matrix --center_rows --save  -s /home/sam/gitrepos/coral_rnaseq_2017/scripts/montipora_b_vs_nb_trinity_sample_list.txt\n",
      "CMD: R --no-save --no-restore --no-site-file --no-init-file -q < diffExpr.P0.05_C1.matrix.R\n",
      "Loading required package: BiocGenerics\n",
      "Loading required package: parallel\n",
      "\n",
      "Attaching package: ‘BiocGenerics’\n",
      "\n",
      "The following objects are masked from ‘package:parallel’:\n",
      "\n",
      "    clusterApply, clusterApplyLB, clusterCall, clusterEvalQ,\n",
      "    clusterExport, clusterMap, parApply, parCapply, parLapply,\n",
      "    parLapplyLB, parRapply, parSapply, parSapplyLB\n",
      "\n",
      "The following objects are masked from ‘package:stats’:\n",
      "\n",
      "    IQR, mad, sd, var, xtabs\n",
      "\n",
      "The following objects are masked from ‘package:base’:\n",
      "\n",
      "    anyDuplicated, append, as.data.frame, cbind, colMeans, colnames,\n",
      "    colSums, do.call, duplicated, eval, evalq, Filter, Find, get, grep,\n",
      "    grepl, intersect, is.unsorted, lapply, lengths, Map, mapply, match,\n",
      "    mget, order, paste, pmax, pmax.int, pmin, pmin.int, Position, rank,\n",
      "    rbind, Reduce, rowMeans, rownames, rowSums, sapply, setdiff, sort,\n",
      "    table, tapply, union, unique, unsplit, which, which.max, which.min\n",
      "\n",
      "Welcome to Bioconductor\n",
      "\n",
      "    Vignettes contain introductory material; view with\n",
      "    'browseVignettes()'. To cite Bioconductor, see\n",
      "    'citation(\"Biobase\")', and for packages 'citation(\"pkgname\")'.\n",
      "\n",
      "\n",
      "Attaching package: ‘fastcluster’\n",
      "\n",
      "The following object is masked from ‘package:stats’:\n",
      "\n",
      "    hclust\n",
      "\n",
      "for plotting:: min.raw: -0.501288132385612 max.raw: 1\n",
      "for plotting:: min.raw: -9.65304547081609 max.raw: 9.65304547081609\n",
      "\n",
      "real\t0m1.749s\n",
      "user\t0m1.680s\n",
      "sys\t0m0.056s\n"
     ]
    }
   ],
   "source": [
    "%%bash\n",
    "\n",
    "cd /media/sam/4TB_toshiba/montipora/20190129_sp_coral_transcripts/edgeR.5710.dir\n",
    "\n",
    "time \\\n",
    "/home/shared/Trinityrnaseq-v2.6.6/Analysis/DifferentialExpression/analyze_diff_expr.pl \\\n",
    "--matrix ${salmon_out_dir}/salmon.isoform.TMM.EXPR.matrix \\\n",
    "--samples ${samples} \\\n",
    "-C 1 \\\n",
    "-P 0.05"
   ]
  },
  {
   "cell_type": "code",
   "execution_count": 18,
   "metadata": {},
   "outputs": [
    {
     "name": "stdout",
     "output_type": "stream",
     "text": [
      "4-fold bleached up, 0.001 p value\n",
      "1 /media/sam/4TB_toshiba/porites/20190129_sp_coral_transcripts/edgeR.3209.dir/salmon.isoform.counts.matrix.bleached_vs_non-bleached.edgeR.DE_results.P0.001_C2.bleached-UP.subset\n",
      "2-fold bleached up, 0.05 p value\n",
      "5 /media/sam/4TB_toshiba/porites/20190129_sp_coral_transcripts/edgeR.3209.dir/salmon.isoform.counts.matrix.bleached_vs_non-bleached.edgeR.DE_results.P0.05_C1.bleached-UP.subset\n",
      "4-fold non-bleached up, 0.001 p value\n",
      "4 /media/sam/4TB_toshiba/porites/20190129_sp_coral_transcripts/edgeR.3209.dir/salmon.isoform.counts.matrix.bleached_vs_non-bleached.edgeR.DE_results.P0.001_C2.non-bleached-UP.subset\n",
      "2-fold non-bleached up, 0.05 p value\n",
      "14 /media/sam/4TB_toshiba/porites/20190129_sp_coral_transcripts/edgeR.3209.dir/salmon.isoform.counts.matrix.bleached_vs_non-bleached.edgeR.DE_results.P0.05_C1.non-bleached-UP.subset\n"
     ]
    }
   ],
   "source": [
    "%%bash\n",
    "\n",
    "\n",
    "echo \"4-fold bleached up, 0.001 p value\"\n",
    "wc -l /media/sam/4TB_toshiba/porites/20190129_sp_coral_transcripts/edgeR.3209.dir/salmon.isoform.counts.matrix.bleached_vs_non-bleached.edgeR.DE_results.P0.001_C2.bleached-UP.subset\n",
    "\n",
    "echo \"2-fold bleached up, 0.05 p value\"\n",
    "wc -l /media/sam/4TB_toshiba/porites/20190129_sp_coral_transcripts/edgeR.3209.dir/salmon.isoform.counts.matrix.bleached_vs_non-bleached.edgeR.DE_results.P0.05_C1.bleached-UP.subset\n",
    "\n",
    "echo \"4-fold non-bleached up, 0.001 p value\"\n",
    "wc -l /media/sam/4TB_toshiba/porites/20190129_sp_coral_transcripts/edgeR.3209.dir/salmon.isoform.counts.matrix.bleached_vs_non-bleached.edgeR.DE_results.P0.001_C2.non-bleached-UP.subset\n",
    "\n",
    "echo \"2-fold non-bleached up, 0.05 p value\"\n",
    "wc -l /media/sam/4TB_toshiba/porites/20190129_sp_coral_transcripts/edgeR.3209.dir/salmon.isoform.counts.matrix.bleached_vs_non-bleached.edgeR.DE_results.P0.05_C1.non-bleached-UP.subset"
   ]
  },
  {
   "cell_type": "code",
   "execution_count": null,
   "metadata": {},
   "outputs": [],
   "source": []
  }
 ],
 "metadata": {
  "kernelspec": {
   "display_name": "Python 3",
   "language": "python",
   "name": "python3"
  },
  "language_info": {
   "codemirror_mode": {
    "name": "ipython",
    "version": 3
   },
   "file_extension": ".py",
   "mimetype": "text/x-python",
   "name": "python",
   "nbconvert_exporter": "python",
   "pygments_lexer": "ipython3",
   "version": "3.6.4"
  }
 },
 "nbformat": 4,
 "nbformat_minor": 2
}
