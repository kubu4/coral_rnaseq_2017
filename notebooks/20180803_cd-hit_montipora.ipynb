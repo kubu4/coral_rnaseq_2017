{
 "cells": [
  {
   "cell_type": "code",
   "execution_count": 1,
   "metadata": {},
   "outputs": [
    {
     "name": "stdout",
     "output_type": "stream",
     "text": [
      "TODAY'S DATE\n",
      "Fri Aug  3 15:52:23 PDT 2018\n",
      "------------\n",
      "\n",
      "Distributor ID:\tUbuntu\n",
      "Description:\tUbuntu 16.04.4 LTS\n",
      "Release:\t16.04\n",
      "Codename:\txenial\n",
      "\n",
      "------------\n",
      "HOSTNAME: \n",
      "jpg-d20\n",
      "\n",
      "------------\n",
      "Computer Specs:\n",
      "\n",
      "Architecture:          x86_64\n",
      "CPU op-mode(s):        32-bit, 64-bit\n",
      "Byte Order:            Little Endian\n",
      "CPU(s):                24\n",
      "On-line CPU(s) list:   0-23\n",
      "Thread(s) per core:    2\n",
      "Core(s) per socket:    6\n",
      "Socket(s):             2\n",
      "NUMA node(s):          2\n",
      "Vendor ID:             GenuineIntel\n",
      "CPU family:            6\n",
      "Model:                 44\n",
      "Model name:            Intel(R) Xeon(R) CPU           X5680  @ 3.33GHz\n",
      "Stepping:              2\n",
      "CPU MHz:               1596.000\n",
      "CPU max MHz:           3326.0000\n",
      "CPU min MHz:           1596.0000\n",
      "BogoMIPS:              6666.89\n",
      "Virtualization:        VT-x\n",
      "L1d cache:             32K\n",
      "L1i cache:             32K\n",
      "L2 cache:              256K\n",
      "L3 cache:              12288K\n",
      "NUMA node0 CPU(s):     0,2,4,6,8,10,12,14,16,18,20,22\n",
      "NUMA node1 CPU(s):     1,3,5,7,9,11,13,15,17,19,21,23\n",
      "Flags:                 fpu vme de pse tsc msr pae mce cx8 apic sep mtrr pge mca cmov pat pse36 clflush dts acpi mmx fxsr sse sse2 ss ht tm pbe syscall nx pdpe1gb rdtscp lm constant_tsc arch_perfmon pebs bts rep_good nopl xtopology nonstop_tsc aperfmperf pni pclmulqdq dtes64 monitor ds_cpl vmx smx est tm2 ssse3 cx16 xtpr pdcm pcid dca sse4_1 sse4_2 popcnt aes lahf_lm epb kaiser tpr_shadow vnmi flexpriority ept vpid dtherm ida arat\n",
      "\n",
      "------------\n",
      "\n",
      "Memory Specs\n",
      "\n",
      "              total        used        free      shared  buff/cache   available\n",
      "Mem:            94G        1.9G         88G        968M        3.8G         90G\n",
      "Swap:          128G          0B        128G\n"
     ]
    },
    {
     "name": "stderr",
     "output_type": "stream",
     "text": [
      "No LSB modules are available.\n"
     ]
    }
   ],
   "source": [
    "%%bash\n",
    "echo \"TODAY'S DATE\"\n",
    "date\n",
    "echo \"------------\"\n",
    "echo \"\"\n",
    "lsb_release -a\n",
    "echo \"\"\n",
    "echo \"------------\"\n",
    "echo \"HOSTNAME: \"\n",
    "hostname\n",
    "echo \"\"\n",
    "echo \"------------\"\n",
    "echo \"Computer Specs:\"\n",
    "echo \"\"\n",
    "lscpu\n",
    "echo \"\"\n",
    "echo \"------------\"\n",
    "echo \"\"\n",
    "echo \"Memory Specs\"\n",
    "echo \"\"\n",
    "free -mh"
   ]
  },
  {
   "cell_type": "code",
   "execution_count": 2,
   "metadata": {},
   "outputs": [
    {
     "name": "stderr",
     "output_type": "stream",
     "text": [
      "\n",
      "real\t0m0.003s\n",
      "user\t0m0.000s\n",
      "sys\t0m0.000s\n",
      "cat: /home/sam/.default_subject.mail: No such file or directory\n"
     ]
    }
   ],
   "source": [
    "%%bash\n",
    "mkdir /media/sam/4TB_toshiba/montipora/20180803_cd-hit\n",
    "cd /media/sam/4TB_toshiba/montipora/20180803_cd-hit\n",
    "\n",
    "time \\\n",
    "/home/shared/cd-hit-v4.6.8-2017-1208/cd-hit \\\n",
    "/media/sam/4TB_toshiba/montipora/20180429_transdecoder/Trinity.fasta.transdecoder.pep \\\n",
    "-M 0 \\\n",
    "-T 0 \\\n",
    "-g 1 \\\n",
    "-c 0.5 \\\n",
    "-n 2 \\\n",
    "-o 20180803_cd-hit_montipora.txt \\\n",
    "1> cd-hit_montipora.out \\\n",
    "2> cd-hit_montipora.err\n",
    "\n",
    "cat ~/.default_subject.mail| msmtp \"$EMAIL\""
   ]
  },
  {
   "cell_type": "code",
   "execution_count": 3,
   "metadata": {},
   "outputs": [
    {
     "name": "stderr",
     "output_type": "stream",
     "text": [
      "mkdir: cannot create directory ‘/media/sam/4TB_toshiba/montipora/20180803_cd-hit’: File exists\n",
      "\n",
      "real\t171m30.966s\n",
      "user\t2345m57.464s\n",
      "sys\t0m15.132s\n"
     ]
    }
   ],
   "source": [
    "%%bash\n",
    "mkdir /media/sam/4TB_toshiba/montipora/20180803_cd-hit\n",
    "cd /media/sam/4TB_toshiba/montipora/20180803_cd-hit\n",
    "\n",
    "time \\\n",
    "/home/shared/cd-hit-v4.6.8-2017-1208/cd-hit \\\n",
    "-i /media/sam/4TB_toshiba/montipora/20180429_transdecoder/Trinity.fasta.transdecoder.pep \\\n",
    "-M 0 \\\n",
    "-T 0 \\\n",
    "-g 1 \\\n",
    "-c 0.5 \\\n",
    "-n 2 \\\n",
    "-o 20180803_cd-hit_montipora.txt \\\n",
    "1> cd-hit_montipora.out \\\n",
    "2> cd-hit_montipora.err\n",
    "\n",
    "cat ~/.default-subject.mail| msmtp \"$EMAIL\""
   ]
  },
  {
   "cell_type": "code",
   "execution_count": null,
   "metadata": {},
   "outputs": [],
   "source": []
  }
 ],
 "metadata": {
  "kernelspec": {
   "display_name": "Python 3",
   "language": "python",
   "name": "python3"
  },
  "language_info": {
   "codemirror_mode": {
    "name": "ipython",
    "version": 3
   },
   "file_extension": ".py",
   "mimetype": "text/x-python",
   "name": "python",
   "nbconvert_exporter": "python",
   "pygments_lexer": "ipython3",
   "version": "3.6.4"
  }
 },
 "nbformat": 4,
 "nbformat_minor": 2
}
