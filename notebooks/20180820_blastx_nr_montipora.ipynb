{
 "cells": [
  {
   "cell_type": "code",
   "execution_count": 1,
   "metadata": {},
   "outputs": [
    {
     "name": "stdout",
     "output_type": "stream",
     "text": [
      "TODAY'S DATE\n",
      "Mon Aug 20 22:20:15 PDT 2018\n",
      "------------\n",
      "\n",
      "Distributor ID:\tUbuntu\n",
      "Description:\tUbuntu 16.04.5 LTS\n",
      "Release:\t16.04\n",
      "Codename:\txenial\n",
      "\n",
      "------------\n",
      "HOSTNAME: \n",
      "jpg-d20\n",
      "\n",
      "------------\n",
      "Computer Specs:\n",
      "\n",
      "Architecture:          x86_64\n",
      "CPU op-mode(s):        32-bit, 64-bit\n",
      "Byte Order:            Little Endian\n",
      "CPU(s):                24\n",
      "On-line CPU(s) list:   0-23\n",
      "Thread(s) per core:    2\n",
      "Core(s) per socket:    6\n",
      "Socket(s):             2\n",
      "NUMA node(s):          2\n",
      "Vendor ID:             GenuineIntel\n",
      "CPU family:            6\n",
      "Model:                 44\n",
      "Model name:            Intel(R) Xeon(R) CPU           X5680  @ 3.33GHz\n",
      "Stepping:              2\n",
      "CPU MHz:               1596.000\n",
      "CPU max MHz:           3326.0000\n",
      "CPU min MHz:           1596.0000\n",
      "BogoMIPS:              6666.90\n",
      "Virtualization:        VT-x\n",
      "L1d cache:             32K\n",
      "L1i cache:             32K\n",
      "L2 cache:              256K\n",
      "L3 cache:              12288K\n",
      "NUMA node0 CPU(s):     0,2,4,6,8,10,12,14,16,18,20,22\n",
      "NUMA node1 CPU(s):     1,3,5,7,9,11,13,15,17,19,21,23\n",
      "Flags:                 fpu vme de pse tsc msr pae mce cx8 apic sep mtrr pge mca cmov pat pse36 clflush dts acpi mmx fxsr sse sse2 ss ht tm pbe syscall nx pdpe1gb rdtscp lm constant_tsc arch_perfmon pebs bts rep_good nopl xtopology nonstop_tsc aperfmperf eagerfpu pni pclmulqdq dtes64 monitor ds_cpl vmx smx est tm2 ssse3 cx16 xtpr pdcm pcid dca sse4_1 sse4_2 popcnt aes lahf_lm epb kaiser tpr_shadow vnmi flexpriority ept vpid dtherm ida arat\n",
      "\n",
      "------------\n",
      "\n",
      "Memory Specs\n",
      "\n",
      "              total        used        free      shared  buff/cache   available\n",
      "Mem:            94G        1.6G        424M        276M         92G         91G\n",
      "Swap:          128G        264K        128G\n"
     ]
    },
    {
     "name": "stderr",
     "output_type": "stream",
     "text": [
      "No LSB modules are available.\n"
     ]
    }
   ],
   "source": [
    "%%bash\n",
    "echo \"TODAY'S DATE\"\n",
    "date\n",
    "echo \"------------\"\n",
    "echo \"\"\n",
    "lsb_release -a\n",
    "echo \"\"\n",
    "echo \"------------\"\n",
    "echo \"HOSTNAME: \"\n",
    "hostname\n",
    "echo \"\"\n",
    "echo \"------------\"\n",
    "echo \"Computer Specs:\"\n",
    "echo \"\"\n",
    "lscpu\n",
    "echo \"\"\n",
    "echo \"------------\"\n",
    "echo \"\"\n",
    "echo \"Memory Specs\"\n",
    "echo \"\"\n",
    "free -mh"
   ]
  },
  {
   "cell_type": "code",
   "execution_count": 2,
   "metadata": {},
   "outputs": [
    {
     "name": "stderr",
     "output_type": "stream",
     "text": [
      "\n",
      "real\t0m0.022s\n",
      "user\t0m0.012s\n",
      "sys\t0m0.000s\n"
     ]
    }
   ],
   "source": [
    "%%bash\n",
    "mkdir /media/sam/4TB_toshiba/montipora/20180820_blastx_nr\n",
    "time \\\n",
    "/home/shared/ncbi-blast-2.7.1+/bin/blastx \\\n",
    "-query /media/sam/4TB_toshiba/montipora/20180416_trinity/Trinity.fasta \\\n",
    "-db /mnt/data//mnt/data/ncbi_nr_db/nr \\\n",
    "-evalue 1E-04 \\\n",
    "-outfmt \"6 std staxids\" \\\n",
    "-max_target_seqs 1 \\\n",
    "-num_threads 23 \\\n",
    "-out /media/sam/4TB_toshiba/montipora/20180820_blastx_nr/20180820_blastx_nr_montipora.tab \\\n",
    "2> /media/sam/4TB_toshiba/montipora/20180820_blastx_nr/20180820_blastx_nr_montipora.err\n",
    "sed '/^Subject:/ s/ / monitpora_blastx JOB COMPLETE/' ~/.default-subject.mail | msmtp \"$EMAIL\""
   ]
  },
  {
   "cell_type": "code",
   "execution_count": 3,
   "metadata": {},
   "outputs": [
    {
     "name": "stdout",
     "output_type": "stream",
     "text": [
      "BLAST Database error: No alias or index file found for protein database [/mnt/data//mnt/data/ncbi_nr_db/nr] in search path [/home/sam/gitrepos/coral_rnaseq_2017/notebooks::]\n"
     ]
    }
   ],
   "source": [
    "%%bash\n",
    "tail /media/sam/4TB_toshiba/montipora/20180820_blastx_nr/20180820_blastx_nr_montipora.err"
   ]
  },
  {
   "cell_type": "code",
   "execution_count": 4,
   "metadata": {},
   "outputs": [
    {
     "name": "stderr",
     "output_type": "stream",
     "text": [
      "\n",
      "real\t0m0.011s\n",
      "user\t0m0.004s\n",
      "sys\t0m0.004s\n"
     ]
    }
   ],
   "source": [
    "%%bash\n",
    "cd /media/sam/4TB_toshiba/montipora/20180820_blastx_nr/\n",
    "time \\\n",
    "/home/shared/ncbi-blast-2.7.1+/bin/blastx \\\n",
    "-query /media/sam/4TB_toshiba/montipora/20180416_trinity/Trinity.fasta \\\n",
    "-db /mnt/data//mnt/data/ncbi_nr_db/nr \\\n",
    "-evalue 1E-04 \\\n",
    "-outfmt \"6 std staxids\" \\\n",
    "-max_target_seqs 1 \\\n",
    "-num_threads 23 \\\n",
    "-out /media/sam/4TB_toshiba/montipora/20180820_blastx_nr/20180820_blastx_nr_montipora.tab \\\n",
    "2> /media/sam/4TB_toshiba/montipora/20180820_blastx_nr/20180820_blastx_nr_montipora.err\n",
    "sed '/^Subject:/ s/ / monitpora_blastx JOB COMPLETE/' ~/.default-subject.mail | msmtp \"$EMAIL\""
   ]
  },
  {
   "cell_type": "code",
   "execution_count": 5,
   "metadata": {},
   "outputs": [
    {
     "name": "stderr",
     "output_type": "stream",
     "text": [
      "bash: line 1: cd: /mnt/data//mnt/data/ncbi_nr_db: No such file or directory\n",
      "\n",
      "real\t0m0.012s\n",
      "user\t0m0.008s\n",
      "sys\t0m0.004s\n"
     ]
    }
   ],
   "source": [
    "%%bash\n",
    "cd /mnt/data//mnt/data/ncbi_nr_db\n",
    "time \\\n",
    "/home/shared/ncbi-blast-2.7.1+/bin/blastx \\\n",
    "-query /media/sam/4TB_toshiba/montipora/20180416_trinity/Trinity.fasta \\\n",
    "-db /mnt/data//mnt/data/ncbi_nr_db/nr \\\n",
    "-evalue 1E-04 \\\n",
    "-outfmt \"6 std staxids\" \\\n",
    "-max_target_seqs 1 \\\n",
    "-num_threads 23 \\\n",
    "-out /media/sam/4TB_toshiba/montipora/20180820_blastx_nr/20180820_blastx_nr_montipora.tab \\\n",
    "2> /media/sam/4TB_toshiba/montipora/20180820_blastx_nr/20180820_blastx_nr_montipora.err\n",
    "sed '/^Subject:/ s/ / monitpora_blastx JOB COMPLETE/' ~/.default-subject.mail | msmtp \"$EMAIL\""
   ]
  },
  {
   "cell_type": "code",
   "execution_count": 6,
   "metadata": {},
   "outputs": [
    {
     "name": "stderr",
     "output_type": "stream",
     "text": [
      "\n",
      "real\t0m0.011s\n",
      "user\t0m0.008s\n",
      "sys\t0m0.000s\n"
     ]
    }
   ],
   "source": [
    "%%bash\n",
    "cd /mnt/data/ncbi_nr_db\n",
    "time \\\n",
    "/home/shared/ncbi-blast-2.7.1+/bin/blastx \\\n",
    "-query /media/sam/4TB_toshiba/montipora/20180416_trinity/Trinity.fasta \\\n",
    "-db /mnt/data//mnt/data/ncbi_nr_db/nr \\\n",
    "-evalue 1E-04 \\\n",
    "-outfmt \"6 std staxids\" \\\n",
    "-max_target_seqs 1 \\\n",
    "-num_threads 23 \\\n",
    "-out /media/sam/4TB_toshiba/montipora/20180820_blastx_nr/20180820_blastx_nr_montipora.tab \\\n",
    "2> /media/sam/4TB_toshiba/montipora/20180820_blastx_nr/20180820_blastx_nr_montipora.err\n",
    "sed '/^Subject:/ s/ / monitpora_blastx JOB COMPLETE/' ~/.default-subject.mail | msmtp \"$EMAIL\""
   ]
  },
  {
   "cell_type": "code",
   "execution_count": null,
   "metadata": {},
   "outputs": [],
   "source": [
    "%%bash\n",
    "cd /mnt/data/ncbi_nr_db\n",
    "time \\\n",
    "/home/shared/ncbi-blast-2.7.1+/bin/blastx \\\n",
    "-query /media/sam/4TB_toshiba/montipora/20180416_trinity/Trinity.fasta \\\n",
    "-db /mnt/data/ncbi_nr_db/nr \\\n",
    "-evalue 1E-04 \\\n",
    "-outfmt \"6 std staxids\" \\\n",
    "-max_target_seqs 1 \\\n",
    "-num_threads 23 \\\n",
    "-out /media/sam/4TB_toshiba/montipora/20180820_blastx_nr/20180820_blastx_nr_montipora.tab \\\n",
    "2> /media/sam/4TB_toshiba/montipora/20180820_blastx_nr/20180820_blastx_nr_montipora.err\n",
    "sed '/^Subject:/ s/ / monitpora_blastx JOB COMPLETE/' ~/.default-subject.mail | msmtp \"$EMAIL\""
   ]
  },
  {
   "cell_type": "code",
   "execution_count": null,
   "metadata": {},
   "outputs": [],
   "source": []
  }
 ],
 "metadata": {
  "kernelspec": {
   "display_name": "Python 3",
   "language": "python",
   "name": "python3"
  },
  "language_info": {
   "codemirror_mode": {
    "name": "ipython",
    "version": 3
   },
   "file_extension": ".py",
   "mimetype": "text/x-python",
   "name": "python",
   "nbconvert_exporter": "python",
   "pygments_lexer": "ipython3",
   "version": "3.6.4"
  }
 },
 "nbformat": 4,
 "nbformat_minor": 2
}
